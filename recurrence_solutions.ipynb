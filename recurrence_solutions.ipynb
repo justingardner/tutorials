{
  "nbformat": 4,
  "nbformat_minor": 0,
  "metadata": {
    "colab": {
      "provenance": [],
      "authorship_tag": "ABX9TyPIKBOm6S8UeBFoQmAbn9OJ",
      "include_colab_link": true
    },
    "kernelspec": {
      "name": "python3",
      "display_name": "Python 3"
    },
    "language_info": {
      "name": "python"
    }
  },
  "cells": [
    {
      "cell_type": "markdown",
      "metadata": {
        "id": "view-in-github",
        "colab_type": "text"
      },
      "source": [
        "<a href=\"https://colab.research.google.com/github/justingardner/tutorials/blob/master/recurrence_solutions.ipynb\" target=\"_parent\"><img src=\"https://colab.research.google.com/assets/colab-badge.svg\" alt=\"Open In Colab\"/></a>"
      ]
    },
    {
      "cell_type": "code",
      "execution_count": null,
      "metadata": {
        "id": "rwGdhE1iB_lK"
      },
      "outputs": [],
      "source": [
        "# import necessary libraries\n",
        "import numpy as np\n",
        "import matplotlib.pyplot as plt\n",
        "from scipy.stats import norm\n",
        "from tqdm import tqdm as progressBar\n",
        "from matplotlib.animation import FuncAnimation\n",
        "from IPython.display import HTML\n",
        "from IPython import display\n",
        "from functools import partial\n",
        "from numpy.linalg import eig"
      ]
    },
    {
      "cell_type": "markdown",
      "source": [
        "Exercise 1:\n",
        "\n",
        "Here, we are just going to play around with the time constant for a single neuron and see if we can get the neuron to act like an integrator. Note that\n",
        "we are not using the close-form solution (exponential function) for the differential function for the membrane potential. Instead we are numerically integrating. We could do either for this linear differential equation, but in general, once you add non-linearities (for example the spike threshold), there is no closed-form solution, so numerical integration is the way to go. \n",
        "\n",
        "The simulation simulates 2 seconds of the neurons membrane potential (we are just going to ignore spiking and all that business) and we can see how the neuron behaves to a box function input (something like the ideal velocity burst coming from the PPRF."
      ],
      "metadata": {
        "id": "k3t48uLXUegA"
      }
    },
    {
      "cell_type": "code",
      "source": [
        "# number of seconds to simulate for\n",
        "simulationLength = 2;\n",
        "\n",
        "# Number of time points per second\n",
        "sampleRate = 1000;\n",
        "\n",
        "# some constants calculated from the above parameters\n",
        "dt = 1/sampleRate;\n",
        "nTimePoints = int(simulationLength * sampleRate);\n",
        "\n",
        "#initial state - just start at 0,0\n",
        "v0 = np.matrix([0]).transpose()\n",
        "\n",
        "# time constant of units in seconds\n",
        "tau = 0.005;\n",
        "\n",
        "# u is the input. Here we just make it have a short pulse\n",
        "# of activity and otherwise be 0.\n",
        "pulseLen = 0.2;\n",
        "u = np.matrix(np.zeros((nTimePoints,1)));\n",
        "u[int(1*sampleRate):int((1+pulseLen)*sampleRate)] = 1/int(sampleRate*pulseLen)\n",
        "\n",
        "# a time vector, just so that we can plot the traces with real units.\n",
        "t = np.matrix(range(nTimePoints))/sampleRate;\n",
        "t = t.transpose();\n",
        "# initialize array that will hold each state of the model neurons over time\n",
        "nTimePoints = int(simulationLength*sampleRate)\n",
        "v = np.matrix(np.zeros((nTimePoints,1)))\n",
        "\n",
        "# set the initial state of the neurons\n",
        "v[0] = v0;\n",
        "\n",
        "# ok, here's the big computation. We will use the simplest possible way to\n",
        "# numerically simulate the equations which is just to compute the derivative\n",
        "# in small time steps and add it on to the current state and iterate.\n",
        "# This is known as the \"Euler method\" and for simple equations performs\n",
        "# just fine.\n",
        "for iTimePoint in progressBar(range(1,nTimePoints)):\n",
        "  # compute the derivative using the equation.\n",
        "  # note the the dt is on the right hand side, because we want\n",
        "  # to know what the dv is that we need to add to our current state v.\n",
        "  dv = (1/tau) * dt * (-v[iTimePoint-1] + u[iTimePoint])\n",
        "  # add the dv to v and also add in the inputs.\n",
        "  v[iTimePoint] = v[iTimePoint-1] + dv ;\n",
        "\n",
        "# Display our simulation\n",
        "plt.figure();\n",
        "# subplot that shows the neuron states\n",
        "plt.subplot(2,1,1)\n",
        "plt.plot(t,v)\n",
        "plt.xlabel('Time (s)');\n",
        "plt.ylabel('Response');\n",
        "plt.title('Neuron response')\n",
        "# subplot that shows the input states\n",
        "plt.subplot(2,1,2)\n",
        "plt.plot(t,u);\n",
        "plt.xlabel('Time (s)');\n",
        "plt.ylabel('Response');\n",
        "plt.title(('Input'));"
      ],
      "metadata": {
        "colab": {
          "base_uri": "https://localhost:8080/",
          "height": 312
        },
        "id": "X8_pnQdrVJvz",
        "outputId": "58e8967f-c716-4fba-a62f-ffcd95f625b2"
      },
      "execution_count": null,
      "outputs": [
        {
          "output_type": "stream",
          "name": "stderr",
          "text": [
            "100%|██████████| 1999/1999 [00:00<00:00, 23627.85it/s]\n"
          ]
        },
        {
          "output_type": "display_data",
          "data": {
            "text/plain": [
              "<Figure size 432x288 with 2 Axes>"
            ],
            "image/png": "[encoded data removed]"
          },
          "metadata": {
            "needs_background": "light"
          }
        }
      ]
    },
    {
      "cell_type": "markdown",
      "source": [
        "Exercise 2\n",
        "Here's a two neuron circuit. You can connect the together the neurons with synaptic weights that you choose by setting the matrix W. \n",
        "\n",
        "Exercise 4:\n",
        "(Wait to do this part until we get to it in the slides)\n",
        "Set the initial conditions to different values and see what happens when you set the values to \"impossible\" ones - i.e. when v1 and v2 are not equal. You can do this in the code above for Exercise 2."
      ],
      "metadata": {
        "id": "7aN_iBkXYaoo"
      }
    },
    {
      "cell_type": "code",
      "source": [
        "# number of seconds to simulate for\n",
        "simulationLength = 2;\n",
        "\n",
        "# Number of time points per second\n",
        "sampleRate = 1000;\n",
        "\n",
        "# some constants calculated from the above parameters\n",
        "dt = 1/sampleRate;\n",
        "nTimePoints = int(simulationLength * sampleRate);\n",
        "\n",
        "#initial state - just start at 0,0\n",
        "v0 = np.matrix([0, 0]).transpose()\n",
        "\n",
        "# time constant of units in seconds\n",
        "tau = 0.005;\n",
        "\n",
        "# weight matrix, in this case each unit is independent\n",
        "# ie there are no connections between the units and\n",
        "# they will just respond as an exponential function with\n",
        "# time constant tau to the inputs.\n",
        "W = np.matrix([[0, 0],[0,0]]);\n",
        "\n",
        "# u are the inputs. Here we just make them have a short pulse\n",
        "# of activity and otherwise be 0.\n",
        "pulseLen = 0.2;\n",
        "u = np.matrix(np.zeros((2,nTimePoints)));\n",
        "u[0,int(1*sampleRate):int((1+pulseLen)*sampleRate)] = 1/int(sampleRate*pulseLen)\n",
        "u[1,int(1*sampleRate):int((1+pulseLen)*sampleRate)] = 1/int(sampleRate*pulseLen)\n",
        "\n",
        "# a time vector, just so that we can plot the traces with real units.\n",
        "t = np.array(range(0,nTimePoints))/sampleRate;\n",
        "\n",
        "# initialize array that will hold each state of the model neurons over time\n",
        "nTimePoints = int(simulationLength*sampleRate)\n",
        "v = np.matrix(np.zeros((2,nTimePoints)))\n",
        "\n",
        "# set the initial state of the neurons\n",
        "v[:,0] = v0;\n",
        "\n",
        "# ok, here's the big computation. We will use the simplest possible way to\n",
        "# numerically simulate the equations which is just to compute the derivative\n",
        "# in small time steps and add it on to the current state and iterate.\n",
        "# This is known as the \"Euler method\" and for simple equations performs\n",
        "# just fine.\n",
        "for iTimePoint in progressBar(range(1,nTimePoints)):\n",
        "  # compute the derivative\n",
        "  dv = (1/tau) * dt * (-v[:,iTimePoint-1] + W @ v[:,iTimePoint-1]  + u[:,iTimePoint])\n",
        "  # add the dv to v\n",
        "  v[:,iTimePoint] = v[:,iTimePoint-1] + dv;\n",
        "\n",
        "# Display our simulation\n",
        "plt.figure();\n",
        "# set these to display a particular portion of the trace that you are interested in.\n",
        "startTime = 0; endTime = 2;\n",
        "# subplot that shows the neuron states\n",
        "plt.subplot(2,1,1)\n",
        "plt.plot(t[int(startTime*sampleRate):int(endTime*sampleRate)],v[:,int(startTime*sampleRate):int(endTime*sampleRate)].transpose());\n",
        "plt.xlabel('Time (s)');\n",
        "plt.ylabel('Response');\n",
        "plt.legend(('Neuron 1','Neuron 2'))\n",
        "# subplot that shows the input states\n",
        "plt.subplot(2,1,2)\n",
        "plt.plot(t[int(startTime*sampleRate):int(endTime*sampleRate)],u[:,int(startTime*sampleRate):int(endTime*sampleRate)].transpose());\n",
        "plt.xlabel('Time (s)');\n",
        "plt.ylabel('Response');\n",
        "plt.legend(('Input 1','Input 2'))"
      ],
      "metadata": {
        "colab": {
          "base_uri": "https://localhost:8080/",
          "height": 314
        },
        "id": "MzMLFOzTWEZw",
        "outputId": "997fad1f-4fa7-4700-c25f-98e9ddaf1bd1"
      },
      "execution_count": null,
      "outputs": [
        {
          "output_type": "stream",
          "name": "stderr",
          "text": [
            "100%|██████████| 1999/1999 [00:00<00:00, 11122.73it/s]\n"
          ]
        },
        {
          "output_type": "execute_result",
          "data": {
            "text/plain": [
              "<matplotlib.legend.Legend at 0x7fbb6efe5af0>"
            ]
          },
          "metadata": {},
          "execution_count": 76
        },
        {
          "output_type": "display_data",
          "data": {
            "text/plain": [
              "<Figure size 432x288 with 2 Axes>"
            ],
            "image/png": "[encoded data removed]"
          },
          "metadata": {
            "needs_background": "light"
          }
        }
      ]
    },
    {
      "cell_type": "markdown",
      "source": [
        "Exercise 3\n",
        "Check the eigenvalues and eigenvectors from the simulation you ran above, do you get what you think you should be getting?"
      ],
      "metadata": {
        "id": "CisuooVaaTkv"
      }
    },
    {
      "cell_type": "code",
      "source": [
        "# compute X\n",
        "X = (1/tau) * np.matrix([[-1, 0],[0,-1]]) @ W\n",
        "\n",
        "#display the mateix\n",
        "print('State transition matrix:')\n",
        "print(X)\n",
        "\n",
        "# display the eigenvalues\n",
        "eigenvalue,eigenvector=eig(X)\n",
        "print('eigenvalue:', eigenvalue)\n",
        "\n",
        "# it's also helpful to plot them as -1/eigenvalue, as this will show you the timeconstants\n",
        "print('-1/eigenvalue:', -1/eigenvalue)\n",
        "\n",
        "# Also look at the eigenvectors, this tells you the\n",
        "# direction in the state space that is being integrated\n",
        "# with those time constants\n",
        "print('eigenvector 1:',eigenvector[:,0].transpose())\n",
        "print('eigenvector 2:',eigenvector[:,1].transpose())"
      ],
      "metadata": {
        "colab": {
          "base_uri": "https://localhost:8080/"
        },
        "id": "GEG1yPKSaIx1",
        "outputId": "8bac9f83-9d25-4a06-a93e-98ab7bc7b6c1"
      },
      "execution_count": null,
      "outputs": [
        {
          "output_type": "stream",
          "name": "stdout",
          "text": [
            "State transition matrix:\n",
            "[[   0. -200.]\n",
            " [-200.    0.]]\n",
            "eigenvalue: [ 200. -200.]\n",
            "-1/eigenvalue: [-0.005  0.005]\n",
            "eigenvector 1: [[ 0.70710678 -0.70710678]]\n",
            "eigenvector 2: [[0.70710678 0.70710678]]\n"
          ]
        }
      ]
    },
    {
      "cell_type": "markdown",
      "source": [
        "Exercise 5: \n",
        "\n",
        "Make a synaptic weight matrix that is a line attractor. Use this code to create a weight matrix that has one eigenvalue = 1 in a direction of your choice (the direction means that along that line the circuit will act like a line integrator. Thus if it is [2,1] then neuron 1 will be twice as active as neuron 2). Then go into the code above and set the weight matrix accordingly and see if it works."
      ],
      "metadata": {
        "id": "MK4y0C9zb5jf"
      }
    },
    {
      "cell_type": "code",
      "source": [
        "# choose a direction for our eigenvector\n",
        "# this will be the direction of the line attractor\n",
        "# i.e. the network will settle to where neuron 1 and\n",
        "# neuron 2 have a ratio of the values here.\n",
        "lineAttractorDirection = np.matrix([2,1])\n",
        "# normalize to unit length (so that we get an eigenvalue of 1)\n",
        "lineAttractorDirection = lineAttractorDirection / np.linalg.norm(lineAttractorDirection);\n",
        "\n",
        "# remember the eigenvalue / eigenvector decomposition?\n",
        "# it says that a square nxn matrix of full rank can\n",
        "# be written as:\n",
        "# A = QLQ-1\n",
        "# where Q is a matrix with the columns filled with the eigenvectors\n",
        "# and L is a diagonal martrix with the eigenvalues along the diagonal.\n",
        "# If we further impose that A will be a symmetric matrix (which makes\n",
        "# all the connections symmetric, then Q-1 = Q' i.e. the inverse of\n",
        "# the eigenvector matrix is it's transpose.\n",
        "# ok, with that linear algebra, then we can make a matrix that\n",
        "# has the eigenvector we specified above, with an eigenvalue of 1,\n",
        "# by just making a column matrix out of the u above by taking\n",
        "# its transpose and then mulitplying it by the transpose of that\n",
        "Q = lineAttractorDirection.transpose();\n",
        "W = Q @ Q.transpose()\n",
        "# print out the matrix that comes out of that\n",
        "print('Desired connection matrix W:\\n',W)\n",
        "# Check the eigenvalues and eigenvectors of this matrix\n",
        "# to the match what we asked for?\n",
        "eigenvalue,eigenvector=eig(W)\n",
        "print('eigenvalue:', eigenvalue)\n",
        "print('Desired line attractor direction:',lineAttractorDirection)\n",
        "print('eigenvector:',eigenvector.transpose()[0,:])"
      ],
      "metadata": {
        "colab": {
          "base_uri": "https://localhost:8080/"
        },
        "id": "kG_HixURcjH6",
        "outputId": "139f7eaa-bf85-4087-97e4-05b4f26183a1"
      },
      "execution_count": null,
      "outputs": [
        {
          "output_type": "stream",
          "name": "stdout",
          "text": [
            "Desired connection matrix W:\n",
            " [[0.8 0.4]\n",
            " [0.4 0.2]]\n",
            "eigenvalue: [1.00000000e+00 2.77555756e-17]\n",
            "Desired line attractor direction: [[0.89442719 0.4472136 ]]\n",
            "eigenvector: [[0.89442719 0.4472136 ]]\n"
          ]
        }
      ]
    },
    {
      "cell_type": "markdown",
      "source": [
        "Exercise 6:\n",
        "Set the input weights (controls which input goes to which neuron) and the synapitc weights to implement a network that can perform the Mante task."
      ],
      "metadata": {
        "id": "rYNY4Ir-f5rl"
      }
    },
    {
      "cell_type": "code",
      "source": [
        "# set to 1 for a color trial, and 0 for a motion trial\n",
        "colorTrial = 0;\n",
        "\n",
        "# number of seconds to simulate for\n",
        "simulationLength = 3;\n",
        "\n",
        "# Number of time points per second\n",
        "sampleRate = 1000;\n",
        "\n",
        "# some constants calculated from the above parameters\n",
        "dt = 1/sampleRate;\n",
        "nTimePoints = int(simulationLength * sampleRate);\n",
        "\n",
        "#initial state - just start with all 0s\n",
        "x0 = np.matrix([0, 0, 0, 0]).transpose()\n",
        "\n",
        "# some time constants\n",
        "# tau is the intrinsic time constant of each neuron\n",
        "tau = 0.005;\n",
        "\n",
        "# weight matrix \n",
        "W = (1/tau)*np.matrix([[ -1,  1,  0,  1],\n",
        "                        [  1, -1,  1,  0],\n",
        "                        [  0,  0, -1,  0],\n",
        "                        [  0,  0,  0, -1]])\n",
        "\n",
        "# input weight matrix, each row is for a neuron\n",
        "# each column is for one of the inputs as described below\n",
        "WInput = np.matrix([[  0,  0,  0,  0],\n",
        "                    [  0,  0,  0,  0],\n",
        "                    [  1,  0,  0,  -1],\n",
        "                    [  0,  1,  -1,  0]])\n",
        "\n",
        "# define inputs. \n",
        "# Where u0 is motion stimulus input (will just make this)\n",
        "# Where u1 is the color stimulus input\n",
        "# Where u2 is the motion task input (1 for motion task, 0 otherwise)\n",
        "# Where u3 is the color task input (1 for color task, 0 otherwise)\n",
        "u = np.matrix(np.zeros((4,nTimePoints)));\n",
        "trialLen = 1;\n",
        "numSamplesInTrial = int((1+trialLen)*sampleRate)-int(1*sampleRate);\n",
        "u[0,int((1+trialLen/2)*sampleRate):int((1+trialLen)*sampleRate)] = np.random.normal(loc=0.8,scale=0.2,size=(1,int(numSamplesInTrial/2)));\n",
        "u[1,int(1*sampleRate):int((1+trialLen/2)*sampleRate)] = np.random.normal(loc=0.8,scale=0.2,size=(1,int(numSamplesInTrial/2)));\n",
        "\n",
        "if (colorTrial):\n",
        "  # for a color trial\n",
        "  u[2,int(1*sampleRate):int((1+trialLen)*sampleRate)] = 0\n",
        "  u[3,int(1*sampleRate):int((1+trialLen)*sampleRate)] = 1\n",
        "else:\n",
        "  # for a motion trial\n",
        "  u[2,int(1*sampleRate):int((1+trialLen)*sampleRate)] = 1\n",
        "  u[3,int(1*sampleRate):int((1+trialLen)*sampleRate)] = 0\n",
        "\n",
        "\n",
        "# a time vector, just so that we can plot the traces with real units.\n",
        "t = np.array(range(0,nTimePoints))/sampleRate;\n",
        "\n",
        "# initialize array that will hold each state of the model neurons over time\n",
        "nTimePoints = int(simulationLength*sampleRate)\n",
        "x = np.matrix(np.zeros((4,nTimePoints)))\n",
        "\n",
        "# compute model using Euler's method\n",
        "for iTimePoint in progressBar(range(1,nTimePoints)):\n",
        "  dx = W @ x[:,iTimePoint-1] * dt\n",
        "  x[:,iTimePoint] = x[:,iTimePoint-1] + dx + WInput @ u[:,iTimePoint];\n",
        "  # threshold the units\n",
        "  x[:,iTimePoint] = np.multiply((x[:,iTimePoint]>0),x[:,iTimePoint])\n",
        "\n",
        "# Display figure\n",
        "plt.figure();\n",
        "startTime = 0.9; endTime = 2.5;\n",
        "plt.subplot(4,1,1)\n",
        "plt.plot(t[int(startTime*sampleRate):int(endTime*sampleRate)],x[0:2,int(startTime*sampleRate):int(endTime*sampleRate)].transpose());\n",
        "plt.xlabel('Time (s)');\n",
        "plt.ylabel('Response');\n",
        "plt.legend(('Neuron 1','Neuron 2'))\n",
        "plt.subplot(4,1,2)\n",
        "plt.plot(t[int(startTime*sampleRate):int(endTime*sampleRate)],x[2:4,int(startTime*sampleRate):int(endTime*sampleRate)].transpose());\n",
        "plt.xlabel('Time (s)');\n",
        "plt.ylabel('Response');\n",
        "plt.legend(('Neuron 3','Neuron 4'))\n",
        "plt.subplot(4,1,3)\n",
        "plt.plot(t[int(startTime*sampleRate):int(endTime*sampleRate)],u[0:2,int(startTime*sampleRate):int(endTime*sampleRate)].transpose());\n",
        "plt.xlabel('Time (s)');\n",
        "plt.ylabel('Response');\n",
        "plt.legend(('Motion Input','Color Input'))\n",
        "plt.subplot(4,1,4)\n",
        "plt.plot(t[int(startTime*sampleRate):int(endTime*sampleRate)],u[2:4,int(startTime*sampleRate):int(endTime*sampleRate)].transpose());\n",
        "plt.xlabel('Time (s)');\n",
        "plt.ylabel('Response');\n",
        "plt.legend(('Motion Task','Color Task'))\n"
      ],
      "metadata": {
        "colab": {
          "base_uri": "https://localhost:8080/",
          "height": 317
        },
        "id": "urniLrr2SiiQ",
        "outputId": "ec30e9d4-9885-4262-e2dd-b64a0476f90d"
      },
      "execution_count": null,
      "outputs": [
        {
          "output_type": "stream",
          "name": "stderr",
          "text": [
            "100%|██████████| 2999/2999 [00:00<00:00, 8402.19it/s]\n"
          ]
        },
        {
          "output_type": "execute_result",
          "data": {
            "text/plain": [
              "<matplotlib.legend.Legend at 0x7fbb6e857580>"
            ]
          },
          "metadata": {},
          "execution_count": 93
        },
        {
          "output_type": "display_data",
          "data": {
            "text/plain": [
              "<Figure size 432x288 with 4 Axes>"
            ],
            "image/png": "[encoded data removed]"
          },
          "metadata": {
            "needs_background": "light"
          }
        }
      ]
    }
  ]
}