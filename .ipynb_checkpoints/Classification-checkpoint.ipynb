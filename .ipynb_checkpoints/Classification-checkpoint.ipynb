{
 "cells": [
  {
   "cell_type": "markdown",
   "metadata": {},
   "source": [
    "# Classification Basics"
   ]
  },
  {
   "cell_type": "markdown",
   "metadata": {},
   "source": [
    "## Mean Classifier"
   ]
  },
  {
   "cell_type": "markdown",
   "metadata": {},
   "source": [
    "In this first part, we are just going to play around with different classifiers to see how they perform on data to get a feel for the strengths and weaknesses of different methods."
   ]
  },
  {
   "cell_type": "markdown",
   "metadata": {},
   "source": [
    "We begin by creating a set of test data. What we want is two sets of data from two different classes. For classification in the context of fMRI data you can think of these as responses generated from two different kinds of stimuli or different kinds of tasks etc. Each dimension is the response (usually the average over some period of time) of a different voxel. For the test data we will create and use data with only two dimensions so that it is easy to visualize and understand what is going on - meaning that it is like using fMRI data from only two voxels. Conceptually, everything should generalize to multiple voxels. But, beware of the [\"curse of dimensionality\"](http://en.wikipedia.org/wiki/Curse_of_dimensionality) in which adding dimensions increases the volume of the space that one has to search for solutions in - this can occasionally cause problems.\n",
    "\n",
    "Ok. So let's create the simplest case for a classification. Two data sets that are separated from each other and should therefore be easily classifiable. We will define the points ourselves by using the program chooseInstances. This program should bring up a figure in which you can click to make a group of instances (first in red), then double-click the last point and then click to make a second group of instances. Double-click to finish. It should look like the following:\n",
    "\n",
    "![basicInstances](classificationTutorial/basicInstances.png)\n",
    "\n",
    "An instance here means an instance of a particular class. For example, if this were fMRI data, we might have the intensity of voxels when we present a stimulus and each instance would be an array of n values. One value for each voxel (with n voxels). From here on out, we will just play with two dimensions (like having two voxels - which are represented as the position along the x and y axis fo the graph).\n",
    "\n",
    "To run the above to get instances, you need to run the program \"chooseInstances\". To do so, in the cell below, you should type \n",
    "\n",
    "    %run chooseInstances.ipy\n",
    "    \n",
    "Literally like the above, with the % sign and everything into the cell below and then afterwords hit shift-enter (that is, the shift key and enter key at the same time). Wait a second or two (be patient it can take a few seconds to start), and you should see a window popup where you can define the points, as described above.\n"
   ]
  },
  {
   "cell_type": "code",
   "execution_count": 1,
   "metadata": {
    "collapsed": false,
    "scrolled": true
   },
   "outputs": [
    {
     "data": {
      "image/png": "[encoded data removed]",
      "text/plain": [
       "<matplotlib.figure.Figure at 0x1068b8940>"
      ]
     },
     "metadata": {},
     "output_type": "display_data"
    }
   ],
   "source": [
    "%run chooseInstances.ipy"
   ]
  },
  {
   "cell_type": "markdown",
   "metadata": {
    "collapsed": false
   },
   "source": [
    "If all went well, then you should have two sets of instances, that will be saved in the variables instances.x1 and instances.x2. You can take a look at those by running the following (put your mouse in the box and hit shift-enter). First, look at the instances for the first class, x1. It should look like several rows (one row for each instance - i.e. each point you clicked in the red group), with two values (one for the x and y position of the point - think like the response of a voxel)"
   ]
  },
  {
   "cell_type": "code",
   "execution_count": 2,
   "metadata": {
    "collapsed": false
   },
   "outputs": [
    {
     "data": {
      "text/plain": [
       "array([[ 0.15322581,  0.92708333],\n",
       "       [ 0.11895161,  0.72135417],\n",
       "       [ 0.12903226,  0.64583333],\n",
       "       [ 0.25604839,  0.67447917],\n",
       "       [ 0.2641129 ,  0.8125    ],\n",
       "       [ 0.22983871,  0.8203125 ],\n",
       "       [ 0.09879032,  0.7890625 ],\n",
       "       [ 0.19556452,  0.72395833],\n",
       "       [ 0.30443548,  0.76041667],\n",
       "       [ 0.17137097,  0.8125    ],\n",
       "       [ 0.16935484,  0.65885417],\n",
       "       [ 0.30645161,  0.78385417],\n",
       "       [ 0.24596774,  0.72916667],\n",
       "       [ 0.31451613,  0.66666667],\n",
       "       [ 0.22782258,  0.54427083],\n",
       "       [ 0.23991935,  0.63020833],\n",
       "       [ 0.2983871 ,  0.625     ],\n",
       "       [ 0.26008065,  0.57291667]])"
      ]
     },
     "execution_count": 2,
     "metadata": {},
     "output_type": "execute_result"
    }
   ],
   "source": [
    "instances.x1"
   ]
  },
  {
   "cell_type": "markdown",
   "metadata": {},
   "source": [
    "And now, look at the instances of the class, x2. Again, hit shift-enter to run the line - from here on out, I'll expect that you know how to hit shift-enter to run, so will stop reminding you :)"
   ]
  },
  {
   "cell_type": "code",
   "execution_count": 3,
   "metadata": {
    "collapsed": false
   },
   "outputs": [
    {
     "data": {
      "text/plain": [
       "array([[ 0.40725806,  0.56770833],\n",
       "       [ 0.34677419,  0.4921875 ],\n",
       "       [ 0.39717742,  0.38802083],\n",
       "       [ 0.47580645,  0.44791667],\n",
       "       [ 0.45766129,  0.5546875 ],\n",
       "       [ 0.41935484,  0.484375  ],\n",
       "       [ 0.50806452,  0.54166667],\n",
       "       [ 0.48387097,  0.59635417],\n",
       "       [ 0.58266129,  0.59114583],\n",
       "       [ 0.56048387,  0.44791667],\n",
       "       [ 0.54233871,  0.3828125 ],\n",
       "       [ 0.36895161,  0.29166667],\n",
       "       [ 0.34274194,  0.390625  ],\n",
       "       [ 0.44758065,  0.35677083],\n",
       "       [ 0.48790323,  0.3828125 ],\n",
       "       [ 0.49596774,  0.27604167],\n",
       "       [ 0.3891129 ,  0.27083333],\n",
       "       [ 0.55040323,  0.31770833],\n",
       "       [ 0.55040323,  0.5       ],\n",
       "       [ 0.47983871,  0.50260417]])"
      ]
     },
     "execution_count": 3,
     "metadata": {},
     "output_type": "execute_result"
    }
   ],
   "source": [
    "instances.x2"
   ]
  },
  {
   "cell_type": "markdown",
   "metadata": {},
   "source": [
    "Ok. Let's reiterate the terminology here. We have two classes (red and blue points now named x1 and x2, respectively). Again, classes can be response to different kinds of stimuli (horizontal vs vertical orientation) or different kinds of tasks (adding vs subtracting numbers), anything you like. Each row is an \"instance\" of a response to each class. It has two columns, which would be the responses of voxel 1 and voxel 2 to that instance. \n",
    "\n",
    "Linear classifiers are defined by the \"projection line\". This is the line (and its a line even if you have more than two dimensions for your data) upon which you project all new instances. Projection means to drop a line from each instance (which is a point in the space) perpendicular to the projection line. The point where this intersects the projection line is called the projection of the point and is also the point that is closest to the instance on the projection line. It is easy to find the projection - you just take the [dot product](http://en.wikipedia.org/wiki/Dot_product) of the vector that defines the projection line and the instance.\n",
    "\n",
    "Once you find the projection of each instance on to the projection line you compare it against a bias point if it is less than the bias point you are going to say the instance comes from the first class and if it is larger than the bias point it comes from the second class. That's all there is to a linear classifier. Just to repeat, you do the following:\n",
    "\n",
    "1. Get the projection of each new instance on to the projection vector by taking the dot product of the instance and the vector that defines the projection line\n",
    "2. Compare that to the bias point (note that the projection is always a scalar value)\n",
    "\n",
    "But, how to define the projection line and the bias point. Let's start with the easiest of all classifiers. We will define the projection line as the line that intersects the means of the two class distributions. Let's see what that does. First let's get the mean of both distrubtions. To do that will be using a python package called \"numpy\" which has a bunch of useful numerical routines in it. So, first we import the package numpy as below - note that the second part, \"as numpy\", is up to you, if you don't like typing numpy all the time then change it to something shorter."
   ]
  },
  {
   "cell_type": "code",
   "execution_count": 4,
   "metadata": {
    "collapsed": false
   },
   "outputs": [],
   "source": [
    "import numpy as numpy"
   ]
  },
  {
   "cell_type": "markdown",
   "metadata": {},
   "source": [
    "Ok. Now that we have numpy loaded up, we can take our mean. Note that we choose the axis (i.e. which dimension of the matrix of instances to average across). Like this:"
   ]
  },
  {
   "cell_type": "code",
   "execution_count": 5,
   "metadata": {
    "collapsed": false
   },
   "outputs": [
    {
     "data": {
      "text/plain": [
       "array([ 0.22132616,  0.71657986])"
      ]
     },
     "execution_count": 5,
     "metadata": {},
     "output_type": "execute_result"
    }
   ],
   "source": [
    "meanX1 = numpy.mean(instances.x1,axis=0)\n",
    "meanX1"
   ]
  },
  {
   "cell_type": "markdown",
   "metadata": {},
   "source": [
    "Ok. That should be the mean (x,y) of the red class. Now compute the mean of the blue class"
   ]
  },
  {
   "cell_type": "code",
   "execution_count": 6,
   "metadata": {
    "collapsed": false
   },
   "outputs": [
    {
     "data": {
      "text/plain": [
       "array([ 0.46471774,  0.43919271])"
      ]
     },
     "execution_count": 6,
     "metadata": {},
     "output_type": "execute_result"
    }
   ],
   "source": [
    "meanX2 = numpy.mean(instances.x2,axis=0)\n",
    "meanX2"
   ]
  },
  {
   "cell_type": "markdown",
   "metadata": {},
   "source": [
    "Ok. Now we know the means of the two classes, let's plot them to make sure that we got the right answer. You should copy the following code into the next cell to display your instances and then plot the means that you got above using the command pyplot.plot where you will replace XXX with the x and y means that you got above. Note that you can put in the acutal numbers displayed, or you can get the appropriate values from the variables we set (the x value for meanX1 would be meanX1[0] and the y value would be meanX1[1] - note that python starts indexing arrays at 0!)\n",
    "\n",
    "    %matplotlib inline\n",
    "    dispInstances(instances)\n",
    "    # plot the mean of the red class (X1)\n",
    "    pyplot.plot(XXX,XXX,'rx')\n",
    "    # plot the mean of the blue class (X2)\n",
    "    pyplot.plot(XXX,XXX,'bx')\n",
    "    \n"
   ]
  },
  {
   "cell_type": "code",
   "execution_count": 8,
   "metadata": {
    "collapsed": false
   },
   "outputs": [
    {
     "data": {
      "text/plain": [
       "[<matplotlib.lines.Line2D at 0x11527f690>]"
      ]
     },
     "execution_count": 8,
     "metadata": {},
     "output_type": "execute_result"
    },
    {
     "data": {
      "image/png": "[encoded data removed]",
      "text/plain": [
       "<matplotlib.figure.Figure at 0x113a114d0>"
      ]
     },
     "metadata": {},
     "output_type": "display_data"
    }
   ],
   "source": [
    "%matplotlib inline\n",
    "dispInstances(instances)\n",
    "# plot the mean of the red class (X1)\n",
    "pyplot.plot(meanX1[0],meanX1[1],'rx')\n",
    "# plot the mean of the blue class (X2)\n",
    "pyplot.plot(meanX2[0],meanX2[1],'bx')"
   ]
  },
  {
   "cell_type": "markdown",
   "metadata": {},
   "source": [
    "Look ok? You should see your original cloud of points with a red and blue x in the center of each.\n",
    "\n",
    "If you got that, then now we need to define the projection line based on these two points. Remember how to define a line from two points? Are you feeling transported back to your algebra class in high school? Think, what is the slope (rise/run) and then plug one of the points into the equation for a line to get the offset. Try to define the slope and offset yourself and compute it in the cell below. \n",
    "\n",
    "For those not familiar with python, you will want to set a variable slope by doing\n",
    "\n",
    "  slope = \n",
    "  \n",
    "Then the equation that you want. Remember that you can access the x,y of the mean of each class that we calculated above as:\n",
    "\n",
    "  mean x of red class = meanX1[0]\n",
    "  mean x of blue class = meanX1[0]\n",
    "  mean y of red class = meanX2[1]\n",
    "  mean y of blue class = meanX2[1]\n",
    "  \n",
    "Division is /, multiplication is * and you can put things in parenthesis to control order of execution.\n",
    "  \n",
    "Work this out yourself. If you get stuck there is a clue in the next cell!\n"
   ]
  },
  {
   "cell_type": "code",
   "execution_count": 9,
   "metadata": {
    "collapsed": false
   },
   "outputs": [
    {
     "data": {
      "text/plain": [
       "-1.1396744132535661"
      ]
     },
     "execution_count": 9,
     "metadata": {},
     "output_type": "execute_result"
    }
   ],
   "source": [
    "slope = (meanX2[1] - meanX1[1])/(meanX2[0] - meanX1[0])\n",
    "slope"
   ]
  },
  {
   "cell_type": "markdown",
   "metadata": {},
   "source": [
    "\n",
    "Need more help? Here are the relevant equations.\n",
    "\n",
    "Equation of a line\n",
    "\n",
    "$y = slope * x + offset$\n",
    "\n",
    "Equation for slope\n",
    "\n",
    "$slope = \\frac{\\triangle y}{\\triangle x}$\n",
    "\n",
    "Rearranging the equation of line to make offset a function of the slope and one of the means:\n",
    "\n",
    "$offset = y - slope * x$\n"
   ]
  },
  {
   "cell_type": "code",
   "execution_count": null,
   "metadata": {
    "collapsed": true
   },
   "outputs": [],
   "source": []
  },
  {
   "cell_type": "markdown",
   "metadata": {},
   "source": [
    "Still stumped? Ok. Here are the relevant commands. Try to put them in youself:\n",
    "\n",
    "    slope = (meanX2[1]-meanX1[1])/(meanX2[0]-meanX1[0])\n",
    "    offset = meanX2[1]-slope*meanX2[0]\n"
   ]
  },
  {
   "cell_type": "code",
   "execution_count": 10,
   "metadata": {
    "collapsed": true
   },
   "outputs": [],
   "source": [
    "slope = (meanX2[1]-meanX1[1])/(meanX2[0]-meanX1[0])\n",
    "offset = meanX2[1]-slope*meanX2[0]"
   ]
  },
  {
   "cell_type": "markdown",
   "metadata": {},
   "source": [
    "Ok. Assuming that went ok, you should now have values for the slope and offset of the line that runs through the means of the two distributions. Let's print them out, and then also display them on a graph of your instances."
   ]
  },
  {
   "cell_type": "code",
   "execution_count": 11,
   "metadata": {
    "collapsed": false
   },
   "outputs": [
    {
     "data": {
      "text/plain": [
       "[<matplotlib.lines.Line2D at 0x10d5b0350>]"
      ]
     },
     "execution_count": 11,
     "metadata": {},
     "output_type": "execute_result"
    },
    {
     "data": {
      "image/png": "[encoded data removed]",
      "text/plain": [
       "<matplotlib.figure.Figure at 0x112245250>"
      ]
     },
     "metadata": {},
     "output_type": "display_data"
    }
   ],
   "source": [
    "# display slope and offset\n",
    "slope\n",
    "offset\n",
    "# display the instances\n",
    "%matplotlib inline\n",
    "dispInstances(instances)\n",
    "# draw the projection line. We draw from x = 0 to x = 1 since this is what the x-axis\n",
    "# is set to, then we just use the equation of the line to get the y points for those\n",
    "# two x points\n",
    "pyplot.plot([0, 1],[offset, slope+offset],'k-')"
   ]
  },
  {
   "cell_type": "markdown",
   "metadata": {},
   "source": [
    "You should see your clouds of instances with a line going though the means. Now let's classify based on this projection line."
   ]
  }
 ],
 "metadata": {
  "kernelspec": {
   "display_name": "Python 3",
   "language": "python",
   "name": "python3"
  },
  "language_info": {
   "codemirror_mode": {
    "name": "ipython",
    "version": 3
   },
   "file_extension": ".py",
   "mimetype": "text/x-python",
   "name": "python",
   "nbconvert_exporter": "python",
   "pygments_lexer": "ipython3",
   "version": "3.5.1"
  }
 },
 "nbformat": 4,
 "nbformat_minor": 0
}
