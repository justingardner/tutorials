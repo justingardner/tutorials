{
  "nbformat": 4,
  "nbformat_minor": 0,
  "metadata": {
    "colab": {
      "provenance": [],
      "collapsed_sections": [],
      "authorship_tag": "ABX9TyPdXcNfKqVE+jqmTLFZeNXL",
      "include_colab_link": true
    },
    "kernelspec": {
      "name": "python3",
      "display_name": "Python 3"
    },
    "language_info": {
      "name": "python"
    }
  },
  "cells": [
    {
      "cell_type": "markdown",
      "metadata": {
        "id": "view-in-github",
        "colab_type": "text"
      },
      "source": [
        "<a href=\"https://colab.research.google.com/github/justingardner/tutorials/blob/master/selectivity_and_tolerance.ipynb\" target=\"_parent\"><img src=\"https://colab.research.google.com/assets/colab-badge.svg\" alt=\"Open In Colab\"/></a>"
      ]
    },
    {
      "cell_type": "markdown",
      "source": [
        "Learning goals for the Selectivity and Tolerance notebook. You should have already worked through the [Frequency Freaks](https://colab.research.google.com/drive/1Yxj-Cld8uV3uNQ28WNcgH0udZVqJbdgy?usp=sharing) notebook. After working through this notebook you will be able to...\n",
        "  * create a LN model of a simple cell\n",
        "  * create a contrast-energy model of a complex cell\n",
        "  * create a motion energy model unit similar to Adelson & Bergen\n",
        "  "
      ],
      "metadata": {
        "id": "uV9lnvMWIbeS"
      }
    },
    {
      "cell_type": "code",
      "source": [
        "# Import libraries that we need\n",
        "import numpy as np\n",
        "import numpy.matlib as matlib\n",
        "import matplotlib.pyplot as plt\n",
        "import matplotlib.image as image\n",
        "import imageio as iio\n",
        "from scipy import interpolate\n",
        "import math\n",
        "from scipy import ndimage\n",
        "from scipy import signal\n",
        "from matplotlib.animation import FuncAnimation\n"
      ],
      "metadata": {
        "id": "hnMfmzUjIf9o"
      },
      "execution_count": 217,
      "outputs": []
    },
    {
      "cell_type": "markdown",
      "source": [
        "Let's start by defining a few functions from the [frequency freaks](https://colab.research.google.com/drive/1Yxj-Cld8uV3uNQ28WNcgH0udZVqJbdgy) notebook. We will need these to create gabor receptive fields."
      ],
      "metadata": {
        "id": "_K1C_zctIihw"
      }
    },
    {
      "cell_type": "code",
      "source": [
        "# function to make a mesh of x,y points\n",
        "def getMeshPoints(nPoints):\n",
        "\n",
        "  # first create a linearly spaced set of x and y points between -1 and 1\n",
        "  x = np.linspace(-1,1,nPoints)\n",
        "  y = np.linspace(-1,1,nPoints)\n",
        "\n",
        "  # keep the extents for use with imshow\n",
        "  extents = [np.min(x),np.max(x),np.min(y),np.max(y)]\n",
        "\n",
        "  # now create the mesh of x and y (these will now both be 2D matrices of x and y values)\n",
        "  x, y = np.meshgrid(x, y, indexing='xy')\n",
        "\n",
        "  # and return the computed values\n",
        "  return x, y, extents\n",
        "\n",
        "# function that makes a gaussian\n",
        "def makeGaussian(x,y,sigma):\n",
        "  # there it is!\n",
        "  gaussian = np.exp(-(x**2+y**2)/(2*sigma**2))\n",
        "  \n",
        "  # return \n",
        "  return gaussian\n",
        "\n",
        "# function to make a grating\n",
        "def makeGrating(x, y, orientation, spatialPhase, spatialFrequency):\n",
        "  # we wil convert orientation and spatialPhase into radians\n",
        "  orientation = np.pi*orientation/180\n",
        "  spatialPhase = np.pi*spatialPhase/180\n",
        "\n",
        "  # we need to convert spatial frequency into cycles/image\n",
        "  # remember that we made the extents in getMeshPoints\n",
        "  # to go from -1 to 1, so we want that to go from -pi to pi\n",
        "  spatialFrequency = spatialFrequency * np.pi\n",
        "\n",
        "  # make the grating\n",
        "  grating = np.cos(spatialFrequency*(x*np.cos(orientation)+y*np.sin(orientation))+spatialPhase)\n",
        "\n",
        "  # and return\n",
        "  return grating"
      ],
      "metadata": {
        "id": "YsO3r7nXIlnx"
      },
      "execution_count": 218,
      "outputs": []
    },
    {
      "cell_type": "markdown",
      "source": [
        "Now that we have those functions, lets make a class variable that will contain the necessary things to represent a simple cell - the linear receptive field and the exponent. That is, we will make the init function create a gabor receptive field with a particular spatial frequency, orientation and keep a field that tells what the static output non-linearity is. You know from the [FrequencyFreak](https://colab.research.google.com/drive/1Yxj-Cld8uV3uNQ28WNcgH0udZVqJbdgy)s notebook how to do this from the above functions. Yes?"
      ],
      "metadata": {
        "id": "wes06wlrvgNA"
      }
    },
    {
      "cell_type": "code",
      "source": [
        "class simpleCell:\n",
        "  def __init__(self,meshsize, orientationPreference, spatialPhase, spatialFrequencyPreference, exponent):\n",
        "    # keep the meshsize\n",
        "    self.meshsize = meshsize\n",
        "    \n",
        "    # first make a mesh of x,y points\n",
        "    self.x, self.y, self.extents = getMeshPoints(meshsize)\n",
        "\n",
        "    # compute the grating needed\n",
        "    grating = makeGrating(self.x, self.y, orientationPreference, spatialPhase, spatialFrequencyPreference)\n",
        "\n",
        "    # compute the gaussian (we fix the size here, but of course that could be a passed\n",
        "    # in parameter)\n",
        "    gaussian = makeGaussian(self.x, self.y, 0.2)\n",
        "\n",
        "    # now we can make the gabor receptive field\n",
        "    self.linearRF = grating * gaussian\n",
        "\n",
        "    # the exponent is just something we store\n",
        "    self.exponent = exponent"
      ],
      "metadata": {
        "id": "L_oDD2Yowr6J"
      },
      "execution_count": 219,
      "outputs": []
    },
    {
      "cell_type": "markdown",
      "source": [
        "Let's test it to see if generates what we want it to, by creating a simpleCell and displaying it's receptive field."
      ],
      "metadata": {
        "id": "8v2h0oz4xuI2"
      }
    },
    {
      "cell_type": "code",
      "source": [
        "# let's use the following meshsize in all these simulations\n",
        "meshsize = 513\n",
        "\n",
        "# create the simple cell\n",
        "s = simpleCell(meshsize, 0, 0, 5, 2)\n",
        "\n",
        "# display the receptive field\n",
        "plt.imshow(s.linearRF,cmap='gray',extent=s.extents)"
      ],
      "metadata": {
        "colab": {
          "base_uri": "https://localhost:8080/",
          "height": 278
        },
        "id": "XncFqRSAx__H",
        "outputId": "94f692fc-1e5e-48fc-c3ce-7d6dac58287b"
      },
      "execution_count": 220,
      "outputs": [
        {
          "output_type": "execute_result",
          "data": {
            "text/plain": [
              "<matplotlib.image.AxesImage at 0x7f0bee74f7d0>"
            ]
          },
          "metadata": {},
          "execution_count": 220
        },
        {
          "output_type": "display_data",
          "data": {
            "text/plain": [
              "<Figure size 504x252 with 1 Axes>"
            ],
            "image/png": "[encoded data removed]"
          },
          "metadata": {
            "needs_background": "light"
          }
        }
      ]
    },
    {
      "cell_type": "markdown",
      "source": [
        "Ok, your turn. Create a quadrature pair of simple cells like we discussed in class. Display their receptive fields to make sure they look right."
      ],
      "metadata": {
        "id": "MHpfRX_sx0Uc"
      }
    },
    {
      "cell_type": "code",
      "source": [],
      "metadata": {
        "id": "n7BvrluXym91"
      },
      "execution_count": 220,
      "outputs": []
    },
    {
      "cell_type": "markdown",
      "source": [
        "Now, let's write a function that will compute the simple cell response to some a stimulus image. "
      ],
      "metadata": {
        "id": "QB58T9Qyy3Pw"
      }
    },
    {
      "cell_type": "code",
      "source": [
        "#function to compute the simple cell response\n",
        "def computeSimpleCellResponse(simpleCell, stimulus):\n",
        "  # well, the first step is to apply the linear receptive field\n",
        "  # which means to take the dot product of the linear receptive field\n",
        "  # and the stimulus. Note, I don't understand what numpy's dot product\n",
        "  # does in 2D - so maybe there is a better way to write this. Instead\n",
        "  # I'm going to go really basic here. Take the element-wise multiplication\n",
        "  # of stimulus and RF and then add that all up together\n",
        "  response = simpleCell.linearRF * stimulus\n",
        "  response = np.sum(response)\n",
        "\n",
        "  # since the units of the output are aribtrary, let's\n",
        "  # make them a bit more intepretable where 1 would be the\n",
        "  # maximum possible reponse of the RF with it's most preferred\n",
        "  # stimulus. What is the most preferred stimulus, well the one\n",
        "  # that exactly matches the RF!\n",
        "  maxResponse = simpleCell.linearRF * simpleCell.linearRF\n",
        "  maxResponse = np.sum(maxResponse)\n",
        "\n",
        "  # now normalize by this maximum response\n",
        "  response = response / maxResponse\n",
        "\n",
        "  # now we apply a threshold\n",
        "  if response<0:\n",
        "    response = 0\n",
        "  \n",
        "  # and apply the static non-linearity\n",
        "  response = response**simpleCell.exponent\n",
        "  \n",
        "  # and return, couldn't be simpler, no pun intended. really.\n",
        "  return response"
      ],
      "metadata": {
        "id": "pukcu35YzUih"
      },
      "execution_count": 221,
      "outputs": []
    },
    {
      "cell_type": "markdown",
      "source": [
        "Ok, now let's write a little function to generate a vertical bar stimulus"
      ],
      "metadata": {
        "id": "TtDpfijzG3WO"
      }
    },
    {
      "cell_type": "code",
      "source": [
        "def makeVerticalBarStimulus(meshsize, barPosition, barWidth, barLuminance):\n",
        "  # get mesh points\n",
        "  x, y, extents = getMeshPoints(meshsize)\n",
        "  \n",
        "  # the stimulus image will have 1 = white, 0 = gray -1 = black\n",
        "  stimImage = np.zeros((meshsize, meshsize))\n",
        "\n",
        "  # let's make it have a white vertical bar in it\n",
        "  stimImage[np.nonzero(np.logical_and(x > barPosition-barWidth/2, x < barPosition+barWidth/2))] = barLuminance\n",
        "\n",
        "  # and return the stimImage\n",
        "  return stimImage\n",
        "\n",
        "# ok, let's test to see if it works, make a vertical\n",
        "# bar in the center of the stimulus that is white\n",
        "stimImage = makeVerticalBarStimulus(meshsize, 0, 0.2, 1)\n",
        "\n",
        "# and display to make sure we have the right thing\n",
        "plt.imshow(stimImage,cmap='gray',extent=s.extents)\n",
        "plt.xlabel('X position')\n",
        "plt.ylabel('Y position')\n"
      ],
      "metadata": {
        "colab": {
          "base_uri": "https://localhost:8080/",
          "height": 278
        },
        "id": "RBuNBDKfHBnC",
        "outputId": "b6d4bf69-219d-449e-9778-126f896396d9"
      },
      "execution_count": 222,
      "outputs": [
        {
          "output_type": "execute_result",
          "data": {
            "text/plain": [
              "Text(0, 0.5, 'Y position')"
            ]
          },
          "metadata": {},
          "execution_count": 222
        },
        {
          "output_type": "display_data",
          "data": {
            "text/plain": [
              "<Figure size 504x252 with 1 Axes>"
            ],
            "image/png": "[encoded data removed]"
          },
          "metadata": {
            "needs_background": "light"
          }
        }
      ]
    },
    {
      "cell_type": "markdown",
      "source": [
        "Got it? Ok. Let's plot a tuning function. In this case, let's plot the tuning of the RF with respect to the position of the bar. We will make a function that computes the response to vertical bars at different x locations."
      ],
      "metadata": {
        "id": "BaVI-ghT7Mo5"
      }
    },
    {
      "cell_type": "code",
      "source": [
        "# create a function to compute the response to a vertical\n",
        "# bar at different locations in the receptive field\n",
        "def computeResponseToVerticalBar(simpleCell, barLuminance):\n",
        "\n",
        "  # init response array\n",
        "  r = []\n",
        "\n",
        "  # bar positions to examine simple cell response over\n",
        "  barPositions = np.arange(-0.8, 0.8, 0.01) \n",
        "\n",
        "  # now for each bar position, compute the simple cell response\n",
        "  for barLoc in barPositions:\n",
        "    # Get the stimulus image using the function from above\n",
        "    stimImage = makeVerticalBarStimulus(meshsize, barLoc, 0.2, barLuminance)\n",
        "\n",
        "    # compute response\n",
        "    r.append(computeSimpleCellResponse(simpleCell, stimImage))\n",
        "\n",
        "  # return values\n",
        "  return barPositions, np.array(r)\n",
        "\n",
        "# now compute the response for the receptive field we created above\n",
        "# we set the barLuminance to 1 to do a bright bar\n",
        "barPositions, r = computeResponseToVerticalBar(s,1)\n",
        "\n",
        "# plot the response\n",
        "plt.plot(barPositions,r)\n",
        "plt.xlabel('Bar position')\n",
        "plt.ylabel('Response')"
      ],
      "metadata": {
        "colab": {
          "base_uri": "https://localhost:8080/",
          "height": 278
        },
        "id": "HrICw1xy7SHq",
        "outputId": "5b8b98db-8bca-4930-e58d-d18336a5c0a2"
      },
      "execution_count": 223,
      "outputs": [
        {
          "output_type": "execute_result",
          "data": {
            "text/plain": [
              "Text(0, 0.5, 'Response')"
            ]
          },
          "metadata": {},
          "execution_count": 223
        },
        {
          "output_type": "display_data",
          "data": {
            "text/plain": [
              "<Figure size 504x252 with 1 Axes>"
            ],
            "image/png": "[encoded data removed]"
          },
          "metadata": {
            "needs_background": "light"
          }
        }
      ]
    },
    {
      "cell_type": "markdown",
      "source": [
        "Ok, now we can compute the response of a single simple cell for different bar positions. Note that the response is not uniform across the receptive field - i.e. the simple cell only responds to the bar at a position it which it aligns with the excitatory or on part of the receptive field. What happens, if we put on a dark bar at different positions across the receptive field. What would it look like?"
      ],
      "metadata": {
        "id": "rlGH5lpJZ1cq"
      }
    },
    {
      "cell_type": "code",
      "source": [
        "# compute the response to a dark bar\n",
        "barPositions, r = computeResponseToVerticalBar(s,-1)\n",
        "\n",
        "# plot the response\n",
        "plt.plot(barPositions,r)\n",
        "plt.xlabel('Bar position')\n",
        "plt.ylabel('Response')"
      ],
      "metadata": {
        "colab": {
          "base_uri": "https://localhost:8080/",
          "height": 278
        },
        "id": "TjmLxnK1aMnj",
        "outputId": "ad2ec681-97d0-4557-fad2-c2bcdc9cc985"
      },
      "execution_count": 224,
      "outputs": [
        {
          "output_type": "execute_result",
          "data": {
            "text/plain": [
              "Text(0, 0.5, 'Response')"
            ]
          },
          "metadata": {},
          "execution_count": 224
        },
        {
          "output_type": "display_data",
          "data": {
            "text/plain": [
              "<Figure size 504x252 with 1 Axes>"
            ],
            "image/png": "[encoded data removed]"
          },
          "metadata": {
            "needs_background": "light"
          }
        }
      ]
    },
    {
      "cell_type": "markdown",
      "source": [
        "Is that what you expected? I hope so. Now, let's try to make a cell (complex cell) that will respond to a bar with a positive response across the whole receptive fields. Ok, one point we have to take care of. We didn't talk about this in class, but note that the simple cell we have made applies \"half-squaring\" to the output. That means it thresholds at 0 and sets any negative values to 0 and then squares. The upshot of this is that  the cell can not respond negatively. This is actually fairly accurate as cortical cells (as opposed to retinal ganglion cells in the Enroth-Cugell study) typically have low baseline firing. That means, that they have very little negative range - they cant suppress their baseline firing rate below 0 (after all it makes no sense to say that a neuron is firing less than 0 spikes/sec, right?). So if it's baseline is near 0, then it only signals positive responses, and nothing about negative responses. Look at the graphs above and confirm that this is true. So, how do we fix this? Simple. We just have two simple cells that have tuning that is 180 degrees out of phase with each other. One simple cell gives the positive response and one simple cell gives the negative response - i.e. responds in the dark regions of the other cell. By combining those cells we get a combined response that responds to postivie and negative luminance. Here's some code that implements that idea."
      ],
      "metadata": {
        "id": "481Eeoc2aV1C"
      }
    },
    {
      "cell_type": "code",
      "source": [
        "# create a simple cell\n",
        "s1positive = simpleCell(meshsize,0,0,5,2)\n",
        "\n",
        "# now create one with the opposite phase (i.e. 180 degrees out of phase)\n",
        "s1negative = simpleCell(meshsize,0,180,5,2)\n",
        "\n",
        "# now compute the response of both to bar above\n",
        "barPosition, s1positiveResponse = computeResponseToVerticalBar(s1positive,1)\n",
        "barPosition, s1negativeResponse = computeResponseToVerticalBar(s1negative,1)\n",
        "\n",
        "# add them together\n",
        "s1response = s1positiveResponse + s1negativeResponse\n",
        "\n",
        "# and plot\n",
        "plt.plot(barPosition,s1response)\n",
        "plt.xlabel('Bar position')\n",
        "plt.ylabel('Response')"
      ],
      "metadata": {
        "colab": {
          "base_uri": "https://localhost:8080/",
          "height": 278
        },
        "id": "44MR_TfjcySs",
        "outputId": "94ea2bd1-3f9a-4c67-f40e-f91d2dc64080"
      },
      "execution_count": 225,
      "outputs": [
        {
          "output_type": "execute_result",
          "data": {
            "text/plain": [
              "Text(0, 0.5, 'Response')"
            ]
          },
          "metadata": {},
          "execution_count": 225
        },
        {
          "output_type": "display_data",
          "data": {
            "text/plain": [
              "<Figure size 504x252 with 1 Axes>"
            ],
            "image/png": "[encoded data removed]"
          },
          "metadata": {
            "needs_background": "light"
          }
        }
      ]
    },
    {
      "cell_type": "markdown",
      "source": [
        "Ok, half way there. We have one half of the quadrature phase. Now you do the rest. Compute a response that is in quadrature phase and add it to what you have here. Then you should have a complex cell that responds positively throughout the receptive field."
      ],
      "metadata": {
        "id": "11vWcHlQgnQd"
      }
    },
    {
      "cell_type": "code",
      "source": [
        "# create a simple cell\n",
        "s2positive = simpleCell(meshsize,0,90,5,2)\n",
        "\n",
        "# now create one with the opposite phase (i.e. 180 degrees out of phase)\n",
        "s2negative = simpleCell(meshsize,0,270,5,2)\n",
        "\n",
        "# make a function to compute \n",
        "barPosition, s1positiveResponse = computeResponseToVerticalBar(s1positive,1)\n",
        "barPosition, s1negativeResponse = computeResponseToVerticalBar(s1negative,1)\n",
        "barPosition, s2positiveResponse = computeResponseToVerticalBar(s2positive,1)\n",
        "barPosition, s2negativeResponse = computeResponseToVerticalBar(s2negative,1)\n",
        "\n",
        "# add them together and you should get a complex cell\n",
        "complexResponse = (s1positiveResponse+s1negativeResponse) + (s2positiveResponse+s2negativeResponse)\n",
        "\n",
        "# and plot\n",
        "plt.plot(barPosition,complexResponse)\n",
        "plt.xlabel('Bar position')\n",
        "plt.ylabel('Response')"
      ],
      "metadata": {
        "colab": {
          "base_uri": "https://localhost:8080/",
          "height": 278
        },
        "id": "Y0hnZL9Kg0w3",
        "outputId": "0b01176b-499a-4927-8745-ae91080928e8"
      },
      "execution_count": 226,
      "outputs": [
        {
          "output_type": "execute_result",
          "data": {
            "text/plain": [
              "Text(0, 0.5, 'Response')"
            ]
          },
          "metadata": {},
          "execution_count": 226
        },
        {
          "output_type": "display_data",
          "data": {
            "text/plain": [
              "<Figure size 504x252 with 1 Axes>"
            ],
            "image/png": "[encoded data removed]"
          },
          "metadata": {
            "needs_background": "light"
          }
        }
      ]
    },
    {
      "cell_type": "markdown",
      "source": [
        "The complex cell should also give the same response to a dark bar as it does to a light bar. Test that!"
      ],
      "metadata": {
        "id": "t9HOZXw1J5KX"
      }
    },
    {
      "cell_type": "markdown",
      "source": [
        "Now, let's put the above into a class so that we can test the complex cell's behavior to any stimulus we like."
      ],
      "metadata": {
        "id": "2NFV-f_WKEtl"
      }
    },
    {
      "cell_type": "code",
      "source": [
        "# class for a complex cell\n",
        "class complexCell:\n",
        "  def __init__(self, meshsize, orientationPreference, spatialFrequencyPreference):\n",
        "    # keep the meshsize\n",
        "    self.meshsize = meshsize\n",
        "    \n",
        "    # first make a mesh of x,y points\n",
        "    self.x, self.y, self.extents = getMeshPoints(meshsize)\n",
        "\n",
        "    # create the four simple cells that are needed \n",
        "    self.s000 = simpleCell(meshsize,orientationPreference,0,spatialFrequencyPreference,2)\n",
        "    self.s090 = simpleCell(meshsize,orientationPreference,90,spatialFrequencyPreference,2)\n",
        "    self.s180 = simpleCell(meshsize,orientationPreference,180,spatialFrequencyPreference,2)\n",
        "    self.s270 = simpleCell(meshsize,orientationPreference,180,spatialFrequencyPreference,2)\n",
        "\n",
        "# and a function that can be used to compute the response of a complex cell\n",
        "def computeComplexCellResponse(complexCell, stimulus):\n",
        "  # compute the response to each sub-field\n",
        "  r000 = computeSimpleCellResponse(complexCell.s000, stimulus)\n",
        "  r090 = computeSimpleCellResponse(complexCell.s090, stimulus)\n",
        "  r180 = computeSimpleCellResponse(complexCell.s180, stimulus)\n",
        "  r270 = computeSimpleCellResponse(complexCell.s270, stimulus)\n",
        "\n",
        "  # sum together and normalize so that the maximum response is 1\n",
        "  r = (r000+r090+r180+r270)/4\n",
        "\n",
        "  # add that all together and return\n",
        "  return r\n"
      ],
      "metadata": {
        "id": "9Wqxf8QPKLPS"
      },
      "execution_count": 227,
      "outputs": []
    },
    {
      "cell_type": "markdown",
      "source": [
        "Make sense? Now let's see how the complex cell behaves as a function of orientation"
      ],
      "metadata": {
        "id": "j7RuPyGPLbV-"
      }
    },
    {
      "cell_type": "code",
      "source": [
        "#create a complex cell with orientation preference of 90 and spatial frequency preference of 5 cycles per image\n",
        "c = complexCell(meshsize, 90, 5)\n",
        "\n",
        "# init response array\n",
        "r = []\n",
        "\n",
        "# loop over orientations\n",
        "orientations = range(0,180,1)\n",
        "for orientation in orientations:\n",
        "  # make a grating of the appropraite orientation\n",
        "  stimulus = makeGrating(c.x, c.y, orientation, 0, 5)\n",
        "\n",
        "  # compute complex cell response\n",
        "  r.append(computeComplexCellResponse(c, stimulus))\n",
        "\n",
        "# convert to array\n",
        "r = np.array(r)\n",
        "\n",
        "# plot\n",
        "plt.plot(orientations,r)\n",
        "plt.xlabel('Orientation (deg)')\n",
        "plt.ylabel('Response')"
      ],
      "metadata": {
        "colab": {
          "base_uri": "https://localhost:8080/",
          "height": 278
        },
        "id": "o6GvnJnYLglM",
        "outputId": "e1de038b-6925-4c85-b03b-1b3810f21cae"
      },
      "execution_count": 228,
      "outputs": [
        {
          "output_type": "execute_result",
          "data": {
            "text/plain": [
              "Text(0, 0.5, 'Response')"
            ]
          },
          "metadata": {},
          "execution_count": 228
        },
        {
          "output_type": "display_data",
          "data": {
            "text/plain": [
              "<Figure size 504x252 with 1 Axes>"
            ],
            "image/png": "[encoded data removed]"
          },
          "metadata": {
            "needs_background": "light"
          }
        }
      ]
    },
    {
      "cell_type": "markdown",
      "source": [
        "Ok, now let's add time into this whole business. Let's make a motion-energy model like in the Adelson & Bergen paper. We will use gabor filters as the spatial component like above (in the paper they actually use 2nd and 3rd derivatives of Gaussians - which have a similar shape to them). Let's start with creating the temporal filters using equation 1. Check to make sure that what is plotted here resembles what they have in Fig 10b"
      ],
      "metadata": {
        "id": "EE60UqHzODhw"
      }
    },
    {
      "cell_type": "code",
      "source": [
        "def makeTemporalFilter(t,n,k):\n",
        "  # equation 1 from Adelson & BErgen\n",
        "  return ((k * t)**n) * np.exp(-k * t)*((1/math.factorial(n)) - ((k*t)**2)/math.factorial(n+2))\n",
        "\n",
        "# compute for 10 seconds\n",
        "nTimePoints = 64\n",
        "t = np.linspace(0,6,nTimePoints)\n",
        "\n",
        "# make the two temporal filters\n",
        "t1 = makeTemporalFilter(t,3,3)\n",
        "t2 = makeTemporalFilter(t,5,3)\n",
        "\n",
        "# and plot for different exponent values\n",
        "plt.plot(t,t1)\n",
        "plt.plot(t,t2)\n",
        "plt.xlabel('Time (sec)')\n",
        "plt.ylabel('Filter Response')\n",
        "plt.legend(('n=3','n=5'))"
      ],
      "metadata": {
        "colab": {
          "base_uri": "https://localhost:8080/",
          "height": 278
        },
        "id": "G39zJDxlOnhU",
        "outputId": "cb73d8ee-06ad-4118-bba1-c3455b95914b"
      },
      "execution_count": 229,
      "outputs": [
        {
          "output_type": "execute_result",
          "data": {
            "text/plain": [
              "<matplotlib.legend.Legend at 0x7f0bef689a10>"
            ]
          },
          "metadata": {},
          "execution_count": 229
        },
        {
          "output_type": "display_data",
          "data": {
            "text/plain": [
              "<Figure size 504x252 with 1 Axes>"
            ],
            "image/png": "[encoded data removed]"
          },
          "metadata": {
            "needs_background": "light"
          }
        }
      ]
    },
    {
      "cell_type": "markdown",
      "source": [
        "Now let's make two quadrature pair gabor spatial filters. This should look like Fig 10a"
      ],
      "metadata": {
        "id": "hIOS1mHCg9pc"
      }
    },
    {
      "cell_type": "code",
      "source": [
        "# make two gabors\n",
        "meshsize = 64\n",
        "x, y, extents = getMeshPoints(meshsize)\n",
        "orientation = 0\n",
        "spatialFrequency = 3\n",
        "s1 = makeGaussian(x,y,0.25) * makeGrating(x, y, orientation, 0, spatialFrequency)\n",
        "s2 = makeGaussian(x,y,0.25) * makeGrating(x, y, orientation, -90, spatialFrequency)\n",
        "\n",
        "# plot to make sure\n",
        "plt.subplot(121)\n",
        "plt.imshow(s1,cmap='gray',extent=extents)\n",
        "plt.subplot(122)\n",
        "plt.imshow(s2,cmap='gray',extent=extents)\n",
        "\n",
        "# we can also plot a cross section through the middle\n",
        "plt.figure()\n",
        "plt.plot(x[int(meshsize/2),:],s1[int(meshsize/2),:])\n",
        "plt.plot(x[int(meshsize/2),:],s2[int(meshsize/2),:])\n",
        "plt.xlabel('x')\n",
        "plt.ylabel('Response')\n"
      ],
      "metadata": {
        "colab": {
          "base_uri": "https://localhost:8080/",
          "height": 503
        },
        "id": "1Y5mOZK7hDoy",
        "outputId": "6b9d885c-10e7-4696-885e-2dc0e9390739"
      },
      "execution_count": 230,
      "outputs": [
        {
          "output_type": "execute_result",
          "data": {
            "text/plain": [
              "Text(0, 0.5, 'Response')"
            ]
          },
          "metadata": {},
          "execution_count": 230
        },
        {
          "output_type": "display_data",
          "data": {
            "text/plain": [
              "<Figure size 504x252 with 2 Axes>"
            ],
            "image/png": "[encoded data removed]"
          },
          "metadata": {
            "needs_background": "light"
          }
        },
        {
          "output_type": "display_data",
          "data": {
            "text/plain": [
              "<Figure size 504x252 with 1 Axes>"
            ],
            "image/png": "[encoded data removed]"
          },
          "metadata": {
            "needs_background": "light"
          }
        }
      ]
    },
    {
      "cell_type": "markdown",
      "source": [
        "Now we make each combination of spatial and temporal filters. These will be space/time separable filters as shown in 10c."
      ],
      "metadata": {
        "id": "UvnDzLc0ieet"
      }
    },
    {
      "cell_type": "code",
      "source": [
        "# first let's repeat that spatial filter along the time axis.\n",
        "# that is, we are just going to take the spatial filter and\n",
        "# copy it for every time point\n",
        "s1t1 = np.repeat(s1[:, :, np.newaxis], nTimePoints, axis=2)\n",
        "s1t2 = np.repeat(s1[:, :, np.newaxis], nTimePoints, axis=2)\n",
        "s2t1 = np.repeat(s2[:, :, np.newaxis], nTimePoints, axis=2)\n",
        "s2t2 = np.repeat(s2[:, :, np.newaxis], nTimePoints, axis=2)\n",
        "\n",
        "# maybe there is a faster python way to do this, but I'm\n",
        "#just going to llop here\n",
        "for i in range(0,nTimePoints):\n",
        "  s1t1[:,:,i] = s1t1[:,:,i]*t1[i]\n",
        "  s1t2[:,:,i] = s1t2[:,:,i]*t2[i]\n",
        "  s2t1[:,:,i] = s2t1[:,:,i]*t1[i]\n",
        "  s2t2[:,:,i] = s2t2[:,:,i]*t2[i]\n",
        "\n",
        "# ok, make the plots to see if everything worked correctly\n",
        "plt.subplot(141)\n",
        "plt.imshow(s2t1[int(meshsize/2),:,:].T,cmap='gray')\n",
        "plt.subplot(142)\n",
        "plt.imshow(s2t2[int(meshsize/2),:,:].T,cmap='gray')\n",
        "plt.subplot(143)\n",
        "plt.imshow(s1t2[int(meshsize/2),:,:].T,cmap='gray')\n",
        "plt.subplot(144)\n",
        "plt.imshow(s1t1[int(meshsize/2),:,:].T,cmap='gray')"
      ],
      "metadata": {
        "colab": {
          "base_uri": "https://localhost:8080/",
          "height": 161
        },
        "id": "862mV0O7imCb",
        "outputId": "84e6b307-26ea-49d0-8a44-11fa95b2b478"
      },
      "execution_count": 231,
      "outputs": [
        {
          "output_type": "execute_result",
          "data": {
            "text/plain": [
              "<matplotlib.image.AxesImage at 0x7f0bef45ced0>"
            ]
          },
          "metadata": {},
          "execution_count": 231
        },
        {
          "output_type": "display_data",
          "data": {
            "text/plain": [
              "<Figure size 504x252 with 4 Axes>"
            ],
            "image/png": "[encoded data removed]"
          },
          "metadata": {
            "needs_background": "light"
          }
        }
      ]
    },
    {
      "cell_type": "markdown",
      "source": [
        "Now make the sum and difference filters. Compare to Fig 10c, bottom row."
      ],
      "metadata": {
        "id": "bHp_L5BJqdmv"
      }
    },
    {
      "cell_type": "code",
      "source": [
        "# take the sums and differences of the above\n",
        "f1 = s2t1+s1t2\n",
        "f2 = s1t1-s2t2\n",
        "f3 = s1t2-s2t1\n",
        "f4 = s1t1+s2t2\n",
        "\n",
        "# And display\n",
        "plt.subplot(141)\n",
        "plt.imshow(f1[int(meshsize/2),:,:].T,cmap='gray')\n",
        "plt.subplot(142)\n",
        "plt.imshow(f2[int(meshsize/2),:,:].T,cmap='gray')\n",
        "plt.subplot(143)\n",
        "plt.imshow(f3[int(meshsize/2),:,:].T,cmap='gray')\n",
        "plt.subplot(144)\n",
        "plt.imshow(f4[int(meshsize/2),:,:].T,cmap='gray')"
      ],
      "metadata": {
        "colab": {
          "base_uri": "https://localhost:8080/",
          "height": 161
        },
        "id": "jp7NuwL9qgXu",
        "outputId": "ccf66aed-756c-44b1-b703-056ef4adc702"
      },
      "execution_count": 232,
      "outputs": [
        {
          "output_type": "execute_result",
          "data": {
            "text/plain": [
              "<matplotlib.image.AxesImage at 0x7f0bed6e6410>"
            ]
          },
          "metadata": {},
          "execution_count": 232
        },
        {
          "output_type": "display_data",
          "data": {
            "text/plain": [
              "<Figure size 504x252 with 4 Axes>"
            ],
            "image/png": "[encoded data removed]"
          },
          "metadata": {
            "needs_background": "light"
          }
        }
      ]
    },
    {
      "cell_type": "markdown",
      "source": [
        "Ok. Now that we can create the filters, let's build a class to do all of this by copying the code from above. "
      ],
      "metadata": {
        "id": "vq-rFZjyvwLe"
      }
    },
    {
      "cell_type": "code",
      "source": [
        "# first let's delete the variables made above to free up RAM\n",
        "del s1, s2, s1t1, s1t2, s2t1, s2t2, f1, f2, f3, f4"
      ],
      "metadata": {
        "id": "ynHcHvE1HqiQ"
      },
      "execution_count": 233,
      "outputs": []
    },
    {
      "cell_type": "code",
      "source": [
        "class motionEnergyModel:\n",
        "  def __init__(self, meshsize, nTimePoints):\n",
        "    # keep the meshsize and nTimePoints\n",
        "    self.meshsize = meshsize\n",
        "    self.nTimePoints = nTimePoints\n",
        "    \n",
        "    # make two temporal filters\n",
        "    # compute for 6 seconds\n",
        "    self.t = np.linspace(0,6,nTimePoints)\n",
        "\n",
        "    def makeTemporalFilter(t,n,k):\n",
        "      # equation 1 from Adelson & BErgen\n",
        "      return ((k * t)**n) * np.exp(-k * t)*((1/math.factorial(n)) - ((k*t)**2)/math.factorial(n+2)) \n",
        "\n",
        "    # make the two temporal filters\n",
        "    t1 = makeTemporalFilter(self.t,3,3)\n",
        "    t2 = makeTemporalFilter(self.t,5,3)\n",
        "\n",
        "    # make two spatial filters\n",
        "    x, y, extents = getMeshPoints(meshsize)\n",
        "    orientation = 0\n",
        "    spatialFrequency = 3\n",
        "    s1 = makeGaussian(x,y,0.25) * makeGrating(x, y, orientation, 0, spatialFrequency)\n",
        "    s2 = makeGaussian(x,y,0.25) * makeGrating(x, y, orientation, -90, spatialFrequency)\n",
        "    plt.imshow(s1,cmap='gray')\n",
        "\n",
        "    # first let's repeat that spatial filter along the time axis.\n",
        "    # that is, we are just going to take the spatial filter and\n",
        "    # copy it for every time point\n",
        "    s1t1 = np.repeat(s1[:, :, np.newaxis], nTimePoints, axis=2)\n",
        "    s1t2 = np.repeat(s1[:, :, np.newaxis], nTimePoints, axis=2)\n",
        "    s2t1 = np.repeat(s2[:, :, np.newaxis], nTimePoints, axis=2)\n",
        "    s2t2 = np.repeat(s2[:, :, np.newaxis], nTimePoints, axis=2)\n",
        "\n",
        "    # maybe there is a faster python way to do this, but I'm\n",
        "    #just going to lpop here (I miss matlab ;( ))\n",
        "    for i in range(0,nTimePoints):\n",
        "      s1t1[:,:,i] = s1t1[:,:,i]*t1[i]\n",
        "      s1t2[:,:,i] = s1t2[:,:,i]*t2[i]\n",
        "      s2t1[:,:,i] = s2t1[:,:,i]*t1[i]\n",
        "      s2t2[:,:,i] = s2t2[:,:,i]*t2[i]\n",
        "\n",
        "    # make sum and differences\n",
        "    self.f1 = s2t1+s1t2\n",
        "    self.f2 = s1t1-s2t2\n",
        "    self.f3 = s1t2-s2t1\n",
        "    self.f4 = s1t1+s2t2"
      ],
      "metadata": {
        "id": "KJVnjmTwwC-A"
      },
      "execution_count": 234,
      "outputs": []
    },
    {
      "cell_type": "markdown",
      "source": [
        "Now make motion a motion energy model and plot its filters to make sure everything is working"
      ],
      "metadata": {
        "id": "7q6aeWmxnO9z"
      }
    },
    {
      "cell_type": "code",
      "source": [
        "# make with a small number of mesh / time points to make it easier to calculate the response\n",
        "meshsize = 32\n",
        "nTimePoints = 32\n",
        "m = motionEnergyModel(meshsize, nTimePoints)\n",
        "\n",
        "# display the filters\n",
        "plt.figure\n",
        "plt.subplot(141)\n",
        "plt.imshow(m.f1[int(meshsize/2),:,:].T,cmap='gray')\n",
        "plt.subplot(142)\n",
        "plt.imshow(m.f2[int(meshsize/2),:,:].T,cmap='gray')\n",
        "plt.subplot(143)\n",
        "plt.imshow(m.f3[int(meshsize/2),:,:].T,cmap='gray')\n",
        "plt.subplot(144)\n",
        "plt.imshow(m.f4[int(meshsize/2),:,:].T,cmap='gray')\n"
      ],
      "metadata": {
        "colab": {
          "base_uri": "https://localhost:8080/",
          "height": 160
        },
        "id": "al1jR-8UnPUg",
        "outputId": "847e9a01-3874-4e97-89c3-a6227e0b8aba"
      },
      "execution_count": 235,
      "outputs": [
        {
          "output_type": "execute_result",
          "data": {
            "text/plain": [
              "<matplotlib.image.AxesImage at 0x7f0bee341610>"
            ]
          },
          "metadata": {},
          "execution_count": 235
        },
        {
          "output_type": "display_data",
          "data": {
            "text/plain": [
              "<Figure size 504x252 with 4 Axes>"
            ],
            "image/png": "[encoded data removed]"
          },
          "metadata": {
            "needs_background": "light"
          }
        }
      ]
    },
    {
      "cell_type": "markdown",
      "source": [
        "Now we write a function to compute the response of the motion energy model like what we have done above with simple and complex cells."
      ],
      "metadata": {
        "id": "OwQ0H5JG9mAQ"
      }
    },
    {
      "cell_type": "code",
      "source": [
        "def computeMotionEnergyModelResponse(m, stimulus):\n",
        "  #first we need to make sure that the dimensions of our filters \n",
        "  # match the dimensions of the stimulus - in particular the length \n",
        "  # in time\n",
        "  if m.nTimePoints != stimulus.shape[2]:\n",
        "    print('must do')\n",
        "  \n",
        "  # compute the convolution of the filters with the stimulus\n",
        "  r1 = signal.fftconvolve(stimulus,m.f1,mode='same')\n",
        "  r2 = signal.fftconvolve(stimulus,m.f2,mode='same')\n",
        "  r3 = signal.fftconvolve(stimulus,m.f3,mode='same')\n",
        "  r4 = signal.fftconvolve(stimulus,m.f4,mode='same')\n",
        "\n",
        "  # and then square and sum each quadrature component\n",
        "  d1 = (r1**2) + (r2**2)\n",
        "  d2 = (r3**2) + (r4**2)\n",
        "\n",
        "  # and take the difference - this is the motion opponency part\n",
        "  return d1-d2"
      ],
      "metadata": {
        "id": "O5-rGQIt9p_z"
      },
      "execution_count": 236,
      "outputs": []
    },
    {
      "cell_type": "markdown",
      "source": [
        "Now we are in business. Generate a stimulus, and pass it to the motion energy model to see what response you get. Note that the output is 3D - as the motion energy model is convolved over all of x and y (think - there is a filter at each location in the visual field analyzing the motion) and the output is a function of time where a postive output (white) means rightwards motion and negative output (black) means leftwards motion. Grey means there is no motion detected. Note that there are some edge effects in the output "
      ],
      "metadata": {
        "id": "QCNNvpNslu--"
      }
    },
    {
      "cell_type": "code",
      "source": [
        "# get x,y points to make stimuli\n",
        "x, y, extents = getMeshPoints(meshsize)\n",
        "\n",
        "# init stimulus\n",
        "stimulus = np.zeros((meshsize,meshsize,nTimePoints))\n",
        "\n",
        "## Uncomment / comment lines here to try different stimuli\n",
        "##\n",
        "# temporal frequency grating\n",
        "tf = 1\n",
        "stimulus = np.zeros((meshsize,meshsize,nTimePoints))\n",
        "for t in range(0,nTimePoints):\n",
        "  stimulus[:,:,t] = makeGrating(x, y, 0, tf * 360 * (t / nTimePoints), 3)\n",
        "\n",
        "# rightwards motion of a bar\n",
        "#for t in range(0,nTimePoints):\n",
        "#  stimulus[:,:,t] = makeVerticalBarStimulus(meshsize, 0.8 - 1.6*t/nTimePoints , 0.2, -1)\n",
        "\n",
        "# leftwards motion of a bar\n",
        "#for t in range(0,nTimePoints):\n",
        "#  stimulus[:,:,t] = makeVerticalBarStimulus(meshsize, -0.8 + 1.6*t/nTimePoints , 0.2, 1)\n",
        "\n",
        "# compute response of the motion energy model\n",
        "r = computeMotionEnergyModelResponse(m, stimulus)\n",
        "\n",
        "# display the stimulus as x/t and y/t plots\n",
        "plt.figure()\n",
        "plt.subplot(121)\n",
        "plt.imshow(stimulus[int(meshsize/2),:,:],cmap='gray',vmin=-1,vmax=1)\n",
        "plt.xlabel('x');plt.ylabel('t')\n",
        "plt.subplot(122)\n",
        "plt.imshow(stimulus[:,int(meshsize/2),:],cmap='gray',vmin=-1,vmax=1)\n",
        "plt.xlabel('y');plt.ylabel('t')\n",
        "\n",
        "# display the motion energy model output as x/t and y/t lots\n",
        "plt.figure()\n",
        "a = plt.subplot(131)\n",
        "r = r/np.max(np.abs(r))\n",
        "plt.imshow(r[int(meshsize/2),:,:].T,cmap='gray',extent=extents,vmin=-1,vmax=1)\n",
        "plt.xlabel('x')\n",
        "plt.ylabel('t')\n",
        "a.set_xticks([])\n",
        "a.set_yticks([])\n",
        "\n",
        "a = plt.subplot(132)\n",
        "plt.imshow(r[:,int(meshsize/2),:].T,cmap='gray',extent=extents,vmin=-1,vmax=1)\n",
        "plt.xlabel('y')\n",
        "plt.ylabel('t')\n",
        "#plt.colorbar()\n",
        "a.set_xticks([])\n",
        "a.set_yticks([])\n"
      ],
      "metadata": {
        "colab": {
          "base_uri": "https://localhost:8080/",
          "height": 448
        },
        "id": "M7EvxOYulvZs",
        "outputId": "5bb5abfb-406c-4cd0-f5c4-438648aad86d"
      },
      "execution_count": 242,
      "outputs": [
        {
          "output_type": "execute_result",
          "data": {
            "text/plain": [
              "[]"
            ]
          },
          "metadata": {},
          "execution_count": 242
        },
        {
          "output_type": "display_data",
          "data": {
            "text/plain": [
              "<Figure size 504x252 with 2 Axes>"
            ],
            "image/png": "[encoded data removed]"
          },
          "metadata": {
            "needs_background": "light"
          }
        },
        {
          "output_type": "display_data",
          "data": {
            "text/plain": [
              "<Figure size 504x252 with 2 Axes>"
            ],
            "image/png": "[encoded data removed]"
          },
          "metadata": {}
        }
      ]
    },
    {
      "cell_type": "markdown",
      "source": [
        "Some code to display animations of a stimulus"
      ],
      "metadata": {
        "id": "IoMh-hl9scOT"
      }
    },
    {
      "cell_type": "code",
      "source": [
        "#from matplotlib import rc\n",
        "#rc('animation', html='jshtml')\n",
        "\n",
        "# init figure\n",
        "fig, ax = plt.subplots()\n",
        "\n",
        "# function to update frames of the animation\n",
        "def update(i):\n",
        "  ax.imshow(stimulus[:,:,i],cmap='gray',extent=extents)\n",
        "  ax.set_axis_off()\n",
        "\n",
        "# setup the animation\n",
        "anim = FuncAnimation(fig, update, frames=nTimePoints, interval=50)\n",
        "\n",
        "# and display it\n",
        "anim"
      ],
      "metadata": {
        "colab": {
          "base_uri": "https://localhost:8080/",
          "height": 594
        },
        "id": "U5zwjF8tqPyX",
        "outputId": "46bbc9f3-2896-4418-84f2-4c42c008817d"
      },
      "execution_count": 243,
      "outputs": [
        {
          "output_type": "execute_result",
          "data": {
            "text/plain": [
              "<matplotlib.animation.FuncAnimation at 0x7f0bed59add0>"
            ],
            "text/html": [
              "\n",
              "<link rel=\"stylesheet\"\n",
              "href=\"https://maxcdn.bootstrapcdn.com/font-awesome/4.4.0/\n",
              "css/font-awesome.min.css\">\n",
              "<script language=\"javascript\">\n",
              "  function isInternetExplorer() {\n",
              "    ua = navigator.userAgent;\n",
              "    /* MSIE used to detect old browsers and Trident used to newer ones*/\n",
              "    return ua.indexOf(\"MSIE \") > -1 || ua.indexOf(\"Trident/\") > -1;\n",
              "  }\n",
              "\n",
              "  /* Define the Animation class */\n",
              "  function Animation(frames, img_id, slider_id, interval, loop_select_id){\n",
              "    this.img_id = img_id;\n",
              "    this.slider_id = slider_id;\n",
              "    this.loop_select_id = loop_select_id;\n",
              "    this.interval = interval;\n",
              "    this.current_frame = 0;\n",
              "    this.direction = 0;\n",
              "    this.timer = null;\n",
              "    this.frames = new Array(frames.length);\n",
              "\n",
              "    for (var i=0; i<frames.length; i++)\n",
              "    {\n",
              "     this.frames[i] = new Image();\n",
              "     this.frames[i].src = frames[i];\n",
              "    }\n",
              "    var slider = document.getElementById(this.slider_id);\n",
              "    slider.max = this.frames.length - 1;\n",
              "    if (isInternetExplorer()) {\n",
              "        // switch from oninput to onchange because IE <= 11 does not conform\n",
              "        // with W3C specification. It ignores oninput and onchange behaves\n",
              "        // like oninput. In contrast, Mircosoft Edge behaves correctly.\n",
              "        slider.setAttribute('onchange', slider.getAttribute('oninput'));\n",
              "        slider.setAttribute('oninput', null);\n",
              "    }\n",
              "    this.set_frame(this.current_frame);\n",
              "  }\n",
              "\n",
              "  Animation.prototype.get_loop_state = function(){\n",
              "    var button_group = document[this.loop_select_id].state;\n",
              "    for (var i = 0; i < button_group.length; i++) {\n",
              "        var button = button_group[i];\n",
              "        if (button.checked) {\n",
              "            return button.value;\n",
              "        }\n",
              "    }\n",
              "    return undefined;\n",
              "  }\n",
              "\n",
              "  Animation.prototype.set_frame = function(frame){\n",
              "    this.current_frame = frame;\n",
              "    document.getElementById(this.img_id).src =\n",
              "            this.frames[this.current_frame].src;\n",
              "    document.getElementById(this.slider_id).value = this.current_frame;\n",
              "  }\n",
              "\n",
              "  Animation.prototype.next_frame = function()\n",
              "  {\n",
              "    this.set_frame(Math.min(this.frames.length - 1, this.current_frame + 1));\n",
              "  }\n",
              "\n",
              "  Animation.prototype.previous_frame = function()\n",
              "  {\n",
              "    this.set_frame(Math.max(0, this.current_frame - 1));\n",
              "  }\n",
              "\n",
              "  Animation.prototype.first_frame = function()\n",
              "  {\n",
              "    this.set_frame(0);\n",
              "  }\n",
              "\n",
              "  Animation.prototype.last_frame = function()\n",
              "  {\n",
              "    this.set_frame(this.frames.length - 1);\n",
              "  }\n",
              "\n",
              "  Animation.prototype.slower = function()\n",
              "  {\n",
              "    this.interval /= 0.7;\n",
              "    if(this.direction > 0){this.play_animation();}\n",
              "    else if(this.direction < 0){this.reverse_animation();}\n",
              "  }\n",
              "\n",
              "  Animation.prototype.faster = function()\n",
              "  {\n",
              "    this.interval *= 0.7;\n",
              "    if(this.direction > 0){this.play_animation();}\n",
              "    else if(this.direction < 0){this.reverse_animation();}\n",
              "  }\n",
              "\n",
              "  Animation.prototype.anim_step_forward = function()\n",
              "  {\n",
              "    this.current_frame += 1;\n",
              "    if(this.current_frame < this.frames.length){\n",
              "      this.set_frame(this.current_frame);\n",
              "    }else{\n",
              "      var loop_state = this.get_loop_state();\n",
              "      if(loop_state == \"loop\"){\n",
              "        this.first_frame();\n",
              "      }else if(loop_state == \"reflect\"){\n",
              "        this.last_frame();\n",
              "        this.reverse_animation();\n",
              "      }else{\n",
              "        this.pause_animation();\n",
              "        this.last_frame();\n",
              "      }\n",
              "    }\n",
              "  }\n",
              "\n",
              "  Animation.prototype.anim_step_reverse = function()\n",
              "  {\n",
              "    this.current_frame -= 1;\n",
              "    if(this.current_frame >= 0){\n",
              "      this.set_frame(this.current_frame);\n",
              "    }else{\n",
              "      var loop_state = this.get_loop_state();\n",
              "      if(loop_state == \"loop\"){\n",
              "        this.last_frame();\n",
              "      }else if(loop_state == \"reflect\"){\n",
              "        this.first_frame();\n",
              "        this.play_animation();\n",
              "      }else{\n",
              "        this.pause_animation();\n",
              "        this.first_frame();\n",
              "      }\n",
              "    }\n",
              "  }\n",
              "\n",
              "  Animation.prototype.pause_animation = function()\n",
              "  {\n",
              "    this.direction = 0;\n",
              "    if (this.timer){\n",
              "      clearInterval(this.timer);\n",
              "      this.timer = null;\n",
              "    }\n",
              "  }\n",
              "\n",
              "  Animation.prototype.play_animation = function()\n",
              "  {\n",
              "    this.pause_animation();\n",
              "    this.direction = 1;\n",
              "    var t = this;\n",
              "    if (!this.timer) this.timer = setInterval(function() {\n",
              "        t.anim_step_forward();\n",
              "    }, this.interval);\n",
              "  }\n",
              "\n",
              "  Animation.prototype.reverse_animation = function()\n",
              "  {\n",
              "    this.pause_animation();\n",
              "    this.direction = -1;\n",
              "    var t = this;\n",
              "    if (!this.timer) this.timer = setInterval(function() {\n",
              "        t.anim_step_reverse();\n",
              "    }, this.interval);\n",
              "  }\n",
              "</script>\n",
              "\n",
              "<style>\n",
              ".animation {\n",
              "    display: inline-block;\n",
              "    text-align: center;\n",
              "}\n",
              "input[type=range].anim-slider {\n",
              "    width: 374px;\n",
              "    margin-left: auto;\n",
              "    margin-right: auto;\n",
              "}\n",
              ".anim-buttons {\n",
              "    margin: 8px 0px;\n",
              "}\n",
              ".anim-buttons button {\n",
              "    padding: 0;\n",
              "    width: 36px;\n",
              "}\n",
              ".anim-state label {\n",
              "    margin-right: 8px;\n",
              "}\n",
              ".anim-state input {\n",
              "    margin: 0;\n",
              "    vertical-align: middle;\n",
              "}\n",
              "</style>\n",
              "\n",
              "<div class=\"animation\">\n",
              "  <img id=\"_anim_img7759363409ce41a0ab40f828d165ba99\">\n",
              "  <div class=\"anim-controls\">\n",
              "    <input id=\"_anim_slider7759363409ce41a0ab40f828d165ba99\" type=\"range\" class=\"anim-slider\"\n",
              "           name=\"points\" min=\"0\" max=\"1\" step=\"1\" value=\"0\"\n",
              "           oninput=\"anim7759363409ce41a0ab40f828d165ba99.set_frame(parseInt(this.value));\"></input>\n",
              "    <div class=\"anim-buttons\">\n",
              "      <button onclick=\"anim7759363409ce41a0ab40f828d165ba99.slower()\"><i class=\"fa fa-minus\"></i></button>\n",
              "      <button onclick=\"anim7759363409ce41a0ab40f828d165ba99.first_frame()\"><i class=\"fa fa-fast-backward\">\n",
              "          </i></button>\n",
              "      <button onclick=\"anim7759363409ce41a0ab40f828d165ba99.previous_frame()\">\n",
              "          <i class=\"fa fa-step-backward\"></i></button>\n",
              "      <button onclick=\"anim7759363409ce41a0ab40f828d165ba99.reverse_animation()\">\n",
              "          <i class=\"fa fa-play fa-flip-horizontal\"></i></button>\n",
              "      <button onclick=\"anim7759363409ce41a0ab40f828d165ba99.pause_animation()\"><i class=\"fa fa-pause\">\n",
              "          </i></button>\n",
              "      <button onclick=\"anim7759363409ce41a0ab40f828d165ba99.play_animation()\"><i class=\"fa fa-play\"></i>\n",
              "          </button>\n",
              "      <button onclick=\"anim7759363409ce41a0ab40f828d165ba99.next_frame()\"><i class=\"fa fa-step-forward\">\n",
              "          </i></button>\n",
              "      <button onclick=\"anim7759363409ce41a0ab40f828d165ba99.last_frame()\"><i class=\"fa fa-fast-forward\">\n",
              "          </i></button>\n",
              "      <button onclick=\"anim7759363409ce41a0ab40f828d165ba99.faster()\"><i class=\"fa fa-plus\"></i></button>\n",
              "    </div>\n",
              "    <form action=\"#n\" name=\"_anim_loop_select7759363409ce41a0ab40f828d165ba99\" class=\"anim-state\">\n",
              "      <input type=\"radio\" name=\"state\" value=\"once\" id=\"_anim_radio1_7759363409ce41a0ab40f828d165ba99\"\n",
              "             >\n",
              "      <label for=\"_anim_radio1_7759363409ce41a0ab40f828d165ba99\">Once</label>\n",
              "      <input type=\"radio\" name=\"state\" value=\"loop\" id=\"_anim_radio2_7759363409ce41a0ab40f828d165ba99\"\n",
              "             checked>\n",
              "      <label for=\"_anim_radio2_7759363409ce41a0ab40f828d165ba99\">Loop</label>\n",
              "      <input type=\"radio\" name=\"state\" value=\"reflect\" id=\"_anim_radio3_7759363409ce41a0ab40f828d165ba99\"\n",
              "             >\n",
              "      <label for=\"_anim_radio3_7759363409ce41a0ab40f828d165ba99\">Reflect</label>\n",
              "    </form>\n",
              "  </div>\n",
              "</div>\n",
              "\n",
              "\n",
              "<script language=\"javascript\">\n",
              "  /* Instantiate the Animation class. */\n",
              "  /* The IDs given should match those used in the template above. */\n",
              "  (function() {\n",
              "    var img_id = \"_anim_img7759363409ce41a0ab40f828d165ba99\";\n",
              "    var slider_id = \"_anim_slider7759363409ce41a0ab40f828d165ba99\";\n",
              "    var loop_select_id = \"_anim_loop_select7759363409ce41a0ab40f828d165ba99\";\n",
              "    var frames = new Array(32);\n",
              "    \n",
              "  frames[0] = \"data:image/png;base64,iVBORw0KGgoAAAANSUhEUgAAAfgAAAD8CAYAAACbzrbdAAAABHNCSVQICAgIfAhkiAAAAAlwSFlz\\\n",
              "AAALEgAACxIB0t1+/AAAADh0RVh0U29mdHdhcmUAbWF0cGxvdGxpYiB2ZXJzaW9uMy4yLjIsIGh0\\\n",
              "dHA6Ly9tYXRwbG90bGliLm9yZy+WH4yJAAAE0klEQVR4nO3coU5jURhG0elkBA6Jq8OhUAhMBUnT\\\n",
              "lKeFNE0QmApUVR0Oh6zDXZ7gXEXCZGct+yU9v9u5potpmqY/AEDK398+AAD4eQIPAEECDwBBAg8A\\\n",
              "QQIPAEECDwBBAg8AQQIPAEECDwBBAg8AQf9++wD+f4vFYrhdXV0Nt/v7+9nffXx8HG6r1Wq4LZfL\\\n",
              "4XY+n2fffHt7G27Pz8/D7eXlZbi9v78Pt4uLi9l7bm9vh9tmsxlu6/V6uN3c3My+Oed0Og23/X4/\\\n",
              "3Ha73XA7Ho+zb359fQ236+vr4fbw8DDcttvtcLu7u5u95/Lycrh9fHwMt9fX1+H29PQ0++bhcBhu\\\n",
              "n5+fw80/jTPHFzwABAk8AAQJPAAECTwABAk8AAQJPAAECTwABAk8AAQJPAAECTwABAk8AAQJPAAE\\\n",
              "CTwABAk8AAQJPAAECTwABAk8AAQJPAAECTwABAk8AAQJPAAECTwABAk8AAQJPAAECTwABAk8AAQJ\\\n",
              "PAAECTwABAk8AAQJPAAECTwABAk8AAQJPAAECTwABAk8AAQJPAAECTwABAk8AAQJPAAECTwABAk8\\\n",
              "AAQJPAAECTwABAk8AAQJPAAECTwABAk8AAQJPAAECTwABAk8AAQJPAAECTwABAk8AAQJPAAECTwA\\\n",
              "BAk8AAQJPAAECTwABAk8AAQJPAAECTwABAk8AAQJPAAECTwABAk8AAQJPAAECTwABAk8AAQJPAAE\\\n",
              "CTwABAk8AAQJPAAECTwABAk8AAQJPAAECTwABAk8AAQJPAAECTwABAk8AAQJPAAECTwABAk8AAQJ\\\n",
              "PAAECTwABAk8AAQJPAAECTwABAk8AAQJPAAECTwABAk8AAQJPAAECTwABAk8AAQJPAAECTwABAk8\\\n",
              "AAQJPAAECTwABAk8AAQJPAAECTwABAk8AAQJPAAECTwABAk8AAQJPAAECTwABAk8AAQJPAAECTwA\\\n",
              "BAk8AAQJPAAECTwABAk8AAQJPAAECTwABAk8AAQJPAAECTwABAk8AAQJPAAECTwABAk8AAQJPAAE\\\n",
              "CTwABAk8AAQJPAAECTwABAk8AAQJPAAECTwABAk8AAQJPAAECTwABAk8AAQJPAAECTwABAk8AAQJ\\\n",
              "PAAECTwABAk8AAQJPAAECTwABAk8AAQJPAAECTwABAk8AAQJPAAECTwABAk8AAQJPAAECTwABAk8\\\n",
              "AAQJPAAECTwABAk8AAQJPAAECTwABAk8AAQJPAAECTwABAk8AAQJPAAECTwABAk8AAQJPAAECTwA\\\n",
              "BAk8AAQJPAAECTwABAk8AAQJPAAECTwABAk8AAQJPAAECTwABAk8AAQJPAAECTwABAk8AAQJPAAE\\\n",
              "CTwABAk8AAQJPAAECTwABAk8AAQJPAAECTwABAk8AAQJPAAECTwABAk8AAQJPAAECTwABAk8AAQJ\\\n",
              "PAAECTwABAk8AAQJPAAECTwABAk8AAQJPAAECTwABAk8AAQJPAAECTwABAk8AAQJPAAECTwABAk8\\\n",
              "AAQJPAAECTwABAk8AAQJPAAECTwABAk8AAQJPAAECTwABAk8AAQJPAAECTwABAk8AAQJPAAECTwA\\\n",
              "BAk8AAQJPAAECTwABC2maZp++wgA4Gf5ggeAIIEHgCCBB4AggQeAIIEHgCCBB4AggQeAIIEHgCCB\\\n",
              "B4AggQeAoG/D3DnxQQ8FjwAAAABJRU5ErkJggg==\\\n",
              "\"\n",
              "  frames[1] = \"data:image/png;base64,iVBORw0KGgoAAAANSUhEUgAAAfgAAAD8CAYAAACbzrbdAAAABHNCSVQICAgIfAhkiAAAAAlwSFlz\\\n",
              "AAALEgAACxIB0t1+/AAAADh0RVh0U29mdHdhcmUAbWF0cGxvdGxpYiB2ZXJzaW9uMy4yLjIsIGh0\\\n",
              "dHA6Ly9tYXRwbG90bGliLm9yZy+WH4yJAAAE10lEQVR4nO3XoU5jURhG0WE6AodD1tVhcCQ4EgSk\\\n",
              "6csWEhIEogpTh8GikLgacucJzlUknexZy37Jub/buSfTNE2/AICU38c+AAD4eQIPAEECDwBBAg8A\\\n",
              "QQIPAEECDwBBAg8AQQIPAEECDwBBAg8AQX+OfQD/vsViMdxWq9Vwu729nX13vV4Pt6urq+F2dnY2\\\n",
              "3D4+Pma/+fLyMty22+1w2+12w+3z83O4nZ+fz95zfX093DabzXC7ubkZbsvlcrh9fX3N3vP6+jrc\\\n",
              "Hh4ehtvz8/Nwe39/n/3m6enpcLu8vBxu9/f3w+3u7m64XVxczN4z5+3tbbg9PT0Nt8fHx9l39/v9\\\n",
              "cDscDsPt+/t79l3+b/7gASBI4AEgSOABIEjgASBI4AEgSOABIEjgASBI4AEgSOABIEjgASBI4AEg\\\n",
              "SOABIEjgASBI4AEgSOABIEjgASBI4AEgSOABIEjgASBI4AEgSOABIEjgASBI4AEgSOABIEjgASBI\\\n",
              "4AEgSOABIEjgASBI4AEgSOABIEjgASBI4AEgSOABIEjgASBI4AEgSOABIEjgASBI4AEgSOABIEjg\\\n",
              "ASBI4AEgSOABIEjgASBI4AEgSOABIEjgASBI4AEgSOABIEjgASBI4AEgSOABIEjgASBI4AEgSOAB\\\n",
              "IEjgASBI4AEgSOABIEjgASBI4AEgSOABIEjgASBI4AEgSOABIEjgASBI4AEgSOABIEjgASBI4AEg\\\n",
              "SOABIEjgASBI4AEgSOABIEjgASBI4AEgSOABIEjgASBI4AEgSOABIEjgASBI4AEgSOABIEjgASBI\\\n",
              "4AEgSOABIEjgASBI4AEgSOABIEjgASBI4AEgSOABIEjgASBI4AEgSOABIEjgASBI4AEgSOABIEjg\\\n",
              "ASBI4AEgSOABIEjgASBI4AEgSOABIEjgASBI4AEgSOABIEjgASBI4AEgSOABIEjgASBI4AEgSOAB\\\n",
              "IEjgASBI4AEgSOABIEjgASBI4AEgSOABIEjgASBI4AEgSOABIEjgASBI4AEgSOABIEjgASBI4AEg\\\n",
              "SOABIEjgASBI4AEgSOABIEjgASBI4AEgSOABIEjgASBI4AEgSOABIEjgASBI4AEgSOABIEjgASBI\\\n",
              "4AEgSOABIEjgASBI4AEgSOABIEjgASBI4AEgSOABIEjgASBI4AEgSOABIEjgASBI4AEgSOABIEjg\\\n",
              "ASBI4AEgSOABIEjgASBI4AEgSOABIEjgASBI4AEgSOABIEjgASBI4AEgSOABIEjgASBI4AEgSOAB\\\n",
              "IEjgASBI4AEgSOABIEjgASBI4AEgSOABIEjgASBI4AEgSOABIEjgASBI4AEgSOABIEjgASBI4AEg\\\n",
              "SOABIEjgASBI4AEgSOABIEjgASBI4AEgSOABIEjgASBI4AEgSOABIEjgASBI4AEgSOABIEjgASBI\\\n",
              "4AEgSOABIEjgASBI4AEgSOABIEjgASBI4AEgSOABIEjgASBI4AEgSOABIEjgASBI4AEgSOABIEjg\\\n",
              "ASBI4AEgSOABIEjgASBI4AEgSOABIEjgASBI4AEgSOABIEjgASBI4AEgSOABIEjgASBI4AEgSOAB\\\n",
              "IEjgASBI4AEgSOABIEjgASDoZJqm6dhHAAA/yx88AAQJPAAECTwABAk8AAQJPAAECTwABAk8AAQJ\\\n",
              "PAAECTwABAk8AAT9BYDqOfGMUfG7AAAAAElFTkSuQmCC\\\n",
              "\"\n",
              "  frames[2] = \"data:image/png;base64,iVBORw0KGgoAAAANSUhEUgAAAfgAAAD8CAYAAACbzrbdAAAABHNCSVQICAgIfAhkiAAAAAlwSFlz\\\n",
              "AAALEgAACxIB0t1+/AAAADh0RVh0U29mdHdhcmUAbWF0cGxvdGxpYiB2ZXJzaW9uMy4yLjIsIGh0\\\n",
              "dHA6Ly9tYXRwbG90bGliLm9yZy+WH4yJAAAE1klEQVR4nO3XoWojYRiG0c2yUIiKiq2pjakq1AUC\\\n",
              "oTR3W1FqCnVRVTG1VbUVjZy9gn9Uocuz59gXZj7GPMximqbpFwCQ8vunDwAAvp/AA0CQwANAkMAD\\\n",
              "QJDAA0CQwANAkMADQJDAA0CQwANAkMADQNCfnz6Af99yuRxu19fXw+3u7m72ufv9frhtNpvhtlgs\\\n",
              "htvpdJp95+Pj43B7eHgYbq+vr8PtfD4Pt6urq9l7drvdcLu/vx9uNzc3w221Wg239/f32Xuen5+H\\\n",
              "29z3eXl5GW4fHx+z71yv18Pt9vZ2uB0Oh+G23W6H2+Xl5ew9n5+fw+14PA63ue/z9PQ0+863t7fh\\\n",
              "dnFxMdy+vr5mn8v/zR88AAQJPAAECTwABAk8AAQJPAAECTwABAk8AAQJPAAECTwABAk8AAQJPAAE\\\n",
              "CTwABAk8AAQJPAAECTwABAk8AAQJPAAECTwABAk8AAQJPAAECTwABAk8AAQJPAAECTwABAk8AAQJ\\\n",
              "PAAECTwABAk8AAQJPAAECTwABAk8AAQJPAAECTwABAk8AAQJPAAECTwABAk8AAQJPAAECTwABAk8\\\n",
              "AAQJPAAECTwABAk8AAQJPAAECTwABAk8AAQJPAAECTwABAk8AAQJPAAECTwABAk8AAQJPAAECTwA\\\n",
              "BAk8AAQJPAAECTwABAk8AAQJPAAECTwABAk8AAQJPAAECTwABAk8AAQJPAAECTwABAk8AAQJPAAE\\\n",
              "CTwABAk8AAQJPAAECTwABAk8AAQJPAAECTwABAk8AAQJPAAECTwABAk8AAQJPAAECTwABAk8AAQJ\\\n",
              "PAAECTwABAk8AAQJPAAECTwABAk8AAQJPAAECTwABAk8AAQJPAAECTwABAk8AAQJPAAECTwABAk8\\\n",
              "AAQJPAAECTwABAk8AAQJPAAECTwABAk8AAQJPAAECTwABAk8AAQJPAAECTwABAk8AAQJPAAECTwA\\\n",
              "BAk8AAQJPAAECTwABAk8AAQJPAAECTwABAk8AAQJPAAECTwABAk8AAQJPAAECTwABAk8AAQJPAAE\\\n",
              "CTwABAk8AAQJPAAECTwABAk8AAQJPAAECTwABAk8AAQJPAAECTwABAk8AAQJPAAECTwABAk8AAQJ\\\n",
              "PAAECTwABAk8AAQJPAAECTwABAk8AAQJPAAECTwABAk8AAQJPAAECTwABAk8AAQJPAAECTwABAk8\\\n",
              "AAQJPAAECTwABAk8AAQJPAAECTwABAk8AAQJPAAECTwABAk8AAQJPAAECTwABAk8AAQJPAAECTwA\\\n",
              "BAk8AAQJPAAECTwABAk8AAQJPAAECTwABAk8AAQJPAAECTwABAk8AAQJPAAECTwABAk8AAQJPAAE\\\n",
              "CTwABAk8AAQJPAAECTwABAk8AAQJPAAECTwABAk8AAQJPAAECTwABAk8AAQJPAAECTwABAk8AAQJ\\\n",
              "PAAECTwABAk8AAQJPAAECTwABAk8AAQJPAAECTwABAk8AAQJPAAECTwABAk8AAQJPAAECTwABAk8\\\n",
              "AAQJPAAECTwABAk8AAQJPAAECTwABAk8AAQJPAAECTwABAk8AAQJPAAECTwABAk8AAQJPAAECTwA\\\n",
              "BAk8AAQJPAAECTwABAk8AAQtpmmafvoIAOB7+YMHgCCBB4AggQeAIIEHgCCBB4AggQeAIIEHgCCB\\\n",
              "B4AggQeAIIEHgKC/MvQ58R779zUAAAAASUVORK5CYII=\\\n",
              "\"\n",
              "  frames[3] = \"data:image/png;base64,iVBORw0KGgoAAAANSUhEUgAAAfgAAAD8CAYAAACbzrbdAAAABHNCSVQICAgIfAhkiAAAAAlwSFlz\\\n",
              "AAALEgAACxIB0t1+/AAAADh0RVh0U29mdHdhcmUAbWF0cGxvdGxpYiB2ZXJzaW9uMy4yLjIsIGh0\\\n",
              "dHA6Ly9tYXRwbG90bGliLm9yZy+WH4yJAAAE0klEQVR4nO3XoU4jUQCG0YVs0JiiEdiKSpKqokjo\\\n",
              "0xJEVUVVBRKFRTSVGOTsE9wRGxI2355j/2TuzZhv5mKapukXAJBy+dMXAAC+n8ADQJDAA0CQwANA\\\n",
              "kMADQJDAA0CQwANAkMADQJDAA0CQwANA0O+fvgD/vpubm+G2Xq+H29PT0+xzN5vNcLu9vR1un5+f\\\n",
              "w+14PM6e+fLyMtx2u91we39/H25XV1fDbbVazd7n8fHxr7blcjncLi/H3+1vb2+z95l7B3Pv7vX1\\\n",
              "dbh9fX3Nnnl3dzfcHh4ehtt2ux1u9/f3w+36+nr2Ph8fH8Ntv98Pt+fn5+F2OBxmzzydTsNtsVgM\\\n",
              "t/P5PPtc/m/+4AEgSOABIEjgASBI4AEgSOABIEjgASBI4AEgSOABIEjgASBI4AEgSOABIEjgASBI\\\n",
              "4AEgSOABIEjgASBI4AEgSOABIEjgASBI4AEgSOABIEjgASBI4AEgSOABIEjgASBI4AEgSOABIEjg\\\n",
              "ASBI4AEgSOABIEjgASBI4AEgSOABIEjgASBI4AEgSOABIEjgASBI4AEgSOABIEjgASBI4AEgSOAB\\\n",
              "IEjgASBI4AEgSOABIEjgASBI4AEgSOABIEjgASBI4AEgSOABIEjgASBI4AEgSOABIEjgASBI4AEg\\\n",
              "SOABIEjgASBI4AEgSOABIEjgASBI4AEgSOABIEjgASBI4AEgSOABIEjgASBI4AEgSOABIEjgASBI\\\n",
              "4AEgSOABIEjgASBI4AEgSOABIEjgASBI4AEgSOABIEjgASBI4AEgSOABIEjgASBI4AEgSOABIEjg\\\n",
              "ASBI4AEgSOABIEjgASBI4AEgSOABIEjgASBI4AEgSOABIEjgASBI4AEgSOABIEjgASBI4AEgSOAB\\\n",
              "IEjgASBI4AEgSOABIEjgASBI4AEgSOABIEjgASBI4AEgSOABIEjgASBI4AEgSOABIEjgASBI4AEg\\\n",
              "SOABIEjgASBI4AEgSOABIEjgASBI4AEgSOABIEjgASBI4AEgSOABIEjgASBI4AEgSOABIEjgASBI\\\n",
              "4AEgSOABIEjgASBI4AEgSOABIEjgASBI4AEgSOABIEjgASBI4AEgSOABIEjgASBI4AEgSOABIEjg\\\n",
              "ASBI4AEgSOABIEjgASBI4AEgSOABIEjgASBI4AEgSOABIEjgASBI4AEgSOABIEjgASBI4AEgSOAB\\\n",
              "IEjgASBI4AEgSOABIEjgASBI4AEgSOABIEjgASBI4AEgSOABIEjgASBI4AEgSOABIEjgASBI4AEg\\\n",
              "SOABIEjgASBI4AEgSOABIEjgASBI4AEgSOABIEjgASBI4AEgSOABIEjgASBI4AEgSOABIEjgASBI\\\n",
              "4AEgSOABIEjgASBI4AEgSOABIEjgASBI4AEgSOABIEjgASBI4AEgSOABIEjgASBI4AEgSOABIEjg\\\n",
              "ASBI4AEgSOABIEjgASBI4AEgSOABIEjgASBI4AEgSOABIEjgASBI4AEgSOABIEjgASBI4AEgSOAB\\\n",
              "IEjgASBI4AEgSOABIEjgASBI4AEgSOABIEjgASBI4AEgSOABIEjgASBI4AEgSOABIEjgASBI4AEg\\\n",
              "SOABIEjgASBI4AEg6GKapumnLwEAfC9/8AAQJPAAECTwABAk8AAQJPAAECTwABAk8AAQJPAAECTw\\\n",
              "ABAk8AAQ9Aflfznx5b0doAAAAABJRU5ErkJggg==\\\n",
              "\"\n",
              "  frames[4] = \"data:image/png;base64,iVBORw0KGgoAAAANSUhEUgAAAfgAAAD8CAYAAACbzrbdAAAABHNCSVQICAgIfAhkiAAAAAlwSFlz\\\n",
              "AAALEgAACxIB0t1+/AAAADh0RVh0U29mdHdhcmUAbWF0cGxvdGxpYiB2ZXJzaW9uMy4yLjIsIGh0\\\n",
              "dHA6Ly9tYXRwbG90bGliLm9yZy+WH4yJAAAE1UlEQVR4nO3XoUpuQRiG0aMc7Aa7IEYxi034g6hX\\\n",
              "q4hgEaOYBbEazAbr9gq+nQQPz1mrvjAz7WG2lmVZ/gAAKdu//QAA4OcJPAAECTwABAk8AAQJPAAE\\\n",
              "CTwABAk8AAQJPAAECTwABAk8AAT9/e0H8O87PDwct81mM26Xl5er556cnIzb7u7uuL2/v4/bw8PD\\\n",
              "6p3X19fj9vj4OG4fHx/jtre3N26np6er77m6uhq3s7Ozcdvf3x+3z8/PcXt6elp9z83Nzbjd39+P\\\n",
              "2+vr67jt7Oys3nl8fDxuFxcX43Z+fj5uR0dH47a9vf6veXl5Gbe7u7txu729Hbfn5+fVO7++vsbt\\\n",
              "4OBg3N7e3lbP5f/mBw8AQQIPAEECDwBBAg8AQQIPAEECDwBBAg8AQQIPAEECDwBBAg8AQQIPAEEC\\\n",
              "DwBBAg8AQQIPAEECDwBBAg8AQQIPAEECDwBBAg8AQQIPAEECDwBBAg8AQQIPAEECDwBBAg8AQQIP\\\n",
              "AEECDwBBAg8AQQIPAEECDwBBAg8AQQIPAEECDwBBAg8AQQIPAEECDwBBAg8AQQIPAEECDwBBAg8A\\\n",
              "QQIPAEECDwBBAg8AQQIPAEECDwBBAg8AQQIPAEECDwBBAg8AQQIPAEECDwBBAg8AQQIPAEECDwBB\\\n",
              "Ag8AQQIPAEECDwBBAg8AQQIPAEECDwBBAg8AQQIPAEECDwBBAg8AQQIPAEECDwBBAg8AQQIPAEEC\\\n",
              "DwBBAg8AQQIPAEECDwBBAg8AQQIPAEECDwBBAg8AQQIPAEECDwBBAg8AQQIPAEECDwBBAg8AQQIP\\\n",
              "AEECDwBBAg8AQQIPAEECDwBBAg8AQQIPAEECDwBBAg8AQQIPAEECDwBBAg8AQQIPAEECDwBBAg8A\\\n",
              "QQIPAEECDwBBAg8AQQIPAEECDwBBAg8AQQIPAEECDwBBAg8AQQIPAEECDwBBAg8AQQIPAEECDwBB\\\n",
              "Ag8AQQIPAEECDwBBAg8AQQIPAEECDwBBAg8AQQIPAEECDwBBAg8AQQIPAEECDwBBAg8AQQIPAEEC\\\n",
              "DwBBAg8AQQIPAEECDwBBAg8AQQIPAEECDwBBAg8AQQIPAEECDwBBAg8AQQIPAEECDwBBAg8AQQIP\\\n",
              "AEECDwBBAg8AQQIPAEECDwBBAg8AQQIPAEECDwBBAg8AQQIPAEECDwBBAg8AQQIPAEECDwBBAg8A\\\n",
              "QQIPAEECDwBBAg8AQQIPAEECDwBBAg8AQQIPAEECDwBBAg8AQQIPAEECDwBBAg8AQQIPAEECDwBB\\\n",
              "Ag8AQQIPAEECDwBBAg8AQQIPAEECDwBBAg8AQQIPAEECDwBBAg8AQQIPAEECDwBBAg8AQQIPAEEC\\\n",
              "DwBBAg8AQQIPAEECDwBBAg8AQQIPAEECDwBBAg8AQQIPAEECDwBBAg8AQQIPAEECDwBBAg8AQQIP\\\n",
              "AEECDwBBAg8AQQIPAEECDwBBAg8AQQIPAEECDwBBAg8AQQIPAEECDwBBAg8AQQIPAEECDwBBAg8A\\\n",
              "QQIPAEECDwBBAg8AQQIPAEECDwBBAg8AQQIPAEECDwBBAg8AQQIPAEECDwBBAg8AQQIPAEECDwBB\\\n",
              "Ag8AQQIPAEECDwBBAg8AQVvLsiy//QgA4Gf5wQNAkMADQJDAA0CQwANAkMADQJDAA0CQwANAkMAD\\\n",
              "QJDAA0CQwANA0DeZ1Tnxe1TMeAAAAABJRU5ErkJggg==\\\n",
              "\"\n",
              "  frames[5] = \"data:image/png;base64,iVBORw0KGgoAAAANSUhEUgAAAfgAAAD8CAYAAACbzrbdAAAABHNCSVQICAgIfAhkiAAAAAlwSFlz\\\n",
              "AAALEgAACxIB0t1+/AAAADh0RVh0U29mdHdhcmUAbWF0cGxvdGxpYiB2ZXJzaW9uMy4yLjIsIGh0\\\n",
              "dHA6Ly9tYXRwbG90bGliLm9yZy+WH4yJAAAE1UlEQVR4nO3XMUorUQCG0ac8FyC4AUkvtpJObGLI\\\n",
              "brXQSmwCwTpgL2QBgbTjCu5Ugo/vndP+MPcmzTdzNk3T9AcASDn/7QsAAD9P4AEgSOABIEjgASBI\\\n",
              "4AEgSOABIEjgASBI4AEgSOABIEjgASDo729fgH/f3d3dcHt8fBxuq9Vq9rk3NzfD7fx8/O653++H\\\n",
              "28vLy+yZz8/Pw+3j42O4nU6n4bZYLIbbw8PD7H3W6/VwWy6Xw+3y8nK4fX19Dbe3t7fZ+zw9PQ23\\\n",
              "9/f34XY4HIbb1dXV7Jlzv3Oz2Qy3+/v74XZ9fT3cjsfj7H12u91wm/t/Xl9fh9vn5+fsmRcXF8Pt\\\n",
              "9vZ2uG2329nn8n/zBQ8AQQIPAEECDwBBAg8AQQIPAEECDwBBAg8AQQIPAEECDwBBAg8AQQIPAEEC\\\n",
              "DwBBAg8AQQIPAEECDwBBAg8AQQIPAEECDwBBAg8AQQIPAEECDwBBAg8AQQIPAEECDwBBAg8AQQIP\\\n",
              "AEECDwBBAg8AQQIPAEECDwBBAg8AQQIPAEECDwBBAg8AQQIPAEECDwBBAg8AQQIPAEECDwBBAg8A\\\n",
              "QQIPAEECDwBBAg8AQQIPAEECDwBBAg8AQQIPAEECDwBBAg8AQQIPAEECDwBBAg8AQQIPAEECDwBB\\\n",
              "Ag8AQQIPAEECDwBBAg8AQQIPAEECDwBBAg8AQQIPAEECDwBBAg8AQQIPAEECDwBBAg8AQQIPAEEC\\\n",
              "DwBBAg8AQQIPAEECDwBBAg8AQQIPAEECDwBBAg8AQQIPAEECDwBBAg8AQQIPAEECDwBBAg8AQQIP\\\n",
              "AEECDwBBAg8AQQIPAEECDwBBAg8AQQIPAEECDwBBAg8AQQIPAEECDwBBAg8AQQIPAEECDwBBAg8A\\\n",
              "QQIPAEECDwBBAg8AQQIPAEECDwBBAg8AQQIPAEECDwBBAg8AQQIPAEECDwBBAg8AQQIPAEECDwBB\\\n",
              "Ag8AQQIPAEECDwBBAg8AQQIPAEECDwBBAg8AQQIPAEECDwBBAg8AQQIPAEECDwBBAg8AQQIPAEEC\\\n",
              "DwBBAg8AQQIPAEECDwBBAg8AQQIPAEECDwBBAg8AQQIPAEECDwBBAg8AQQIPAEECDwBBAg8AQQIP\\\n",
              "AEECDwBBAg8AQQIPAEECDwBBAg8AQQIPAEECDwBBAg8AQQIPAEECDwBBAg8AQQIPAEECDwBBAg8A\\\n",
              "QQIPAEECDwBBAg8AQQIPAEECDwBBAg8AQQIPAEECDwBBAg8AQQIPAEECDwBBAg8AQQIPAEECDwBB\\\n",
              "Ag8AQQIPAEECDwBBAg8AQQIPAEECDwBBAg8AQQIPAEECDwBBAg8AQQIPAEECDwBBAg8AQQIPAEEC\\\n",
              "DwBBAg8AQQIPAEECDwBBAg8AQQIPAEECDwBBAg8AQQIPAEECDwBBAg8AQQIPAEECDwBBAg8AQQIP\\\n",
              "AEECDwBBAg8AQQIPAEECDwBBAg8AQQIPAEECDwBBAg8AQQIPAEECDwBBAg8AQQIPAEECDwBBAg8A\\\n",
              "QQIPAEECDwBBAg8AQQIPAEECDwBBAg8AQQIPAEECDwBBAg8AQQIPAEECDwBBAg8AQQIPAEECDwBB\\\n",
              "Ag8AQQIPAEECDwBBAg8AQWfTNE2/fQkA4Gf5ggeAIIEHgCCBB4AggQeAIIEHgCCBB4AggQeAIIEH\\\n",
              "gCCBB4AggQeAoG9axznxT8XWHQAAAABJRU5ErkJggg==\\\n",
              "\"\n",
              "  frames[6] = \"data:image/png;base64,iVBORw0KGgoAAAANSUhEUgAAAfgAAAD8CAYAAACbzrbdAAAABHNCSVQICAgIfAhkiAAAAAlwSFlz\\\n",
              "AAALEgAACxIB0t1+/AAAADh0RVh0U29mdHdhcmUAbWF0cGxvdGxpYiB2ZXJzaW9uMy4yLjIsIGh0\\\n",
              "dHA6Ly9tYXRwbG90bGliLm9yZy+WH4yJAAAEzklEQVR4nO3XMUpjUQCG0XEcNyDZQLAX61haBSxc\\\n",
              "qo2FVqYN9skCAi5ArN+s4N5KyPDNOe0P714eDz7exbIsyy8AIOX3uS8AAPw8gQeAIIEHgCCBB4Ag\\\n",
              "gQeAIIEHgCCBB4AggQeAIIEHgCCBB4CgP+e+AP++p6en4fb4+DjcHh4eps9dr9fD7evra7jt9/vh\\\n",
              "9vLyMj3z7e1tuB2Px+F2dXU13O7u7obbdrud3me2397eDrfLy8vhdjgchtvr6+v0PrP39/HxMdy+\\\n",
              "v7+H283NzfTM2Xcy+742m81wu76+Hm6n02l6n/f39+E2ez+73W64fX5+Ts9crVbD7f7+frg9Pz9P\\\n",
              "n8v/zR88AAQJPAAECTwABAk8AAQJPAAECTwABAk8AAQJPAAECTwABAk8AAQJPAAECTwABAk8AAQJ\\\n",
              "PAAECTwABAk8AAQJPAAECTwABAk8AAQJPAAECTwABAk8AAQJPAAECTwABAk8AAQJPAAECTwABAk8\\\n",
              "AAQJPAAECTwABAk8AAQJPAAECTwABAk8AAQJPAAECTwABAk8AAQJPAAECTwABAk8AAQJPAAECTwA\\\n",
              "BAk8AAQJPAAECTwABAk8AAQJPAAECTwABAk8AAQJPAAECTwABAk8AAQJPAAECTwABAk8AAQJPAAE\\\n",
              "CTwABAk8AAQJPAAECTwABAk8AAQJPAAECTwABAk8AAQJPAAECTwABAk8AAQJPAAECTwABAk8AAQJ\\\n",
              "PAAECTwABAk8AAQJPAAECTwABAk8AAQJPAAECTwABAk8AAQJPAAECTwABAk8AAQJPAAECTwABAk8\\\n",
              "AAQJPAAECTwABAk8AAQJPAAECTwABAk8AAQJPAAECTwABAk8AAQJPAAECTwABAk8AAQJPAAECTwA\\\n",
              "BAk8AAQJPAAECTwABAk8AAQJPAAECTwABAk8AAQJPAAECTwABAk8AAQJPAAECTwABAk8AAQJPAAE\\\n",
              "CTwABAk8AAQJPAAECTwABAk8AAQJPAAECTwABAk8AAQJPAAECTwABAk8AAQJPAAECTwABAk8AAQJ\\\n",
              "PAAECTwABAk8AAQJPAAECTwABAk8AAQJPAAECTwABAk8AAQJPAAECTwABAk8AAQJPAAECTwABAk8\\\n",
              "AAQJPAAECTwABAk8AAQJPAAECTwABAk8AAQJPAAECTwABAk8AAQJPAAECTwABAk8AAQJPAAECTwA\\\n",
              "BAk8AAQJPAAECTwABAk8AAQJPAAECTwABAk8AAQJPAAECTwABAk8AAQJPAAECTwABAk8AAQJPAAE\\\n",
              "CTwABAk8AAQJPAAECTwABAk8AAQJPAAECTwABAk8AAQJPAAECTwABAk8AAQJPAAECTwABAk8AAQJ\\\n",
              "PAAECTwABAk8AAQJPAAECTwABAk8AAQJPAAECTwABAk8AAQJPAAECTwABAk8AAQJPAAECTwABAk8\\\n",
              "AAQJPAAECTwABAk8AAQJPAAECTwABAk8AAQJPAAECTwABAk8AAQJPAAECTwABAk8AAQJPAAECTwA\\\n",
              "BAk8AAQJPAAECTwABAk8AAQJPAAECTwABAk8AAQJPAAECTwABAk8AAQJPAAECTwABAk8AAQJPAAE\\\n",
              "CTwABAk8AARdLMuynPsSAMDP8gcPAEECDwBBAg8AQQIPAEECDwBBAg8AQQIPAEECDwBBAg8AQQIP\\\n",
              "AEF/ARJxOfEJhCNQAAAAAElFTkSuQmCC\\\n",
              "\"\n",
              "  frames[7] = \"data:image/png;base64,iVBORw0KGgoAAAANSUhEUgAAAfgAAAD8CAYAAACbzrbdAAAABHNCSVQICAgIfAhkiAAAAAlwSFlz\\\n",
              "AAALEgAACxIB0t1+/AAAADh0RVh0U29mdHdhcmUAbWF0cGxvdGxpYiB2ZXJzaW9uMy4yLjIsIGh0\\\n",
              "dHA6Ly9tYXRwbG90bGliLm9yZy+WH4yJAAAEzElEQVR4nO3XsU0jQQCGUXMcDdgV2A04hxASJApx\\\n",
              "Se4DSBySUgAUgKgA4r0KZoITkk/fvZf+2tnRJp/2YlmWZQUApPw69wUAgJ8n8AAQJPAAECTwABAk\\\n",
              "8AAQJPAAECTwABAk8AAQJPAAECTwABD0+9wX4N93OByG28PDw3C7vr6enrter4fbx8fHcHt5eRlu\\\n",
              "j4+P03fOnv38/Bxum81muN3c3Ay32fdZrVar29vb4bbdbofb19fXcHt9fR1uT09P0/ucTqfh9v7+\\\n",
              "Ptyurq6G236/n77z/v7+r7bZuZeXl8Pt7e1tep/ZN3h+fh5us+/+/f09fedutxtud3d3w+14PE7P\\\n",
              "5f/mDx4AggQeAIIEHgCCBB4AggQeAIIEHgCCBB4AggQeAIIEHgCCBB4AggQeAIIEHgCCBB4AggQe\\\n",
              "AIIEHgCCBB4AggQeAIIEHgCCBB4AggQeAIIEHgCCBB4AggQeAIIEHgCCBB4AggQeAIIEHgCCBB4A\\\n",
              "ggQeAIIEHgCCBB4AggQeAIIEHgCCBB4AggQeAIIEHgCCBB4AggQeAIIEHgCCBB4AggQeAIIEHgCC\\\n",
              "BB4AggQeAIIEHgCCBB4AggQeAIIEHgCCBB4AggQeAIIEHgCCBB4AggQeAIIEHgCCBB4AggQeAIIE\\\n",
              "HgCCBB4AggQeAIIEHgCCBB4AggQeAIIEHgCCBB4AggQeAIIEHgCCBB4AggQeAIIEHgCCBB4AggQe\\\n",
              "AIIEHgCCBB4AggQeAIIEHgCCBB4AggQeAIIEHgCCBB4AggQeAIIEHgCCBB4AggQeAIIEHgCCBB4A\\\n",
              "ggQeAIIEHgCCBB4AggQeAIIEHgCCBB4AggQeAIIEHgCCBB4AggQeAIIEHgCCBB4AggQeAIIEHgCC\\\n",
              "BB4AggQeAIIEHgCCBB4AggQeAIIEHgCCBB4AggQeAIIEHgCCBB4AggQeAIIEHgCCBB4AggQeAIIE\\\n",
              "HgCCBB4AggQeAIIEHgCCBB4AggQeAIIEHgCCBB4AggQeAIIEHgCCBB4AggQeAIIEHgCCBB4AggQe\\\n",
              "AIIEHgCCBB4AggQeAIIEHgCCBB4AggQeAIIEHgCCBB4AggQeAIIEHgCCBB4AggQeAIIEHgCCBB4A\\\n",
              "ggQeAIIEHgCCBB4AggQeAIIEHgCCBB4AggQeAIIEHgCCBB4AggQeAIIEHgCCBB4AggQeAIIEHgCC\\\n",
              "BB4AggQeAIIEHgCCBB4AggQeAIIEHgCCBB4AggQeAIIEHgCCBB4AggQeAIIEHgCCBB4AggQeAIIE\\\n",
              "HgCCBB4AggQeAIIEHgCCBB4AggQeAIIEHgCCBB4AggQeAIIEHgCCBB4AggQeAIIEHgCCBB4AggQe\\\n",
              "AIIEHgCCBB4AggQeAIIEHgCCBB4AggQeAIIEHgCCBB4AggQeAIIEHgCCBB4AggQeAIIEHgCCBB4A\\\n",
              "ggQeAIIEHgCCBB4AggQeAIIEHgCCBB4AggQeAIIEHgCCBB4AggQeAIIEHgCCBB4AggQeAIIEHgCC\\\n",
              "BB4AggQeAIIEHgCCBB4AggQeAIIEHgCCBB4AggQeAIIEHgCCBB4AggQeAIIEHgCCBB4AggQeAIIE\\\n",
              "HgCCBB4Agi6WZVnOfQkA4Gf5gweAIIEHgCCBB4AggQeAIIEHgCCBB4AggQeAIIEHgCCBB4AggQeA\\\n",
              "oD/JBDnxMPTliQAAAABJRU5ErkJggg==\\\n",
              "\"\n",
              "  frames[8] = \"data:image/png;base64,iVBORw0KGgoAAAANSUhEUgAAAfgAAAD8CAYAAACbzrbdAAAABHNCSVQICAgIfAhkiAAAAAlwSFlz\\\n",
              "AAALEgAACxIB0t1+/AAAADh0RVh0U29mdHdhcmUAbWF0cGxvdGxpYiB2ZXJzaW9uMy4yLjIsIGh0\\\n",
              "dHA6Ly9tYXRwbG90bGliLm9yZy+WH4yJAAAEtUlEQVR4nO3XsY3iQBiAUe9pO6ADGiAn3QiJoqAm\\\n",
              "REBITAF0QAfEvgpmopU4ffde+sv22B7rk7/WdV0XACDlz6cXAAD8PoEHgCCBB4AggQeAIIEHgCCB\\\n",
              "B4AggQeAIIEHgCCBB4AggQeAoO9PL4B/3/l8Hs4Oh8Nwttvtpuf9/h5vv+fzOZzdbrfh7Hq9Tq/5\\\n",
              "eDyGs/f7PZxtt9vh7OfnZzg7Ho/T9ez3++Fss9kMZ6/Xazi73+/D2eVyma5nduzsmrO1zu5xWebP\\\n",
              "aPZsZ+9k9i5ne2BZ5ntotvdme3a215dl/q3MvrHT6TQ9L/83f/AAECTwABAk8AAQJPAAECTwABAk\\\n",
              "8AAQJPAAECTwABAk8AAQJPAAECTwABAk8AAQJPAAECTwABAk8AAQJPAAECTwABAk8AAQJPAAECTw\\\n",
              "ABAk8AAQJPAAECTwABAk8AAQJPAAECTwABAk8AAQJPAAECTwABAk8AAQJPAAECTwABAk8AAQJPAA\\\n",
              "ECTwABAk8AAQJPAAECTwABAk8AAQJPAAECTwABAk8AAQJPAAECTwABAk8AAQJPAAECTwABAk8AAQ\\\n",
              "JPAAECTwABAk8AAQJPAAECTwABAk8AAQJPAAECTwABAk8AAQJPAAECTwABAk8AAQJPAAECTwABAk\\\n",
              "8AAQJPAAECTwABAk8AAQJPAAECTwABAk8AAQJPAAECTwABAk8AAQJPAAECTwABAk8AAQJPAAECTw\\\n",
              "ABAk8AAQJPAAECTwABAk8AAQJPAAECTwABAk8AAQJPAAECTwABAk8AAQJPAAECTwABAk8AAQJPAA\\\n",
              "ECTwABAk8AAQJPAAECTwABAk8AAQJPAAECTwABAk8AAQJPAAECTwABAk8AAQJPAAECTwABAk8AAQ\\\n",
              "JPAAECTwABAk8AAQJPAAECTwABAk8AAQJPAAECTwABAk8AAQJPAAECTwABAk8AAQJPAAECTwABAk\\\n",
              "8AAQJPAAECTwABAk8AAQJPAAECTwABAk8AAQJPAAECTwABAk8AAQJPAAECTwABAk8AAQJPAAECTw\\\n",
              "ABAk8AAQJPAAECTwABAk8AAQJPAAECTwABAk8AAQJPAAECTwABAk8AAQJPAAECTwABAk8AAQJPAA\\\n",
              "ECTwABAk8AAQJPAAECTwABAk8AAQJPAAECTwABAk8AAQJPAAECTwABAk8AAQJPAAECTwABAk8AAQ\\\n",
              "JPAAECTwABAk8AAQJPAAECTwABAk8AAQJPAAECTwABAk8AAQJPAAECTwABAk8AAQJPAAECTwABAk\\\n",
              "8AAQJPAAECTwABAk8AAQJPAAECTwABAk8AAQJPAAECTwABAk8AAQJPAAECTwABAk8AAQJPAAECTw\\\n",
              "ABAk8AAQJPAAECTwABAk8AAQJPAAECTwABAk8AAQJPAAECTwABAk8AAQJPAAECTwABAk8AAQJPAA\\\n",
              "ECTwABAk8AAQJPAAECTwABAk8AAQJPAAECTwABAk8AAQJPAAECTwABAk8AAQJPAAECTwABAk8AAQ\\\n",
              "JPAAECTwABAk8AAQJPAAECTwABAk8AAQJPAAECTwABAk8AAQJPAAEPS1ruv66UUAAL/LHzwABAk8\\\n",
              "AAQJPAAECTwABAk8AAQJPAAECTwABAk8AAQJPAAECTwABP0Fgc458QHtYWIAAAAASUVORK5CYII=\\\n",
              "\"\n",
              "  frames[9] = \"data:image/png;base64,iVBORw0KGgoAAAANSUhEUgAAAfgAAAD8CAYAAACbzrbdAAAABHNCSVQICAgIfAhkiAAAAAlwSFlz\\\n",
              "AAALEgAACxIB0t1+/AAAADh0RVh0U29mdHdhcmUAbWF0cGxvdGxpYiB2ZXJzaW9uMy4yLjIsIGh0\\\n",
              "dHA6Ly9tYXRwbG90bGliLm9yZy+WH4yJAAAEzUlEQVR4nO3XsU1jQQBF0WVZNwAVQAPkJjSJJfqg\\\n",
              "JtpAODAhKeR2A3YFJv5UMH8lhMTq7jnpk2dGTq7+2TRN0y8AIOX3Tz8AAPh+Ag8AQQIPAEECDwBB\\\n",
              "Ag8AQQIPAEECDwBBAg8AQQIPAEECDwBBf376Afz7Hh8fh9vd3d1wu76+nj334+NjuL29vQ23zWYz\\\n",
              "3Lbb7eyd+/1+uJ2fnw+3m5ub4bZer7+0/e3cxWIx3Ha73XB7eXkZbs/Pz7PveX9/H26n02m4XV1d\\\n",
              "DbfVajV75/39/XC7vb0dbpeXl8PteDwOt9fX19n3PD09fem3h8NhuF1cXMzeuVwuh9vc//Pw8DB7\\\n",
              "Lv83X/AAECTwABAk8AAQJPAAECTwABAk8AAQJPAAECTwABAk8AAQJPAAECTwABAk8AAQJPAAECTw\\\n",
              "ABAk8AAQJPAAECTwABAk8AAQJPAAECTwABAk8AAQJPAAECTwABAk8AAQJPAAECTwABAk8AAQJPAA\\\n",
              "ECTwABAk8AAQJPAAECTwABAk8AAQJPAAECTwABAk8AAQJPAAECTwABAk8AAQJPAAECTwABAk8AAQ\\\n",
              "JPAAECTwABAk8AAQJPAAECTwABAk8AAQJPAAECTwABAk8AAQJPAAECTwABAk8AAQJPAAECTwABAk\\\n",
              "8AAQJPAAECTwABAk8AAQJPAAECTwABAk8AAQJPAAECTwABAk8AAQJPAAECTwABAk8AAQJPAAECTw\\\n",
              "ABAk8AAQJPAAECTwABAk8AAQJPAAECTwABAk8AAQJPAAECTwABAk8AAQJPAAECTwABAk8AAQJPAA\\\n",
              "ECTwABAk8AAQJPAAECTwABAk8AAQJPAAECTwABAk8AAQJPAAECTwABAk8AAQJPAAECTwABAk8AAQ\\\n",
              "JPAAECTwABAk8AAQJPAAECTwABAk8AAQJPAAECTwABAk8AAQJPAAECTwABAk8AAQJPAAECTwABAk\\\n",
              "8AAQJPAAECTwABAk8AAQJPAAECTwABAk8AAQJPAAECTwABAk8AAQJPAAECTwABAk8AAQJPAAECTw\\\n",
              "ABAk8AAQJPAAECTwABAk8AAQJPAAECTwABAk8AAQJPAAECTwABAk8AAQJPAAECTwABAk8AAQJPAA\\\n",
              "ECTwABAk8AAQJPAAECTwABAk8AAQJPAAECTwABAk8AAQJPAAECTwABAk8AAQJPAAECTwABAk8AAQ\\\n",
              "JPAAECTwABAk8AAQJPAAECTwABAk8AAQJPAAECTwABAk8AAQJPAAECTwABAk8AAQJPAAECTwABAk\\\n",
              "8AAQJPAAECTwABAk8AAQJPAAECTwABAk8AAQJPAAECTwABAk8AAQJPAAECTwABAk8AAQJPAAECTw\\\n",
              "ABAk8AAQJPAAECTwABAk8AAQJPAAECTwABAk8AAQJPAAECTwABAk8AAQJPAAECTwABAk8AAQJPAA\\\n",
              "ECTwABAk8AAQJPAAECTwABAk8AAQJPAAECTwABAk8AAQJPAAECTwABAk8AAQJPAAECTwABAk8AAQ\\\n",
              "JPAAECTwABAk8AAQJPAAECTwABAk8AAQJPAAECTwABAk8AAQJPAAECTwABAk8AAQJPAAECTwABAk\\\n",
              "8AAQJPAAEHQ2TdP0048AAL6XL3gACBJ4AAgSeAAIEngACBJ4AAgSeAAIEngACBJ4AAgSeAAIEngA\\\n",
              "CPoEOJQ58cdSDSIAAAAASUVORK5CYII=\\\n",
              "\"\n",
              "  frames[10] = \"data:image/png;base64,iVBORw0KGgoAAAANSUhEUgAAAfgAAAD8CAYAAACbzrbdAAAABHNCSVQICAgIfAhkiAAAAAlwSFlz\\\n",
              "AAALEgAACxIB0t1+/AAAADh0RVh0U29mdHdhcmUAbWF0cGxvdGxpYiB2ZXJzaW9uMy4yLjIsIGh0\\\n",
              "dHA6Ly9tYXRwbG90bGliLm9yZy+WH4yJAAAE2ElEQVR4nO3XMUojcRyG4XWzXkA8QCC1YCuW2igJ\\\n",
              "OaugINjENtjrBcQDBOvZE/ynErK8+zztBzM/pnmZk2mapl8AQMrvYx8AAPw8gQeAIIEHgCCBB4Ag\\\n",
              "gQeAIIEHgCCBB4AggQeAIIEHgCCBB4CgP8c+gH/fw8PDcLu+vh5u5+fns8/9+voabq+vr8Pt8fFx\\\n",
              "uO12u9l3fn5+Drezs7PhdnV1Ndw2m81wu7m5mb1ntVoNt+/v7+H29vY23J6enobb8/Pz7D0fHx/D\\\n",
              "bbFYDLeLi4vhdn9/P/vOu7u74XZ5eTncTk9Ph9v7+/twe3l5mb1n7vvt9/vhdjgchttyuZx95+3t\\\n",
              "7XBbr9fDbbvdzj6X/5s/eAAIEngACBJ4AAgSeAAIEngACBJ4AAgSeAAIEngACBJ4AAgSeAAIEngA\\\n",
              "CBJ4AAgSeAAIEngACBJ4AAgSeAAIEngACBJ4AAgSeAAIEngACBJ4AAgSeAAIEngACBJ4AAgSeAAI\\\n",
              "EngACBJ4AAgSeAAIEngACBJ4AAgSeAAIEngACBJ4AAgSeAAIEngACBJ4AAgSeAAIEngACBJ4AAgS\\\n",
              "eAAIEngACBJ4AAgSeAAIEngACBJ4AAgSeAAIEngACBJ4AAgSeAAIEngACBJ4AAgSeAAIEngACBJ4\\\n",
              "AAgSeAAIEngACBJ4AAgSeAAIEngACBJ4AAgSeAAIEngACBJ4AAgSeAAIEngACBJ4AAgSeAAIEngA\\\n",
              "CBJ4AAgSeAAIEngACBJ4AAgSeAAIEngACBJ4AAgSeAAIEngACBJ4AAgSeAAIEngACBJ4AAgSeAAI\\\n",
              "EngACBJ4AAgSeAAIEngACBJ4AAgSeAAIEngACBJ4AAgSeAAIEngACBJ4AAgSeAAIEngACBJ4AAgS\\\n",
              "eAAIEngACBJ4AAgSeAAIEngACBJ4AAgSeAAIEngACBJ4AAgSeAAIEngACBJ4AAgSeAAIEngACBJ4\\\n",
              "AAgSeAAIEngACBJ4AAgSeAAIEngACBJ4AAgSeAAIEngACBJ4AAgSeAAIEngACBJ4AAgSeAAIEngA\\\n",
              "CBJ4AAgSeAAIEngACBJ4AAgSeAAIEngACBJ4AAgSeAAIEngACBJ4AAgSeAAIEngACBJ4AAgSeAAI\\\n",
              "EngACBJ4AAgSeAAIEngACBJ4AAgSeAAIEngACBJ4AAgSeAAIEngACBJ4AAgSeAAIEngACBJ4AAgS\\\n",
              "eAAIEngACBJ4AAgSeAAIEngACBJ4AAgSeAAIEngACBJ4AAgSeAAIEngACBJ4AAgSeAAIEngACBJ4\\\n",
              "AAgSeAAIEngACBJ4AAgSeAAIEngACBJ4AAgSeAAIEngACBJ4AAgSeAAIEngACBJ4AAgSeAAIEngA\\\n",
              "CBJ4AAgSeAAIEngACBJ4AAgSeAAIEngACBJ4AAgSeAAIEngACBJ4AAgSeAAIEngACBJ4AAgSeAAI\\\n",
              "EngACBJ4AAgSeAAIEngACBJ4AAgSeAAIEngACBJ4AAgSeAAIEngACBJ4AAgSeAAIEngACBJ4AAgS\\\n",
              "eAAIEngACBJ4AAgSeAAIEngACBJ4AAgSeAAIEngACBJ4AAgSeAAIEngACBJ4AAgSeAAIEngACBJ4\\\n",
              "AAgSeAAIEngACBJ4AAgSeAAIOpmmaTr2EQDAz/IHDwBBAg8AQQIPAEECDwBBAg8AQQIPAEECDwBB\\\n",
              "Ag8AQQIPAEECDwBBfwHvAznxn4hm7QAAAABJRU5ErkJggg==\\\n",
              "\"\n",
              "  frames[11] = \"data:image/png;base64,iVBORw0KGgoAAAANSUhEUgAAAfgAAAD8CAYAAACbzrbdAAAABHNCSVQICAgIfAhkiAAAAAlwSFlz\\\n",
              "AAALEgAACxIB0t1+/AAAADh0RVh0U29mdHdhcmUAbWF0cGxvdGxpYiB2ZXJzaW9uMy4yLjIsIGh0\\\n",
              "dHA6Ly9tYXRwbG90bGliLm9yZy+WH4yJAAAE1klEQVR4nO3XMS5uYRSG0UuuAUgMQKIXpVD6G8Jo\\\n",
              "UdBRiUQr0UsMQNTHCPapJG6eu1b7Jufb3ZOztSzL8gcASNn+7QMAgJ8n8AAQJPAAECTwABAk8AAQ\\\n",
              "JPAAECTwABAk8AAQJPAAECTwABD097cP4N/39PQ0bkdHR+O2s7Oz+t23t7dxu7+/H7ebm5txe35+\\\n",
              "Xn3z8/Nz3Pb398ft7Oxs3K6ursbt9PR09Z69vb1x+/j4GLfHx8dxu76+HreHh4fVe97f38dtd3d3\\\n",
              "3E5OTsbt8vJy9c3NZjNuBwcH4/b19TVuLy8v43Z7e7t6z93d3bi9vr6O2/b2/L90eHi4+ub5+fm4\\\n",
              "XVxcjNvx8fHqd/m/+YMHgCCBB4AggQeAIIEHgCCBB4AggQeAIIEHgCCBB4AggQeAIIEHgCCBB4Ag\\\n",
              "gQeAIIEHgCCBB4AggQeAIIEHgCCBB4AggQeAIIEHgCCBB4AggQeAIIEHgCCBB4AggQeAIIEHgCCB\\\n",
              "B4AggQeAIIEHgCCBB4AggQeAIIEHgCCBB4AggQeAIIEHgCCBB4AggQeAIIEHgCCBB4AggQeAIIEH\\\n",
              "gCCBB4AggQeAIIEHgCCBB4AggQeAIIEHgCCBB4AggQeAIIEHgCCBB4AggQeAIIEHgCCBB4AggQeA\\\n",
              "IIEHgCCBB4AggQeAIIEHgCCBB4AggQeAIIEHgCCBB4AggQeAIIEHgCCBB4AggQeAIIEHgCCBB4Ag\\\n",
              "gQeAIIEHgCCBB4AggQeAIIEHgCCBB4AggQeAIIEHgCCBB4AggQeAIIEHgCCBB4AggQeAIIEHgCCB\\\n",
              "B4AggQeAIIEHgCCBB4AggQeAIIEHgCCBB4AggQeAIIEHgCCBB4AggQeAIIEHgCCBB4AggQeAIIEH\\\n",
              "gCCBB4AggQeAIIEHgCCBB4AggQeAIIEHgCCBB4AggQeAIIEHgCCBB4AggQeAIIEHgCCBB4AggQeA\\\n",
              "IIEHgCCBB4AggQeAIIEHgCCBB4AggQeAIIEHgCCBB4AggQeAIIEHgCCBB4AggQeAIIEHgCCBB4Ag\\\n",
              "gQeAIIEHgCCBB4AggQeAIIEHgCCBB4AggQeAIIEHgCCBB4AggQeAIIEHgCCBB4AggQeAIIEHgCCB\\\n",
              "B4AggQeAIIEHgCCBB4AggQeAIIEHgCCBB4AggQeAIIEHgCCBB4AggQeAIIEHgCCBB4AggQeAIIEH\\\n",
              "gCCBB4AggQeAIIEHgCCBB4AggQeAIIEHgCCBB4AggQeAIIEHgCCBB4AggQeAIIEHgCCBB4AggQeA\\\n",
              "IIEHgCCBB4AggQeAIIEHgCCBB4AggQeAIIEHgCCBB4AggQeAIIEHgCCBB4AggQeAIIEHgCCBB4Ag\\\n",
              "gQeAIIEHgCCBB4AggQeAIIEHgCCBB4AggQeAIIEHgCCBB4AggQeAIIEHgCCBB4AggQeAIIEHgCCB\\\n",
              "B4AggQeAIIEHgCCBB4AggQeAIIEHgCCBB4AggQeAIIEHgCCBB4AggQeAIIEHgCCBB4AggQeAIIEH\\\n",
              "gCCBB4AggQeAIIEHgCCBB4AggQeAIIEHgCCBB4AggQeAIIEHgCCBB4AggQeAIIEHgCCBB4AggQeA\\\n",
              "IIEHgCCBB4AggQeAIIEHgKCtZVmW3z4CAPhZ/uABIEjgASBI4AEgSOABIEjgASBI4AEgSOABIEjg\\\n",
              "ASBI4AEgSOABIOgbqCE58dY3zJwAAAAASUVORK5CYII=\\\n",
              "\"\n",
              "  frames[12] = \"data:image/png;base64,iVBORw0KGgoAAAANSUhEUgAAAfgAAAD8CAYAAACbzrbdAAAABHNCSVQICAgIfAhkiAAAAAlwSFlz\\\n",
              "AAALEgAACxIB0t1+/AAAADh0RVh0U29mdHdhcmUAbWF0cGxvdGxpYiB2ZXJzaW9uMy4yLjIsIGh0\\\n",
              "dHA6Ly9tYXRwbG90bGliLm9yZy+WH4yJAAAE10lEQVR4nO3XoUouARRG0atc7Aa7QaNgFEzCXxT0\\\n",
              "ZRURLGIUrIJYDWbBPD7BmSR42Xet+sHMaXtma1mW5Q8AkLL92wcAAD9P4AEgSOABIEjgASBI4AEg\\\n",
              "SOABIEjgASBI4AEgSOABIEjgASDo728fwL/v7e1t3A4ODsbt6+tr9bnPz8/jdnt7O253d3fj9vLy\\\n",
              "svrO7e35m/bo6Gjczs/Px+3i4mLcjo+PV+/Z2dkZt9fX13G7v78ft5ubm3F7enpavefz83Pc9vf3\\\n",
              "x+3s7Gzcrq6uVt95eno6bnt7e+P28fExbo+Pj+N2fX29es/Dw8O4vb+/j9vu7u64nZycrL7z8vJy\\\n",
              "3DabzbgdHh6uPpf/mz94AAgSeAAIEngACBJ4AAgSeAAIEngACBJ4AAgSeAAIEngACBJ4AAgSeAAI\\\n",
              "EngACBJ4AAgSeAAIEngACBJ4AAgSeAAIEngACBJ4AAgSeAAIEngACBJ4AAgSeAAIEngACBJ4AAgS\\\n",
              "eAAIEngACBJ4AAgSeAAIEngACBJ4AAgSeAAIEngACBJ4AAgSeAAIEngACBJ4AAgSeAAIEngACBJ4\\\n",
              "AAgSeAAIEngACBJ4AAgSeAAIEngACBJ4AAgSeAAIEngACBJ4AAgSeAAIEngACBJ4AAgSeAAIEngA\\\n",
              "CBJ4AAgSeAAIEngACBJ4AAgSeAAIEngACBJ4AAgSeAAIEngACBJ4AAgSeAAIEngACBJ4AAgSeAAI\\\n",
              "EngACBJ4AAgSeAAIEngACBJ4AAgSeAAIEngACBJ4AAgSeAAIEngACBJ4AAgSeAAIEngACBJ4AAgS\\\n",
              "eAAIEngACBJ4AAgSeAAIEngACBJ4AAgSeAAIEngACBJ4AAgSeAAIEngACBJ4AAgSeAAIEngACBJ4\\\n",
              "AAgSeAAIEngACBJ4AAgSeAAIEngACBJ4AAgSeAAIEngACBJ4AAgSeAAIEngACBJ4AAgSeAAIEngA\\\n",
              "CBJ4AAgSeAAIEngACBJ4AAgSeAAIEngACBJ4AAgSeAAIEngACBJ4AAgSeAAIEngACBJ4AAgSeAAI\\\n",
              "EngACBJ4AAgSeAAIEngACBJ4AAgSeAAIEngACBJ4AAgSeAAIEngACBJ4AAgSeAAIEngACBJ4AAgS\\\n",
              "eAAIEngACBJ4AAgSeAAIEngACBJ4AAgSeAAIEngACBJ4AAgSeAAIEngACBJ4AAgSeAAIEngACBJ4\\\n",
              "AAgSeAAIEngACBJ4AAgSeAAIEngACBJ4AAgSeAAIEngACBJ4AAgSeAAIEngACBJ4AAgSeAAIEngA\\\n",
              "CBJ4AAgSeAAIEngACBJ4AAgSeAAIEngACBJ4AAgSeAAIEngACBJ4AAgSeAAIEngACBJ4AAgSeAAI\\\n",
              "EngACBJ4AAgSeAAIEngACBJ4AAgSeAAIEngACBJ4AAgSeAAIEngACBJ4AAgSeAAIEngACBJ4AAgS\\\n",
              "eAAIEngACBJ4AAgSeAAIEngACBJ4AAgSeAAIEngACBJ4AAgSeAAIEngACBJ4AAgSeAAIEngACBJ4\\\n",
              "AAgSeAAIEngACBJ4AAgSeAAIEngACBJ4AAgSeAAIEngACBJ4AAgSeAAIEngACBJ4AAgSeAAIEngA\\\n",
              "CBJ4AAgSeAAIEngACBJ4AAjaWpZl+e0jAICf5Q8eAIIEHgCCBB4AggQeAIIEHgCCBB4AggQeAIIE\\\n",
              "HgCCBB4AggQeAIK+AWjLOfGsmFghAAAAAElFTkSuQmCC\\\n",
              "\"\n",
              "  frames[13] = \"data:image/png;base64,iVBORw0KGgoAAAANSUhEUgAAAfgAAAD8CAYAAACbzrbdAAAABHNCSVQICAgIfAhkiAAAAAlwSFlz\\\n",
              "AAALEgAACxIB0t1+/AAAADh0RVh0U29mdHdhcmUAbWF0cGxvdGxpYiB2ZXJzaW9uMy4yLjIsIGh0\\\n",
              "dHA6Ly9tYXRwbG90bGliLm9yZy+WH4yJAAAE1klEQVR4nO3XIUssYRiG4VUOZovdsNVgFCyCQcT9\\\n",
              "tWLQYjBZbBazQbAZrOMveCcJHm6uqz6w38fAcs/sLcuybACAlP2/vgAA8PsEHgCCBB4AggQeAIIE\\\n",
              "HgCCBB4AggQeAIIEHgCCBB4AggQeAIL+/fUF+P99fn6O29HR0bh9fHys/u7T09O43d7ejtvj4+O4\\\n",
              "vb+/r555eHg4bmdnZ+N2c3MzbpeXl+O23W5X7/P9/T1uLy8v43Z3dzdu9/f34/b6+rp6n/39+Z3/\\\n",
              "5ORk3K6ursbt+vp69czT09NxOzg4GLe3t7dxe3h4GLe1Z7fZbDbPz8/j9vX1NW7Hx8fjdnFxsXrm\\\n",
              "brcbt/Pz83Fb+/+BL3gACBJ4AAgSeAAIEngACBJ4AAgSeAAIEngACBJ4AAgSeAAIEngACBJ4AAgS\\\n",
              "eAAIEngACBJ4AAgSeAAIEngACBJ4AAgSeAAIEngACBJ4AAgSeAAIEngACBJ4AAgSeAAIEngACBJ4\\\n",
              "AAgSeAAIEngACBJ4AAgSeAAIEngACBJ4AAgSeAAIEngACBJ4AAgSeAAIEngACBJ4AAgSeAAIEngA\\\n",
              "CBJ4AAgSeAAIEngACBJ4AAgSeAAIEngACBJ4AAgSeAAIEngACBJ4AAgSeAAIEngACBJ4AAgSeAAI\\\n",
              "EngACBJ4AAgSeAAIEngACBJ4AAgSeAAIEngACBJ4AAgSeAAIEngACBJ4AAgSeAAIEngACBJ4AAgS\\\n",
              "eAAIEngACBJ4AAgSeAAIEngACBJ4AAgSeAAIEngACBJ4AAgSeAAIEngACBJ4AAgSeAAIEngACBJ4\\\n",
              "AAgSeAAIEngACBJ4AAgSeAAIEngACBJ4AAgSeAAIEngACBJ4AAgSeAAIEngACBJ4AAgSeAAIEngA\\\n",
              "CBJ4AAgSeAAIEngACBJ4AAgSeAAIEngACBJ4AAgSeAAIEngACBJ4AAgSeAAIEngACBJ4AAgSeAAI\\\n",
              "EngACBJ4AAgSeAAIEngACBJ4AAgSeAAIEngACBJ4AAgSeAAIEngACBJ4AAgSeAAIEngACBJ4AAgS\\\n",
              "eAAIEngACBJ4AAgSeAAIEngACBJ4AAgSeAAIEngACBJ4AAgSeAAIEngACBJ4AAgSeAAIEngACBJ4\\\n",
              "AAgSeAAIEngACBJ4AAgSeAAIEngACBJ4AAgSeAAIEngACBJ4AAgSeAAIEngACBJ4AAgSeAAIEngA\\\n",
              "CBJ4AAgSeAAIEngACBJ4AAgSeAAIEngACBJ4AAgSeAAIEngACBJ4AAgSeAAIEngACBJ4AAgSeAAI\\\n",
              "EngACBJ4AAgSeAAIEngACBJ4AAgSeAAIEngACBJ4AAgSeAAIEngACBJ4AAgSeAAIEngACBJ4AAgS\\\n",
              "eAAIEngACBJ4AAgSeAAIEngACBJ4AAgSeAAIEngACBJ4AAgSeAAIEngACBJ4AAgSeAAIEngACBJ4\\\n",
              "AAgSeAAIEngACBJ4AAgSeAAIEngACBJ4AAgSeAAIEngACBJ4AAgSeAAIEngACBJ4AAgSeAAIEngA\\\n",
              "CBJ4AAgSeAAIEngACBJ4AAgSeAAIEngACBJ4AAgSeAAIEngACBJ4AAgSeAAIEngACBJ4AAgSeAAI\\\n",
              "EngACBJ4AAgSeAAIEngACNpblmX560sAAL/LFzwABAk8AAQJPAAECTwABAk8AAQJPAAECTwABAk8\\\n",
              "AAQJPAAECTwABP0AHgU58cVRuyIAAAAASUVORK5CYII=\\\n",
              "\"\n",
              "  frames[14] = \"data:image/png;base64,iVBORw0KGgoAAAANSUhEUgAAAfgAAAD8CAYAAACbzrbdAAAABHNCSVQICAgIfAhkiAAAAAlwSFlz\\\n",
              "AAALEgAACxIB0t1+/AAAADh0RVh0U29mdHdhcmUAbWF0cGxvdGxpYiB2ZXJzaW9uMy4yLjIsIGh0\\\n",
              "dHA6Ly9tYXRwbG90bGliLm9yZy+WH4yJAAAE2ElEQVR4nO3XoU4jYRiG0e1mE4JD1dZgURgECgFJ\\\n",
              "y+W2CQmCBFeFqkCjsIgiZ6/gH0XSzbPn2DeZ+TLmySymaZp+AQApv099AADw8wQeAIIEHgCCBB4A\\\n",
              "ggQeAIIEHgCCBB4AggQeAIIEHgCCBB4Agv6c+gD+fd/f38Pt7OxsuL2/v88+9/n5ebhtt9vhtt/v\\\n",
              "h9vX19fsO1er1XC7u7sbbo+Pj8Pt9vZ2uC2Xy9l7Pj8/h9vr6+twm/s+Ly8vw+3j42P2nouLi+F2\\\n",
              "c3Mz3DabzXC7v7+ffefl5eVwOx6Pw+3t7W247Xa74fb09DR7z+FwGG6LxWK4XV1dDbeHh4fZd67X\\\n",
              "6+F2fX093M7Pz2efy//NHzwABAk8AAQJPAAECTwABAk8AAQJPAAECTwABAk8AAQJPAAECTwABAk8\\\n",
              "AAQJPAAECTwABAk8AAQJPAAECTwABAk8AAQJPAAECTwABAk8AAQJPAAECTwABAk8AAQJPAAECTwA\\\n",
              "BAk8AAQJPAAECTwABAk8AAQJPAAECTwABAk8AAQJPAAECTwABAk8AAQJPAAECTwABAk8AAQJPAAE\\\n",
              "CTwABAk8AAQJPAAECTwABAk8AAQJPAAECTwABAk8AAQJPAAECTwABAk8AAQJPAAECTwABAk8AAQJ\\\n",
              "PAAECTwABAk8AAQJPAAECTwABAk8AAQJPAAECTwABAk8AAQJPAAECTwABAk8AAQJPAAECTwABAk8\\\n",
              "AAQJPAAECTwABAk8AAQJPAAECTwABAk8AAQJPAAECTwABAk8AAQJPAAECTwABAk8AAQJPAAECTwA\\\n",
              "BAk8AAQJPAAECTwABAk8AAQJPAAECTwABAk8AAQJPAAECTwABAk8AAQJPAAECTwABAk8AAQJPAAE\\\n",
              "CTwABAk8AAQJPAAECTwABAk8AAQJPAAECTwABAk8AAQJPAAECTwABAk8AAQJPAAECTwABAk8AAQJ\\\n",
              "PAAECTwABAk8AAQJPAAECTwABAk8AAQJPAAECTwABAk8AAQJPAAECTwABAk8AAQJPAAECTwABAk8\\\n",
              "AAQJPAAECTwABAk8AAQJPAAECTwABAk8AAQJPAAECTwABAk8AAQJPAAECTwABAk8AAQJPAAECTwA\\\n",
              "BAk8AAQJPAAECTwABAk8AAQJPAAECTwABAk8AAQJPAAECTwABAk8AAQJPAAECTwABAk8AAQJPAAE\\\n",
              "CTwABAk8AAQJPAAECTwABAk8AAQJPAAECTwABAk8AAQJPAAECTwABAk8AAQJPAAECTwABAk8AAQJ\\\n",
              "PAAECTwABAk8AAQJPAAECTwABAk8AAQJPAAECTwABAk8AAQJPAAECTwABAk8AAQJPAAECTwABAk8\\\n",
              "AAQJPAAECTwABAk8AAQJPAAECTwABAk8AAQJPAAECTwABAk8AAQJPAAECTwABAk8AAQJPAAECTwA\\\n",
              "BAk8AAQJPAAECTwABAk8AAQJPAAECTwABAk8AAQJPAAECTwABAk8AAQJPAAECTwABAk8AAQJPAAE\\\n",
              "CTwABAk8AAQJPAAECTwABAk8AAQJPAAECTwABAk8AAQJPAAECTwABAk8AAQJPAAECTwABAk8AAQJ\\\n",
              "PAAECTwABAk8AAQJPAAECTwABC2maZpOfQQA8LP8wQNAkMADQJDAA0CQwANAkMADQJDAA0CQwANA\\\n",
              "kMADQJDAA0CQwANA0F/QhDnx56zfrAAAAABJRU5ErkJggg==\\\n",
              "\"\n",
              "  frames[15] = \"data:image/png;base64,iVBORw0KGgoAAAANSUhEUgAAAfgAAAD8CAYAAACbzrbdAAAABHNCSVQICAgIfAhkiAAAAAlwSFlz\\\n",
              "AAALEgAACxIB0t1+/AAAADh0RVh0U29mdHdhcmUAbWF0cGxvdGxpYiB2ZXJzaW9uMy4yLjIsIGh0\\\n",
              "dHA6Ly9tYXRwbG90bGliLm9yZy+WH4yJAAAE0klEQVR4nO3XoUotARSG0avcYLMZbSfZTAaTYDhy\\\n",
              "fFpFBIPBZDBarCajzeTcJ9iTBC8fa9UfZnYY+Ji9ZVmWPwBAyv5vHwAA/DyBB4AggQeAIIEHgCCB\\\n",
              "B4AggQeAIIEHgCCBB4AggQeAIIEHgKC/v30A/7/v7+9x+/r6GreXl5fV597d3Y3b/f39uL2+vq4+\\\n",
              "d83Jycm4bbfbcbu6uhq309PTcTs4OFi95+3tbdweHh7G7fb2dtyen5/H7fPzc/We4+Pjcbu4uBi3\\\n",
              "6+vrcTs/P19959HR0bh9fHyM29PT07jd3NyM2+Pj4+o97+/v43Z4eDhuZ2dn47bb7VbfeXl5OW6b\\\n",
              "zWbc9vf9ozHzdQBAkMADQJDAA0CQwANAkMADQJDAA0CQwANAkMADQJDAA0CQwANAkMADQJDAA0CQ\\\n",
              "wANAkMADQJDAA0CQwANAkMADQJDAA0CQwANAkMADQJDAA0CQwANAkMADQJDAA0CQwANAkMADQJDA\\\n",
              "A0CQwANAkMADQJDAA0CQwANAkMADQJDAA0CQwANAkMADQJDAA0CQwANAkMADQJDAA0CQwANAkMAD\\\n",
              "QJDAA0CQwANAkMADQJDAA0CQwANAkMADQJDAA0CQwANAkMADQJDAA0CQwANAkMADQJDAA0CQwANA\\\n",
              "kMADQJDAA0CQwANAkMADQJDAA0CQwANAkMADQJDAA0CQwANAkMADQJDAA0CQwANAkMADQJDAA0CQ\\\n",
              "wANAkMADQJDAA0CQwANAkMADQJDAA0CQwANAkMADQJDAA0CQwANAkMADQJDAA0CQwANAkMADQJDA\\\n",
              "A0CQwANAkMADQJDAA0CQwANAkMADQJDAA0CQwANAkMADQJDAA0CQwANAkMADQJDAA0CQwANAkMAD\\\n",
              "QJDAA0CQwANAkMADQJDAA0CQwANAkMADQJDAA0CQwANAkMADQJDAA0CQwANAkMADQJDAA0CQwANA\\\n",
              "kMADQJDAA0CQwANAkMADQJDAA0CQwANAkMADQJDAA0CQwANAkMADQJDAA0CQwANAkMADQJDAA0CQ\\\n",
              "wANAkMADQJDAA0CQwANAkMADQJDAA0CQwANAkMADQJDAA0CQwANAkMADQJDAA0CQwANAkMADQJDA\\\n",
              "A0CQwANAkMADQJDAA0CQwANAkMADQJDAA0CQwANAkMADQJDAA0CQwANAkMADQJDAA0CQwANAkMAD\\\n",
              "QJDAA0CQwANAkMADQJDAA0CQwANAkMADQJDAA0CQwANAkMADQJDAA0CQwANAkMADQJDAA0CQwANA\\\n",
              "kMADQJDAA0CQwANAkMADQJDAA0CQwANAkMADQJDAA0CQwANAkMADQJDAA0CQwANAkMADQJDAA0CQ\\\n",
              "wANAkMADQJDAA0CQwANAkMADQJDAA0CQwANAkMADQJDAA0CQwANAkMADQJDAA0CQwANAkMADQJDA\\\n",
              "A0CQwANAkMADQJDAA0CQwANAkMADQJDAA0CQwANAkMADQJDAA0CQwANAkMADQJDAA0CQwANAkMAD\\\n",
              "QJDAA0CQwANAkMADQJDAA0CQwANAkMADQJDAA0CQwANAkMADQJDAA0CQwANAkMADQJDAA0CQwANA\\\n",
              "kMADQJDAA0CQwANA0N6yLMtvHwEA/Cx/8AAQJPAAECTwABAk8AAQJPAAECTwABAk8AAQJPAAECTw\\\n",
              "ABAk8AAQ9A+D6jnxlmkVswAAAABJRU5ErkJggg==\\\n",
              "\"\n",
              "  frames[16] = \"data:image/png;base64,iVBORw0KGgoAAAANSUhEUgAAAfgAAAD8CAYAAACbzrbdAAAABHNCSVQICAgIfAhkiAAAAAlwSFlz\\\n",
              "AAALEgAACxIB0t1+/AAAADh0RVh0U29mdHdhcmUAbWF0cGxvdGxpYiB2ZXJzaW9uMy4yLjIsIGh0\\\n",
              "dHA6Ly9tYXRwbG90bGliLm9yZy+WH4yJAAAEyklEQVR4nO3XoU5jURhG0WEyAleJw6FwKAQGUdEG\\\n",
              "nhbSCgSmoqoOhaurrMNdnuBcRUJmZy375eb8budeTNM0/QEAUv7+9gEAwM8TeAAIEngACBJ4AAgS\\\n",
              "eAAIEngACBJ4AAgSeAAIEngACBJ4AAj699sH8H87nU7DbbfbzX778vIy3N7f34fb8XgcbovFYvbN\\\n",
              "+/v74fb09DTclsvlcLu5uRluX19fs/ccDofhttlshtt2ux1uHx8fs2/Oub29HW6r1Wq4rdfr4XZ3\\\n",
              "dzf75uXl5XD7/Pwcbm9vb8Pt9fV1uO33+9l7zufzcLu+vh5uj4+Pw+35+Xn2zYeHh+F2dXU1+y2M\\\n",
              "+IMHgCCBB4AggQeAIIEHgCCBB4AggQeAIIEHgCCBB4AggQeAIIEHgCCBB4AggQeAIIEHgCCBB4Ag\\\n",
              "gQeAIIEHgCCBB4AggQeAIIEHgCCBB4AggQeAIIEHgCCBB4AggQeAIIEHgCCBB4AggQeAIIEHgCCB\\\n",
              "B4AggQeAIIEHgCCBB4AggQeAIIEHgCCBB4AggQeAIIEHgCCBB4AggQeAIIEHgCCBB4AggQeAIIEH\\\n",
              "gCCBB4AggQeAIIEHgCCBB4AggQeAIIEHgCCBB4AggQeAIIEHgCCBB4AggQeAIIEHgCCBB4AggQeA\\\n",
              "IIEHgCCBB4AggQeAIIEHgCCBB4AggQeAIIEHgCCBB4AggQeAIIEHgCCBB4AggQeAIIEHgCCBB4Ag\\\n",
              "gQeAIIEHgCCBB4AggQeAIIEHgCCBB4AggQeAIIEHgCCBB4AggQeAIIEHgCCBB4AggQeAIIEHgCCB\\\n",
              "B4AggQeAIIEHgCCBB4AggQeAIIEHgCCBB4AggQeAIIEHgCCBB4AggQeAIIEHgCCBB4AggQeAIIEH\\\n",
              "gCCBB4AggQeAIIEHgCCBB4AggQeAIIEHgCCBB4AggQeAIIEHgCCBB4AggQeAIIEHgCCBB4AggQeA\\\n",
              "IIEHgCCBB4AggQeAIIEHgCCBB4AggQeAIIEHgCCBB4AggQeAIIEHgCCBB4AggQeAIIEHgCCBB4Ag\\\n",
              "gQeAIIEHgCCBB4AggQeAIIEHgCCBB4AggQeAIIEHgCCBB4AggQeAIIEHgCCBB4AggQeAIIEHgCCB\\\n",
              "B4AggQeAIIEHgCCBB4AggQeAIIEHgCCBB4AggQeAIIEHgCCBB4AggQeAIIEHgCCBB4AggQeAIIEH\\\n",
              "gCCBB4AggQeAIIEHgCCBB4AggQeAIIEHgCCBB4AggQeAIIEHgCCBB4AggQeAIIEHgCCBB4AggQeA\\\n",
              "IIEHgCCBB4AggQeAIIEHgCCBB4AggQeAIIEHgCCBB4AggQeAIIEHgCCBB4AggQeAIIEHgCCBB4Ag\\\n",
              "gQeAIIEHgCCBB4AggQeAIIEHgCCBB4AggQeAIIEHgCCBB4AggQeAIIEHgCCBB4AggQeAIIEHgCCB\\\n",
              "B4AggQeAIIEHgCCBB4AggQeAIIEHgCCBB4AggQeAIIEHgCCBB4AggQeAIIEHgCCBB4AggQeAIIEH\\\n",
              "gCCBB4AggQeAIIEHgCCBB4AggQeAIIEHgCCBB4AggQeAIIEHgCCBB4AggQeAIIEHgCCBB4AggQeA\\\n",
              "IIEHgKCLaZqm3z4CAPhZ/uABIEjgASBI4AEgSOABIEjgASBI4AEgSOABIEjgASBI4AEgSOABIOgb\\\n",
              "6DA28TvaKGgAAAAASUVORK5CYII=\\\n",
              "\"\n",
              "  frames[17] = \"data:image/png;base64,iVBORw0KGgoAAAANSUhEUgAAAfgAAAD8CAYAAACbzrbdAAAABHNCSVQICAgIfAhkiAAAAAlwSFlz\\\n",
              "AAALEgAACxIB0t1+/AAAADh0RVh0U29mdHdhcmUAbWF0cGxvdGxpYiB2ZXJzaW9uMy4yLjIsIGh0\\\n",
              "dHA6Ly9tYXRwbG90bGliLm9yZy+WH4yJAAAE0klEQVR4nO3XoUotARSG0avcYDOarKcYDSaDQTjI\\\n",
              "8WkVDYLJYLKZbEabzeTcJ9iTBC8fa9UfZnYY+Ji9ZVmWPwBAyv5vHwAA/DyBB4AggQeAIIEHgCCB\\\n",
              "B4AggQeAIIEHgCCBB4AggQeAIIEHgKC/v30A/7/v7+9xe3t7G7eHh4fV597e3o7b8/PzuH1+fo7b\\\n",
              "8fHx6jsvLi7G7fr6etzOz8/H7ejoaNw+Pj5W73l6ehq3m5ubcXt8fBy39/f3cTs8PFy95+zsbNx2\\\n",
              "u924XV5ejttms1l959fX17i9vLyM293d3bjd39+P2+vr6+o9a05OTsZtu92O29XV1epzT09Px+3g\\\n",
              "4GDc9vf9ozHzdQBAkMADQJDAA0CQwANAkMADQJDAA0CQwANAkMADQJDAA0CQwANAkMADQJDAA0CQ\\\n",
              "wANAkMADQJDAA0CQwANAkMADQJDAA0CQwANAkMADQJDAA0CQwANAkMADQJDAA0CQwANAkMADQJDA\\\n",
              "A0CQwANAkMADQJDAA0CQwANAkMADQJDAA0CQwANAkMADQJDAA0CQwANAkMADQJDAA0CQwANAkMAD\\\n",
              "QJDAA0CQwANAkMADQJDAA0CQwANAkMADQJDAA0CQwANAkMADQJDAA0CQwANAkMADQJDAA0CQwANA\\\n",
              "kMADQJDAA0CQwANAkMADQJDAA0CQwANAkMADQJDAA0CQwANAkMADQJDAA0CQwANAkMADQJDAA0CQ\\\n",
              "wANAkMADQJDAA0CQwANAkMADQJDAA0CQwANAkMADQJDAA0CQwANAkMADQJDAA0CQwANAkMADQJDA\\\n",
              "A0CQwANAkMADQJDAA0CQwANAkMADQJDAA0CQwANAkMADQJDAA0CQwANAkMADQJDAA0CQwANAkMAD\\\n",
              "QJDAA0CQwANAkMADQJDAA0CQwANAkMADQJDAA0CQwANAkMADQJDAA0CQwANAkMADQJDAA0CQwANA\\\n",
              "kMADQJDAA0CQwANAkMADQJDAA0CQwANAkMADQJDAA0CQwANAkMADQJDAA0CQwANAkMADQJDAA0CQ\\\n",
              "wANAkMADQJDAA0CQwANAkMADQJDAA0CQwANAkMADQJDAA0CQwANAkMADQJDAA0CQwANAkMADQJDA\\\n",
              "A0CQwANAkMADQJDAA0CQwANAkMADQJDAA0CQwANAkMADQJDAA0CQwANAkMADQJDAA0CQwANAkMAD\\\n",
              "QJDAA0CQwANAkMADQJDAA0CQwANAkMADQJDAA0CQwANAkMADQJDAA0CQwANAkMADQJDAA0CQwANA\\\n",
              "kMADQJDAA0CQwANAkMADQJDAA0CQwANAkMADQJDAA0CQwANAkMADQJDAA0CQwANAkMADQJDAA0CQ\\\n",
              "wANAkMADQJDAA0CQwANAkMADQJDAA0CQwANAkMADQJDAA0CQwANAkMADQJDAA0CQwANAkMADQJDA\\\n",
              "A0CQwANAkMADQJDAA0CQwANAkMADQJDAA0CQwANAkMADQJDAA0CQwANAkMADQJDAA0CQwANAkMAD\\\n",
              "QJDAA0CQwANAkMADQJDAA0CQwANAkMADQJDAA0CQwANAkMADQJDAA0CQwANAkMADQJDAA0CQwANA\\\n",
              "kMADQJDAA0CQwANA0N6yLMtvHwEA/Cx/8AAQJPAAECTwABAk8AAQJPAAECTwABAk8AAQJPAAECTw\\\n",
              "ABAk8AAQ9A/kyznxnZ0PdQAAAABJRU5ErkJggg==\\\n",
              "\"\n",
              "  frames[18] = \"data:image/png;base64,iVBORw0KGgoAAAANSUhEUgAAAfgAAAD8CAYAAACbzrbdAAAABHNCSVQICAgIfAhkiAAAAAlwSFlz\\\n",
              "AAALEgAACxIB0t1+/AAAADh0RVh0U29mdHdhcmUAbWF0cGxvdGxpYiB2ZXJzaW9uMy4yLjIsIGh0\\\n",
              "dHA6Ly9tYXRwbG90bGliLm9yZy+WH4yJAAAE2ElEQVR4nO3coU4jYRiG0WWzBgQWVV2BQtWRIJqQ\\\n",
              "0MulJCBQFZiqWgy2CtegZq/gH0XC5tlz7JvMfKl5MqZn0zRNvwCAlN8/fQAA8P0EHgCCBB4AggQe\\\n",
              "AIIEHgCCBB4AggQeAIIEHgCCBB4AggQeAIL+/PQB/PtOp9Nw2+/3w+3p6Wn2uc/Pz8PtcDgMt7l/\\\n",
              "V76+vp595/39/XB7eHgYbjc3N8Pt4uJiuL2/v8/e8/LyMty22+1we3t7G26fn5/DbbFYzN5zd3c3\\\n",
              "3DabzXC7vb0dbldXV7PvPB6Pw2232w23x8fH4fb6+jrcPj4+Zu+5vLwcbqvVarjN/T7r9Xr2ncvl\\\n",
              "crh9fX0Nt/Pz89nn8n/zBQ8AQQIPAEECDwBBAg8AQQIPAEECDwBBAg8AQQIPAEECDwBBAg8AQQIP\\\n",
              "AEECDwBBAg8AQQIPAEECDwBBAg8AQQIPAEECDwBBAg8AQQIPAEECDwBBAg8AQQIPAEECDwBBAg8A\\\n",
              "QQIPAEECDwBBAg8AQQIPAEECDwBBAg8AQQIPAEECDwBBAg8AQQIPAEECDwBBAg8AQQIPAEECDwBB\\\n",
              "Ag8AQQIPAEECDwBBAg8AQQIPAEECDwBBAg8AQQIPAEECDwBBAg8AQQIPAEECDwBBAg8AQQIPAEEC\\\n",
              "DwBBAg8AQQIPAEECDwBBAg8AQQIPAEECDwBBAg8AQQIPAEECDwBBAg8AQQIPAEECDwBBAg8AQQIP\\\n",
              "AEECDwBBAg8AQQIPAEECDwBBAg8AQQIPAEECDwBBAg8AQQIPAEECDwBBAg8AQQIPAEECDwBBAg8A\\\n",
              "QQIPAEECDwBBAg8AQQIPAEECDwBBAg8AQQIPAEECDwBBAg8AQQIPAEECDwBBAg8AQQIPAEECDwBB\\\n",
              "Ag8AQQIPAEECDwBBAg8AQQIPAEECDwBBAg8AQQIPAEECDwBBAg8AQQIPAEECDwBBAg8AQQIPAEEC\\\n",
              "DwBBAg8AQQIPAEECDwBBAg8AQQIPAEECDwBBAg8AQQIPAEECDwBBAg8AQQIPAEECDwBBAg8AQQIP\\\n",
              "AEECDwBBAg8AQQIPAEECDwBBAg8AQQIPAEECDwBBAg8AQQIPAEECDwBBAg8AQQIPAEECDwBBAg8A\\\n",
              "QQIPAEECDwBBAg8AQQIPAEECDwBBAg8AQQIPAEECDwBBAg8AQQIPAEECDwBBAg8AQQIPAEECDwBB\\\n",
              "Ag8AQQIPAEECDwBBAg8AQQIPAEECDwBBAg8AQQIPAEECDwBBAg8AQQIPAEECDwBBAg8AQQIPAEEC\\\n",
              "DwBBAg8AQQIPAEECDwBBAg8AQQIPAEECDwBBAg8AQQIPAEECDwBBAg8AQQIPAEECDwBBAg8AQQIP\\\n",
              "AEECDwBBAg8AQQIPAEECDwBBAg8AQQIPAEECDwBBAg8AQQIPAEECDwBBAg8AQQIPAEECDwBBAg8A\\\n",
              "QQIPAEECDwBBAg8AQQIPAEECDwBBAg8AQQIPAEECDwBBAg8AQQIPAEECDwBBAg8AQQIPAEECDwBB\\\n",
              "Ag8AQQIPAEECDwBBAg8AQQIPAEECDwBBAg8AQQIPAEECDwBBAg8AQQIPAEECDwBBAg8AQQIPAEEC\\\n",
              "DwBBAg8AQQIPAEECDwBBAg8AQWfTNE0/fQQA8L18wQNAkMADQJDAA0CQwANAkMADQJDAA0CQwANA\\\n",
              "kMADQJDAA0CQwANA0F+wCjzxf8rUcQAAAABJRU5ErkJggg==\\\n",
              "\"\n",
              "  frames[19] = \"data:image/png;base64,iVBORw0KGgoAAAANSUhEUgAAAfgAAAD8CAYAAACbzrbdAAAABHNCSVQICAgIfAhkiAAAAAlwSFlz\\\n",
              "AAALEgAACxIB0t1+/AAAADh0RVh0U29mdHdhcmUAbWF0cGxvdGxpYiB2ZXJzaW9uMy4yLjIsIGh0\\\n",
              "dHA6Ly9tYXRwbG90bGliLm9yZy+WH4yJAAAE2ElEQVR4nO3XoU4jYRiG0WWzCoEjQVTX4DBVCEwR\\\n",
              "pFdLQxAkmCbIiloEvgZdwewV/KNI2Dx7jn2TmS9NmidzNk3T9AsASPn90wcAAN9P4AEgSOABIEjg\\\n",
              "ASBI4AEgSOABIEjgASBI4AEgSOABIEjgASDoz08fwL/veDwOt91uN9weHx9nn/v6+jrcPj4+htvF\\\n",
              "xcVwW61Ws+98eHgYbuv1ergtl8vhdjqdhtt+v5+95+npabg9Pz8Pt8PhMNy+vr6G2/X19ew99/f3\\\n",
              "w23ut7u5uRlu5+fns+98f38fbi8vL8Ntu90Ot7e3t+H2+fk5e89isRhud3d3w22z2Qy329vb2Xde\\\n",
              "XV0Nt7n/3+Xl5exz+b/5ggeAIIEHgCCBB4AggQeAIIEHgCCBB4AggQeAIIEHgCCBB4AggQeAIIEH\\\n",
              "gCCBB4AggQeAIIEHgCCBB4AggQeAIIEHgCCBB4AggQeAIIEHgCCBB4AggQeAIIEHgCCBB4AggQeA\\\n",
              "IIEHgCCBB4AggQeAIIEHgCCBB4AggQeAIIEHgCCBB4AggQeAIIEHgCCBB4AggQeAIIEHgCCBB4Ag\\\n",
              "gQeAIIEHgCCBB4AggQeAIIEHgCCBB4AggQeAIIEHgCCBB4AggQeAIIEHgCCBB4AggQeAIIEHgCCB\\\n",
              "B4AggQeAIIEHgCCBB4AggQeAIIEHgCCBB4AggQeAIIEHgCCBB4AggQeAIIEHgCCBB4AggQeAIIEH\\\n",
              "gCCBB4AggQeAIIEHgCCBB4AggQeAIIEHgCCBB4AggQeAIIEHgCCBB4AggQeAIIEHgCCBB4AggQeA\\\n",
              "IIEHgCCBB4AggQeAIIEHgCCBB4AggQeAIIEHgCCBB4AggQeAIIEHgCCBB4AggQeAIIEHgCCBB4Ag\\\n",
              "gQeAIIEHgCCBB4AggQeAIIEHgCCBB4AggQeAIIEHgCCBB4AggQeAIIEHgCCBB4AggQeAIIEHgCCB\\\n",
              "B4AggQeAIIEHgCCBB4AggQeAIIEHgCCBB4AggQeAIIEHgCCBB4AggQeAIIEHgCCBB4AggQeAIIEH\\\n",
              "gCCBB4AggQeAIIEHgCCBB4AggQeAIIEHgCCBB4AggQeAIIEHgCCBB4AggQeAIIEHgCCBB4AggQeA\\\n",
              "IIEHgCCBB4AggQeAIIEHgCCBB4AggQeAIIEHgCCBB4AggQeAIIEHgCCBB4AggQeAIIEHgCCBB4Ag\\\n",
              "gQeAIIEHgCCBB4AggQeAIIEHgCCBB4AggQeAIIEHgCCBB4AggQeAIIEHgCCBB4AggQeAIIEHgCCB\\\n",
              "B4AggQeAIIEHgCCBB4AggQeAIIEHgCCBB4AggQeAIIEHgCCBB4AggQeAIIEHgCCBB4AggQeAIIEH\\\n",
              "gCCBB4AggQeAIIEHgCCBB4AggQeAIIEHgCCBB4AggQeAIIEHgCCBB4AggQeAIIEHgCCBB4AggQeA\\\n",
              "IIEHgCCBB4AggQeAIIEHgCCBB4AggQeAIIEHgCCBB4AggQeAIIEHgCCBB4AggQeAIIEHgCCBB4Ag\\\n",
              "gQeAIIEHgCCBB4AggQeAIIEHgCCBB4AggQeAIIEHgCCBB4AggQeAIIEHgCCBB4AggQeAIIEHgCCB\\\n",
              "B4AggQeAIIEHgCCBB4AggQeAoLNpmqafPgIA+F6+4AEgSOABIEjgASBI4AEgSOABIEjgASBI4AEg\\\n",
              "SOABIEjgASBI4AEg6C/+JDzxCAvzsQAAAABJRU5ErkJggg==\\\n",
              "\"\n",
              "  frames[20] = \"data:image/png;base64,iVBORw0KGgoAAAANSUhEUgAAAfgAAAD8CAYAAACbzrbdAAAABHNCSVQICAgIfAhkiAAAAAlwSFlz\\\n",
              "AAALEgAACxIB0t1+/AAAADh0RVh0U29mdHdhcmUAbWF0cGxvdGxpYiB2ZXJzaW9uMy4yLjIsIGh0\\\n",
              "dHA6Ly9tYXRwbG90bGliLm9yZy+WH4yJAAAE2ElEQVR4nO3XoUpmYRSG0XGYJpgNVhGsglEsP4jo\\\n",
              "zSpoEUyCUTBqsBvsBs9cwT5JcHhmrfrC+XZ7OFvLsiy/AICU3z99AADw/QQeAIIEHgCCBB4AggQe\\\n",
              "AIIEHgCCBB4AggQeAIIEHgCCBB4Agv789AH8+15eXsbt7u5u3K6vr1e/+/j4OG4fHx/jtre3N26n\\\n",
              "p6erb15eXo7bycnJuO3u7o7b+/v7uD08PKzec3V1NW739/fj9vb2Nm47Ozvjdnx8vHrPxcXFuG02\\\n",
              "m3E7ODgYt8/Pz9U3n56exu3m5mbcbm9vx+35+Xncvr6+Vu85PDwct7Ozs3E7Pz8ft6Ojo9U3t7e3\\\n",
              "x+319XXc9vf3V7/L/80fPAAECTwABAk8AAQJPAAECTwABAk8AAQJPAAECTwABAk8AAQJPAAECTwA\\\n",
              "BAk8AAQJPAAECTwABAk8AAQJPAAECTwABAk8AAQJPAAECTwABAk8AAQJPAAECTwABAk8AAQJPAAE\\\n",
              "CTwABAk8AAQJPAAECTwABAk8AAQJPAAECTwABAk8AAQJPAAECTwABAk8AAQJPAAECTwABAk8AAQJ\\\n",
              "PAAECTwABAk8AAQJPAAECTwABAk8AAQJPAAECTwABAk8AAQJPAAECTwABAk8AAQJPAAECTwABAk8\\\n",
              "AAQJPAAECTwABAk8AAQJPAAECTwABAk8AAQJPAAECTwABAk8AAQJPAAECTwABAk8AAQJPAAECTwA\\\n",
              "BAk8AAQJPAAECTwABAk8AAQJPAAECTwABAk8AAQJPAAECTwABAk8AAQJPAAECTwABAk8AAQJPAAE\\\n",
              "CTwABAk8AAQJPAAECTwABAk8AAQJPAAECTwABAk8AAQJPAAECTwABAk8AAQJPAAECTwABAk8AAQJ\\\n",
              "PAAECTwABAk8AAQJPAAECTwABAk8AAQJPAAECTwABAk8AAQJPAAECTwABAk8AAQJPAAECTwABAk8\\\n",
              "AAQJPAAECTwABAk8AAQJPAAECTwABAk8AAQJPAAECTwABAk8AAQJPAAECTwABAk8AAQJPAAECTwA\\\n",
              "BAk8AAQJPAAECTwABAk8AAQJPAAECTwABAk8AAQJPAAECTwABAk8AAQJPAAECTwABAk8AAQJPAAE\\\n",
              "CTwABAk8AAQJPAAECTwABAk8AAQJPAAECTwABAk8AAQJPAAECTwABAk8AAQJPAAECTwABAk8AAQJ\\\n",
              "PAAECTwABAk8AAQJPAAECTwABAk8AAQJPAAECTwABAk8AAQJPAAECTwABAk8AAQJPAAECTwABAk8\\\n",
              "AAQJPAAECTwABAk8AAQJPAAECTwABAk8AAQJPAAECTwABAk8AAQJPAAECTwABAk8AAQJPAAECTwA\\\n",
              "BAk8AAQJPAAECTwABAk8AAQJPAAECTwABAk8AAQJPAAECTwABAk8AAQJPAAECTwABAk8AAQJPAAE\\\n",
              "CTwABAk8AAQJPAAECTwABAk8AAQJPAAECTwABAk8AAQJPAAECTwABAk8AAQJPAAECTwABAk8AAQJ\\\n",
              "PAAECTwABAk8AAQJPAAECTwABAk8AAQJPAAECTwABAk8AAQJPAAECTwABAk8AAQJPAAECTwABAk8\\\n",
              "AAQJPAAECTwABAk8AAQJPAAEbS3Lsvz0EQDA9/IHDwBBAg8AQQIPAEECDwBBAg8AQQIPAEECDwBB\\\n",
              "Ag8AQQIPAEECDwBBfwFJfTzx1/jphwAAAABJRU5ErkJggg==\\\n",
              "\"\n",
              "  frames[21] = \"data:image/png;base64,iVBORw0KGgoAAAANSUhEUgAAAfgAAAD8CAYAAACbzrbdAAAABHNCSVQICAgIfAhkiAAAAAlwSFlz\\\n",
              "AAALEgAACxIB0t1+/AAAADh0RVh0U29mdHdhcmUAbWF0cGxvdGxpYiB2ZXJzaW9uMy4yLjIsIGh0\\\n",
              "dHA6Ly9tYXRwbG90bGliLm9yZy+WH4yJAAAE10lEQVR4nO3XMUoeYRSG0RjSiQsQ7AVbQay0+y3U\\\n",
              "1SraaKlYir3gAgQXIDhZwZ1KMDw5p31hvts9zNayLMsvACDl908fAAB8P4EHgCCBB4AggQeAIIEH\\\n",
              "gCCBB4AggQeAIIEHgCCBB4AggQeAoD8/fQD/vqenp3G7ubkZt9vb29Xvvry8jNvX19e4HRwcjNvZ\\\n",
              "2dnqm+fn5+N2eHg4btvb2+P2+vo6bnd3d6v3XF9fj9vj4+O4fXx8jNve3t64nZ6ert5zeXk5bicn\\\n",
              "J+O2u7s7bu/v76tvPjw8jNvV1dW43d/fj9vb29u47ezsrN5zdHQ0bhcXF+O22WzGbX9/f/XNz8/P\\\n",
              "cXt+fh634+Pj1e/yf/MHDwBBAg8AQQIPAEECDwBBAg8AQQIPAEECDwBBAg8AQQIPAEECDwBBAg8A\\\n",
              "QQIPAEECDwBBAg8AQQIPAEECDwBBAg8AQQIPAEECDwBBAg8AQQIPAEECDwBBAg8AQQIPAEECDwBB\\\n",
              "Ag8AQQIPAEECDwBBAg8AQQIPAEECDwBBAg8AQQIPAEECDwBBAg8AQQIPAEECDwBBAg8AQQIPAEEC\\\n",
              "DwBBAg8AQQIPAEECDwBBAg8AQQIPAEECDwBBAg8AQQIPAEECDwBBAg8AQQIPAEECDwBBAg8AQQIP\\\n",
              "AEECDwBBAg8AQQIPAEECDwBBAg8AQQIPAEECDwBBAg8AQQIPAEECDwBBAg8AQQIPAEECDwBBAg8A\\\n",
              "QQIPAEECDwBBAg8AQQIPAEECDwBBAg8AQQIPAEECDwBBAg8AQQIPAEECDwBBAg8AQQIPAEECDwBB\\\n",
              "Ag8AQQIPAEECDwBBAg8AQQIPAEECDwBBAg8AQQIPAEECDwBBAg8AQQIPAEECDwBBAg8AQQIPAEEC\\\n",
              "DwBBAg8AQQIPAEECDwBBAg8AQQIPAEECDwBBAg8AQQIPAEECDwBBAg8AQQIPAEECDwBBAg8AQQIP\\\n",
              "AEECDwBBAg8AQQIPAEECDwBBAg8AQQIPAEECDwBBAg8AQQIPAEECDwBBAg8AQQIPAEECDwBBAg8A\\\n",
              "QQIPAEECDwBBAg8AQQIPAEECDwBBAg8AQQIPAEECDwBBAg8AQQIPAEECDwBBAg8AQQIPAEECDwBB\\\n",
              "Ag8AQQIPAEECDwBBAg8AQQIPAEECDwBBAg8AQQIPAEECDwBBAg8AQQIPAEECDwBBAg8AQQIPAEEC\\\n",
              "DwBBAg8AQQIPAEECDwBBAg8AQQIPAEECDwBBAg8AQQIPAEECDwBBAg8AQQIPAEECDwBBAg8AQQIP\\\n",
              "AEECDwBBAg8AQQIPAEECDwBBAg8AQQIPAEECDwBBAg8AQQIPAEECDwBBAg8AQQIPAEECDwBBAg8A\\\n",
              "QQIPAEECDwBBAg8AQQIPAEECDwBBAg8AQQIPAEECDwBBAg8AQQIPAEECDwBBAg8AQQIPAEECDwBB\\\n",
              "Ag8AQQIPAEECDwBBAg8AQQIPAEECDwBBAg8AQQIPAEECDwBBAg8AQQIPAEECDwBBAg8AQQIPAEEC\\\n",
              "DwBBAg8AQQIPAEECDwBBAg8AQQIPAEECDwBBAg8AQQIPAEECDwBBAg8AQQIPAEECDwBBAg8AQQIP\\\n",
              "AEECDwBBAg8AQQIPAEECDwBBW8uyLD99BADwvfzBA0CQwANAkMADQJDAA0CQwANAkMADQJDAA0CQ\\\n",
              "wANAkMADQJDAA0DQX4k/PPFNtYkmAAAAAElFTkSuQmCC\\\n",
              "\"\n",
              "  frames[22] = \"data:image/png;base64,iVBORw0KGgoAAAANSUhEUgAAAfgAAAD8CAYAAACbzrbdAAAABHNCSVQICAgIfAhkiAAAAAlwSFlz\\\n",
              "AAALEgAACxIB0t1+/AAAADh0RVh0U29mdHdhcmUAbWF0cGxvdGxpYiB2ZXJzaW9uMy4yLjIsIGh0\\\n",
              "dHA6Ly9tYXRwbG90bGliLm9yZy+WH4yJAAAE2ElEQVR4nO3XMUojcRyG4XXZTjyAeIGkF1ttBEEh\\\n",
              "Zw0J2mgZbAPWggcQLxBk9gT/qYQs7z5P+8HMj2le5mSapukXAJDy+9gHAAA/T+ABIEjgASBI4AEg\\\n",
              "SOABIEjgASBI4AEgSOABIEjgASBI4AEg6M+xD+Dft16vh9t2ux1uz8/Ps8/9+PgYbmdnZ8Pt6upq\\\n",
              "uN3f38++8/b2drgtl8vhdjgchtt+vx9uT09Ps/c8Pj4Ot7e3t+H2/f093BaLxXC7u7ubvWfu+11e\\\n",
              "Xg6309PT4fb+/j77zpeXl+G22WyG2+vr63D7+voabhcXF7P33NzcDLeHh4fhdn19PdzOz89n3/n5\\\n",
              "+TncdrvdcFutVrPP5f/mDx4AggQeAIIEHgCCBB4AggQeAIIEHgCCBB4AggQeAIIEHgCCBB4AggQe\\\n",
              "AIIEHgCCBB4AggQeAIIEHgCCBB4AggQeAIIEHgCCBB4AggQeAIIEHgCCBB4AggQeAIIEHgCCBB4A\\\n",
              "ggQeAIIEHgCCBB4AggQeAIIEHgCCBB4AggQeAIIEHgCCBB4AggQeAIIEHgCCBB4AggQeAIIEHgCC\\\n",
              "BB4AggQeAIIEHgCCBB4AggQeAIIEHgCCBB4AggQeAIIEHgCCBB4AggQeAIIEHgCCBB4AggQeAIIE\\\n",
              "HgCCBB4AggQeAIIEHgCCBB4AggQeAIIEHgCCBB4AggQeAIIEHgCCBB4AggQeAIIEHgCCBB4AggQe\\\n",
              "AIIEHgCCBB4AggQeAIIEHgCCBB4AggQeAIIEHgCCBB4AggQeAIIEHgCCBB4AggQeAIIEHgCCBB4A\\\n",
              "ggQeAIIEHgCCBB4AggQeAIIEHgCCBB4AggQeAIIEHgCCBB4AggQeAIIEHgCCBB4AggQeAIIEHgCC\\\n",
              "BB4AggQeAIIEHgCCBB4AggQeAIIEHgCCBB4AggQeAIIEHgCCBB4AggQeAIIEHgCCBB4AggQeAIIE\\\n",
              "HgCCBB4AggQeAIIEHgCCBB4AggQeAIIEHgCCBB4AggQeAIIEHgCCBB4AggQeAIIEHgCCBB4AggQe\\\n",
              "AIIEHgCCBB4AggQeAIIEHgCCBB4AggQeAIIEHgCCBB4AggQeAIIEHgCCBB4AggQeAIIEHgCCBB4A\\\n",
              "ggQeAIIEHgCCBB4AggQeAIIEHgCCBB4AggQeAIIEHgCCBB4AggQeAIIEHgCCBB4AggQeAIIEHgCC\\\n",
              "BB4AggQeAIIEHgCCBB4AggQeAIIEHgCCBB4AggQeAIIEHgCCBB4AggQeAIIEHgCCBB4AggQeAIIE\\\n",
              "HgCCBB4AggQeAIIEHgCCBB4AggQeAIIEHgCCBB4AggQeAIIEHgCCBB4AggQeAIIEHgCCBB4AggQe\\\n",
              "AIIEHgCCBB4AggQeAIIEHgCCBB4AggQeAIIEHgCCBB4AggQeAIIEHgCCBB4AggQeAIIEHgCCBB4A\\\n",
              "ggQeAIIEHgCCBB4AggQeAIIEHgCCBB4AggQeAIIEHgCCBB4AggQeAIIEHgCCBB4AggQeAIIEHgCC\\\n",
              "BB4AggQeAIIEHgCCBB4AggQeAIIEHgCCBB4AggQeAIIEHgCCBB4AggQeAIIEHgCCBB4AggQeAIIE\\\n",
              "HgCCBB4AggQeAIIEHgCCBB4Agk6maZqOfQQA8LP8wQNAkMADQJDAA0CQwANAkMADQJDAA0CQwANA\\\n",
              "kMADQJDAA0CQwANA0F/QjTzxSCrI7QAAAABJRU5ErkJggg==\\\n",
              "\"\n",
              "  frames[23] = \"data:image/png;base64,iVBORw0KGgoAAAANSUhEUgAAAfgAAAD8CAYAAACbzrbdAAAABHNCSVQICAgIfAhkiAAAAAlwSFlz\\\n",
              "AAALEgAACxIB0t1+/AAAADh0RVh0U29mdHdhcmUAbWF0cGxvdGxpYiB2ZXJzaW9uMy4yLjIsIGh0\\\n",
              "dHA6Ly9tYXRwbG90bGliLm9yZy+WH4yJAAAE0klEQVR4nO3XsU1jQQBFUbPazFSAGzA5pIQmsOU2\\\n",
              "qIk+LJFAiHMawBVAA8j6W8H8YIXE6u456ZNnRk6u/sU0TdMCAEj59dMPAAC+n8ADQJDAA0CQwANA\\\n",
              "kMADQJDAA0CQwANAkMADQJDAA0CQwANA0O+ffgD/vsfHx+F2OByG2/F4nD338/NzuK1Wq+F2d3c3\\\n",
              "3Pb7/eydc7+9uroabh8fH8Pt9fV1uM39P4vFYvHy8jLcTqfTcLu8vBxuNzc3w223282+Z7PZDLfr\\\n",
              "6+vh9vX1Ndze3t5m73x6evqrbe7c8/k83Nbr9ex77u/vh9t2ux1ut7e3w225XM7e+f7+Ptyen5+H\\\n",
              "28PDw+y5/N98wQNAkMADQJDAA0CQwANAkMADQJDAA0CQwANAkMADQJDAA0CQwANAkMADQJDAA0CQ\\\n",
              "wANAkMADQJDAA0CQwANAkMADQJDAA0CQwANAkMADQJDAA0CQwANAkMADQJDAA0CQwANAkMADQJDA\\\n",
              "A0CQwANAkMADQJDAA0CQwANAkMADQJDAA0CQwANAkMADQJDAA0CQwANAkMADQJDAA0CQwANAkMAD\\\n",
              "QJDAA0CQwANAkMADQJDAA0CQwANAkMADQJDAA0CQwANAkMADQJDAA0CQwANAkMADQJDAA0CQwANA\\\n",
              "kMADQJDAA0CQwANAkMADQJDAA0CQwANAkMADQJDAA0CQwANAkMADQJDAA0CQwANAkMADQJDAA0CQ\\\n",
              "wANAkMADQJDAA0CQwANAkMADQJDAA0CQwANAkMADQJDAA0CQwANAkMADQJDAA0CQwANAkMADQJDA\\\n",
              "A0CQwANAkMADQJDAA0CQwANAkMADQJDAA0CQwANAkMADQJDAA0CQwANAkMADQJDAA0CQwANAkMAD\\\n",
              "QJDAA0CQwANAkMADQJDAA0CQwANAkMADQJDAA0CQwANAkMADQJDAA0CQwANAkMADQJDAA0CQwANA\\\n",
              "kMADQJDAA0CQwANAkMADQJDAA0CQwANAkMADQJDAA0CQwANAkMADQJDAA0CQwANAkMADQJDAA0CQ\\\n",
              "wANAkMADQJDAA0CQwANAkMADQJDAA0CQwANAkMADQJDAA0CQwANAkMADQJDAA0CQwANAkMADQJDA\\\n",
              "A0CQwANAkMADQJDAA0CQwANAkMADQJDAA0CQwANAkMADQJDAA0CQwANAkMADQJDAA0CQwANAkMAD\\\n",
              "QJDAA0CQwANAkMADQJDAA0CQwANAkMADQJDAA0CQwANAkMADQJDAA0CQwANAkMADQJDAA0CQwANA\\\n",
              "kMADQJDAA0CQwANAkMADQJDAA0CQwANAkMADQJDAA0CQwANAkMADQJDAA0CQwANAkMADQJDAA0CQ\\\n",
              "wANAkMADQJDAA0CQwANAkMADQJDAA0CQwANAkMADQJDAA0CQwANAkMADQJDAA0CQwANAkMADQJDA\\\n",
              "A0CQwANAkMADQJDAA0CQwANAkMADQJDAA0CQwANAkMADQJDAA0CQwANAkMADQJDAA0CQwANAkMAD\\\n",
              "QJDAA0CQwANAkMADQJDAA0CQwANAkMADQJDAA0CQwANAkMADQJDAA0CQwANAkMADQJDAA0CQwANA\\\n",
              "kMADQJDAA0CQwANA0MU0TdNPPwIA+F6+4AEgSOABIEjgASBI4AEgSOABIEjgASBI4AEgSOABIEjg\\\n",
              "ASBI4AEg6A8aTjzx8U2JyQAAAABJRU5ErkJggg==\\\n",
              "\"\n",
              "  frames[24] = \"data:image/png;base64,iVBORw0KGgoAAAANSUhEUgAAAfgAAAD8CAYAAACbzrbdAAAABHNCSVQICAgIfAhkiAAAAAlwSFlz\\\n",
              "AAALEgAACxIB0t1+/AAAADh0RVh0U29mdHdhcmUAbWF0cGxvdGxpYiB2ZXJzaW9uMy4yLjIsIGh0\\\n",
              "dHA6Ly9tYXRwbG90bGliLm9yZy+WH4yJAAAEt0lEQVR4nO3XsY3iQBiAUe9pMzqgAwogJiRA1LRb\\\n",
              "FBIRKTkN0AEdIPkqmIlW2tN376W/bI/tsT75Y13XdQEAUv789gIAgJ8n8AAQJPAAECTwABAk8AAQ\\\n",
              "JPAAECTwABAk8AAQJPAAECTwABD0+dsL4N/3/f09nF2v1+Hs8XhMz/t+v4ez3W43nB2Px+HsdDpN\\\n",
              "r7nf74ezzWYznD2fz+HsdrsNZ5fLZbqe+/0+nL1er+Fsu90OZ4fDYTg7n8/T9cyOnV1zttbZPS7L\\\n",
              "/BnNnu3sncze5WwPLMt8D8323mzPzvb6ssy/ldk39vX1NT0v/zd/8AAQJPAAECTwABAk8AAQJPAA\\\n",
              "ECTwABAk8AAQJPAAECTwABAk8AAQJPAAECTwABAk8AAQJPAAECTwABAk8AAQJPAAECTwABAk8AAQ\\\n",
              "JPAAECTwABAk8AAQJPAAECTwABAk8AAQJPAAECTwABAk8AAQJPAAECTwABAk8AAQJPAAECTwABAk\\\n",
              "8AAQJPAAECTwABAk8AAQJPAAECTwABAk8AAQJPAAECTwABAk8AAQJPAAECTwABAk8AAQJPAAECTw\\\n",
              "ABAk8AAQJPAAECTwABAk8AAQJPAAECTwABAk8AAQJPAAECTwABAk8AAQJPAAECTwABAk8AAQJPAA\\\n",
              "ECTwABAk8AAQJPAAECTwABAk8AAQJPAAECTwABAk8AAQJPAAECTwABAk8AAQJPAAECTwABAk8AAQ\\\n",
              "JPAAECTwABAk8AAQJPAAECTwABAk8AAQJPAAECTwABAk8AAQJPAAECTwABAk8AAQJPAAECTwABAk\\\n",
              "8AAQJPAAECTwABAk8AAQJPAAECTwABAk8AAQJPAAECTwABAk8AAQJPAAECTwABAk8AAQJPAAECTw\\\n",
              "ABAk8AAQJPAAECTwABAk8AAQJPAAECTwABAk8AAQJPAAECTwABAk8AAQJPAAECTwABAk8AAQJPAA\\\n",
              "ECTwABAk8AAQJPAAECTwABAk8AAQJPAAECTwABAk8AAQJPAAECTwABAk8AAQJPAAECTwABAk8AAQ\\\n",
              "JPAAECTwABAk8AAQJPAAECTwABAk8AAQJPAAECTwABAk8AAQJPAAECTwABAk8AAQJPAAECTwABAk\\\n",
              "8AAQJPAAECTwABAk8AAQJPAAECTwABAk8AAQJPAAECTwABAk8AAQJPAAECTwABAk8AAQJPAAECTw\\\n",
              "ABAk8AAQJPAAECTwABAk8AAQJPAAECTwABAk8AAQJPAAECTwABAk8AAQJPAAECTwABAk8AAQJPAA\\\n",
              "ECTwABAk8AAQJPAAECTwABAk8AAQJPAAECTwABAk8AAQJPAAECTwABAk8AAQJPAAECTwABAk8AAQ\\\n",
              "JPAAECTwABAk8AAQJPAAECTwABAk8AAQJPAAECTwABAk8AAQJPAAECTwABAk8AAQJPAAECTwABAk\\\n",
              "8AAQJPAAECTwABAk8AAQJPAAECTwABAk8AAQJPAAECTwABAk8AAQJPAAECTwABAk8AAQJPAAECTw\\\n",
              "ABAk8AAQJPAAECTwABAk8AAQJPAAECTwABAk8AAQJPAAECTwABAk8AAQ9LGu6/rbiwAAfpY/eAAI\\\n",
              "EngACBJ4AAgSeAAIEngACBJ4AAgSeAAIEngACBJ4AAgSeAAI+gtjlDzxVyxD5gAAAABJRU5ErkJg\\\n",
              "gg==\\\n",
              "\"\n",
              "  frames[25] = \"data:image/png;base64,iVBORw0KGgoAAAANSUhEUgAAAfgAAAD8CAYAAACbzrbdAAAABHNCSVQICAgIfAhkiAAAAAlwSFlz\\\n",
              "AAALEgAACxIB0t1+/AAAADh0RVh0U29mdHdhcmUAbWF0cGxvdGxpYiB2ZXJzaW9uMy4yLjIsIGh0\\\n",
              "dHA6Ly9tYXRwbG90bGliLm9yZy+WH4yJAAAEyklEQVR4nO3XsU0jUQBF0WW1Ga4AuQAowCmhE0Mf\\\n",
              "lEQhSE7s0M5pACrADVjWUMGflRASq7vnpE/z52uSq7mapmn6BQCk/P7pCwAA30/gASBI4AEgSOAB\\\n",
              "IEjgASBI4AEgSOABIEjgASBI4AEgSOABIOjPT1+Af9/T09Nw2+12w+3t7W323Ovr6+G2Wq2G22az\\\n",
              "GW7r9Xr2nXd3d8PtcrkMt9fX1+G23W6/tP3t3PP5PNxub2+H29w3eHh4mL3P3HdfLBbD7f39fbjt\\\n",
              "9/vZd768vAy3w+Ew3D4+Pobbzc3NcLu/v5+9z+Pj45eeXS6Xw+10Os2+83g8Dre57/P8/Dx7Lv83\\\n",
              "f/AAECTwABAk8AAQJPAAECTwABAk8AAQJPAAECTwABAk8AAQJPAAECTwABAk8AAQJPAAECTwABAk\\\n",
              "8AAQJPAAECTwABAk8AAQJPAAECTwABAk8AAQJPAAECTwABAk8AAQJPAAECTwABAk8AAQJPAAECTw\\\n",
              "ABAk8AAQJPAAECTwABAk8AAQJPAAECTwABAk8AAQJPAAECTwABAk8AAQJPAAECTwABAk8AAQJPAA\\\n",
              "ECTwABAk8AAQJPAAECTwABAk8AAQJPAAECTwABAk8AAQJPAAECTwABAk8AAQJPAAECTwABAk8AAQ\\\n",
              "JPAAECTwABAk8AAQJPAAECTwABAk8AAQJPAAECTwABAk8AAQJPAAECTwABAk8AAQJPAAECTwABAk\\\n",
              "8AAQJPAAECTwABAk8AAQJPAAECTwABAk8AAQJPAAECTwABAk8AAQJPAAECTwABAk8AAQJPAAECTw\\\n",
              "ABAk8AAQJPAAECTwABAk8AAQJPAAECTwABAk8AAQJPAAECTwABAk8AAQJPAAECTwABAk8AAQJPAA\\\n",
              "ECTwABAk8AAQJPAAECTwABAk8AAQJPAAECTwABAk8AAQJPAAECTwABAk8AAQJPAAECTwABAk8AAQ\\\n",
              "JPAAECTwABAk8AAQJPAAECTwABAk8AAQJPAAECTwABAk8AAQJPAAECTwABAk8AAQJPAAECTwABAk\\\n",
              "8AAQJPAAECTwABAk8AAQJPAAECTwABAk8AAQJPAAECTwABAk8AAQJPAAECTwABAk8AAQJPAAECTw\\\n",
              "ABAk8AAQJPAAECTwABAk8AAQJPAAECTwABAk8AAQJPAAECTwABAk8AAQJPAAECTwABAk8AAQJPAA\\\n",
              "ECTwABAk8AAQJPAAECTwABAk8AAQJPAAECTwABAk8AAQJPAAECTwABAk8AAQJPAAECTwABAk8AAQ\\\n",
              "JPAAECTwABAk8AAQJPAAECTwABAk8AAQJPAAECTwABAk8AAQJPAAECTwABAk8AAQJPAAECTwABAk\\\n",
              "8AAQJPAAECTwABAk8AAQJPAAECTwABAk8AAQJPAAECTwABAk8AAQJPAAECTwABAk8AAQJPAAECTw\\\n",
              "ABAk8AAQJPAAECTwABAk8AAQJPAAECTwABAk8AAQJPAAECTwABAk8AAQJPAAECTwABAk8AAQJPAA\\\n",
              "ECTwABAk8AAQJPAAECTwABAk8AAQJPAAECTwABAk8AAQJPAAECTwABAk8AAQJPAAECTwABAk8AAQ\\\n",
              "JPAAEHQ1TdP005cAAL6XP3gACBJ4AAgSeAAIEngACBJ4AAgSeAAIEngACBJ4AAgSeAAIEngACPoE\\\n",
              "qr488bywSd0AAAAASUVORK5CYII=\\\n",
              "\"\n",
              "  frames[26] = \"data:image/png;base64,iVBORw0KGgoAAAANSUhEUgAAAfgAAAD8CAYAAACbzrbdAAAABHNCSVQICAgIfAhkiAAAAAlwSFlz\\\n",
              "AAALEgAACxIB0t1+/AAAADh0RVh0U29mdHdhcmUAbWF0cGxvdGxpYiB2ZXJzaW9uMy4yLjIsIGh0\\\n",
              "dHA6Ly9tYXRwbG90bGliLm9yZy+WH4yJAAAEzklEQVR4nO3XMUpjUQCG0XGYTlyAkAXEXmxjZQob\\\n",
              "l2ohWFmaOtiHbCC4AZE3K7i3EjJ8c077w7uXx4OPd7Esy/ILAEj5fe4LAAA/T+ABIEjgASBI4AEg\\\n",
              "SOABIEjgASBI4AEgSOABIEjgASBI4AEg6M+5L8C/7+npabi9v78Pt9PpNH3u9fX1cNtsNsPt8fFx\\\n",
              "uN3f30/PXK1Ww+3z83O47Xa74fby8jLc3t7epvc5HA7D7fLycrjd3t4Ot9n72W630/vc3NwMt+/v\\\n",
              "7+H28fEx3F5fX6dnzvb9fj/cvr6+htt6vR5uDw8P0/vM3t/d3d1wu7q6Gm7H43F65uw7mX1fz8/P\\\n",
              "0+fyf/MHDwBBAg8AQQIPAEECDwBBAg8AQQIPAEECDwBBAg8AQQIPAEECDwBBAg8AQQIPAEECDwBB\\\n",
              "Ag8AQQIPAEECDwBBAg8AQQIPAEECDwBBAg8AQQIPAEECDwBBAg8AQQIPAEECDwBBAg8AQQIPAEEC\\\n",
              "DwBBAg8AQQIPAEECDwBBAg8AQQIPAEECDwBBAg8AQQIPAEECDwBBAg8AQQIPAEECDwBBAg8AQQIP\\\n",
              "AEECDwBBAg8AQQIPAEECDwBBAg8AQQIPAEECDwBBAg8AQQIPAEECDwBBAg8AQQIPAEECDwBBAg8A\\\n",
              "QQIPAEECDwBBAg8AQQIPAEECDwBBAg8AQQIPAEECDwBBAg8AQQIPAEECDwBBAg8AQQIPAEECDwBB\\\n",
              "Ag8AQQIPAEECDwBBAg8AQQIPAEECDwBBAg8AQQIPAEECDwBBAg8AQQIPAEECDwBBAg8AQQIPAEEC\\\n",
              "DwBBAg8AQQIPAEECDwBBAg8AQQIPAEECDwBBAg8AQQIPAEECDwBBAg8AQQIPAEECDwBBAg8AQQIP\\\n",
              "AEECDwBBAg8AQQIPAEECDwBBAg8AQQIPAEECDwBBAg8AQQIPAEECDwBBAg8AQQIPAEECDwBBAg8A\\\n",
              "QQIPAEECDwBBAg8AQQIPAEECDwBBAg8AQQIPAEECDwBBAg8AQQIPAEECDwBBAg8AQQIPAEECDwBB\\\n",
              "Ag8AQQIPAEECDwBBAg8AQQIPAEECDwBBAg8AQQIPAEECDwBBAg8AQQIPAEECDwBBAg8AQQIPAEEC\\\n",
              "DwBBAg8AQQIPAEECDwBBAg8AQQIPAEECDwBBAg8AQQIPAEECDwBBAg8AQQIPAEECDwBBAg8AQQIP\\\n",
              "AEECDwBBAg8AQQIPAEECDwBBAg8AQQIPAEECDwBBAg8AQQIPAEECDwBBAg8AQQIPAEECDwBBAg8A\\\n",
              "QQIPAEECDwBBAg8AQQIPAEECDwBBAg8AQQIPAEECDwBBAg8AQQIPAEECDwBBAg8AQQIPAEECDwBB\\\n",
              "Ag8AQQIPAEECDwBBAg8AQQIPAEECDwBBAg8AQQIPAEECDwBBAg8AQQIPAEECDwBBAg8AQQIPAEEC\\\n",
              "DwBBAg8AQQIPAEECDwBBAg8AQQIPAEECDwBBAg8AQQIPAEECDwBBAg8AQQIPAEECDwBBAg8AQQIP\\\n",
              "AEECDwBBAg8AQQIPAEECDwBBAg8AQQIPAEECDwBBAg8AQQIPAEECDwBBAg8AQQIPAEECDwBBAg8A\\\n",
              "QQIPAEECDwBBF8uyLOe+BADws/zBA0CQwANAkMADQJDAA0CQwANAkMADQJDAA0CQwANAkMADQJDA\\\n",
              "A0DQX/PgPPE3VnGRAAAAAElFTkSuQmCC\\\n",
              "\"\n",
              "  frames[27] = \"data:image/png;base64,iVBORw0KGgoAAAANSUhEUgAAAfgAAAD8CAYAAACbzrbdAAAABHNCSVQICAgIfAhkiAAAAAlwSFlz\\\n",
              "AAALEgAACxIB0t1+/AAAADh0RVh0U29mdHdhcmUAbWF0cGxvdGxpYiB2ZXJzaW9uMy4yLjIsIGh0\\\n",
              "dHA6Ly9tYXRwbG90bGliLm9yZy+WH4yJAAAE1klEQVR4nO3XMUojcRyG4XXZSvAAgn0gtQhpxCoW\\\n",
              "5rYSbcQu2Ib04gUCHiDg7An+Uwku7z5P+8HML2le5myapukXAJDy+6cPAAC+n8ADQJDAA0CQwANA\\\n",
              "kMADQJDAA0CQwANAkMADQJDAA0CQwANA0J+fPoB/32q1Gm77/X64nU6n2ecuFovhtl6vh9tmsxlu\\\n",
              "Nzc3s++8uLgYbh8fH8Pt9fV1uD0+Pg633W43e8/xeBxul5eXw+329na4zf0/d3d3s/dcXV0Nt8/P\\\n",
              "z+E29zu32+3sO19eXobb+/v7cDs/Px9u19fXw+3h4WH2nvv7++G2XC6H29fX13A7HA6z73x+fh5u\\\n",
              "T09Pw+3t7W32ufzffMEDQJDAA0CQwANAkMADQJDAA0CQwANAkMADQJDAA0CQwANAkMADQJDAA0CQ\\\n",
              "wANAkMADQJDAA0CQwANAkMADQJDAA0CQwANAkMADQJDAA0CQwANAkMADQJDAA0CQwANAkMADQJDA\\\n",
              "A0CQwANAkMADQJDAA0CQwANAkMADQJDAA0CQwANAkMADQJDAA0CQwANAkMADQJDAA0CQwANAkMAD\\\n",
              "QJDAA0CQwANAkMADQJDAA0CQwANAkMADQJDAA0CQwANAkMADQJDAA0CQwANAkMADQJDAA0CQwANA\\\n",
              "kMADQJDAA0CQwANAkMADQJDAA0CQwANAkMADQJDAA0CQwANAkMADQJDAA0CQwANAkMADQJDAA0CQ\\\n",
              "wANAkMADQJDAA0CQwANAkMADQJDAA0CQwANAkMADQJDAA0CQwANAkMADQJDAA0CQwANAkMADQJDA\\\n",
              "A0CQwANAkMADQJDAA0CQwANAkMADQJDAA0CQwANAkMADQJDAA0CQwANAkMADQJDAA0CQwANAkMAD\\\n",
              "QJDAA0CQwANAkMADQJDAA0CQwANAkMADQJDAA0CQwANAkMADQJDAA0CQwANAkMADQJDAA0CQwANA\\\n",
              "kMADQJDAA0CQwANAkMADQJDAA0CQwANAkMADQJDAA0CQwANAkMADQJDAA0CQwANAkMADQJDAA0CQ\\\n",
              "wANAkMADQJDAA0CQwANAkMADQJDAA0CQwANAkMADQJDAA0CQwANAkMADQJDAA0CQwANAkMADQJDA\\\n",
              "A0CQwANAkMADQJDAA0CQwANAkMADQJDAA0CQwANAkMADQJDAA0CQwANAkMADQJDAA0CQwANAkMAD\\\n",
              "QJDAA0CQwANAkMADQJDAA0CQwANAkMADQJDAA0CQwANAkMADQJDAA0CQwANAkMADQJDAA0CQwANA\\\n",
              "kMADQJDAA0CQwANAkMADQJDAA0CQwANAkMADQJDAA0CQwANAkMADQJDAA0CQwANAkMADQJDAA0CQ\\\n",
              "wANAkMADQJDAA0CQwANAkMADQJDAA0CQwANAkMADQJDAA0CQwANAkMADQJDAA0CQwANAkMADQJDA\\\n",
              "A0CQwANAkMADQJDAA0CQwANAkMADQJDAA0CQwANAkMADQJDAA0CQwANAkMADQJDAA0CQwANAkMAD\\\n",
              "QJDAA0CQwANAkMADQJDAA0CQwANAkMADQJDAA0CQwANAkMADQJDAA0CQwANAkMADQJDAA0CQwANA\\\n",
              "kMADQJDAA0CQwANAkMADQNDZNE3TTx8BAHwvX/AAECTwABAk8AAQJPAAECTwABAk8AAQJPAAECTw\\\n",
              "ABAk8AAQJPAAEPQXO/E88cq3P7kAAAAASUVORK5CYII=\\\n",
              "\"\n",
              "  frames[28] = \"data:image/png;base64,iVBORw0KGgoAAAANSUhEUgAAAfgAAAD8CAYAAACbzrbdAAAABHNCSVQICAgIfAhkiAAAAAlwSFlz\\\n",
              "AAALEgAACxIB0t1+/AAAADh0RVh0U29mdHdhcmUAbWF0cGxvdGxpYiB2ZXJzaW9uMy4yLjIsIGh0\\\n",
              "dHA6Ly9tYXRwbG90bGliLm9yZy+WH4yJAAAE10lEQVR4nO3XoUpmYRSG0XGYZDAbrCKYxSiWH0T0\\\n",
              "alUMgk3MYhTBbrAbPHMF+yTB4Zm16gvn2+3hbC3LsvwCAFJ+//QBAMD3E3gACBJ4AAgSeAAIEngA\\\n",
              "CBJ4AAgSeAAIEngACBJ4AAgSeAAI+vPTB/Dv29/fH7fX19dx297eXv3u0dHRuJ2fn4/b2dnZuB0e\\\n",
              "Hq6++fX1NW7Pz8/jdnt7O243Nzfj9vT0tHrP5+fnuB0cHIzbZrMZt4uLi3E7Pj5evWdnZ2fc3t7e\\\n",
              "xu3+/n7crq6uVt98eHgYt/f393Hb3d0dt5OTk3G7vLxcvef09HTc9vb2xu3j42PcHh8fV9+8vr4e\\\n",
              "t7u7u3F7eXlZ/S7/N3/wABAk8AAQJPAAECTwABAk8AAQJPAAECTwABAk8AAQJPAAECTwABAk8AAQ\\\n",
              "JPAAECTwABAk8AAQJPAAECTwABAk8AAQJPAAECTwABAk8AAQJPAAECTwABAk8AAQJPAAECTwABAk\\\n",
              "8AAQJPAAECTwABAk8AAQJPAAECTwABAk8AAQJPAAECTwABAk8AAQJPAAECTwABAk8AAQJPAAECTw\\\n",
              "ABAk8AAQJPAAECTwABAk8AAQJPAAECTwABAk8AAQJPAAECTwABAk8AAQJPAAECTwABAk8AAQJPAA\\\n",
              "ECTwABAk8AAQJPAAECTwABAk8AAQJPAAECTwABAk8AAQJPAAECTwABAk8AAQJPAAECTwABAk8AAQ\\\n",
              "JPAAECTwABAk8AAQJPAAECTwABAk8AAQJPAAECTwABAk8AAQJPAAECTwABAk8AAQJPAAECTwABAk\\\n",
              "8AAQJPAAECTwABAk8AAQJPAAECTwABAk8AAQJPAAECTwABAk8AAQJPAAECTwABAk8AAQJPAAECTw\\\n",
              "ABAk8AAQJPAAECTwABAk8AAQJPAAECTwABAk8AAQJPAAECTwABAk8AAQJPAAECTwABAk8AAQJPAA\\\n",
              "ECTwABAk8AAQJPAAECTwABAk8AAQJPAAECTwABAk8AAQJPAAECTwABAk8AAQJPAAECTwABAk8AAQ\\\n",
              "JPAAECTwABAk8AAQJPAAECTwABAk8AAQJPAAECTwABAk8AAQJPAAECTwABAk8AAQJPAAECTwABAk\\\n",
              "8AAQJPAAECTwABAk8AAQJPAAECTwABAk8AAQJPAAECTwABAk8AAQJPAAECTwABAk8AAQJPAAECTw\\\n",
              "ABAk8AAQJPAAECTwABAk8AAQJPAAECTwABAk8AAQJPAAECTwABAk8AAQJPAAECTwABAk8AAQJPAA\\\n",
              "ECTwABAk8AAQJPAAECTwABAk8AAQJPAAECTwABAk8AAQJPAAECTwABAk8AAQJPAAECTwABAk8AAQ\\\n",
              "JPAAECTwABAk8AAQJPAAECTwABAk8AAQJPAAECTwABAk8AAQJPAAECTwABAk8AAQJPAAECTwABAk\\\n",
              "8AAQJPAAECTwABAk8AAQJPAAECTwABAk8AAQJPAAECTwABAk8AAQJPAAECTwABAk8AAQJPAAECTw\\\n",
              "ABAk8AAQJPAAECTwABAk8AAQJPAAECTwABAk8AAQJPAAECTwABAk8AAQJPAAECTwABAk8AAQJPAA\\\n",
              "ECTwABAk8AAQJPAAECTwABC0tSzL8tNHAADfyx88AAQJPAAECTwABAk8AAQJPAAECTwABAk8AAQJ\\\n",
              "PAAECTwABAk8AAT9BXqHPPHHWc2JAAAAAElFTkSuQmCC\\\n",
              "\"\n",
              "  frames[29] = \"data:image/png;base64,iVBORw0KGgoAAAANSUhEUgAAAfgAAAD8CAYAAACbzrbdAAAABHNCSVQICAgIfAhkiAAAAAlwSFlz\\\n",
              "AAALEgAACxIB0t1+/AAAADh0RVh0U29mdHdhcmUAbWF0cGxvdGxpYiB2ZXJzaW9uMy4yLjIsIGh0\\\n",
              "dHA6Ly9tYXRwbG90bGliLm9yZy+WH4yJAAAE2ElEQVR4nO3XoU4jYRiG0WGzBoMkiFoUEoFCoBCk\\\n",
              "V1sSFCgSZEVtBRoMuqKzV/CP2JCwefYc+yYzX8Y8mZN5nucJAEj59dMHAADfT+ABIEjgASBI4AEg\\\n",
              "SOABIEjgASBI4AEgSOABIEjgASBI4AEg6PdPH8C/7/z8fLh9fn4Ot4uLi8Xn3t7eDrf1ej3c7u7u\\\n",
              "httqtVp859fX13B7e3sbbpvNZrg9Pz8Pt/1+v3jP6enpcLu+vh5uDw8Pw+3+/n64XV1dLd5zPB6H\\\n",
              "2263G25PT09/tU3TNG232+F2OByG2+Xl5XBb+gZL326apunm5ma4nZ2dDbf39/fh9vLysvjOx8fH\\\n",
              "4fb6+jrcPj4+Fp/L/80fPAAECTwABAk8AAQJPAAECTwABAk8AAQJPAAECTwABAk8AAQJPAAECTwA\\\n",
              "BAk8AAQJPAAECTwABAk8AAQJPAAECTwABAk8AAQJPAAECTwABAk8AAQJPAAECTwABAk8AAQJPAAE\\\n",
              "CTwABAk8AAQJPAAECTwABAk8AAQJPAAECTwABAk8AAQJPAAECTwABAk8AAQJPAAECTwABAk8AAQJ\\\n",
              "PAAECTwABAk8AAQJPAAECTwABAk8AAQJPAAECTwABAk8AAQJPAAECTwABAk8AAQJPAAECTwABAk8\\\n",
              "AAQJPAAECTwABAk8AAQJPAAECTwABAk8AAQJPAAECTwABAk8AAQJPAAECTwABAk8AAQJPAAECTwA\\\n",
              "BAk8AAQJPAAECTwABAk8AAQJPAAECTwABAk8AAQJPAAECTwABAk8AAQJPAAECTwABAk8AAQJPAAE\\\n",
              "CTwABAk8AAQJPAAECTwABAk8AAQJPAAECTwABAk8AAQJPAAECTwABAk8AAQJPAAECTwABAk8AAQJ\\\n",
              "PAAECTwABAk8AAQJPAAECTwABAk8AAQJPAAECTwABAk8AAQJPAAECTwABAk8AAQJPAAECTwABAk8\\\n",
              "AAQJPAAECTwABAk8AAQJPAAECTwABAk8AAQJPAAECTwABAk8AAQJPAAECTwABAk8AAQJPAAECTwA\\\n",
              "BAk8AAQJPAAECTwABAk8AAQJPAAECTwABAk8AAQJPAAECTwABAk8AAQJPAAECTwABAk8AAQJPAAE\\\n",
              "CTwABAk8AAQJPAAECTwABAk8AAQJPAAECTwABAk8AAQJPAAECTwABAk8AAQJPAAECTwABAk8AAQJ\\\n",
              "PAAECTwABAk8AAQJPAAECTwABAk8AAQJPAAECTwABAk8AAQJPAAECTwABAk8AAQJPAAECTwABAk8\\\n",
              "AAQJPAAECTwABAk8AAQJPAAECTwABAk8AAQJPAAECTwABAk8AAQJPAAECTwABAk8AAQJPAAECTwA\\\n",
              "BAk8AAQJPAAECTwABAk8AAQJPAAECTwABAk8AAQJPAAECTwABAk8AAQJPAAECTwABAk8AAQJPAAE\\\n",
              "CTwABAk8AAQJPAAECTwABAk8AAQJPAAECTwABAk8AAQJPAAECTwABAk8AAQJPAAECTwABAk8AAQJ\\\n",
              "PAAECTwABAk8AAQJPAAECTwABAk8AAQJPAAECTwABAk8AAQJPAAECTwABAk8AAQJPAAECTwABAk8\\\n",
              "AAQJPAAECTwABAk8AAQJPAAEnczzPP/0EQDA9/IHDwBBAg8AQQIPAEECDwBBAg8AQQIPAEECDwBB\\\n",
              "Ag8AQQIPAEECDwBBfwDFrTzxIWk1twAAAABJRU5ErkJggg==\\\n",
              "\"\n",
              "  frames[30] = \"data:image/png;base64,iVBORw0KGgoAAAANSUhEUgAAAfgAAAD8CAYAAACbzrbdAAAABHNCSVQICAgIfAhkiAAAAAlwSFlz\\\n",
              "AAALEgAACxIB0t1+/AAAADh0RVh0U29mdHdhcmUAbWF0cGxvdGxpYiB2ZXJzaW9uMy4yLjIsIGh0\\\n",
              "dHA6Ly9tYXRwbG90bGliLm9yZy+WH4yJAAAE10lEQVR4nO3coU4jUQCG0WWzBgQWha2pQuGaYAiC\\\n",
              "t6UhTZrUkVTVYDG1qKomqNknuKNI2Hx7jv2TuTdjvoyZi2mapl8AQMrvn74AAPD9BB4AggQeAIIE\\\n",
              "HgCCBB4AggQeAIIEHgCCBB4AggQeAIIEHgCC/vz0Bfj3XV1dDbevr6/htlgsZp/7+Pg43J6fn4fb\\\n",
              "/f39cLu+vp4983g8DrfdbjfcXl5ehtvb29tw+/z8nL3Pzc3NcFutVsNt7v08PDwMt9vb29n7nE6n\\\n",
              "4bbf74fber0ebtvtdvbMj4+P4XZ5eTnc7u7uhtvc+3l6epq9z3K5HG5zf/Z+f38fbpvNZvbM19fX\\\n",
              "4XY4HIbb+XyefS7/N1/wABAk8AAQJPAAECTwABAk8AAQJPAAECTwABAk8AAQJPAAECTwABAk8AAQ\\\n",
              "JPAAECTwABAk8AAQJPAAECTwABAk8AAQJPAAECTwABAk8AAQJPAAECTwABAk8AAQJPAAECTwABAk\\\n",
              "8AAQJPAAECTwABAk8AAQJPAAECTwABAk8AAQJPAAECTwABAk8AAQJPAAECTwABAk8AAQJPAAECTw\\\n",
              "ABAk8AAQJPAAECTwABAk8AAQJPAAECTwABAk8AAQJPAAECTwABAk8AAQJPAAECTwABAk8AAQJPAA\\\n",
              "ECTwABAk8AAQJPAAECTwABAk8AAQJPAAECTwABAk8AAQJPAAECTwABAk8AAQJPAAECTwABAk8AAQ\\\n",
              "JPAAECTwABAk8AAQJPAAECTwABAk8AAQJPAAECTwABAk8AAQJPAAECTwABAk8AAQJPAAECTwABAk\\\n",
              "8AAQJPAAECTwABAk8AAQJPAAECTwABAk8AAQJPAAECTwABAk8AAQJPAAECTwABAk8AAQJPAAECTw\\\n",
              "ABAk8AAQJPAAECTwABAk8AAQJPAAECTwABAk8AAQJPAAECTwABAk8AAQJPAAECTwABAk8AAQJPAA\\\n",
              "ECTwABAk8AAQJPAAECTwABAk8AAQJPAAECTwABAk8AAQJPAAECTwABAk8AAQJPAAECTwABAk8AAQ\\\n",
              "JPAAECTwABAk8AAQJPAAECTwABAk8AAQJPAAECTwABAk8AAQJPAAECTwABAk8AAQJPAAECTwABAk\\\n",
              "8AAQJPAAECTwABAk8AAQJPAAECTwABAk8AAQJPAAECTwABAk8AAQJPAAECTwABAk8AAQJPAAECTw\\\n",
              "ABAk8AAQJPAAECTwABAk8AAQJPAAECTwABAk8AAQJPAAECTwABAk8AAQJPAAECTwABAk8AAQJPAA\\\n",
              "ECTwABAk8AAQJPAAECTwABAk8AAQJPAAECTwABAk8AAQJPAAECTwABAk8AAQJPAAECTwABAk8AAQ\\\n",
              "JPAAECTwABAk8AAQJPAAECTwABAk8AAQJPAAECTwABAk8AAQJPAAECTwABAk8AAQJPAAECTwABAk\\\n",
              "8AAQJPAAECTwABAk8AAQJPAAECTwABAk8AAQJPAAECTwABAk8AAQJPAAECTwABAk8AAQJPAAECTw\\\n",
              "ABAk8AAQJPAAECTwABAk8AAQJPAAECTwABAk8AAQJPAAECTwABAk8AAQJPAAECTwABAk8AAQJPAA\\\n",
              "ECTwABAk8AAQJPAAECTwABB0MU3T9NOXAAC+ly94AAgSeAAIEngACBJ4AAgSeAAIEngACBJ4AAgS\\\n",
              "eAAIEngACBJ4AAj6CxJ6PPEsZlx2AAAAAElFTkSuQmCC\\\n",
              "\"\n",
              "  frames[31] = \"data:image/png;base64,iVBORw0KGgoAAAANSUhEUgAAAfgAAAD8CAYAAACbzrbdAAAABHNCSVQICAgIfAhkiAAAAAlwSFlz\\\n",
              "AAALEgAACxIB0t1+/AAAADh0RVh0U29mdHdhcmUAbWF0cGxvdGxpYiB2ZXJzaW9uMy4yLjIsIGh0\\\n",
              "dHA6Ly9tYXRwbG90bGliLm9yZy+WH4yJAAAE10lEQVR4nO3XoU5jURhG0WE6AodE1dbgMCgEgoSE\\\n",
              "9mUbAoIE1wRXg8MhcbgacucJzlUknexZy37Jub/buSfTNE2/AICU38c+AAD4eQIPAEECDwBBAg8A\\\n",
              "QQIPAEECDwBBAg8AQQIPAEECDwBBAg8AQX+OfQD/vsViMdxOT0+H2+Xl5ey79/f3w+3u7m64XVxc\\\n",
              "zL475+3tbbg9PT0Nt8fHx+G23++H2+FwmL1ntVoNt9vb2+G2Xq+H29XV1XA7Ozubvefj42O4vby8\\\n",
              "DLftdjvcdrvd7Dc/Pz+H2/n5+XC7vr4ebpvNZrjd3NzM3rNcLofb19fXcHt9fR1uDw8Ps998fn4e\\\n",
              "bu/v78Pt+/t79l3+b/7gASBI4AEgSOABIEjgASBI4AEgSOABIEjgASBI4AEgSOABIEjgASBI4AEg\\\n",
              "SOABIEjgASBI4AEgSOABIEjgASBI4AEgSOABIEjgASBI4AEgSOABIEjgASBI4AEgSOABIEjgASBI\\\n",
              "4AEgSOABIEjgASBI4AEgSOABIEjgASBI4AEgSOABIEjgASBI4AEgSOABIEjgASBI4AEgSOABIEjg\\\n",
              "ASBI4AEgSOABIEjgASBI4AEgSOABIEjgASBI4AEgSOABIEjgASBI4AEgSOABIEjgASBI4AEgSOAB\\\n",
              "IEjgASBI4AEgSOABIEjgASBI4AEgSOABIEjgASBI4AEgSOABIEjgASBI4AEgSOABIEjgASBI4AEg\\\n",
              "SOABIEjgASBI4AEgSOABIEjgASBI4AEgSOABIEjgASBI4AEgSOABIEjgASBI4AEgSOABIEjgASBI\\\n",
              "4AEgSOABIEjgASBI4AEgSOABIEjgASBI4AEgSOABIEjgASBI4AEgSOABIEjgASBI4AEgSOABIEjg\\\n",
              "ASBI4AEgSOABIEjgASBI4AEgSOABIEjgASBI4AEgSOABIEjgASBI4AEgSOABIEjgASBI4AEgSOAB\\\n",
              "IEjgASBI4AEgSOABIEjgASBI4AEgSOABIEjgASBI4AEgSOABIEjgASBI4AEgSOABIEjgASBI4AEg\\\n",
              "SOABIEjgASBI4AEgSOABIEjgASBI4AEgSOABIEjgASBI4AEgSOABIEjgASBI4AEgSOABIEjgASBI\\\n",
              "4AEgSOABIEjgASBI4AEgSOABIEjgASBI4AEgSOABIEjgASBI4AEgSOABIEjgASBI4AEgSOABIEjg\\\n",
              "ASBI4AEgSOABIEjgASBI4AEgSOABIEjgASBI4AEgSOABIEjgASBI4AEgSOABIEjgASBI4AEgSOAB\\\n",
              "IEjgASBI4AEgSOABIEjgASBI4AEgSOABIEjgASBI4AEgSOABIEjgASBI4AEgSOABIEjgASBI4AEg\\\n",
              "SOABIEjgASBI4AEgSOABIEjgASBI4AEgSOABIEjgASBI4AEgSOABIEjgASBI4AEgSOABIEjgASBI\\\n",
              "4AEgSOABIEjgASBI4AEgSOABIEjgASBI4AEgSOABIEjgASBI4AEgSOABIEjgASBI4AEgSOABIEjg\\\n",
              "ASBI4AEgSOABIEjgASBI4AEgSOABIEjgASBI4AEgSOABIEjgASBI4AEgSOABIEjgASBI4AEgSOAB\\\n",
              "IEjgASBI4AEgSOABIEjgASDoZJqm6dhHAAA/yx88AAQJPAAECTwABAk8AAQJPAAECTwABAk8AAQJ\\\n",
              "PAAECTwABAk8AAT9BRVxOfETl/gLAAAAAElFTkSuQmCC\\\n",
              "\"\n",
              "\n",
              "\n",
              "    /* set a timeout to make sure all the above elements are created before\n",
              "       the object is initialized. */\n",
              "    setTimeout(function() {\n",
              "        anim7759363409ce41a0ab40f828d165ba99 = new Animation(frames, img_id, slider_id, 50.0,\n",
              "                                 loop_select_id);\n",
              "    }, 0);\n",
              "  })()\n",
              "</script>\n"
            ]
          },
          "metadata": {},
          "execution_count": 243
        },
        {
          "output_type": "display_data",
          "data": {
            "text/plain": [
              "<Figure size 504x252 with 1 Axes>"
            ],
            "image/png": "[encoded data removed]"
          },
          "metadata": {
            "needs_background": "light"
          }
        }
      ]
    },
    {
      "cell_type": "markdown",
      "source": [
        "Challenge question. \n",
        "\n",
        "Test the direction tuning of your motion-opponent energy model above, by changing the direction of the grating around 360 degrees. Remember that the output you are seeing is filters at every location in X and Y over the full time period of the stimulus. Extract the output averaged across space and time, so that you get a single number and plot as a function of direction. \n",
        "\n",
        "Try to make a moving plaid stimulus. A plaid is composed of two moving gratings of different orientations, say 0 degrees and 90 degrees. Display using the animation code above. Which direction does the plaid appear to be moving in? \n",
        "\n",
        "Now look at the tuning fucntion of your motion-opponent energy model as you make plaids moving in different directions around 360 degrees. What does the tuning function look like. Does it match your perception?\n",
        "\n",
        "Is there a model that you can make that builds on the motion energy model that would produce a motion analysis that matches what you see?"
      ],
      "metadata": {
        "id": "bpShtIQhthiM"
      }
    }
  ]
}