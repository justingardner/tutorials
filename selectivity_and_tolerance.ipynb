{
  "nbformat": 4,
  "nbformat_minor": 0,
  "metadata": {
    "colab": {
      "provenance": [],
      "collapsed_sections": [],
      "authorship_tag": "ABX9TyPOTL9K9Rn41YP8kcE6dJX3",
      "include_colab_link": true
    },
    "kernelspec": {
      "name": "python3",
      "display_name": "Python 3"
    },
    "language_info": {
      "name": "python"
    }
  },
  "cells": [
    {
      "cell_type": "markdown",
      "metadata": {
        "id": "view-in-github",
        "colab_type": "text"
      },
      "source": [
        "<a href=\"https://colab.research.google.com/github/justingardner/tutorials/blob/master/selectivity_and_tolerance.ipynb\" target=\"_parent\"><img src=\"https://colab.research.google.com/assets/colab-badge.svg\" alt=\"Open In Colab\"/></a>"
      ]
    },
    {
      "cell_type": "markdown",
      "source": [
        "Learning goals for the FrequencyFreaks notebook. After working through this notebook you will be able to...\n",
        "  * create gaussian, grating and gabor images\n",
        "  * load an image and convert it to a grayscale image and interpolate to the size that you want\n",
        "  * take the 2D discrete Fourier Transform of an image\n",
        "  * examine components of the Fourier Transform to confirm the way in which orientation and spatial frequency is laid out\n",
        "  * create a gaussian filter in the Fourier Domain and apply it to an image\n",
        "  * low-pass or high-pass filter an image\n",
        "  * apply an oriented band-pass filter to an image by using the convolution theorem to multiply the fourier transform of an appropriate gabor\n",
        "  * demonstrate that a difference-of-gaussians receptive field will have a difference-of-gaussian contrast sensitivity function as derived in the Enroth-Cugell paper"
      ],
      "metadata": {
        "id": "uV9lnvMWIbeS"
      }
    },
    {
      "cell_type": "code",
      "source": [
        "# Import libraries that we need\n",
        "import numpy as np\n",
        "import numpy.matlib as matlib\n",
        "import matplotlib.pyplot as plt\n",
        "import matplotlib.image as image\n",
        "import imageio as iio\n",
        "from scipy import interpolate"
      ],
      "metadata": {
        "id": "hnMfmzUjIf9o"
      },
      "execution_count": 58,
      "outputs": []
    },
    {
      "cell_type": "markdown",
      "source": [
        "Let's start by defining a few functions from the [frequency freaks](https://colab.research.google.com/drive/1Yxj-Cld8uV3uNQ28WNcgH0udZVqJbdgy) notebook. We will need these to create gabor receptive fields."
      ],
      "metadata": {
        "id": "_K1C_zctIihw"
      }
    },
    {
      "cell_type": "code",
      "source": [
        "# function to make a mesh of x,y points\n",
        "def getMeshPoints(nPoints):\n",
        "\n",
        "  # first create a linearly spaced set of x and y points between -1 and 1\n",
        "  x = np.linspace(-1,1,nPoints)\n",
        "  y = np.linspace(-1,1,nPoints)\n",
        "\n",
        "  # keep the extents for use with imshow\n",
        "  extents = [np.min(x),np.max(x),np.min(y),np.max(y)]\n",
        "\n",
        "  # now create the mesh of x and y (these will now both be 2D matrices of x and y values)\n",
        "  x, y = np.meshgrid(x, y, indexing='xy')\n",
        "\n",
        "  # and return the computed values\n",
        "  return x, y, extents\n",
        "\n",
        "# function that makes a gaussian\n",
        "def makeGaussian(x,y,sigma):\n",
        "  # there it is!\n",
        "  gaussian = np.exp(-(x**2+y**2)/(2*sigma**2))\n",
        "  \n",
        "  # return \n",
        "  return gaussian\n",
        "\n",
        "# function to make a grating\n",
        "def makeGrating(x, y, orientation, spatialPhase, spatialFrequency):\n",
        "  # we wil convert orientation and spatialPhase into radians\n",
        "  orientation = np.pi*orientation/180\n",
        "  spatialPhase = np.pi*spatialPhase/180\n",
        "\n",
        "  # we need to convert spatial frequency into cycles/image\n",
        "  # remember that we made the extents in getMeshPoints\n",
        "  # to go from -1 to 1, so we want that to go from -pi to pi\n",
        "  spatialFrequency = spatialFrequency * np.pi\n",
        "\n",
        "  # make the grating\n",
        "  grating = np.cos(spatialFrequency*(x*np.cos(orientation)+y*np.sin(orientation))+spatialPhase)\n",
        "\n",
        "  # and return\n",
        "  return grating"
      ],
      "metadata": {
        "id": "YsO3r7nXIlnx"
      },
      "execution_count": 132,
      "outputs": []
    },
    {
      "cell_type": "markdown",
      "source": [
        "Now that we have those functions, lets make a class variable that will contain the necessary things to represent a simple cell - the linear receptive field and the exponent. In fact, let's make it create a gabor receptive field with a particular spatial frequency, orientation and keep a field that tells what the static output non-linearity is. You know from the [FrequencyFreak](https://colab.research.google.com/drive/1Yxj-Cld8uV3uNQ28WNcgH0udZVqJbdgy)s notebook how to do this from the above functions. Yes?"
      ],
      "metadata": {
        "id": "wes06wlrvgNA"
      }
    },
    {
      "cell_type": "code",
      "source": [
        "class simpleCell:\n",
        "  def __init__(self,meshsize, orientationPreference, spatialPhase, spatialFrequencyPreference, exponent):\n",
        "    # keep the meshsize\n",
        "    self.meshsize = meshsize\n",
        "    \n",
        "    # first make a mesh of x,y points\n",
        "    self.x, self.y, self.extents = getMeshPoints(meshsize)\n",
        "\n",
        "    # compute the grating needed\n",
        "    grating = makeGrating(self.x, self.y, orientationPreference, spatialPhase, spatialFrequencyPreference)\n",
        "\n",
        "    # compute the gaussian (we fix the size here, but of course that could be a passed\n",
        "    # in parameter)\n",
        "    gaussian = makeGaussian(self.x, self.y, 0.2)\n",
        "\n",
        "    # now we can make the gabor receptive field\n",
        "    self.linearRF = grating * gaussian\n",
        "\n",
        "    # the exponent is just something we store\n",
        "    self.exponent = exponent"
      ],
      "metadata": {
        "id": "L_oDD2Yowr6J"
      },
      "execution_count": 133,
      "outputs": []
    },
    {
      "cell_type": "markdown",
      "source": [
        "Let's test it to see if generates what we want it to, by creating a simpleCell and displaying it's receptive field."
      ],
      "metadata": {
        "id": "8v2h0oz4xuI2"
      }
    },
    {
      "cell_type": "code",
      "source": [
        "# let's use the following gridsize in all these simulations\n",
        "gridsize = 513\n",
        "\n",
        "# create the simple cell\n",
        "s = simpleCell(gridsize, 0, 0, 5, 2)\n",
        "\n",
        "# display the receptive field\n",
        "plt.imshow(s.linearRF,cmap='gray',extent=s1.extents)"
      ],
      "metadata": {
        "colab": {
          "base_uri": "https://localhost:8080/",
          "height": 286
        },
        "id": "XncFqRSAx__H",
        "outputId": "9f3113e8-9948-4868-a410-3308705dbb11"
      },
      "execution_count": 134,
      "outputs": [
        {
          "output_type": "execute_result",
          "data": {
            "text/plain": [
              "<matplotlib.image.AxesImage at 0x7f99b36fb310>"
            ]
          },
          "metadata": {},
          "execution_count": 134
        },
        {
          "output_type": "display_data",
          "data": {
            "text/plain": [
              "<Figure size 432x288 with 1 Axes>"
            ],
            "image/png": "[encoded data removed]"
          },
          "metadata": {
            "needs_background": "light"
          }
        }
      ]
    },
    {
      "cell_type": "markdown",
      "source": [
        "Ok, your turn. Create a quadrature pair of simple cells like we discussed in class. Call them s1 and s2 and display their receptive fields to make sure they look right. Use a vertical orientation (orientationPrefernce = 0) just to make the rest of this notebook a bit easier and let's keep the spatial frequency as above."
      ],
      "metadata": {
        "id": "MHpfRX_sx0Uc"
      }
    },
    {
      "cell_type": "code",
      "source": [],
      "metadata": {
        "id": "n7BvrluXym91"
      },
      "execution_count": null,
      "outputs": []
    },
    {
      "cell_type": "markdown",
      "source": [
        "Now, let's write a function that will compute the simple cell response to some a stimulus image. "
      ],
      "metadata": {
        "id": "QB58T9Qyy3Pw"
      }
    },
    {
      "cell_type": "code",
      "source": [
        "# first let's generate a stimulus image where 1 = white, 0 = gray -1 = black\n",
        "stimImage = np.zeros((gridsize,gridsize))\n",
        "\n",
        "# let's make it have a white vertical bar in it\n",
        "stimImage[np.nonzero(np.logical_and(s.x > -0.1, s.x < 0.1))] = 1\n",
        "\n",
        "# and display to make sure we have the right thing\n",
        "plt.imshow(stimImage,cmap='gray',extent=s.extents)\n",
        "\n",
        "# ok, now we have a stimulus, let's write a function to compute the simple cell response\n",
        "def computeSimpleCellResponse(simpleCell, stimulus):\n",
        "  # well, the first step is to apply the linear receptive field\n",
        "  # which means to take the dot product of the linear receptive field\n",
        "  # and the stimulus. Note, I don't understand what numpy's dot product\n",
        "  # does in 2D - so maybe there is a better way to write this. Instead\n",
        "  # I'm going to go really basic here. Take the element-wise multiplication\n",
        "  # of stimulus and RF and then add that all up together\n",
        "  response = simpleCell.linearRF * stimulus\n",
        "  response = np.sum(response)\n",
        "\n",
        "  # since the units of the output are aribtrary, let's\n",
        "  # make them a bit more intepretable where 1 would be the\n",
        "  # maximum possible reponse of the RF with it's most preferred\n",
        "  # stimulus. What is the most preferred stimulus, well the one\n",
        "  # that exactly matches the RF!\n",
        "  maxResponse = simpleCell.linearRF * simpleCell.linearRF\n",
        "  maxResponse = np.sum(maxResponse)\n",
        "\n",
        "  # now normalize by this maximum response\n",
        "  response = response / maxResponse\n",
        "\n",
        "  # now we apply a threshold\n",
        "  if response<0:\n",
        "    response = 0\n",
        "  \n",
        "  # and apply the static non-linearity\n",
        "  response = response**simpleCell.exponent\n",
        "  \n",
        " # and return, couldn't be simpler, no pun intended. really.\n",
        "  return response\n",
        "\n",
        "# with that function defined, let's get the response to our stimulus\n",
        "r = computeSimpleCellResponse(s, stimImage)"
      ],
      "metadata": {
        "colab": {
          "base_uri": "https://localhost:8080/",
          "height": 269
        },
        "id": "pukcu35YzUih",
        "outputId": "8ca0d47e-8ea6-44b2-f7a1-bfecc20a21de"
      },
      "execution_count": 136,
      "outputs": [
        {
          "output_type": "display_data",
          "data": {
            "text/plain": [
              "<Figure size 432x288 with 1 Axes>"
            ],
            "image/png": "[encoded data removed]"
          },
          "metadata": {
            "needs_background": "light"
          }
        }
      ]
    },
    {
      "cell_type": "markdown",
      "source": [
        "Got it? Ok. Let's plot a tuning function. In this case, let's plot the tuning of the RF with respect to the position of the bar"
      ],
      "metadata": {
        "id": "BaVI-ghT7Mo5"
      }
    },
    {
      "cell_type": "code",
      "source": [
        "# create a function to compute the response to a vertical\n",
        "# bar at different locations in the receptive field\n",
        "def computeResponseToVerticalBar(simpleCell, barLuminance):\n",
        "\n",
        "  # init response array\n",
        "  r = []\n",
        "\n",
        "  # bar positions to examine simple cell response over\n",
        "  barPositions = np.arange(-0.8, 0.8, 0.01) \n",
        "\n",
        "  # specify the size of the bar\n",
        "  halfBarWidth = 0.1\n",
        "\n",
        "  # now for each bar position, compute the simple cell response\n",
        "  for barLoc in barPositions:\n",
        "    # let's make it have a white vertical bar in it at the barLoc\n",
        "    stimImage = np.zeros((gridsize,gridsize))\n",
        "    stimImage[np.nonzero(np.logical_and(s.x > barLoc-halfBarWidth, s.x < barLoc+halfBarWidth))] = barLuminance\n",
        "\n",
        "    # compute response\n",
        "    r.append(computeSimpleCellResponse(simpleCell, stimImage))\n",
        "\n",
        "  # return values\n",
        "  return barPositions, np.array(r)\n",
        "\n",
        "# now compute the response for the receptive field we created above\n",
        "# we set the barLuminance to 1 to do a bright bar\n",
        "barPositions, r = computeResponseToVerticalBar(s,1)\n",
        "\n",
        "# plot the response\n",
        "plt.plot(barPositions,r)\n",
        "plt.xlabel('Bar position')\n",
        "plt.ylabel('Response')"
      ],
      "metadata": {
        "colab": {
          "base_uri": "https://localhost:8080/",
          "height": 296
        },
        "id": "HrICw1xy7SHq",
        "outputId": "40f0aaba-08c2-4409-cacc-2b8ec5ff212e"
      },
      "execution_count": 115,
      "outputs": [
        {
          "output_type": "execute_result",
          "data": {
            "text/plain": [
              "Text(0, 0.5, 'Response')"
            ]
          },
          "metadata": {},
          "execution_count": 115
        },
        {
          "output_type": "display_data",
          "data": {
            "text/plain": [
              "<Figure size 432x288 with 1 Axes>"
            ],
            "image/png": "[encoded data removed]"
          },
          "metadata": {
            "needs_background": "light"
          }
        }
      ]
    },
    {
      "cell_type": "markdown",
      "source": [
        "Ok, now we can compute the response of a single simple cell for different bar positions. Note that the response is not uniform across the receptive field - i.e. the simple cell only responds to the bar at a position it which it aligns with the excitatory or on part of the receptive field. What happens, if we put on a dark bar at different positions across the receptive field. What would it look like?"
      ],
      "metadata": {
        "id": "rlGH5lpJZ1cq"
      }
    },
    {
      "cell_type": "code",
      "source": [
        "# compute the response to a dark bar\n",
        "barPositions, r = computeResponseToVerticalBar(s,-1)\n",
        "\n",
        "# plot the response\n",
        "plt.plot(barPositions,r)\n",
        "plt.xlabel('Bar position')\n",
        "plt.ylabel('Response')"
      ],
      "metadata": {
        "colab": {
          "base_uri": "https://localhost:8080/",
          "height": 296
        },
        "id": "TjmLxnK1aMnj",
        "outputId": "f63b6db6-8cc0-4caa-ba9d-c623d55ca77e"
      },
      "execution_count": 137,
      "outputs": [
        {
          "output_type": "execute_result",
          "data": {
            "text/plain": [
              "Text(0, 0.5, 'Response')"
            ]
          },
          "metadata": {},
          "execution_count": 137
        },
        {
          "output_type": "display_data",
          "data": {
            "text/plain": [
              "<Figure size 432x288 with 1 Axes>"
            ],
            "image/png": "[encoded data removed]"
          },
          "metadata": {
            "needs_background": "light"
          }
        }
      ]
    },
    {
      "cell_type": "markdown",
      "source": [
        "Is that what you expected? I hope so. Now, let's try to make a cell (complex cell) that will respond to a bar with a positive response across the whole receptive fields. Ok, one point we have to take care of. We didn't talk about this in class, but note that the simple cell we have made applies \"half-squaring\" to the output. That means it thresholds at 0 and sets any negative values to 0 and then squares. The upshot of this is that  the cell can not respond negatively. This is actually fairly accurate as cortical cells (as opposed to retinal ganglion cells typically have low baseline firing. That means, that they have very little negative range - they cant suppress their baseline firing rate below 0 (after all it makes no sense to say that a neuron is firing less than 0 spikes/sec, right?). So if it's baseline is near 0, then it only signals positive responses, and nothing about negative responses. Look at the graphs above and confirm that this is true. So, how do we fix this? Simple. We just have two simple cells that have tuning that is 180 degrees out of phase with each other. One simple cell gives the positive response and one simple cell gives the negative response - i.e. responds in the dark regions of the other cell. By combining those cells we get a combined response that responds to postivie and negative luminance. Here's some code that implements that idea."
      ],
      "metadata": {
        "id": "481Eeoc2aV1C"
      }
    },
    {
      "cell_type": "code",
      "source": [
        "# create a simple cell\n",
        "s1positive = simpleCell(gridsize,0,0,5,2)\n",
        "\n",
        "# now create one with the opposite phase (i.e. 180 degrees out of phase)\n",
        "s1negative = simpleCell(gridsize,0,180,5,2)\n",
        "\n",
        "# now compute the response of both to bar above\n",
        "barPosition, s1positiveResponse = computeResponseToVerticalBar(s1positive,1)\n",
        "barPosition, s1negativeResponse = computeResponseToVerticalBar(s1negative,1)\n",
        "\n",
        "# ok, add them in opponency\n",
        "s1response = s1positiveResponse + s1negativeResponse\n",
        "\n",
        "# and plot\n",
        "plt.plot(barPosition,s1response)\n",
        "plt.xlabel('Bar position')\n",
        "plt.ylabel('Response')"
      ],
      "metadata": {
        "colab": {
          "base_uri": "https://localhost:8080/",
          "height": 296
        },
        "id": "44MR_TfjcySs",
        "outputId": "6c689370-904d-4fd3-9fea-47370327c49e"
      },
      "execution_count": 152,
      "outputs": [
        {
          "output_type": "execute_result",
          "data": {
            "text/plain": [
              "Text(0, 0.5, 'Response')"
            ]
          },
          "metadata": {},
          "execution_count": 152
        },
        {
          "output_type": "display_data",
          "data": {
            "text/plain": [
              "<Figure size 432x288 with 1 Axes>"
            ],
            "image/png": "[encoded data removed]"
          },
          "metadata": {
            "needs_background": "light"
          }
        }
      ]
    },
    {
      "cell_type": "markdown",
      "source": [
        "Ok, half way there. We have one half of the quadrature phase. Now you do the rest. Compute a response that is in quadrature phase and add it to what you have here. Then you should have a complex cell that responds positively throughout the receptive field."
      ],
      "metadata": {
        "id": "11vWcHlQgnQd"
      }
    },
    {
      "cell_type": "code",
      "source": [
        "# create a simple cell\n",
        "s2positive = simpleCell(gridsize,0,90,5,2)\n",
        "\n",
        "# now create one with the opposite phase (i.e. 180 degrees out of phase)\n",
        "s2negative = simpleCell(gridsize,0,270,5,2)\n",
        "\n",
        "# make a function to compute \n",
        "barPosition, s1positiveResponse = computeResponseToVerticalBar(s1positive,1)\n",
        "barPosition, s1negativeResponse = computeResponseToVerticalBar(s1negative,1)\n",
        "barPosition, s2positiveResponse = computeResponseToVerticalBar(s2positive,1)\n",
        "barPosition, s2negativeResponse = computeResponseToVerticalBar(s2negative,1)\n",
        "\n",
        "# add them together and you should get a complex cell\n",
        "complexResponse = (s1positiveResponse+s1negativeResponse) + (s2positiveResponse+s2negativeResponse)\n",
        "\n",
        "# and plot\n",
        "plt.plot(barPosition,complexResponse)\n",
        "plt.xlabel('Bar position')\n",
        "plt.ylabel('Response')"
      ],
      "metadata": {
        "colab": {
          "base_uri": "https://localhost:8080/",
          "height": 296
        },
        "id": "Y0hnZL9Kg0w3",
        "outputId": "8df42fe2-8a29-4bf0-fe9e-cfc21e96dea9"
      },
      "execution_count": 153,
      "outputs": [
        {
          "output_type": "execute_result",
          "data": {
            "text/plain": [
              "Text(0, 0.5, 'Response')"
            ]
          },
          "metadata": {},
          "execution_count": 153
        },
        {
          "output_type": "display_data",
          "data": {
            "text/plain": [
              "<Figure size 432x288 with 1 Axes>"
            ],
            "image/png": "[encoded data removed]"
          },
          "metadata": {
            "needs_background": "light"
          }
        }
      ]
    }
  ]
}