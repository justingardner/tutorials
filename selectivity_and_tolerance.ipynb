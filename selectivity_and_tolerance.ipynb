{
  "nbformat": 4,
  "nbformat_minor": 0,
  "metadata": {
    "colab": {
      "provenance": [],
      "collapsed_sections": [],
      "authorship_tag": "ABX9TyMMzyZh1qspSlRpMz4zFtjy",
      "include_colab_link": true
    },
    "kernelspec": {
      "name": "python3",
      "display_name": "Python 3"
    },
    "language_info": {
      "name": "python"
    }
  },
  "cells": [
    {
      "cell_type": "markdown",
      "metadata": {
        "id": "view-in-github",
        "colab_type": "text"
      },
      "source": [
        "<a href=\"https://colab.research.google.com/github/justingardner/tutorials/blob/master/selectivity_and_tolerance.ipynb\" target=\"_parent\"><img src=\"https://colab.research.google.com/assets/colab-badge.svg\" alt=\"Open In Colab\"/></a>"
      ]
    },
    {
      "cell_type": "markdown",
      "source": [
        "Learning goals for the Selectivity and Tolerance notebook. You should have already worked through the [Frequency Freaks](https://colab.research.google.com/drive/1Yxj-Cld8uV3uNQ28WNcgH0udZVqJbdgy?usp=sharing) notebook. After working through this notebook you will be able to...\n",
        "  * create a LN model of a simple cell\n",
        "  * create a contrast-energy model of a complex cell\n",
        "  * create a motion energy model unit similar to Adelson & Bergen\n",
        "  "
      ],
      "metadata": {
        "id": "uV9lnvMWIbeS"
      }
    },
    {
      "cell_type": "code",
      "source": [
        "# Import libraries that we need\n",
        "import numpy as np\n",
        "import numpy.matlib as matlib\n",
        "import matplotlib.pyplot as plt\n",
        "import matplotlib.image as image\n",
        "import imageio as iio\n",
        "from scipy import interpolate\n",
        "import math\n",
        "from scipy import ndimage\n",
        "from scipy import signal\n",
        "from matplotlib.animation import FuncAnimation\n"
      ],
      "metadata": {
        "id": "hnMfmzUjIf9o"
      },
      "execution_count": 146,
      "outputs": []
    },
    {
      "cell_type": "markdown",
      "source": [
        "Let's start by defining a few functions from the [frequency freaks](https://colab.research.google.com/drive/1Yxj-Cld8uV3uNQ28WNcgH0udZVqJbdgy) notebook. We will need these to create gabor receptive fields."
      ],
      "metadata": {
        "id": "_K1C_zctIihw"
      }
    },
    {
      "cell_type": "code",
      "source": [
        "# function to make a mesh of x,y points\n",
        "def getMeshPoints(nPoints):\n",
        "\n",
        "  # first create a linearly spaced set of x and y points between -1 and 1\n",
        "  x = np.linspace(-1,1,nPoints)\n",
        "  y = np.linspace(-1,1,nPoints)\n",
        "\n",
        "  # keep the extents for use with imshow\n",
        "  extents = [np.min(x),np.max(x),np.min(y),np.max(y)]\n",
        "\n",
        "  # now create the mesh of x and y (these will now both be 2D matrices of x and y values)\n",
        "  x, y = np.meshgrid(x, y, indexing='xy')\n",
        "\n",
        "  # and return the computed values\n",
        "  return x, y, extents\n",
        "\n",
        "# function that makes a gaussian\n",
        "def makeGaussian(x,y,sigma):\n",
        "  # there it is!\n",
        "  gaussian = np.exp(-(x**2+y**2)/(2*sigma**2))\n",
        "  \n",
        "  # return \n",
        "  return gaussian\n",
        "\n",
        "# function to make a grating\n",
        "def makeGrating(x, y, orientation, spatialPhase, spatialFrequency):\n",
        "  # we wil convert orientation and spatialPhase into radians\n",
        "  orientation = np.pi*orientation/180\n",
        "  spatialPhase = np.pi*spatialPhase/180\n",
        "\n",
        "  # we need to convert spatial frequency into cycles/image\n",
        "  # remember that we made the extents in getMeshPoints\n",
        "  # to go from -1 to 1, so we want that to go from -pi to pi\n",
        "  spatialFrequency = spatialFrequency * np.pi\n",
        "\n",
        "  # make the grating\n",
        "  grating = np.cos(spatialFrequency*(x*np.cos(orientation)+y*np.sin(orientation))+spatialPhase)\n",
        "\n",
        "  # and return\n",
        "  return grating"
      ],
      "metadata": {
        "id": "YsO3r7nXIlnx"
      },
      "execution_count": 147,
      "outputs": []
    },
    {
      "cell_type": "markdown",
      "source": [
        "Now that we have those functions, lets make a class variable that will contain the necessary things to represent a simple cell - the linear receptive field and the exponent. In fact, let's make it create a gabor receptive field with a particular spatial frequency, orientation and keep a field that tells what the static output non-linearity is. You know from the [FrequencyFreak](https://colab.research.google.com/drive/1Yxj-Cld8uV3uNQ28WNcgH0udZVqJbdgy)s notebook how to do this from the above functions. Yes?"
      ],
      "metadata": {
        "id": "wes06wlrvgNA"
      }
    },
    {
      "cell_type": "code",
      "source": [
        "class simpleCell:\n",
        "  def __init__(self,meshsize, orientationPreference, spatialPhase, spatialFrequencyPreference, exponent):\n",
        "    # keep the meshsize\n",
        "    self.meshsize = meshsize\n",
        "    \n",
        "    # first make a mesh of x,y points\n",
        "    self.x, self.y, self.extents = getMeshPoints(meshsize)\n",
        "\n",
        "    # compute the grating needed\n",
        "    grating = makeGrating(self.x, self.y, orientationPreference, spatialPhase, spatialFrequencyPreference)\n",
        "\n",
        "    # compute the gaussian (we fix the size here, but of course that could be a passed\n",
        "    # in parameter)\n",
        "    gaussian = makeGaussian(self.x, self.y, 0.2)\n",
        "\n",
        "    # now we can make the gabor receptive field\n",
        "    self.linearRF = grating * gaussian\n",
        "\n",
        "    # the exponent is just something we store\n",
        "    self.exponent = exponent"
      ],
      "metadata": {
        "id": "L_oDD2Yowr6J"
      },
      "execution_count": 148,
      "outputs": []
    },
    {
      "cell_type": "markdown",
      "source": [
        "Let's test it to see if generates what we want it to, by creating a simpleCell and displaying it's receptive field."
      ],
      "metadata": {
        "id": "8v2h0oz4xuI2"
      }
    },
    {
      "cell_type": "code",
      "source": [
        "# let's use the following meshsize in all these simulations\n",
        "meshsize = 513\n",
        "\n",
        "# create the simple cell\n",
        "s = simpleCell(meshsize, 0, 0, 5, 2)\n",
        "\n",
        "# display the receptive field\n",
        "plt.imshow(s.linearRF,cmap='gray',extent=s.extents)"
      ],
      "metadata": {
        "colab": {
          "base_uri": "https://localhost:8080/",
          "height": 286
        },
        "id": "XncFqRSAx__H",
        "outputId": "b4ddedff-915c-46b7-8487-15e8eaade54a"
      },
      "execution_count": 149,
      "outputs": [
        {
          "output_type": "execute_result",
          "data": {
            "text/plain": [
              "<matplotlib.image.AxesImage at 0x7f0bef0c6ed0>"
            ]
          },
          "metadata": {},
          "execution_count": 149
        },
        {
          "output_type": "display_data",
          "data": {
            "text/plain": [
              "<Figure size 432x288 with 1 Axes>"
            ],
            "image/png": "[encoded data removed]"
          },
          "metadata": {
            "needs_background": "light"
          }
        }
      ]
    },
    {
      "cell_type": "markdown",
      "source": [
        "Ok, your turn. Create a quadrature pair of simple cells like we discussed in class. Call them s1 and s2 and display their receptive fields to make sure they look right. Use a vertical orientation (orientationPrefernce = 0) just to make the rest of this notebook a bit easier and let's keep the spatial frequency as above."
      ],
      "metadata": {
        "id": "MHpfRX_sx0Uc"
      }
    },
    {
      "cell_type": "code",
      "source": [],
      "metadata": {
        "id": "n7BvrluXym91"
      },
      "execution_count": 149,
      "outputs": []
    },
    {
      "cell_type": "markdown",
      "source": [
        "Now, let's write a function that will compute the simple cell response to some a stimulus image. "
      ],
      "metadata": {
        "id": "QB58T9Qyy3Pw"
      }
    },
    {
      "cell_type": "code",
      "source": [
        "#function to compute the simple cell response\n",
        "def computeSimpleCellResponse(simpleCell, stimulus):\n",
        "  # well, the first step is to apply the linear receptive field\n",
        "  # which means to take the dot product of the linear receptive field\n",
        "  # and the stimulus. Note, I don't understand what numpy's dot product\n",
        "  # does in 2D - so maybe there is a better way to write this. Instead\n",
        "  # I'm going to go really basic here. Take the element-wise multiplication\n",
        "  # of stimulus and RF and then add that all up together\n",
        "  response = simpleCell.linearRF * stimulus\n",
        "  response = np.sum(response)\n",
        "\n",
        "  # since the units of the output are aribtrary, let's\n",
        "  # make them a bit more intepretable where 1 would be the\n",
        "  # maximum possible reponse of the RF with it's most preferred\n",
        "  # stimulus. What is the most preferred stimulus, well the one\n",
        "  # that exactly matches the RF!\n",
        "  maxResponse = simpleCell.linearRF * simpleCell.linearRF\n",
        "  maxResponse = np.sum(maxResponse)\n",
        "\n",
        "  # now normalize by this maximum response\n",
        "  response = response / maxResponse\n",
        "\n",
        "  # now we apply a threshold\n",
        "  if response<0:\n",
        "    response = 0\n",
        "  \n",
        "  # and apply the static non-linearity\n",
        "  response = response**simpleCell.exponent\n",
        "  \n",
        "  # and return, couldn't be simpler, no pun intended. really.\n",
        "  return response"
      ],
      "metadata": {
        "id": "pukcu35YzUih"
      },
      "execution_count": 150,
      "outputs": []
    },
    {
      "cell_type": "markdown",
      "source": [
        "Ok, now let's write a little function to generate a vertical bar stimulus"
      ],
      "metadata": {
        "id": "TtDpfijzG3WO"
      }
    },
    {
      "cell_type": "code",
      "source": [
        "def makeVerticalBarStimulus(meshsize, barPosition, barWidth, barLuminance):\n",
        "  # get mesh points\n",
        "  x, y, extents = getMeshPoints(meshsize)\n",
        "  \n",
        "  # the stimulus image will have 1 = white, 0 = gray -1 = black\n",
        "  stimImage = np.zeros((meshsize, meshsize))\n",
        "\n",
        "  # let's make it have a white vertical bar in it\n",
        "  stimImage[np.nonzero(np.logical_and(x > barPosition-barWidth/2, x < barPosition+barWidth/2))] = barLuminance\n",
        "\n",
        "  # and return the stimImage\n",
        "  return stimImage\n",
        "\n",
        "# ok, let's test to see if it works, make a vertical\n",
        "# bar in the center of the stimulus that is white\n",
        "stimImage = makeVerticalBarStimulus(meshsize, 0, 0.2, 1)\n",
        "\n",
        "# and display to make sure we have the right thing\n",
        "plt.imshow(stimImage,cmap='gray',extent=s.extents)\n",
        "plt.xlabel('X position')\n",
        "plt.ylabel('Y position')\n"
      ],
      "metadata": {
        "colab": {
          "base_uri": "https://localhost:8080/",
          "height": 300
        },
        "id": "RBuNBDKfHBnC",
        "outputId": "7bd1a27b-a5cb-49af-bf3d-ce9865c00d4c"
      },
      "execution_count": 151,
      "outputs": [
        {
          "output_type": "execute_result",
          "data": {
            "text/plain": [
              "Text(0, 0.5, 'Y position')"
            ]
          },
          "metadata": {},
          "execution_count": 151
        },
        {
          "output_type": "display_data",
          "data": {
            "text/plain": [
              "<Figure size 432x288 with 1 Axes>"
            ],
            "image/png": "[encoded data removed]"
          },
          "metadata": {
            "needs_background": "light"
          }
        }
      ]
    },
    {
      "cell_type": "markdown",
      "source": [
        "Got it? Ok. Let's plot a tuning function. In this case, let's plot the tuning of the RF with respect to the position of the bar. We will make a function that computes the response to vertical bars at different x locations."
      ],
      "metadata": {
        "id": "BaVI-ghT7Mo5"
      }
    },
    {
      "cell_type": "code",
      "source": [
        "# create a function to compute the response to a vertical\n",
        "# bar at different locations in the receptive field\n",
        "def computeResponseToVerticalBar(simpleCell, barLuminance):\n",
        "\n",
        "  # init response array\n",
        "  r = []\n",
        "\n",
        "  # bar positions to examine simple cell response over\n",
        "  barPositions = np.arange(-0.8, 0.8, 0.01) \n",
        "\n",
        "  # now for each bar position, compute the simple cell response\n",
        "  for barLoc in barPositions:\n",
        "    # Get the stimulus image using the function from above\n",
        "    stimImage = makeVerticalBarStimulus(meshsize, barLoc, 0.2, barLuminance)\n",
        "\n",
        "    # compute response\n",
        "    r.append(computeSimpleCellResponse(simpleCell, stimImage))\n",
        "\n",
        "  # return values\n",
        "  return barPositions, np.array(r)\n",
        "\n",
        "# now compute the response for the receptive field we created above\n",
        "# we set the barLuminance to 1 to do a bright bar\n",
        "barPositions, r = computeResponseToVerticalBar(s,1)\n",
        "\n",
        "# plot the response\n",
        "plt.plot(barPositions,r)\n",
        "plt.xlabel('Bar position')\n",
        "plt.ylabel('Response')"
      ],
      "metadata": {
        "colab": {
          "base_uri": "https://localhost:8080/",
          "height": 296
        },
        "id": "HrICw1xy7SHq",
        "outputId": "cd7a5c96-749b-49e2-be08-63b88a790c2c"
      },
      "execution_count": 152,
      "outputs": [
        {
          "output_type": "execute_result",
          "data": {
            "text/plain": [
              "Text(0, 0.5, 'Response')"
            ]
          },
          "metadata": {},
          "execution_count": 152
        },
        {
          "output_type": "display_data",
          "data": {
            "text/plain": [
              "<Figure size 432x288 with 1 Axes>"
            ],
            "image/png": "[encoded data removed]"
          },
          "metadata": {
            "needs_background": "light"
          }
        }
      ]
    },
    {
      "cell_type": "markdown",
      "source": [
        "Ok, now we can compute the response of a single simple cell for different bar positions. Note that the response is not uniform across the receptive field - i.e. the simple cell only responds to the bar at a position it which it aligns with the excitatory or on part of the receptive field. What happens, if we put on a dark bar at different positions across the receptive field. What would it look like?"
      ],
      "metadata": {
        "id": "rlGH5lpJZ1cq"
      }
    },
    {
      "cell_type": "code",
      "source": [
        "# compute the response to a dark bar\n",
        "barPositions, r = computeResponseToVerticalBar(s,-1)\n",
        "\n",
        "# plot the response\n",
        "plt.plot(barPositions,r)\n",
        "plt.xlabel('Bar position')\n",
        "plt.ylabel('Response')"
      ],
      "metadata": {
        "colab": {
          "base_uri": "https://localhost:8080/",
          "height": 296
        },
        "id": "TjmLxnK1aMnj",
        "outputId": "5f8579c5-adec-4bf4-d8c4-6f3d8bf2e163"
      },
      "execution_count": 153,
      "outputs": [
        {
          "output_type": "execute_result",
          "data": {
            "text/plain": [
              "Text(0, 0.5, 'Response')"
            ]
          },
          "metadata": {},
          "execution_count": 153
        },
        {
          "output_type": "display_data",
          "data": {
            "text/plain": [
              "<Figure size 432x288 with 1 Axes>"
            ],
            "image/png": "[encoded data removed]"
          },
          "metadata": {
            "needs_background": "light"
          }
        }
      ]
    },
    {
      "cell_type": "markdown",
      "source": [
        "Is that what you expected? I hope so. Now, let's try to make a cell (complex cell) that will respond to a bar with a positive response across the whole receptive fields. Ok, one point we have to take care of. We didn't talk about this in class, but note that the simple cell we have made applies \"half-squaring\" to the output. That means it thresholds at 0 and sets any negative values to 0 and then squares. The upshot of this is that  the cell can not respond negatively. This is actually fairly accurate as cortical cells (as opposed to retinal ganglion cells in the Enroth-Cugell study) typically have low baseline firing. That means, that they have very little negative range - they cant suppress their baseline firing rate below 0 (after all it makes no sense to say that a neuron is firing less than 0 spikes/sec, right?). So if it's baseline is near 0, then it only signals positive responses, and nothing about negative responses. Look at the graphs above and confirm that this is true. So, how do we fix this? Simple. We just have two simple cells that have tuning that is 180 degrees out of phase with each other. One simple cell gives the positive response and one simple cell gives the negative response - i.e. responds in the dark regions of the other cell. By combining those cells we get a combined response that responds to postivie and negative luminance. Here's some code that implements that idea."
      ],
      "metadata": {
        "id": "481Eeoc2aV1C"
      }
    },
    {
      "cell_type": "code",
      "source": [
        "# create a simple cell\n",
        "s1positive = simpleCell(meshsize,0,0,5,2)\n",
        "\n",
        "# now create one with the opposite phase (i.e. 180 degrees out of phase)\n",
        "s1negative = simpleCell(meshsize,0,180,5,2)\n",
        "\n",
        "# now compute the response of both to bar above\n",
        "barPosition, s1positiveResponse = computeResponseToVerticalBar(s1positive,1)\n",
        "barPosition, s1negativeResponse = computeResponseToVerticalBar(s1negative,1)\n",
        "\n",
        "# add them together\n",
        "s1response = s1positiveResponse + s1negativeResponse\n",
        "\n",
        "# and plot\n",
        "plt.plot(barPosition,s1response)\n",
        "plt.xlabel('Bar position')\n",
        "plt.ylabel('Response')"
      ],
      "metadata": {
        "colab": {
          "base_uri": "https://localhost:8080/",
          "height": 296
        },
        "id": "44MR_TfjcySs",
        "outputId": "a4eb4e09-f283-471f-80f5-4ed1836dd1e7"
      },
      "execution_count": 154,
      "outputs": [
        {
          "output_type": "execute_result",
          "data": {
            "text/plain": [
              "Text(0, 0.5, 'Response')"
            ]
          },
          "metadata": {},
          "execution_count": 154
        },
        {
          "output_type": "display_data",
          "data": {
            "text/plain": [
              "<Figure size 432x288 with 1 Axes>"
            ],
            "image/png": "[encoded data removed]"
          },
          "metadata": {
            "needs_background": "light"
          }
        }
      ]
    },
    {
      "cell_type": "markdown",
      "source": [
        "Ok, half way there. We have one half of the quadrature phase. Now you do the rest. Compute a response that is in quadrature phase and add it to what you have here. Then you should have a complex cell that responds positively throughout the receptive field."
      ],
      "metadata": {
        "id": "11vWcHlQgnQd"
      }
    },
    {
      "cell_type": "code",
      "source": [
        "# create a simple cell\n",
        "s2positive = simpleCell(meshsize,0,90,5,2)\n",
        "\n",
        "# now create one with the opposite phase (i.e. 180 degrees out of phase)\n",
        "s2negative = simpleCell(meshsize,0,270,5,2)\n",
        "\n",
        "# make a function to compute \n",
        "barPosition, s1positiveResponse = computeResponseToVerticalBar(s1positive,1)\n",
        "barPosition, s1negativeResponse = computeResponseToVerticalBar(s1negative,1)\n",
        "barPosition, s2positiveResponse = computeResponseToVerticalBar(s2positive,1)\n",
        "barPosition, s2negativeResponse = computeResponseToVerticalBar(s2negative,1)\n",
        "\n",
        "# add them together and you should get a complex cell\n",
        "complexResponse = (s1positiveResponse+s1negativeResponse) + (s2positiveResponse+s2negativeResponse)\n",
        "\n",
        "# and plot\n",
        "plt.plot(barPosition,complexResponse)\n",
        "plt.xlabel('Bar position')\n",
        "plt.ylabel('Response')"
      ],
      "metadata": {
        "colab": {
          "base_uri": "https://localhost:8080/",
          "height": 296
        },
        "id": "Y0hnZL9Kg0w3",
        "outputId": "2e215694-3c21-4085-ddcf-4a02bc510310"
      },
      "execution_count": 155,
      "outputs": [
        {
          "output_type": "execute_result",
          "data": {
            "text/plain": [
              "Text(0, 0.5, 'Response')"
            ]
          },
          "metadata": {},
          "execution_count": 155
        },
        {
          "output_type": "display_data",
          "data": {
            "text/plain": [
              "<Figure size 432x288 with 1 Axes>"
            ],
            "image/png": "[encoded data removed]"
          },
          "metadata": {
            "needs_background": "light"
          }
        }
      ]
    },
    {
      "cell_type": "markdown",
      "source": [
        "The complex cell should also give the same response to a dark bar as it does to a light bar. Test that!"
      ],
      "metadata": {
        "id": "t9HOZXw1J5KX"
      }
    },
    {
      "cell_type": "markdown",
      "source": [
        "Now, let's put the above into a class so that we can test the complex cell's behavior to any stimulus we like."
      ],
      "metadata": {
        "id": "2NFV-f_WKEtl"
      }
    },
    {
      "cell_type": "code",
      "source": [
        "# class for a complex cell\n",
        "class complexCell:\n",
        "  def __init__(self, meshsize, orientationPreference, spatialFrequencyPreference):\n",
        "    # keep the meshsize\n",
        "    self.meshsize = meshsize\n",
        "    \n",
        "    # first make a mesh of x,y points\n",
        "    self.x, self.y, self.extents = getMeshPoints(meshsize)\n",
        "\n",
        "    # create the four simple cells that are needed \n",
        "    self.s000 = simpleCell(meshsize,orientationPreference,0,spatialFrequencyPreference,2)\n",
        "    self.s090 = simpleCell(meshsize,orientationPreference,90,spatialFrequencyPreference,2)\n",
        "    self.s180 = simpleCell(meshsize,orientationPreference,180,spatialFrequencyPreference,2)\n",
        "    self.s270 = simpleCell(meshsize,orientationPreference,180,spatialFrequencyPreference,2)\n",
        "\n",
        "# and a function that can be used to compute the response of a complex cell\n",
        "def computeComplexCellResponse(complexCell, stimulus):\n",
        "  # compute the response to each sub-field\n",
        "  r000 = computeSimpleCellResponse(complexCell.s000, stimulus)\n",
        "  r090 = computeSimpleCellResponse(complexCell.s090, stimulus)\n",
        "  r180 = computeSimpleCellResponse(complexCell.s180, stimulus)\n",
        "  r270 = computeSimpleCellResponse(complexCell.s270, stimulus)\n",
        "\n",
        "  # sum together and normalize so that the maximum response is 1\n",
        "  r = (r000+r090+r180+r270)/4\n",
        "\n",
        "  # add that all together and return\n",
        "  return r\n"
      ],
      "metadata": {
        "id": "9Wqxf8QPKLPS"
      },
      "execution_count": 156,
      "outputs": []
    },
    {
      "cell_type": "markdown",
      "source": [
        "Make sense? Now let's see how the complex cell behaves as a function of orientation"
      ],
      "metadata": {
        "id": "j7RuPyGPLbV-"
      }
    },
    {
      "cell_type": "code",
      "source": [
        "#create a complex cell with orientation preference of 90 and spatial frequency preference of 5 cycles per image\n",
        "c = complexCell(meshsize, 90, 5)\n",
        "\n",
        "# init response array\n",
        "r = []\n",
        "\n",
        "# loop over orientations\n",
        "orientations = range(0,180,1)\n",
        "for orientation in orientations:\n",
        "  # make a grating of the appropraite orientation\n",
        "  stimulus = makeGrating(c.x, c.y, orientation, 0, 5)\n",
        "\n",
        "  # compute complex cell response\n",
        "  r.append(computeComplexCellResponse(c, stimulus))\n",
        "\n",
        "# convert to array\n",
        "r = np.array(r)\n",
        "\n",
        "# plot\n",
        "plt.plot(orientations,r)\n",
        "plt.xlabel('Orientation (deg)')\n",
        "plt.ylabel('Response')"
      ],
      "metadata": {
        "colab": {
          "base_uri": "https://localhost:8080/",
          "height": 296
        },
        "id": "o6GvnJnYLglM",
        "outputId": "34a6c161-719f-45dd-a58b-ccaa56677690"
      },
      "execution_count": 157,
      "outputs": [
        {
          "output_type": "execute_result",
          "data": {
            "text/plain": [
              "Text(0, 0.5, 'Response')"
            ]
          },
          "metadata": {},
          "execution_count": 157
        },
        {
          "output_type": "display_data",
          "data": {
            "text/plain": [
              "<Figure size 432x288 with 1 Axes>"
            ],
            "image/png": "[encoded data removed]"
          },
          "metadata": {
            "needs_background": "light"
          }
        }
      ]
    },
    {
      "cell_type": "markdown",
      "source": [
        "Ok, now let's add time into this whole business. Let's make a motion-energy model like in the Adelson & Bergen paper. We will use gabor filters as the spatial component like above (in the paper they actually use 2nd and 3rd derivatives of Gaussians - which have a similar shape to them). Let's start with creating the temporal filters using equation 1. Check to make sure that what is plotted here resembles what they have in Fig 10b"
      ],
      "metadata": {
        "id": "EE60UqHzODhw"
      }
    },
    {
      "cell_type": "code",
      "source": [
        "def makeTemporalFilter(t,n,k):\n",
        "  # equation 1 from Adelson & BErgen\n",
        "  return ((k * t)**n) * np.exp(-k * t)*((1/math.factorial(n)) - ((k*t)**2)/math.factorial(n+2))\n",
        "\n",
        "# compute for 10 seconds\n",
        "nTimePoints = 64\n",
        "t = np.linspace(0,6,nTimePoints)\n",
        "\n",
        "# make the two temporal filters\n",
        "t1 = makeTemporalFilter(t,3,3)\n",
        "t2 = makeTemporalFilter(t,5,3)\n",
        "\n",
        "# and plot for different exponent values\n",
        "plt.plot(t,t1)\n",
        "plt.plot(t,t2)\n",
        "plt.xlabel('Time (sec)')\n",
        "plt.ylabel('Filter Response')\n",
        "plt.legend(('n=3','n=5'))"
      ],
      "metadata": {
        "colab": {
          "base_uri": "https://localhost:8080/",
          "height": 296
        },
        "id": "G39zJDxlOnhU",
        "outputId": "6d20a20e-caaf-48a3-c339-1fc046584b50"
      },
      "execution_count": 175,
      "outputs": [
        {
          "output_type": "execute_result",
          "data": {
            "text/plain": [
              "<matplotlib.legend.Legend at 0x7f0bef60b290>"
            ]
          },
          "metadata": {},
          "execution_count": 175
        },
        {
          "output_type": "display_data",
          "data": {
            "text/plain": [
              "<Figure size 432x288 with 1 Axes>"
            ],
            "image/png": "[encoded data removed]"
          },
          "metadata": {
            "needs_background": "light"
          }
        }
      ]
    },
    {
      "cell_type": "markdown",
      "source": [
        "Now let's make two quadrature pair gabor spatial filters. This should look like Fig 10a"
      ],
      "metadata": {
        "id": "hIOS1mHCg9pc"
      }
    },
    {
      "cell_type": "code",
      "source": [
        "# make two gabors\n",
        "meshsize = 64\n",
        "x, y, extents = getMeshPoints(meshsize)\n",
        "orientation = 0\n",
        "spatialFrequency = 3\n",
        "s1 = makeGaussian(x,y,0.25) * makeGrating(x, y, orientation, 0, spatialFrequency)\n",
        "s2 = makeGaussian(x,y,0.25) * makeGrating(x, y, orientation, -90, spatialFrequency)\n",
        "\n",
        "# plot to make sure\n",
        "plt.subplot(121)\n",
        "plt.imshow(s1,cmap='gray',extent=extents)\n",
        "plt.subplot(122)\n",
        "plt.imshow(s2,cmap='gray',extent=extents)\n",
        "\n",
        "# we can also plot a cross section through the middle\n",
        "plt.figure()\n",
        "plt.plot(x[int(meshsize/2),:],s1[int(meshsize/2),:])\n",
        "plt.plot(x[int(meshsize/2),:],s2[int(meshsize/2),:])\n",
        "plt.xlabel('x')\n",
        "plt.ylabel('Response')\n"
      ],
      "metadata": {
        "colab": {
          "base_uri": "https://localhost:8080/",
          "height": 483
        },
        "id": "1Y5mOZK7hDoy",
        "outputId": "c3843c63-ecf5-4cae-eaa8-0a2204ed2c1a"
      },
      "execution_count": 176,
      "outputs": [
        {
          "output_type": "execute_result",
          "data": {
            "text/plain": [
              "Text(0, 0.5, 'Response')"
            ]
          },
          "metadata": {},
          "execution_count": 176
        },
        {
          "output_type": "display_data",
          "data": {
            "text/plain": [
              "<Figure size 432x288 with 2 Axes>"
            ],
            "image/png": "[encoded data removed]"
          },
          "metadata": {
            "needs_background": "light"
          }
        },
        {
          "output_type": "display_data",
          "data": {
            "text/plain": [
              "<Figure size 432x288 with 1 Axes>"
            ],
            "image/png": "[encoded data removed]"
          },
          "metadata": {
            "needs_background": "light"
          }
        }
      ]
    },
    {
      "cell_type": "markdown",
      "source": [
        "Now we make each combination of spatial and temporal filters. These will be space/time separable filters as shown in 10c."
      ],
      "metadata": {
        "id": "UvnDzLc0ieet"
      }
    },
    {
      "cell_type": "code",
      "source": [
        "# first let's repeat that spatial filter along the time axis.\n",
        "# that is, we are just going to take the spatial filter and\n",
        "# copy it for every time point\n",
        "s1t1 = np.repeat(s1[:, :, np.newaxis], nTimePoints, axis=2)\n",
        "s1t2 = np.repeat(s1[:, :, np.newaxis], nTimePoints, axis=2)\n",
        "s2t1 = np.repeat(s2[:, :, np.newaxis], nTimePoints, axis=2)\n",
        "s2t2 = np.repeat(s2[:, :, np.newaxis], nTimePoints, axis=2)\n",
        "\n",
        "# maybe there is a faster python way to do this, but I'm\n",
        "#just going to llop here\n",
        "for i in range(0,nTimePoints):\n",
        "  s1t1[:,:,i] = s1t1[:,:,i]*t1[i]\n",
        "  s1t2[:,:,i] = s1t2[:,:,i]*t2[i]\n",
        "  s2t1[:,:,i] = s2t1[:,:,i]*t1[i]\n",
        "  s2t2[:,:,i] = s2t2[:,:,i]*t2[i]\n",
        "\n",
        "# ok, make the plots to see if everything worked correctly\n",
        "plt.subplot(141)\n",
        "plt.imshow(s2t1[int(meshsize/2),:,:].T,cmap='gray')\n",
        "plt.subplot(142)\n",
        "plt.imshow(s2t2[int(meshsize/2),:,:].T,cmap='gray')\n",
        "plt.subplot(143)\n",
        "plt.imshow(s1t2[int(meshsize/2),:,:].T,cmap='gray')\n",
        "plt.subplot(144)\n",
        "plt.imshow(s1t1[int(meshsize/2),:,:].T,cmap='gray')"
      ],
      "metadata": {
        "colab": {
          "base_uri": "https://localhost:8080/",
          "height": 141
        },
        "id": "862mV0O7imCb",
        "outputId": "9dd73ba2-d161-4625-b152-fa62f149ddcb"
      },
      "execution_count": 177,
      "outputs": [
        {
          "output_type": "execute_result",
          "data": {
            "text/plain": [
              "<matplotlib.image.AxesImage at 0x7f0befcad5d0>"
            ]
          },
          "metadata": {},
          "execution_count": 177
        },
        {
          "output_type": "display_data",
          "data": {
            "text/plain": [
              "<Figure size 432x288 with 4 Axes>"
            ],
            "image/png": "[encoded data removed]"
          },
          "metadata": {
            "needs_background": "light"
          }
        }
      ]
    },
    {
      "cell_type": "markdown",
      "source": [
        "Now make the sum and difference filters. Compare to Fig 10c, bottom row."
      ],
      "metadata": {
        "id": "bHp_L5BJqdmv"
      }
    },
    {
      "cell_type": "code",
      "source": [
        "# take the sums and differences of the above\n",
        "f1 = s2t1+s1t2\n",
        "f2 = s1t1-s2t2\n",
        "f3 = s1t2-s2t1\n",
        "f4 = s1t1+s2t2\n",
        "\n",
        "# And display\n",
        "plt.subplot(141)\n",
        "plt.imshow(f1[int(meshsize/2),:,:].T,cmap='gray')\n",
        "plt.subplot(142)\n",
        "plt.imshow(f2[int(meshsize/2),:,:].T,cmap='gray')\n",
        "plt.subplot(143)\n",
        "plt.imshow(f3[int(meshsize/2),:,:].T,cmap='gray')\n",
        "plt.subplot(144)\n",
        "plt.imshow(f4[int(meshsize/2),:,:].T,cmap='gray')"
      ],
      "metadata": {
        "colab": {
          "base_uri": "https://localhost:8080/",
          "height": 141
        },
        "id": "jp7NuwL9qgXu",
        "outputId": "98b96c5d-b696-43ad-86c1-7e26cdbd0122"
      },
      "execution_count": 179,
      "outputs": [
        {
          "output_type": "execute_result",
          "data": {
            "text/plain": [
              "<matplotlib.image.AxesImage at 0x7f0bef8c2690>"
            ]
          },
          "metadata": {},
          "execution_count": 179
        },
        {
          "output_type": "display_data",
          "data": {
            "text/plain": [
              "<Figure size 432x288 with 4 Axes>"
            ],
            "image/png": "[encoded data removed]"
          },
          "metadata": {
            "needs_background": "light"
          }
        }
      ]
    },
    {
      "cell_type": "markdown",
      "source": [
        "Ok. Now that we can create the filters, let's build a class to do all of this by copying the code from above. "
      ],
      "metadata": {
        "id": "vq-rFZjyvwLe"
      }
    },
    {
      "cell_type": "code",
      "source": [
        "# first let's delete the variables made above to free up RAM\n",
        "del s1, s2, s1t1, s1t2, s2t1, s2t2, f1, f2, f3, f4"
      ],
      "metadata": {
        "id": "ynHcHvE1HqiQ"
      },
      "execution_count": 180,
      "outputs": []
    },
    {
      "cell_type": "code",
      "source": [
        "class motionEnergyModel:\n",
        "  def __init__(self, meshsize, nTimePoints):\n",
        "    # keep the meshsize and nTimePoints\n",
        "    self.meshsize = meshsize\n",
        "    self.nTimePoints = nTimePoints\n",
        "    \n",
        "    # make two temporal filters\n",
        "    # compute for 6 seconds\n",
        "    self.t = np.linspace(0,6,nTimePoints)\n",
        "\n",
        "    def makeTemporalFilter(t,n,k):\n",
        "      # equation 1 from Adelson & BErgen\n",
        "      return ((k * t)**n) * np.exp(-k * t)*((1/math.factorial(n)) - ((k*t)**2)/math.factorial(n+2)) \n",
        "\n",
        "    # make the two temporal filters\n",
        "    t1 = makeTemporalFilter(self.t,3,3)\n",
        "    t2 = makeTemporalFilter(self.t,5,3)\n",
        "\n",
        "    # make two spatial filters\n",
        "    x, y, extents = getMeshPoints(meshsize)\n",
        "    orientation = 0\n",
        "    spatialFrequency = 3\n",
        "    s1 = makeGaussian(x,y,0.25) * makeGrating(x, y, orientation, 0, spatialFrequency)\n",
        "    s2 = makeGaussian(x,y,0.25) * makeGrating(x, y, orientation, -90, spatialFrequency)\n",
        "    plt.imshow(s1,cmap='gray')\n",
        "\n",
        "    # first let's repeat that spatial filter along the time axis.\n",
        "    # that is, we are just going to take the spatial filter and\n",
        "    # copy it for every time point\n",
        "    s1t1 = np.repeat(s1[:, :, np.newaxis], nTimePoints, axis=2)\n",
        "    s1t2 = np.repeat(s1[:, :, np.newaxis], nTimePoints, axis=2)\n",
        "    s2t1 = np.repeat(s2[:, :, np.newaxis], nTimePoints, axis=2)\n",
        "    s2t2 = np.repeat(s2[:, :, np.newaxis], nTimePoints, axis=2)\n",
        "\n",
        "    # maybe there is a faster python way to do this, but I'm\n",
        "    #just going to lpop here (I miss matlab ;( ))\n",
        "    for i in range(0,nTimePoints):\n",
        "      s1t1[:,:,i] = s1t1[:,:,i]*t1[i]\n",
        "      s1t2[:,:,i] = s1t2[:,:,i]*t2[i]\n",
        "      s2t1[:,:,i] = s2t1[:,:,i]*t1[i]\n",
        "      s2t2[:,:,i] = s2t2[:,:,i]*t2[i]\n",
        "\n",
        "    # make sum and differences\n",
        "    self.f1 = s2t1+s1t2\n",
        "    self.f2 = s1t1-s2t2\n",
        "    self.f3 = s1t2-s2t1\n",
        "    self.f4 = s1t1+s2t2"
      ],
      "metadata": {
        "id": "KJVnjmTwwC-A"
      },
      "execution_count": 181,
      "outputs": []
    },
    {
      "cell_type": "markdown",
      "source": [
        "Now make motion a motion energy model and plot its filters to make sure everything is working"
      ],
      "metadata": {
        "id": "7q6aeWmxnO9z"
      }
    },
    {
      "cell_type": "code",
      "source": [
        "# make with a small number of mesh / time points to make it easier to calculate the response\n",
        "meshsize = 32\n",
        "nTimePoints = 32\n",
        "m = motionEnergyModel(meshsize, nTimePoints)\n",
        "\n",
        "# display the filters\n",
        "plt.figure\n",
        "plt.subplot(141)\n",
        "plt.imshow(m.f1[int(meshsize/2),:,:].T,cmap='gray')\n",
        "plt.subplot(142)\n",
        "plt.imshow(m.f2[int(meshsize/2),:,:].T,cmap='gray')\n",
        "plt.subplot(143)\n",
        "plt.imshow(m.f3[int(meshsize/2),:,:].T,cmap='gray')\n",
        "plt.subplot(144)\n",
        "plt.imshow(m.f4[int(meshsize/2),:,:].T,cmap='gray')\n"
      ],
      "metadata": {
        "colab": {
          "base_uri": "https://localhost:8080/",
          "height": 141
        },
        "id": "al1jR-8UnPUg",
        "outputId": "ee953b1e-b2cf-43f2-c5aa-88f85183b7ed"
      },
      "execution_count": 195,
      "outputs": [
        {
          "output_type": "execute_result",
          "data": {
            "text/plain": [
              "<matplotlib.image.AxesImage at 0x7f0bedaf8690>"
            ]
          },
          "metadata": {},
          "execution_count": 195
        },
        {
          "output_type": "display_data",
          "data": {
            "text/plain": [
              "<Figure size 432x288 with 4 Axes>"
            ],
            "image/png": "[encoded data removed]"
          },
          "metadata": {
            "needs_background": "light"
          }
        }
      ]
    },
    {
      "cell_type": "markdown",
      "source": [
        "Now we write a function to compute the response of the motion energy model like what we have done above with simple and complex cells."
      ],
      "metadata": {
        "id": "OwQ0H5JG9mAQ"
      }
    },
    {
      "cell_type": "code",
      "source": [
        "def computeMotionEnergyModelResponse(m, stimulus):\n",
        "  #first we need to make sure that the dimensions of our filters \n",
        "  # match the dimensions of the stimulus - in particular the length \n",
        "  # in time\n",
        "  if m.nTimePoints != stimulus.shape[2]:\n",
        "    print('must do')\n",
        "  \n",
        "  # compute the convolution of the filters with the stimulus\n",
        "  r1 = signal.fftconvolve(stimulus,m.f1,mode='same')\n",
        "  r2 = signal.fftconvolve(stimulus,m.f2,mode='same')\n",
        "  r3 = signal.fftconvolve(stimulus,m.f3,mode='same')\n",
        "  r4 = signal.fftconvolve(stimulus,m.f4,mode='same')\n",
        "\n",
        "  # and then square and sum each quadrature component\n",
        "  d1 = (r1**2) + (r2**2)\n",
        "  d2 = (r3**2) + (r4**2)\n",
        "\n",
        "  # and take the difference - this is the motion opponency part\n",
        "  return d1-d2"
      ],
      "metadata": {
        "id": "O5-rGQIt9p_z"
      },
      "execution_count": 183,
      "outputs": []
    },
    {
      "cell_type": "markdown",
      "source": [
        "Now we are in business. Generate a stimulus, and pass it to the motion energy model to see what response you get. Note that the output is 3D - as the motion energy model is convolved over all of x and y (think - there is a filter at each location in the visual field analyzing the motion) and the output is a function of time where a postive output (white) means rightwards motion and negative output (black) means leftwards motion. Grey means there is no motion detected. Note that there are some edge effects in the output "
      ],
      "metadata": {
        "id": "QCNNvpNslu--"
      }
    },
    {
      "cell_type": "code",
      "source": [
        "# get x,y points to make stimuli\n",
        "x, y, extents = getMeshPoints(meshsize)\n",
        "\n",
        "# init stimulus\n",
        "stimulus = np.zeros((meshsize,meshsize,nTimePoints))\n",
        "\n",
        "## Uncomment / comment lines here to try different stimuli\n",
        "##\n",
        "# temporal frequency grating\n",
        "tf = 1\n",
        "stimulus = np.zeros((meshsize,meshsize,nTimePoints))\n",
        "for t in range(0,nTimePoints):\n",
        "  stimulus[:,:,t] = makeGrating(x, y, 0, tf * 360 * (t / nTimePoints), 3)\n",
        "\n",
        "# rightwards motion of a bar\n",
        "#for t in range(0,nTimePoints):\n",
        "#  stimulus[:,:,t] = makeVerticalBarStimulus(meshsize, 0.8 - 1.6*t/nTimePoints , 0.2, -1)\n",
        "\n",
        "# leftwards motion of a bar\n",
        "for t in range(0,nTimePoints):\n",
        "  stimulus[:,:,t] = makeVerticalBarStimulus(meshsize, -0.8 + 1.6*t/nTimePoints , 0.2, 1)\n",
        "\n",
        "# compute response of the motion energy model\n",
        "r = computeMotionEnergyModelResponse(m, stimulus)\n",
        "\n",
        "# display the stimulus as x/t and y/t plots\n",
        "plt.figure()\n",
        "plt.subplot(121)\n",
        "plt.imshow(stimulus[int(meshsize/2),:,:],cmap='gray',vmin=-1,vmax=1)\n",
        "plt.xlabel('x');plt.ylabel('t')\n",
        "plt.subplot(122)\n",
        "plt.imshow(stimulus[:,int(meshsize/2),:],cmap='gray',vmin=-1,vmax=1)\n",
        "plt.xlabel('y');plt.ylabel('t')\n",
        "\n",
        "# display the motion energy model output as x/t and y/t lots\n",
        "plt.figure()\n",
        "a = plt.subplot(131)\n",
        "r = r/np.max(np.abs(r))\n",
        "plt.imshow(r[int(meshsize/2),:,:],cmap='gray',extent=extents,vmin=-1,vmax=1)\n",
        "plt.xlabel('x')\n",
        "plt.ylabel('t')\n",
        "a.set_xticks([])\n",
        "a.set_yticks([])\n",
        "\n",
        "a = plt.subplot(132)\n",
        "plt.imshow(r[:,int(meshsize/2),:],cmap='gray',extent=extents,vmin=-1,vmax=1)\n",
        "plt.xlabel('y')\n",
        "plt.ylabel('t')\n",
        "#plt.colorbar()\n",
        "a.set_xticks([])\n",
        "a.set_yticks([])\n"
      ],
      "metadata": {
        "colab": {
          "base_uri": "https://localhost:8080/",
          "height": 359
        },
        "id": "M7EvxOYulvZs",
        "outputId": "4b6c2075-0c75-47f6-c581-705565d46898"
      },
      "execution_count": 194,
      "outputs": [
        {
          "output_type": "execute_result",
          "data": {
            "text/plain": [
              "[]"
            ]
          },
          "metadata": {},
          "execution_count": 194
        },
        {
          "output_type": "display_data",
          "data": {
            "text/plain": [
              "<Figure size 432x288 with 2 Axes>"
            ],
            "image/png": "[encoded data removed]"
          },
          "metadata": {
            "needs_background": "light"
          }
        },
        {
          "output_type": "display_data",
          "data": {
            "text/plain": [
              "<Figure size 432x288 with 2 Axes>"
            ],
            "image/png": "[encoded data removed]"
          },
          "metadata": {}
        }
      ]
    },
    {
      "cell_type": "markdown",
      "source": [
        "Some code to display animations of a stimulus"
      ],
      "metadata": {
        "id": "IoMh-hl9scOT"
      }
    },
    {
      "cell_type": "code",
      "source": [
        "#from matplotlib import rc\n",
        "#rc('animation', html='jshtml')\n",
        "\n",
        "# init figure\n",
        "fig, ax = plt.subplots()\n",
        "\n",
        "# function to update frames of the animation\n",
        "def update(i):\n",
        "  ax.imshow(stimulus[:,:,i],cmap='gray',extent=extents)\n",
        "  ax.set_axis_off()\n",
        "\n",
        "# setup the animation\n",
        "anim = FuncAnimation(fig, update, frames=nTimePoints, interval=50)\n",
        "\n",
        "# and display it\n",
        "anim"
      ],
      "metadata": {
        "colab": {
          "base_uri": "https://localhost:8080/",
          "height": 594
        },
        "id": "U5zwjF8tqPyX",
        "outputId": "e226a222-86aa-4571-926b-479828f49b22"
      },
      "execution_count": 216,
      "outputs": [
        {
          "output_type": "execute_result",
          "data": {
            "text/plain": [
              "<matplotlib.animation.FuncAnimation at 0x7f0bef8d8290>"
            ],
            "text/html": [
              "\n",
              "<link rel=\"stylesheet\"\n",
              "href=\"https://maxcdn.bootstrapcdn.com/font-awesome/4.4.0/\n",
              "css/font-awesome.min.css\">\n",
              "<script language=\"javascript\">\n",
              "  function isInternetExplorer() {\n",
              "    ua = navigator.userAgent;\n",
              "    /* MSIE used to detect old browsers and Trident used to newer ones*/\n",
              "    return ua.indexOf(\"MSIE \") > -1 || ua.indexOf(\"Trident/\") > -1;\n",
              "  }\n",
              "\n",
              "  /* Define the Animation class */\n",
              "  function Animation(frames, img_id, slider_id, interval, loop_select_id){\n",
              "    this.img_id = img_id;\n",
              "    this.slider_id = slider_id;\n",
              "    this.loop_select_id = loop_select_id;\n",
              "    this.interval = interval;\n",
              "    this.current_frame = 0;\n",
              "    this.direction = 0;\n",
              "    this.timer = null;\n",
              "    this.frames = new Array(frames.length);\n",
              "\n",
              "    for (var i=0; i<frames.length; i++)\n",
              "    {\n",
              "     this.frames[i] = new Image();\n",
              "     this.frames[i].src = frames[i];\n",
              "    }\n",
              "    var slider = document.getElementById(this.slider_id);\n",
              "    slider.max = this.frames.length - 1;\n",
              "    if (isInternetExplorer()) {\n",
              "        // switch from oninput to onchange because IE <= 11 does not conform\n",
              "        // with W3C specification. It ignores oninput and onchange behaves\n",
              "        // like oninput. In contrast, Mircosoft Edge behaves correctly.\n",
              "        slider.setAttribute('onchange', slider.getAttribute('oninput'));\n",
              "        slider.setAttribute('oninput', null);\n",
              "    }\n",
              "    this.set_frame(this.current_frame);\n",
              "  }\n",
              "\n",
              "  Animation.prototype.get_loop_state = function(){\n",
              "    var button_group = document[this.loop_select_id].state;\n",
              "    for (var i = 0; i < button_group.length; i++) {\n",
              "        var button = button_group[i];\n",
              "        if (button.checked) {\n",
              "            return button.value;\n",
              "        }\n",
              "    }\n",
              "    return undefined;\n",
              "  }\n",
              "\n",
              "  Animation.prototype.set_frame = function(frame){\n",
              "    this.current_frame = frame;\n",
              "    document.getElementById(this.img_id).src =\n",
              "            this.frames[this.current_frame].src;\n",
              "    document.getElementById(this.slider_id).value = this.current_frame;\n",
              "  }\n",
              "\n",
              "  Animation.prototype.next_frame = function()\n",
              "  {\n",
              "    this.set_frame(Math.min(this.frames.length - 1, this.current_frame + 1));\n",
              "  }\n",
              "\n",
              "  Animation.prototype.previous_frame = function()\n",
              "  {\n",
              "    this.set_frame(Math.max(0, this.current_frame - 1));\n",
              "  }\n",
              "\n",
              "  Animation.prototype.first_frame = function()\n",
              "  {\n",
              "    this.set_frame(0);\n",
              "  }\n",
              "\n",
              "  Animation.prototype.last_frame = function()\n",
              "  {\n",
              "    this.set_frame(this.frames.length - 1);\n",
              "  }\n",
              "\n",
              "  Animation.prototype.slower = function()\n",
              "  {\n",
              "    this.interval /= 0.7;\n",
              "    if(this.direction > 0){this.play_animation();}\n",
              "    else if(this.direction < 0){this.reverse_animation();}\n",
              "  }\n",
              "\n",
              "  Animation.prototype.faster = function()\n",
              "  {\n",
              "    this.interval *= 0.7;\n",
              "    if(this.direction > 0){this.play_animation();}\n",
              "    else if(this.direction < 0){this.reverse_animation();}\n",
              "  }\n",
              "\n",
              "  Animation.prototype.anim_step_forward = function()\n",
              "  {\n",
              "    this.current_frame += 1;\n",
              "    if(this.current_frame < this.frames.length){\n",
              "      this.set_frame(this.current_frame);\n",
              "    }else{\n",
              "      var loop_state = this.get_loop_state();\n",
              "      if(loop_state == \"loop\"){\n",
              "        this.first_frame();\n",
              "      }else if(loop_state == \"reflect\"){\n",
              "        this.last_frame();\n",
              "        this.reverse_animation();\n",
              "      }else{\n",
              "        this.pause_animation();\n",
              "        this.last_frame();\n",
              "      }\n",
              "    }\n",
              "  }\n",
              "\n",
              "  Animation.prototype.anim_step_reverse = function()\n",
              "  {\n",
              "    this.current_frame -= 1;\n",
              "    if(this.current_frame >= 0){\n",
              "      this.set_frame(this.current_frame);\n",
              "    }else{\n",
              "      var loop_state = this.get_loop_state();\n",
              "      if(loop_state == \"loop\"){\n",
              "        this.last_frame();\n",
              "      }else if(loop_state == \"reflect\"){\n",
              "        this.first_frame();\n",
              "        this.play_animation();\n",
              "      }else{\n",
              "        this.pause_animation();\n",
              "        this.first_frame();\n",
              "      }\n",
              "    }\n",
              "  }\n",
              "\n",
              "  Animation.prototype.pause_animation = function()\n",
              "  {\n",
              "    this.direction = 0;\n",
              "    if (this.timer){\n",
              "      clearInterval(this.timer);\n",
              "      this.timer = null;\n",
              "    }\n",
              "  }\n",
              "\n",
              "  Animation.prototype.play_animation = function()\n",
              "  {\n",
              "    this.pause_animation();\n",
              "    this.direction = 1;\n",
              "    var t = this;\n",
              "    if (!this.timer) this.timer = setInterval(function() {\n",
              "        t.anim_step_forward();\n",
              "    }, this.interval);\n",
              "  }\n",
              "\n",
              "  Animation.prototype.reverse_animation = function()\n",
              "  {\n",
              "    this.pause_animation();\n",
              "    this.direction = -1;\n",
              "    var t = this;\n",
              "    if (!this.timer) this.timer = setInterval(function() {\n",
              "        t.anim_step_reverse();\n",
              "    }, this.interval);\n",
              "  }\n",
              "</script>\n",
              "\n",
              "<style>\n",
              ".animation {\n",
              "    display: inline-block;\n",
              "    text-align: center;\n",
              "}\n",
              "input[type=range].anim-slider {\n",
              "    width: 374px;\n",
              "    margin-left: auto;\n",
              "    margin-right: auto;\n",
              "}\n",
              ".anim-buttons {\n",
              "    margin: 8px 0px;\n",
              "}\n",
              ".anim-buttons button {\n",
              "    padding: 0;\n",
              "    width: 36px;\n",
              "}\n",
              ".anim-state label {\n",
              "    margin-right: 8px;\n",
              "}\n",
              ".anim-state input {\n",
              "    margin: 0;\n",
              "    vertical-align: middle;\n",
              "}\n",
              "</style>\n",
              "\n",
              "<div class=\"animation\">\n",
              "  <img id=\"_anim_imgeda28eb5e2ef41339dc8bf644e456333\">\n",
              "  <div class=\"anim-controls\">\n",
              "    <input id=\"_anim_slidereda28eb5e2ef41339dc8bf644e456333\" type=\"range\" class=\"anim-slider\"\n",
              "           name=\"points\" min=\"0\" max=\"1\" step=\"1\" value=\"0\"\n",
              "           oninput=\"animeda28eb5e2ef41339dc8bf644e456333.set_frame(parseInt(this.value));\"></input>\n",
              "    <div class=\"anim-buttons\">\n",
              "      <button onclick=\"animeda28eb5e2ef41339dc8bf644e456333.slower()\"><i class=\"fa fa-minus\"></i></button>\n",
              "      <button onclick=\"animeda28eb5e2ef41339dc8bf644e456333.first_frame()\"><i class=\"fa fa-fast-backward\">\n",
              "          </i></button>\n",
              "      <button onclick=\"animeda28eb5e2ef41339dc8bf644e456333.previous_frame()\">\n",
              "          <i class=\"fa fa-step-backward\"></i></button>\n",
              "      <button onclick=\"animeda28eb5e2ef41339dc8bf644e456333.reverse_animation()\">\n",
              "          <i class=\"fa fa-play fa-flip-horizontal\"></i></button>\n",
              "      <button onclick=\"animeda28eb5e2ef41339dc8bf644e456333.pause_animation()\"><i class=\"fa fa-pause\">\n",
              "          </i></button>\n",
              "      <button onclick=\"animeda28eb5e2ef41339dc8bf644e456333.play_animation()\"><i class=\"fa fa-play\"></i>\n",
              "          </button>\n",
              "      <button onclick=\"animeda28eb5e2ef41339dc8bf644e456333.next_frame()\"><i class=\"fa fa-step-forward\">\n",
              "          </i></button>\n",
              "      <button onclick=\"animeda28eb5e2ef41339dc8bf644e456333.last_frame()\"><i class=\"fa fa-fast-forward\">\n",
              "          </i></button>\n",
              "      <button onclick=\"animeda28eb5e2ef41339dc8bf644e456333.faster()\"><i class=\"fa fa-plus\"></i></button>\n",
              "    </div>\n",
              "    <form action=\"#n\" name=\"_anim_loop_selecteda28eb5e2ef41339dc8bf644e456333\" class=\"anim-state\">\n",
              "      <input type=\"radio\" name=\"state\" value=\"once\" id=\"_anim_radio1_eda28eb5e2ef41339dc8bf644e456333\"\n",
              "             >\n",
              "      <label for=\"_anim_radio1_eda28eb5e2ef41339dc8bf644e456333\">Once</label>\n",
              "      <input type=\"radio\" name=\"state\" value=\"loop\" id=\"_anim_radio2_eda28eb5e2ef41339dc8bf644e456333\"\n",
              "             checked>\n",
              "      <label for=\"_anim_radio2_eda28eb5e2ef41339dc8bf644e456333\">Loop</label>\n",
              "      <input type=\"radio\" name=\"state\" value=\"reflect\" id=\"_anim_radio3_eda28eb5e2ef41339dc8bf644e456333\"\n",
              "             >\n",
              "      <label for=\"_anim_radio3_eda28eb5e2ef41339dc8bf644e456333\">Reflect</label>\n",
              "    </form>\n",
              "  </div>\n",
              "</div>\n",
              "\n",
              "\n",
              "<script language=\"javascript\">\n",
              "  /* Instantiate the Animation class. */\n",
              "  /* The IDs given should match those used in the template above. */\n",
              "  (function() {\n",
              "    var img_id = \"_anim_imgeda28eb5e2ef41339dc8bf644e456333\";\n",
              "    var slider_id = \"_anim_slidereda28eb5e2ef41339dc8bf644e456333\";\n",
              "    var loop_select_id = \"_anim_loop_selecteda28eb5e2ef41339dc8bf644e456333\";\n",
              "    var frames = new Array(32);\n",
              "    \n",
              "  frames[0] = \"data:image/png;base64,iVBORw0KGgoAAAANSUhEUgAAAfgAAAD8CAYAAACbzrbdAAAABHNCSVQICAgIfAhkiAAAAAlwSFlz\\\n",
              "AAALEgAACxIB0t1+/AAAADh0RVh0U29mdHdhcmUAbWF0cGxvdGxpYiB2ZXJzaW9uMy4yLjIsIGh0\\\n",
              "dHA6Ly9tYXRwbG90bGliLm9yZy+WH4yJAAAEK0lEQVR4nO3cMQoDQQwEQcvc/78s/8DBcWZNU5Uv\\\n",
              "TNYo2dndfQEAKe/TAwCA5wk8AAQJPAAECTwABAk8AAQJPAAECTwABAk8AAQJPAAECTwABF2nB/D/\\\n",
              "ZubWu1/9gnx3D9T4aZxvXPAAECTwABAk8AAQJPAAECTwABAk8AAQJPAAECTwABAk8AAQJPAAECTw\\\n",
              "ABAk8AAQJPAAECTwABAk8AAQJPAAECTwABAk8AAQJPAAECTwABAk8AAQJPAAECTwABAk8AAQJPAA\\\n",
              "ECTwABAk8AAQJPAAECTwABAk8AAQJPAAECTwABAk8AAQJPAAECTwABAk8AAQJPAAECTwABAk8AAQ\\\n",
              "JPAAECTwABAk8AAQJPAAECTwABAk8AAQJPAAECTwABAk8AAQJPAAECTwABAk8AAQJPAAECTwABAk\\\n",
              "8AAQJPAAECTwABAk8AAQJPAAECTwABAk8AAQJPAAECTwABAk8AAQJPAAECTwABAk8AAQJPAAECTw\\\n",
              "ABAk8AAQJPAAECTwABAk8AAQJPAAECTwABAk8AAQJPAAECTwABAk8AAQJPAAECTwABAk8AAQJPAA\\\n",
              "ECTwABAk8AAQJPAAECTwABAk8AAQJPAAECTwABAk8AAQJPAAECTwABAk8AAQJPAAECTwABAk8AAQ\\\n",
              "JPAAECTwABAk8AAQJPAAECTwABAk8AAQJPAAECTwABAk8AAQJPAAECTwABAk8AAQJPAAECTwABAk\\\n",
              "8AAQJPAAECTwABAk8AAQJPAAECTwABAk8AAQJPAAECTwABAk8AAQJPAAECTwABAk8AAQJPAAECTw\\\n",
              "ABAk8AAQJPAAECTwABAk8AAQJPAAECTwABAk8AAQJPAAECTwABAk8AAQJPAAECTwABAk8AAQJPAA\\\n",
              "ECTwABAk8AAQJPAAECTwABAk8AAQJPAAECTwABAk8AAQJPAAECTwABAk8AAQJPAAECTwABAk8AAQ\\\n",
              "JPAAECTwABAk8AAQJPAAECTwABAk8AAQJPAAECTwABAk8AAQJPAAECTwABAk8AAQJPAAECTwABAk\\\n",
              "8AAQJPAAECTwABAk8AAQJPAAECTwABAk8AAQJPAAECTwABAk8AAQJPAAECTwABAk8AAQJPAAECTw\\\n",
              "ABAk8AAQJPAAECTwABAk8AAQJPAAECTwABAk8AAQJPAAECTwABAk8AAQJPAAECTwABAk8AAQJPAA\\\n",
              "ECTwABAk8AAQJPAAECTwABAk8AAQJPAAECTwABAk8AAQJPAAECTwABAk8AAQJPAAECTwABAk8AAQ\\\n",
              "JPAAECTwABAk8AAQJPAAECTwABAk8AAQJPAAECTwABAk8AAQJPAAECTwABAk8AAQJPAAECTwABAk\\\n",
              "8AAQJPAAECTwABAk8AAQJPAAEDS7u6dHAADPcsEDQJDAA0CQwANAkMADQJDAA0CQwANAkMADQJDA\\\n",
              "A0CQwANAkMADQNAHX8EP8XEQmCcAAAAASUVORK5CYII=\\\n",
              "\"\n",
              "  frames[1] = \"data:image/png;base64,iVBORw0KGgoAAAANSUhEUgAAAfgAAAD8CAYAAACbzrbdAAAABHNCSVQICAgIfAhkiAAAAAlwSFlz\\\n",
              "AAALEgAACxIB0t1+/AAAADh0RVh0U29mdHdhcmUAbWF0cGxvdGxpYiB2ZXJzaW9uMy4yLjIsIGh0\\\n",
              "dHA6Ly9tYXRwbG90bGliLm9yZy+WH4yJAAAEK0lEQVR4nO3cwQnEMBAEwdPh/FNeZ+CXhUxTFYCY\\\n",
              "X7MfrZmZHwCQ8j89AAB4n8ADQJDAA0CQwANAkMADQJDAA0CQwANAkMADQJDAA0CQwANA0HV6AN+3\\\n",
              "1try7o5fkndthS/y0zhPXPAAECTwABAk8AAQJPAAECTwABAk8AAQJPAAECTwABAk8AAQJPAAECTw\\\n",
              "ABAk8AAQJPAAECTwABAk8AAQJPAAECTwABAk8AAQJPAAECTwABAk8AAQJPAAECTwABAk8AAQJPAA\\\n",
              "ECTwABAk8AAQJPAAECTwABAk8AAQJPAAECTwABAk8AAQJPAAECTwABAk8AAQJPAAECTwABAk8AAQ\\\n",
              "JPAAECTwABAk8AAQJPAAECTwABAk8AAQJPAAECTwABAk8AAQJPAAECTwABAk8AAQJPAAECTwABAk\\\n",
              "8AAQJPAAECTwABAk8AAQJPAAECTwABAk8AAQJPAAECTwABAk8AAQJPAAECTwABAk8AAQJPAAECTw\\\n",
              "ABAk8AAQJPAAECTwABAk8AAQJPAAECTwABAk8AAQJPAAECTwABAk8AAQJPAAECTwABAk8AAQJPAA\\\n",
              "ECTwABAk8AAQJPAAECTwABAk8AAQJPAAECTwABAk8AAQJPAAECTwABAk8AAQJPAAECTwABAk8AAQ\\\n",
              "JPAAECTwABAk8AAQJPAAECTwABAk8AAQJPAAECTwABAk8AAQJPAAECTwABAk8AAQJPAAECTwABAk\\\n",
              "8AAQJPAAECTwABAk8AAQJPAAECTwABAk8AAQJPAAECTwABAk8AAQJPAAECTwABAk8AAQJPAAECTw\\\n",
              "ABAk8AAQJPAAECTwABAk8AAQJPAAECTwABAk8AAQJPAAECTwABAk8AAQJPAAECTwABAk8AAQJPAA\\\n",
              "ECTwABAk8AAQJPAAECTwABAk8AAQJPAAECTwABAk8AAQJPAAECTwABAk8AAQJPAAECTwABAk8AAQ\\\n",
              "JPAAECTwABAk8AAQJPAAECTwABAk8AAQJPAAECTwABAk8AAQJPAAECTwABAk8AAQJPAAECTwABAk\\\n",
              "8AAQJPAAECTwABAk8AAQJPAAECTwABAk8AAQJPAAECTwABAk8AAQJPAAECTwABAk8AAQJPAAECTw\\\n",
              "ABAk8AAQJPAAECTwABAk8AAQJPAAECTwABAk8AAQJPAAECTwABAk8AAQJPAAECTwABAk8AAQJPAA\\\n",
              "ECTwABAk8AAQJPAAECTwABAk8AAQJPAAECTwABAk8AAQJPAAECTwABAk8AAQJPAAECTwABAk8AAQ\\\n",
              "JPAAECTwABAk8AAQJPAAECTwABAk8AAQJPAAECTwABAk8AAQJPAAECTwABAk8AAQJPAAECTwABAk\\\n",
              "8AAQJPAAECTwABAk8AAQJPAAELRmZk6PAADe5YIHgCCBB4AggQeAIIEHgCCBB4AggQeAIIEHgCCB\\\n",
              "B4AggQeAIIEHgKAb/74P8cphwREAAAAASUVORK5CYII=\\\n",
              "\"\n",
              "  frames[2] = \"data:image/png;base64,iVBORw0KGgoAAAANSUhEUgAAAfgAAAD8CAYAAACbzrbdAAAABHNCSVQICAgIfAhkiAAAAAlwSFlz\\\n",
              "AAALEgAACxIB0t1+/AAAADh0RVh0U29mdHdhcmUAbWF0cGxvdGxpYiB2ZXJzaW9uMy4yLjIsIGh0\\\n",
              "dHA6Ly9tYXRwbG90bGliLm9yZy+WH4yJAAAEK0lEQVR4nO3csQ3DMAwAwTDw/iszG6Syo+Bxt4Co\\\n",
              "6sGGs7v7AgBS3qcHAADuJ/AAECTwABAk8AAQJPAAECTwABAk8AAQJPAAECTwABAk8AAQdJ0egP83\\\n",
              "Mz9/86kLyif+Ak9xaZxvbPAAECTwABAk8AAQJPAAECTwABAk8AAQJPAAECTwABAk8AAQJPAAECTw\\\n",
              "ABAk8AAQJPAAECTwABAk8AAQJPAAECTwABAk8AAQJPAAECTwABAk8AAQJPAAECTwABAk8AAQJPAA\\\n",
              "ECTwABAk8AAQJPAAECTwABAk8AAQJPAAECTwABAk8AAQJPAAECTwABAk8AAQJPAAECTwABAk8AAQ\\\n",
              "JPAAECTwABAk8AAQJPAAECTwABAk8AAQJPAAECTwABAk8AAQJPAAECTwABAk8AAQJPAAECTwABAk\\\n",
              "8AAQJPAAECTwABAk8AAQJPAAECTwABAk8AAQJPAAECTwABAk8AAQJPAAECTwABAk8AAQJPAAECTw\\\n",
              "ABAk8AAQJPAAECTwABAk8AAQJPAAECTwABAk8AAQJPAAECTwABAk8AAQJPAAECTwABAk8AAQJPAA\\\n",
              "ECTwABAk8AAQJPAAECTwABAk8AAQJPAAECTwABAk8AAQJPAAECTwABAk8AAQJPAAECTwABAk8AAQ\\\n",
              "JPAAECTwABAk8AAQJPAAECTwABAk8AAQJPAAECTwABAk8AAQJPAAECTwABAk8AAQJPAAECTwABAk\\\n",
              "8AAQJPAAECTwABAk8AAQJPAAECTwABAk8AAQJPAAECTwABAk8AAQJPAAECTwABAk8AAQJPAAECTw\\\n",
              "ABAk8AAQJPAAECTwABAk8AAQJPAAECTwABAk8AAQJPAAECTwABAk8AAQJPAAECTwABAk8AAQJPAA\\\n",
              "ECTwABAk8AAQJPAAECTwABAk8AAQJPAAECTwABAk8AAQJPAAECTwABAk8AAQJPAAECTwABAk8AAQ\\\n",
              "JPAAECTwABAk8AAQJPAAECTwABAk8AAQJPAAECTwABAk8AAQJPAAECTwABAk8AAQJPAAECTwABAk\\\n",
              "8AAQJPAAECTwABAk8AAQJPAAECTwABAk8AAQJPAAECTwABAk8AAQJPAAECTwABAk8AAQJPAAECTw\\\n",
              "ABAk8AAQJPAAECTwABAk8AAQJPAAECTwABAk8AAQJPAAECTwABAk8AAQJPAAECTwABAk8AAQJPAA\\\n",
              "ECTwABAk8AAQJPAAECTwABAk8AAQJPAAECTwABAk8AAQJPAAECTwABAk8AAQJPAAECTwABAk8AAQ\\\n",
              "JPAAECTwABAk8AAQJPAAECTwABAk8AAQJPAAECTwABAk8AAQJPAAECTwABAk8AAQJPAAECTwABAk\\\n",
              "8AAQJPAAECTwABAk8AAQJPAAEDS7u6eHAADuZYMHgCCBB4AggQeAIIEHgCCBB4AggQeAIIEHgCCB\\\n",
              "B4AggQeAIIEHgKAPq7IP8Q/j5YcAAAAASUVORK5CYII=\\\n",
              "\"\n",
              "  frames[3] = \"data:image/png;base64,iVBORw0KGgoAAAANSUhEUgAAAfgAAAD8CAYAAACbzrbdAAAABHNCSVQICAgIfAhkiAAAAAlwSFlz\\\n",
              "AAALEgAACxIB0t1+/AAAADh0RVh0U29mdHdhcmUAbWF0cGxvdGxpYiB2ZXJzaW9uMy4yLjIsIGh0\\\n",
              "dHA6Ly9tYXRwbG90bGliLm9yZy+WH4yJAAAEK0lEQVR4nO3csQ3DMAwAwTDw/iszG6Syo+Bxt4Co\\\n",
              "6sGGs7v7AgBS3qcHAADuJ/AAECTwABAk8AAQJPAAECTwABAk8AAQJPAAECTwABAk8AAQdJ0egP83\\\n",
              "Mz9/86kLyif+Ak9xaZxvbPAAECTwABAk8AAQJPAAECTwABAk8AAQJPAAECTwABAk8AAQJPAAECTw\\\n",
              "ABAk8AAQJPAAECTwABAk8AAQJPAAECTwABAk8AAQJPAAECTwABAk8AAQJPAAECTwABAk8AAQJPAA\\\n",
              "ECTwABAk8AAQJPAAECTwABAk8AAQJPAAECTwABAk8AAQJPAAECTwABAk8AAQJPAAECTwABAk8AAQ\\\n",
              "JPAAECTwABAk8AAQJPAAECTwABAk8AAQJPAAECTwABAk8AAQJPAAECTwABAk8AAQJPAAECTwABAk\\\n",
              "8AAQJPAAECTwABAk8AAQJPAAECTwABAk8AAQJPAAECTwABAk8AAQJPAAECTwABAk8AAQJPAAECTw\\\n",
              "ABAk8AAQJPAAECTwABAk8AAQJPAAECTwABAk8AAQJPAAECTwABAk8AAQJPAAECTwABAk8AAQJPAA\\\n",
              "ECTwABAk8AAQJPAAECTwABAk8AAQJPAAECTwABAk8AAQJPAAECTwABAk8AAQJPAAECTwABAk8AAQ\\\n",
              "JPAAECTwABAk8AAQJPAAECTwABAk8AAQJPAAECTwABAk8AAQJPAAECTwABAk8AAQJPAAECTwABAk\\\n",
              "8AAQJPAAECTwABAk8AAQJPAAECTwABAk8AAQJPAAECTwABAk8AAQJPAAECTwABAk8AAQJPAAECTw\\\n",
              "ABAk8AAQJPAAECTwABAk8AAQJPAAECTwABAk8AAQJPAAECTwABAk8AAQJPAAECTwABAk8AAQJPAA\\\n",
              "ECTwABAk8AAQJPAAECTwABAk8AAQJPAAECTwABAk8AAQJPAAECTwABAk8AAQJPAAECTwABAk8AAQ\\\n",
              "JPAAECTwABAk8AAQJPAAECTwABAk8AAQJPAAECTwABAk8AAQJPAAECTwABAk8AAQJPAAECTwABAk\\\n",
              "8AAQJPAAECTwABAk8AAQJPAAECTwABAk8AAQJPAAECTwABAk8AAQJPAAECTwABAk8AAQJPAAECTw\\\n",
              "ABAk8AAQJPAAECTwABAk8AAQJPAAECTwABAk8AAQJPAAECTwABAk8AAQJPAAECTwABAk8AAQJPAA\\\n",
              "ECTwABAk8AAQJPAAECTwABAk8AAQJPAAECTwABAk8AAQJPAAECTwABAk8AAQJPAAECTwABAk8AAQ\\\n",
              "JPAAECTwABAk8AAQJPAAECTwABAk8AAQJPAAECTwABAk8AAQJPAAECTwABAk8AAQJPAAECTwABAk\\\n",
              "8AAQJPAAECTwABAk8AAQJPAAEDS7u6eHAADuZYMHgCCBB4AggQeAIIEHgCCBB4AggQeAIIEHgCCB\\\n",
              "B4AggQeAIIEHgKAPq7IP8Q/j5YcAAAAASUVORK5CYII=\\\n",
              "\"\n",
              "  frames[4] = \"data:image/png;base64,iVBORw0KGgoAAAANSUhEUgAAAfgAAAD8CAYAAACbzrbdAAAABHNCSVQICAgIfAhkiAAAAAlwSFlz\\\n",
              "AAALEgAACxIB0t1+/AAAADh0RVh0U29mdHdhcmUAbWF0cGxvdGxpYiB2ZXJzaW9uMy4yLjIsIGh0\\\n",
              "dHA6Ly9tYXRwbG90bGliLm9yZy+WH4yJAAAELUlEQVR4nO3cMQ4CQQwEQYz4/5dNTALJoT21ql4w\\\n",
              "G7Wc7OzuPgCAlOfpAQDA9QQeAIIEHgCCBB4AggQeAIIEHgCCBB4AggQeAIIEHgCCBB4Agl6nB3B/\\\n",
              "M3N6wod//a58t3fCL34a5xsXPAAECTwABAk8AAQJPAAECTwABAk8AAQJPAAECTwABAk8AAQJPAAE\\\n",
              "CTwABAk8AAQJPAAECTwABAk8AAQJPAAECTwABAk8AAQJPAAECTwABAk8AAQJPAAECTwABAk8AAQJ\\\n",
              "PAAECTwABAk8AAQJPAAECTwABAk8AAQJPAAECTwABAk8AAQJPAAECTwABAk8AAQJPAAECTwABAk8\\\n",
              "AAQJPAAECTwABAk8AAQJPAAECTwABAk8AAQJPAAECTwABAk8AAQJPAAECTwABAk8AAQJPAAECTwA\\\n",
              "BAk8AAQJPAAECTwABAk8AAQJPAAECTwABAk8AAQJPAAECTwABAk8AAQJPAAECTwABAk8AAQJPAAE\\\n",
              "CTwABAk8AAQJPAAECTwABAk8AAQJPAAECTwABAk8AAQJPAAECTwABAk8AAQJPAAECTwABAk8AAQJ\\\n",
              "PAAECTwABAk8AAQJPAAECTwABAk8AAQJPAAECTwABAk8AAQJPAAECTwABAk8AAQJPAAECTwABAk8\\\n",
              "AAQJPAAECTwABAk8AAQJPAAECTwABAk8AAQJPAAECTwABAk8AAQJPAAECTwABAk8AAQJPAAECTwA\\\n",
              "BAk8AAQJPAAECTwABAk8AAQJPAAECTwABAk8AAQJPAAECTwABAk8AAQJPAAECTwABAk8AAQJPAAE\\\n",
              "CTwABAk8AAQJPAAECTwABAk8AAQJPAAECTwABAk8AAQJPAAECTwABAk8AAQJPAAECTwABAk8AAQJ\\\n",
              "PAAECTwABAk8AAQJPAAECTwABAk8AAQJPAAECTwABAk8AAQJPAAECTwABAk8AAQJPAAECTwABAk8\\\n",
              "AAQJPAAECTwABAk8AAQJPAAECTwABAk8AAQJPAAECTwABAk8AAQJPAAECTwABAk8AAQJPAAECTwA\\\n",
              "BAk8AAQJPAAECTwABAk8AAQJPAAECTwABAk8AAQJPAAECTwABAk8AAQJPAAECTwABAk8AAQJPAAE\\\n",
              "CTwABAk8AAQJPAAECTwABAk8AAQJPAAECTwABAk8AAQJPAAECTwABAk8AAQJPAAECTwABAk8AAQJ\\\n",
              "PAAECTwABAk8AAQJPAAECTwABAk8AAQJPAAECTwABAk8AAQJPAAECTwABAk8AAQJPAAECTwABAk8\\\n",
              "AAQJPAAECTwABAk8AAQJPAAECTwABAk8AAQJPAAECTwABAk8AAQJPAAECTwABAk8AAQJPAAECTwA\\\n",
              "BAk8AAQJPAAECTwABAk8AAQJPAAEze7u6REAwLVc8AAQJPAAECTwABAk8AAQJPAAECTwABAk8AAQ\\\n",
              "JPAAECTwABAk8AAQ9AZXsg/xgVoO7AAAAABJRU5ErkJggg==\\\n",
              "\"\n",
              "  frames[5] = \"data:image/png;base64,iVBORw0KGgoAAAANSUhEUgAAAfgAAAD8CAYAAACbzrbdAAAABHNCSVQICAgIfAhkiAAAAAlwSFlz\\\n",
              "AAALEgAACxIB0t1+/AAAADh0RVh0U29mdHdhcmUAbWF0cGxvdGxpYiB2ZXJzaW9uMy4yLjIsIGh0\\\n",
              "dHA6Ly9tYXRwbG90bGliLm9yZy+WH4yJAAAELUlEQVR4nO3csQ1CQQwFQYzov2XTASL46GCZqeDp\\\n",
              "kpWTm93dGwCQcj89AAC4nsADQJDAA0CQwANAkMADQJDAA0CQwANAkMADQJDAA0CQwANA0OP0AL7f\\\n",
              "zJye8LZP/bz8S2/A//DTOK+44AEgSOABIEjgASBI4AEgSOABIEjgASBI4AEgSOABIEjgASBI4AEg\\\n",
              "SOABIEjgASBI4AEgSOABIEjgASBI4AEgSOABIEjgASBI4AEgSOABIEjgASBI4AEgSOABIEjgASBI\\\n",
              "4AEgSOABIEjgASBI4AEgSOABIEjgASBI4AEgSOABIEjgASBI4AEgSOABIEjgASBI4AEgSOABIEjg\\\n",
              "ASBI4AEgSOABIEjgASBI4AEgSOABIEjgASBI4AEgSOABIEjgASBI4AEgSOABIEjgASBI4AEgSOAB\\\n",
              "IEjgASBI4AEgSOABIEjgASBI4AEgSOABIEjgASBI4AEgSOABIEjgASBI4AEgSOABIEjgASBI4AEg\\\n",
              "SOABIEjgASBI4AEgSOABIEjgASBI4AEgSOABIEjgASBI4AEgSOABIEjgASBI4AEgSOABIEjgASBI\\\n",
              "4AEgSOABIEjgASBI4AEgSOABIEjgASBI4AEgSOABIEjgASBI4AEgSOABIEjgASBI4AEgSOABIEjg\\\n",
              "ASBI4AEgSOABIEjgASBI4AEgSOABIEjgASBI4AEgSOABIEjgASBI4AEgSOABIEjgASBI4AEgSOAB\\\n",
              "IEjgASBI4AEgSOABIEjgASBI4AEgSOABIEjgASBI4AEgSOABIEjgASBI4AEgSOABIEjgASBI4AEg\\\n",
              "SOABIEjgASBI4AEgSOABIEjgASBI4AEgSOABIEjgASBI4AEgSOABIEjgASBI4AEgSOABIEjgASBI\\\n",
              "4AEgSOABIEjgASBI4AEgSOABIEjgASBI4AEgSOABIEjgASBI4AEgSOABIEjgASBI4AEgSOABIEjg\\\n",
              "ASBI4AEgSOABIEjgASBI4AEgSOABIEjgASBI4AEgSOABIEjgASBI4AEgSOABIEjgASBI4AEgSOAB\\\n",
              "IEjgASBI4AEgSOABIEjgASBI4AEgSOABIEjgASBI4AEgSOABIEjgASBI4AEgSOABIEjgASBI4AEg\\\n",
              "SOABIEjgASBI4AEgSOABIEjgASBI4AEgSOABIEjgASBI4AEgSOABIEjgASBI4AEgSOABIEjgASBI\\\n",
              "4AEgSOABIEjgASBI4AEgSOABIEjgASBI4AEgSOABIEjgASBI4AEgSOABIEjgASBI4AEgSOABIEjg\\\n",
              "ASBI4AEgSOABIEjgASBI4AEgSOABIEjgASBI4AEgSOABIEjgASBI4AEgSOABIEjgASBI4AEgSOAB\\\n",
              "IEjgASBI4AEgSOABIEjgASBI4AEgaHZ3T48AAK7lggeAIIEHgCCBB4AggQeAIIEHgCCBB4AggQeA\\\n",
              "IIEHgCCBB4AggQeAoCcDsg/x83GC7wAAAABJRU5ErkJggg==\\\n",
              "\"\n",
              "  frames[6] = \"data:image/png;base64,iVBORw0KGgoAAAANSUhEUgAAAfgAAAD8CAYAAACbzrbdAAAABHNCSVQICAgIfAhkiAAAAAlwSFlz\\\n",
              "AAALEgAACxIB0t1+/AAAADh0RVh0U29mdHdhcmUAbWF0cGxvdGxpYiB2ZXJzaW9uMy4yLjIsIGh0\\\n",
              "dHA6Ly9tYXRwbG90bGliLm9yZy+WH4yJAAAEK0lEQVR4nO3csQ0CMBAEQR7Rf8tPB0RGhtVMBScn\\\n",
              "q088u7sPACDleXsAAHCewANAkMADQJDAA0CQwANAkMADQJDAA0CQwANAkMADQJDAA0DQ6/YAft/M\\\n",
              "3J5wzDd+Zi69D//FT+N84oIHgCCBB4AggQeAIIEHgCCBB4AggQeAIIEHgCCBB4AggQeAIIEHgCCB\\\n",
              "B4AggQeAIIEHgCCBB4AggQeAIIEHgCCBB4AggQeAIIEHgCCBB4AggQeAIIEHgCCBB4AggQeAIIEH\\\n",
              "gCCBB4AggQeAIIEHgCCBB4AggQeAIIEHgCCBB4AggQeAIIEHgCCBB4AggQeAIIEHgCCBB4AggQeA\\\n",
              "IIEHgCCBB4AggQeAIIEHgCCBB4AggQeAIIEHgCCBB4AggQeAIIEHgCCBB4AggQeAIIEHgCCBB4Ag\\\n",
              "gQeAIIEHgCCBB4AggQeAIIEHgCCBB4AggQeAIIEHgCCBB4AggQeAIIEHgCCBB4AggQeAIIEHgCCB\\\n",
              "B4AggQeAIIEHgCCBB4AggQeAIIEHgCCBB4AggQeAIIEHgCCBB4AggQeAIIEHgCCBB4AggQeAIIEH\\\n",
              "gCCBB4AggQeAIIEHgCCBB4AggQeAIIEHgCCBB4AggQeAIIEHgCCBB4AggQeAIIEHgCCBB4AggQeA\\\n",
              "IIEHgCCBB4AggQeAIIEHgCCBB4AggQeAIIEHgCCBB4AggQeAIIEHgCCBB4AggQeAIIEHgCCBB4Ag\\\n",
              "gQeAIIEHgCCBB4AggQeAIIEHgCCBB4AggQeAIIEHgCCBB4AggQeAIIEHgCCBB4AggQeAIIEHgCCB\\\n",
              "B4AggQeAIIEHgCCBB4AggQeAIIEHgCCBB4AggQeAIIEHgCCBB4AggQeAIIEHgCCBB4AggQeAIIEH\\\n",
              "gCCBB4AggQeAIIEHgCCBB4AggQeAIIEHgCCBB4AggQeAIIEHgCCBB4AggQeAIIEHgCCBB4AggQeA\\\n",
              "IIEHgCCBB4AggQeAIIEHgCCBB4AggQeAIIEHgCCBB4AggQeAIIEHgCCBB4AggQeAIIEHgCCBB4Ag\\\n",
              "gQeAIIEHgCCBB4AggQeAIIEHgCCBB4AggQeAIIEHgCCBB4AggQeAIIEHgCCBB4AggQeAIIEHgCCB\\\n",
              "B4AggQeAIIEHgCCBB4AggQeAIIEHgCCBB4AggQeAIIEHgCCBB4AggQeAIIEHgCCBB4AggQeAIIEH\\\n",
              "gCCBB4AggQeAIIEHgCCBB4AggQeAIIEHgCCBB4AggQeAIIEHgCCBB4AggQeAIIEHgCCBB4AggQeA\\\n",
              "IIEHgCCBB4AggQeAIIEHgCCBB4AggQeAIIEHgCCBB4AggQeAIIEHgCCBB4AggQeAIIEHgCCBB4Ag\\\n",
              "gQeAIIEHgCCBB4AggQeAIIEHgKDZ3b09AgA4ywUPAEECDwBBAg8AQQIPAEECDwBBAg8AQQIPAEEC\\\n",
              "DwBBAg8AQQIPAEFvo68P8UsO5BYAAAAASUVORK5CYII=\\\n",
              "\"\n",
              "  frames[7] = \"data:image/png;base64,iVBORw0KGgoAAAANSUhEUgAAAfgAAAD8CAYAAACbzrbdAAAABHNCSVQICAgIfAhkiAAAAAlwSFlz\\\n",
              "AAALEgAACxIB0t1+/AAAADh0RVh0U29mdHdhcmUAbWF0cGxvdGxpYiB2ZXJzaW9uMy4yLjIsIGh0\\\n",
              "dHA6Ly9tYXRwbG90bGliLm9yZy+WH4yJAAAELElEQVR4nO3csQ1CMRAFQQ7Rf8tHB0QW/lrNVPDk\\\n",
              "ZHWJZ3f3BQCkvG8PAADOE3gACBJ4AAgSeAAIEngACBJ4AAgSeAAIEngACBJ4AAgSeAAI+twewPPN\\\n",
              "zO0Jx/z7Z+bS2/E8fhrnFxc8AAQJPAAECTwABAk8AAQJPAAECTwABAk8AAQJPAAECTwABAk8AAQJ\\\n",
              "PAAECTwABAk8AAQJPAAECTwABAk8AAQJPAAECTwABAk8AAQJPAAECTwABAk8AAQJPAAECTwABAk8\\\n",
              "AAQJPAAECTwABAk8AAQJPAAECTwABAk8AAQJPAAECTwABAk8AAQJPAAECTwABAk8AAQJPAAECTwA\\\n",
              "BAk8AAQJPAAECTwABAk8AAQJPAAECTwABAk8AAQJPAAECTwABAk8AAQJPAAECTwABAk8AAQJPAAE\\\n",
              "CTwABAk8AAQJPAAECTwABAk8AAQJPAAECTwABAk8AAQJPAAECTwABAk8AAQJPAAECTwABAk8AAQJ\\\n",
              "PAAECTwABAk8AAQJPAAECTwABAk8AAQJPAAECTwABAk8AAQJPAAECTwABAk8AAQJPAAECTwABAk8\\\n",
              "AAQJPAAECTwABAk8AAQJPAAECTwABAk8AAQJPAAECTwABAk8AAQJPAAECTwABAk8AAQJPAAECTwA\\\n",
              "BAk8AAQJPAAECTwABAk8AAQJPAAECTwABAk8AAQJPAAECTwABAk8AAQJPAAECTwABAk8AAQJPAAE\\\n",
              "CTwABAk8AAQJPAAECTwABAk8AAQJPAAECTwABAk8AAQJPAAECTwABAk8AAQJPAAECTwABAk8AAQJ\\\n",
              "PAAECTwABAk8AAQJPAAECTwABAk8AAQJPAAECTwABAk8AAQJPAAECTwABAk8AAQJPAAECTwABAk8\\\n",
              "AAQJPAAECTwABAk8AAQJPAAECTwABAk8AAQJPAAECTwABAk8AAQJPAAECTwABAk8AAQJPAAECTwA\\\n",
              "BAk8AAQJPAAECTwABAk8AAQJPAAECTwABAk8AAQJPAAECTwABAk8AAQJPAAECTwABAk8AAQJPAAE\\\n",
              "CTwABAk8AAQJPAAECTwABAk8AAQJPAAECTwABAk8AAQJPAAECTwABAk8AAQJPAAECTwABAk8AAQJ\\\n",
              "PAAECTwABAk8AAQJPAAECTwABAk8AAQJPAAECTwABAk8AAQJPAAECTwABAk8AAQJPAAECTwABAk8\\\n",
              "AAQJPAAECTwABAk8AAQJPAAECTwABAk8AAQJPAAECTwABAk8AAQJPAAECTwABAk8AAQJPAAECTwA\\\n",
              "BAk8AAQJPAAECTwABAk8AAQJPAAECTwABAk8AAQJPAAECTwABAk8AAQJPAAECTwABAk8AAQJPAAE\\\n",
              "CTwABAk8AAQJPAAECTwABAk8AATN7u7tEQDAWS54AAgSeAAIEngACBJ4AAgSeAAIEngACBJ4AAgS\\\n",
              "eAAIEngACBJ4AAj6AqNbD/EJiQdLAAAAAElFTkSuQmCC\\\n",
              "\"\n",
              "  frames[8] = \"data:image/png;base64,iVBORw0KGgoAAAANSUhEUgAAAfgAAAD8CAYAAACbzrbdAAAABHNCSVQICAgIfAhkiAAAAAlwSFlz\\\n",
              "AAALEgAACxIB0t1+/AAAADh0RVh0U29mdHdhcmUAbWF0cGxvdGxpYiB2ZXJzaW9uMy4yLjIsIGh0\\\n",
              "dHA6Ly9tYXRwbG90bGliLm9yZy+WH4yJAAAELUlEQVR4nO3csQ0CQRAEQQ6Rf8pLBlj/LGqqIhid\\\n",
              "01rnzszMAwBIeW4PAACuJ/AAECTwABAk8AAQJPAAECTwABAk8AAQJPAAECTwABAk8AAQ9NoewO87\\\n",
              "52xP+Io7fm3+l7djh5/G+cQFDwBBAg8AQQIPAEECDwBBAg8AQQIPAEECDwBBAg8AQQIPAEECDwBB\\\n",
              "Ag8AQQIPAEECDwBBAg8AQQIPAEECDwBBAg8AQQIPAEECDwBBAg8AQQIPAEECDwBBAg8AQQIPAEEC\\\n",
              "DwBBAg8AQQIPAEECDwBBAg8AQQIPAEECDwBBAg8AQQIPAEECDwBBAg8AQQIPAEECDwBBAg8AQQIP\\\n",
              "AEECDwBBAg8AQQIPAEECDwBBAg8AQQIPAEECDwBBAg8AQQIPAEECDwBBAg8AQQIPAEECDwBBAg8A\\\n",
              "QQIPAEECDwBBAg8AQQIPAEECDwBBAg8AQQIPAEECDwBBAg8AQQIPAEECDwBBAg8AQQIPAEECDwBB\\\n",
              "Ag8AQQIPAEECDwBBAg8AQQIPAEECDwBBAg8AQQIPAEECDwBBAg8AQQIPAEECDwBBAg8AQQIPAEEC\\\n",
              "DwBBAg8AQQIPAEECDwBBAg8AQQIPAEECDwBBAg8AQQIPAEECDwBBAg8AQQIPAEECDwBBAg8AQQIP\\\n",
              "AEECDwBBAg8AQQIPAEECDwBBAg8AQQIPAEECDwBBAg8AQQIPAEECDwBBAg8AQQIPAEECDwBBAg8A\\\n",
              "QQIPAEECDwBBAg8AQQIPAEECDwBBAg8AQQIPAEECDwBBAg8AQQIPAEECDwBBAg8AQQIPAEECDwBB\\\n",
              "Ag8AQQIPAEECDwBBAg8AQQIPAEECDwBBAg8AQQIPAEECDwBBAg8AQQIPAEECDwBBAg8AQQIPAEEC\\\n",
              "DwBBAg8AQQIPAEECDwBBAg8AQQIPAEECDwBBAg8AQQIPAEECDwBBAg8AQQIPAEECDwBBAg8AQQIP\\\n",
              "AEECDwBBAg8AQQIPAEECDwBBAg8AQQIPAEECDwBBAg8AQQIPAEECDwBBAg8AQQIPAEECDwBBAg8A\\\n",
              "QQIPAEECDwBBAg8AQQIPAEECDwBBAg8AQQIPAEECDwBBAg8AQQIPAEECDwBBAg8AQQIPAEECDwBB\\\n",
              "Ag8AQQIPAEECDwBBAg8AQQIPAEECDwBBAg8AQQIPAEECDwBBAg8AQQIPAEECDwBBAg8AQQIPAEEC\\\n",
              "DwBBAg8AQQIPAEECDwBBAg8AQQIPAEECDwBBAg8AQQIPAEECDwBBAg8AQQIPAEECDwBBAg8AQQIP\\\n",
              "AEECDwBBAg8AQQIPAEECDwBBAg8AQQIPAEECDwBBAg8AQQIPAEECDwBBAg8AQQIPAEECDwBBAg8A\\\n",
              "QQIPAEECDwBBAg8AQQIPAEECDwBBZ2ZmewQAcC0XPAAECTwABAk8AAQJPAAECTwABAk8AAQJPAAE\\\n",
              "CTwABAk8AAQJPAAEvQFPrw/xMMQZmwAAAABJRU5ErkJggg==\\\n",
              "\"\n",
              "  frames[9] = \"data:image/png;base64,iVBORw0KGgoAAAANSUhEUgAAAfgAAAD8CAYAAACbzrbdAAAABHNCSVQICAgIfAhkiAAAAAlwSFlz\\\n",
              "AAALEgAACxIB0t1+/AAAADh0RVh0U29mdHdhcmUAbWF0cGxvdGxpYiB2ZXJzaW9uMy4yLjIsIGh0\\\n",
              "dHA6Ly9tYXRwbG90bGliLm9yZy+WH4yJAAAELElEQVR4nO3csQ0DMQwEQctw/y3THTjxP/hYzFRw\\\n",
              "ULJgojMz8wIAUt7bAwCA6wk8AAQJPAAECTwABAk8AAQJPAAECTwABAk8AAQJPAAECTwABH22B/B8\\\n",
              "55ztCevu+tHZ2/IPP43ziwseAIIEHgCCBB4AggQeAIIEHgCCBB4AggQeAIIEHgCCBB4AggQeAIIE\\\n",
              "HgCCBB4AggQeAIIEHgCCBB4AggQeAIIEHgCCBB4AggQeAIIEHgCCBB4AggQeAIIEHgCCBB4AggQe\\\n",
              "AIIEHgCCBB4AggQeAIIEHgCCBB4AggQeAIIEHgCCBB4AggQeAIIEHgCCBB4AggQeAIIEHgCCBB4A\\\n",
              "ggQeAIIEHgCCBB4AggQeAIIEHgCCBB4AggQeAIIEHgCCBB4AggQeAIIEHgCCBB4AggQeAIIEHgCC\\\n",
              "BB4AggQeAIIEHgCCBB4AggQeAIIEHgCCBB4AggQeAIIEHgCCBB4AggQeAIIEHgCCBB4AggQeAIIE\\\n",
              "HgCCBB4AggQeAIIEHgCCBB4AggQeAIIEHgCCBB4AggQeAIIEHgCCBB4AggQeAIIEHgCCBB4AggQe\\\n",
              "AIIEHgCCBB4AggQeAIIEHgCCBB4AggQeAIIEHgCCBB4AggQeAIIEHgCCBB4AggQeAIIEHgCCBB4A\\\n",
              "ggQeAIIEHgCCBB4AggQeAIIEHgCCBB4AggQeAIIEHgCCBB4AggQeAIIEHgCCBB4AggQeAIIEHgCC\\\n",
              "BB4AggQeAIIEHgCCBB4AggQeAIIEHgCCBB4AggQeAIIEHgCCBB4AggQeAIIEHgCCBB4AggQeAIIE\\\n",
              "HgCCBB4AggQeAIIEHgCCBB4AggQeAIIEHgCCBB4AggQeAIIEHgCCBB4AggQeAIIEHgCCBB4AggQe\\\n",
              "AIIEHgCCBB4AggQeAIIEHgCCBB4AggQeAIIEHgCCBB4AggQeAIIEHgCCBB4AggQeAIIEHgCCBB4A\\\n",
              "ggQeAIIEHgCCBB4AggQeAIIEHgCCBB4AggQeAIIEHgCCBB4AggQeAIIEHgCCBB4AggQeAIIEHgCC\\\n",
              "BB4AggQeAIIEHgCCBB4AggQeAIIEHgCCBB4AggQeAIIEHgCCBB4AggQeAIIEHgCCBB4AggQeAIIE\\\n",
              "HgCCBB4AggQeAIIEHgCCBB4AggQeAIIEHgCCBB4AggQeAIIEHgCCBB4AggQeAIIEHgCCBB4AggQe\\\n",
              "AIIEHgCCBB4AggQeAIIEHgCCBB4AggQeAIIEHgCCBB4AggQeAIIEHgCCBB4AggQeAIIEHgCCBB4A\\\n",
              "ggQeAIIEHgCCBB4AggQeAIIEHgCCBB4AggQeAIIEHgCCBB4AggQeAIIEHgCCBB4AggQeAIIEHgCC\\\n",
              "BB4AggQeAIIEHgCCBB4AggQeAILOzMz2CADgWi54AAgSeAAIEngACBJ4AAgSeAAIEngACBJ4AAgS\\\n",
              "eAAIEngACBJ4AAj6AvuUD/G8vuEHAAAAAElFTkSuQmCC\\\n",
              "\"\n",
              "  frames[10] = \"data:image/png;base64,iVBORw0KGgoAAAANSUhEUgAAAfgAAAD8CAYAAACbzrbdAAAABHNCSVQICAgIfAhkiAAAAAlwSFlz\\\n",
              "AAALEgAACxIB0t1+/AAAADh0RVh0U29mdHdhcmUAbWF0cGxvdGxpYiB2ZXJzaW9uMy4yLjIsIGh0\\\n",
              "dHA6Ly9tYXRwbG90bGliLm9yZy+WH4yJAAAELElEQVR4nO3csQ0DMQwEQdNw/y3THfiTN/RYzFRw\\\n",
              "ULJgotndfQEAKe/TAwCA+wk8AAQJPAAECTwABAk8AAQJPAAECTwABAk8AAQJPAAECTwABH1OD+D5\\\n",
              "Zub0hEf712/P3p0rfhrnFxc8AAQJPAAECTwABAk8AAQJPAAECTwABAk8AAQJPAAECTwABAk8AAQJ\\\n",
              "PAAECTwABAk8AAQJPAAECTwABAk8AAQJPAAECTwABAk8AAQJPAAECTwABAk8AAQJPAAECTwABAk8\\\n",
              "AAQJPAAECTwABAk8AAQJPAAECTwABAk8AAQJPAAECTwABAk8AAQJPAAECTwABAk8AAQJPAAECTwA\\\n",
              "BAk8AAQJPAAECTwABAk8AAQJPAAECTwABAk8AAQJPAAECTwABAk8AAQJPAAECTwABAk8AAQJPAAE\\\n",
              "CTwABAk8AAQJPAAECTwABAk8AAQJPAAECTwABAk8AAQJPAAECTwABAk8AAQJPAAECTwABAk8AAQJ\\\n",
              "PAAECTwABAk8AAQJPAAECTwABAk8AAQJPAAECTwABAk8AAQJPAAECTwABAk8AAQJPAAECTwABAk8\\\n",
              "AAQJPAAECTwABAk8AAQJPAAECTwABAk8AAQJPAAECTwABAk8AAQJPAAECTwABAk8AAQJPAAECTwA\\\n",
              "BAk8AAQJPAAECTwABAk8AAQJPAAECTwABAk8AAQJPAAECTwABAk8AAQJPAAECTwABAk8AAQJPAAE\\\n",
              "CTwABAk8AAQJPAAECTwABAk8AAQJPAAECTwABAk8AAQJPAAECTwABAk8AAQJPAAECTwABAk8AAQJ\\\n",
              "PAAECTwABAk8AAQJPAAECTwABAk8AAQJPAAECTwABAk8AAQJPAAECTwABAk8AAQJPAAECTwABAk8\\\n",
              "AAQJPAAECTwABAk8AAQJPAAECTwABAk8AAQJPAAECTwABAk8AAQJPAAECTwABAk8AAQJPAAECTwA\\\n",
              "BAk8AAQJPAAECTwABAk8AAQJPAAECTwABAk8AAQJPAAECTwABAk8AAQJPAAECTwABAk8AAQJPAAE\\\n",
              "CTwABAk8AAQJPAAECTwABAk8AAQJPAAECTwABAk8AAQJPAAECTwABAk8AAQJPAAECTwABAk8AAQJ\\\n",
              "PAAECTwABAk8AAQJPAAECTwABAk8AAQJPAAECTwABAk8AAQJPAAECTwABAk8AAQJPAAECTwABAk8\\\n",
              "AAQJPAAECTwABAk8AAQJPAAECTwABAk8AAQJPAAECTwABAk8AAQJPAAECTwABAk8AAQJPAAECTwA\\\n",
              "BAk8AAQJPAAECTwABAk8AAQJPAAECTwABAk8AAQJPAAECTwABAk8AAQJPAAECTwABAk8AAQJPAAE\\\n",
              "CTwABAk8AAQJPAAECTwABAk8AATN7u7pEQDAvVzwABAk8AAQJPAAECTwABAk8AAQJPAAECTwABAk\\\n",
              "8AAQJPAAECTwABD0BaeUD/GiIMbCAAAAAElFTkSuQmCC\\\n",
              "\"\n",
              "  frames[11] = \"data:image/png;base64,iVBORw0KGgoAAAANSUhEUgAAAfgAAAD8CAYAAACbzrbdAAAABHNCSVQICAgIfAhkiAAAAAlwSFlz\\\n",
              "AAALEgAACxIB0t1+/AAAADh0RVh0U29mdHdhcmUAbWF0cGxvdGxpYiB2ZXJzaW9uMy4yLjIsIGh0\\\n",
              "dHA6Ly9tYXRwbG90bGliLm9yZy+WH4yJAAAEK0lEQVR4nO3c0QnEIBRFQV3Sf8tvm0gwOcxUcEHh\\\n",
              "4I97ZmYBACm/0wMAgPsJPAAECTwABAk8AAQJPAAECTwABAk8AAQJPAAECTwABAk8AARdpwfwfnvv\\\n",
              "0xM+66mfoJ0Jaz13v2jwggeAIIEHgCCBB4AggQeAIIEHgCCBB4AggQeAIIEHgCCBB4AggQeAIIEH\\\n",
              "gCCBB4AggQeAIIEHgCCBB4AggQeAIIEHgCCBB4AggQeAIIEHgCCBB4AggQeAIIEHgCCBB4AggQeA\\\n",
              "IIEHgCCBB4AggQeAIIEHgCCBB4AggQeAIIEHgCCBB4AggQeAIIEHgCCBB4AggQeAIIEHgCCBB4Ag\\\n",
              "gQeAIIEHgCCBB4AggQeAIIEHgCCBB4AggQeAIIEHgCCBB4AggQeAIIEHgCCBB4AggQeAIIEHgCCB\\\n",
              "B4AggQeAIIEHgCCBB4AggQeAIIEHgCCBB4AggQeAIIEHgCCBB4AggQeAIIEHgCCBB4AggQeAIIEH\\\n",
              "gCCBB4AggQeAIIEHgCCBB4AggQeAIIEHgCCBB4AggQeAIIEHgCCBB4AggQeAIIEHgCCBB4AggQeA\\\n",
              "IIEHgCCBB4AggQeAIIEHgCCBB4AggQeAIIEHgCCBB4AggQeAIIEHgCCBB4AggQeAIIEHgCCBB4Ag\\\n",
              "gQeAIIEHgCCBB4AggQeAIIEHgCCBB4AggQeAIIEHgCCBB4AggQeAIIEHgCCBB4AggQeAIIEHgCCB\\\n",
              "B4AggQeAIIEHgCCBB4AggQeAIIEHgCCBB4AggQeAIIEHgCCBB4AggQeAIIEHgCCBB4AggQeAIIEH\\\n",
              "gCCBB4AggQeAIIEHgCCBB4AggQeAIIEHgCCBB4AggQeAIIEHgCCBB4AggQeAIIEHgCCBB4AggQeA\\\n",
              "IIEHgCCBB4AggQeAIIEHgCCBB4AggQeAIIEHgCCBB4AggQeAIIEHgCCBB4AggQeAIIEHgCCBB4Ag\\\n",
              "gQeAIIEHgCCBB4AggQeAIIEHgCCBB4AggQeAIIEHgCCBB4AggQeAIIEHgCCBB4AggQeAIIEHgCCB\\\n",
              "B4AggQeAIIEHgCCBB4AggQeAIIEHgCCBB4AggQeAIIEHgCCBB4AggQeAIIEHgCCBB4AggQeAIIEH\\\n",
              "gCCBB4AggQeAIIEHgCCBB4AggQeAIIEHgCCBB4AggQeAIIEHgCCBB4AggQeAIIEHgCCBB4AggQeA\\\n",
              "IIEHgCCBB4AggQeAIIEHgCCBB4AggQeAIIEHgCCBB4AggQeAIIEHgCCBB4AggQeAIIEHgCCBB4Ag\\\n",
              "gQeAIIEHgCCBB4AggQeAIIEHgCCBB4AggQeAIIEHgCCBB4AggQeAIIEHgCCBB4AggQeAIIEHgCCB\\\n",
              "B4AggQeAIIEHgCCBB4AggQeAoD0zc3oEAHAvL3gACBJ4AAgSeAAIEngACBJ4AAgSeAAIEngACBJ4\\\n",
              "AAgSeAAIEngACPoDU5QP8YWG1aYAAAAASUVORK5CYII=\\\n",
              "\"\n",
              "  frames[12] = \"data:image/png;base64,iVBORw0KGgoAAAANSUhEUgAAAfgAAAD8CAYAAACbzrbdAAAABHNCSVQICAgIfAhkiAAAAAlwSFlz\\\n",
              "AAALEgAACxIB0t1+/AAAADh0RVh0U29mdHdhcmUAbWF0cGxvdGxpYiB2ZXJzaW9uMy4yLjIsIGh0\\\n",
              "dHA6Ly9tYXRwbG90bGliLm9yZy+WH4yJAAAEK0lEQVR4nO3c0QnEIBRFQV3Sf8tvm0gwOcxUcEHh\\\n",
              "4I97ZmYBACm/0wMAgPsJPAAECTwABAk8AAQJPAAECTwABAk8AAQJPAAECTwABAk8AARdpwfwfnvv\\\n",
              "0xM+66mfoJ0Jaz13v2jwggeAIIEHgCCBB4AggQeAIIEHgCCBB4AggQeAIIEHgCCBB4AggQeAIIEH\\\n",
              "gCCBB4AggQeAIIEHgCCBB4AggQeAIIEHgCCBB4AggQeAIIEHgCCBB4AggQeAIIEHgCCBB4AggQeA\\\n",
              "IIEHgCCBB4AggQeAIIEHgCCBB4AggQeAIIEHgCCBB4AggQeAIIEHgCCBB4AggQeAIIEHgCCBB4Ag\\\n",
              "gQeAIIEHgCCBB4AggQeAIIEHgCCBB4AggQeAIIEHgCCBB4AggQeAIIEHgCCBB4AggQeAIIEHgCCB\\\n",
              "B4AggQeAIIEHgCCBB4AggQeAIIEHgCCBB4AggQeAIIEHgCCBB4AggQeAIIEHgCCBB4AggQeAIIEH\\\n",
              "gCCBB4AggQeAIIEHgCCBB4AggQeAIIEHgCCBB4AggQeAIIEHgCCBB4AggQeAIIEHgCCBB4AggQeA\\\n",
              "IIEHgCCBB4AggQeAIIEHgCCBB4AggQeAIIEHgCCBB4AggQeAIIEHgCCBB4AggQeAIIEHgCCBB4Ag\\\n",
              "gQeAIIEHgCCBB4AggQeAIIEHgCCBB4AggQeAIIEHgCCBB4AggQeAIIEHgCCBB4AggQeAIIEHgCCB\\\n",
              "B4AggQeAIIEHgCCBB4AggQeAIIEHgCCBB4AggQeAIIEHgCCBB4AggQeAIIEHgCCBB4AggQeAIIEH\\\n",
              "gCCBB4AggQeAIIEHgCCBB4AggQeAIIEHgCCBB4AggQeAIIEHgCCBB4AggQeAIIEHgCCBB4AggQeA\\\n",
              "IIEHgCCBB4AggQeAIIEHgCCBB4AggQeAIIEHgCCBB4AggQeAIIEHgCCBB4AggQeAIIEHgCCBB4Ag\\\n",
              "gQeAIIEHgCCBB4AggQeAIIEHgCCBB4AggQeAIIEHgCCBB4AggQeAIIEHgCCBB4AggQeAIIEHgCCB\\\n",
              "B4AggQeAIIEHgCCBB4AggQeAIIEHgCCBB4AggQeAIIEHgCCBB4AggQeAIIEHgCCBB4AggQeAIIEH\\\n",
              "gCCBB4AggQeAIIEHgCCBB4AggQeAIIEHgCCBB4AggQeAIIEHgCCBB4AggQeAIIEHgCCBB4AggQeA\\\n",
              "IIEHgCCBB4AggQeAIIEHgCCBB4AggQeAIIEHgCCBB4AggQeAIIEHgCCBB4AggQeAIIEHgCCBB4Ag\\\n",
              "gQeAIIEHgCCBB4AggQeAIIEHgCCBB4AggQeAIIEHgCCBB4AggQeAIIEHgCCBB4AggQeAIIEHgCCB\\\n",
              "B4AggQeAIIEHgCCBB4AggQeAoD0zc3oEAHAvL3gACBJ4AAgSeAAIEngACBJ4AAgSeAAIEngACBJ4\\\n",
              "AAgSeAAIEngACPoDU5QP8YWG1aYAAAAASUVORK5CYII=\\\n",
              "\"\n",
              "  frames[13] = \"data:image/png;base64,iVBORw0KGgoAAAANSUhEUgAAAfgAAAD8CAYAAACbzrbdAAAABHNCSVQICAgIfAhkiAAAAAlwSFlz\\\n",
              "AAALEgAACxIB0t1+/AAAADh0RVh0U29mdHdhcmUAbWF0cGxvdGxpYiB2ZXJzaW9uMy4yLjIsIGh0\\\n",
              "dHA6Ly9tYXRwbG90bGliLm9yZy+WH4yJAAAEK0lEQVR4nO3csQ0DMQwEQdNw/y3THTh6Q4/9mQoO\\\n",
              "ULBgotndfQEAKe/TAwCA6wk8AAQJPAAECTwABAk8AAQJPAAECTwABAk8AAQJPAAECTwABH1OD+D+\\\n",
              "Zub0hKx//BTtvZ7DT+P84oIHgCCBB4AggQeAIIEHgCCBB4AggQeAIIEHgCCBB4AggQeAIIEHgCCB\\\n",
              "B4AggQeAIIEHgCCBB4AggQeAIIEHgCCBB4AggQeAIIEHgCCBB4AggQeAIIEHgCCBB4AggQeAIIEH\\\n",
              "gCCBB4AggQeAIIEHgCCBB4AggQeAIIEHgCCBB4AggQeAIIEHgCCBB4AggQeAIIEHgCCBB4AggQeA\\\n",
              "IIEHgCCBB4AggQeAIIEHgCCBB4AggQeAIIEHgCCBB4AggQeAIIEHgCCBB4AggQeAIIEHgCCBB4Ag\\\n",
              "gQeAIIEHgCCBB4AggQeAIIEHgCCBB4AggQeAIIEHgCCBB4AggQeAIIEHgCCBB4AggQeAIIEHgCCB\\\n",
              "B4AggQeAIIEHgCCBB4AggQeAIIEHgCCBB4AggQeAIIEHgCCBB4AggQeAIIEHgCCBB4AggQeAIIEH\\\n",
              "gCCBB4AggQeAIIEHgCCBB4AggQeAIIEHgCCBB4AggQeAIIEHgCCBB4AggQeAIIEHgCCBB4AggQeA\\\n",
              "IIEHgCCBB4AggQeAIIEHgCCBB4AggQeAIIEHgCCBB4AggQeAIIEHgCCBB4AggQeAIIEHgCCBB4Ag\\\n",
              "gQeAIIEHgCCBB4AggQeAIIEHgCCBB4AggQeAIIEHgCCBB4AggQeAIIEHgCCBB4AggQeAIIEHgCCB\\\n",
              "B4AggQeAIIEHgCCBB4AggQeAIIEHgCCBB4AggQeAIIEHgCCBB4AggQeAIIEHgCCBB4AggQeAIIEH\\\n",
              "gCCBB4AggQeAIIEHgCCBB4AggQeAIIEHgCCBB4AggQeAIIEHgCCBB4AggQeAIIEHgCCBB4AggQeA\\\n",
              "IIEHgCCBB4AggQeAIIEHgCCBB4AggQeAIIEHgCCBB4AggQeAIIEHgCCBB4AggQeAIIEHgCCBB4Ag\\\n",
              "gQeAIIEHgCCBB4AggQeAIIEHgCCBB4AggQeAIIEHgCCBB4AggQeAIIEHgCCBB4AggQeAIIEHgCCB\\\n",
              "B4AggQeAIIEHgCCBB4AggQeAIIEHgCCBB4AggQeAIIEHgCCBB4AggQeAIIEHgCCBB4AggQeAIIEH\\\n",
              "gCCBB4AggQeAIIEHgCCBB4AggQeAIIEHgCCBB4AggQeAIIEHgCCBB4AggQeAIIEHgCCBB4AggQeA\\\n",
              "IIEHgCCBB4AggQeAIIEHgCCBB4AggQeAIIEHgCCBB4AggQeAIIEHgCCBB4AggQeAIIEHgCCBB4Ag\\\n",
              "gQeAIIEHgCCBB4AggQeAIIEHgKDZ3T09AgC4lgseAIIEHgCCBB4AggQeAIIEHgCCBB4AggQeAIIE\\\n",
              "HgCCBB4AggQeAIK+85EP8dVw7G0AAAAASUVORK5CYII=\\\n",
              "\"\n",
              "  frames[14] = \"data:image/png;base64,iVBORw0KGgoAAAANSUhEUgAAAfgAAAD8CAYAAACbzrbdAAAABHNCSVQICAgIfAhkiAAAAAlwSFlz\\\n",
              "AAALEgAACxIB0t1+/AAAADh0RVh0U29mdHdhcmUAbWF0cGxvdGxpYiB2ZXJzaW9uMy4yLjIsIGh0\\\n",
              "dHA6Ly9tYXRwbG90bGliLm9yZy+WH4yJAAAEK0lEQVR4nO3csQ0DMQwEQdNw/y3THTh6Q4/9mQoO\\\n",
              "ULBgotndfQEAKe/TAwCA6wk8AAQJPAAECTwABAk8AAQJPAAECTwABAk8AAQJPAAECTwABH1OD+D+\\\n",
              "Zub0hEf6xy/S3rLFT+P84oIHgCCBB4AggQeAIIEHgCCBB4AggQeAIIEHgCCBB4AggQeAIIEHgCCB\\\n",
              "B4AggQeAIIEHgCCBB4AggQeAIIEHgCCBB4AggQeAIIEHgCCBB4AggQeAIIEHgCCBB4AggQeAIIEH\\\n",
              "gCCBB4AggQeAIIEHgCCBB4AggQeAIIEHgCCBB4AggQeAIIEHgCCBB4AggQeAIIEHgCCBB4AggQeA\\\n",
              "IIEHgCCBB4AggQeAIIEHgCCBB4AggQeAIIEHgCCBB4AggQeAIIEHgCCBB4AggQeAIIEHgCCBB4Ag\\\n",
              "gQeAIIEHgCCBB4AggQeAIIEHgCCBB4AggQeAIIEHgCCBB4AggQeAIIEHgCCBB4AggQeAIIEHgCCB\\\n",
              "B4AggQeAIIEHgCCBB4AggQeAIIEHgCCBB4AggQeAIIEHgCCBB4AggQeAIIEHgCCBB4AggQeAIIEH\\\n",
              "gCCBB4AggQeAIIEHgCCBB4AggQeAIIEHgCCBB4AggQeAIIEHgCCBB4AggQeAIIEHgCCBB4AggQeA\\\n",
              "IIEHgCCBB4AggQeAIIEHgCCBB4AggQeAIIEHgCCBB4AggQeAIIEHgCCBB4AggQeAIIEHgCCBB4Ag\\\n",
              "gQeAIIEHgCCBB4AggQeAIIEHgCCBB4AggQeAIIEHgCCBB4AggQeAIIEHgCCBB4AggQeAIIEHgCCB\\\n",
              "B4AggQeAIIEHgCCBB4AggQeAIIEHgCCBB4AggQeAIIEHgCCBB4AggQeAIIEHgCCBB4AggQeAIIEH\\\n",
              "gCCBB4AggQeAIIEHgCCBB4AggQeAIIEHgCCBB4AggQeAIIEHgCCBB4AggQeAIIEHgCCBB4AggQeA\\\n",
              "IIEHgCCBB4AggQeAIIEHgCCBB4AggQeAIIEHgCCBB4AggQeAIIEHgCCBB4AggQeAIIEHgCCBB4Ag\\\n",
              "gQeAIIEHgCCBB4AggQeAIIEHgCCBB4AggQeAIIEHgCCBB4AggQeAIIEHgCCBB4AggQeAIIEHgCCB\\\n",
              "B4AggQeAIIEHgCCBB4AggQeAIIEHgCCBB4AggQeAIIEHgCCBB4AggQeAIIEHgCCBB4AggQeAIIEH\\\n",
              "gCCBB4AggQeAIIEHgCCBB4AggQeAIIEHgCCBB4AggQeAIIEHgCCBB4AggQeAIIEHgCCBB4AggQeA\\\n",
              "IIEHgCCBB4AggQeAIIEHgCCBB4AggQeAIIEHgCCBB4AggQeAIIEHgCCBB4AggQeAIIEHgCCBB4Ag\\\n",
              "gQeAIIEHgCCBB4AggQeAIIEHgKDZ3T09AgC4lgseAIIEHgCCBB4AggQeAIIEHgCCBB4AggQeAIIE\\\n",
              "HgCCBB4AggQeAIK+n5EP8QrWLAQAAAAASUVORK5CYII=\\\n",
              "\"\n",
              "  frames[15] = \"data:image/png;base64,iVBORw0KGgoAAAANSUhEUgAAAfgAAAD8CAYAAACbzrbdAAAABHNCSVQICAgIfAhkiAAAAAlwSFlz\\\n",
              "AAALEgAACxIB0t1+/AAAADh0RVh0U29mdHdhcmUAbWF0cGxvdGxpYiB2ZXJzaW9uMy4yLjIsIGh0\\\n",
              "dHA6Ly9tYXRwbG90bGliLm9yZy+WH4yJAAAELElEQVR4nO3cMQ4CQQwEQYz4/5dNTnDRoYVW1QtG\\\n",
              "2qDlZGd39wEApDxPDwAA7ifwABAk8AAQJPAAECTwABAk8AAQJPAAECTwABAk8AAQJPAAEPQ6PYDf\\\n",
              "NzOnJ/DhWz9Me+v/4qdxrrjgASBI4AEgSOABIEjgASBI4AEgSOABIEjgASBI4AEgSOABIEjgASBI\\\n",
              "4AEgSOABIEjgASBI4AEgSOABIEjgASBI4AEgSOABIEjgASBI4AEgSOABIEjgASBI4AEgSOABIEjg\\\n",
              "ASBI4AEgSOABIEjgASBI4AEgSOABIEjgASBI4AEgSOABIEjgASBI4AEgSOABIEjgASBI4AEgSOAB\\\n",
              "IEjgASBI4AEgSOABIEjgASBI4AEgSOABIEjgASBI4AEgSOABIEjgASBI4AEgSOABIEjgASBI4AEg\\\n",
              "SOABIEjgASBI4AEgSOABIEjgASBI4AEgSOABIEjgASBI4AEgSOABIEjgASBI4AEgSOABIEjgASBI\\\n",
              "4AEgSOABIEjgASBI4AEgSOABIEjgASBI4AEgSOABIEjgASBI4AEgSOABIEjgASBI4AEgSOABIEjg\\\n",
              "ASBI4AEgSOABIEjgASBI4AEgSOABIEjgASBI4AEgSOABIEjgASBI4AEgSOABIEjgASBI4AEgSOAB\\\n",
              "IEjgASBI4AEgSOABIEjgASBI4AEgSOABIEjgASBI4AEgSOABIEjgASBI4AEgSOABIEjgASBI4AEg\\\n",
              "SOABIEjgASBI4AEgSOABIEjgASBI4AEgSOABIEjgASBI4AEgSOABIEjgASBI4AEgSOABIEjgASBI\\\n",
              "4AEgSOABIEjgASBI4AEgSOABIEjgASBI4AEgSOABIEjgASBI4AEgSOABIEjgASBI4AEgSOABIEjg\\\n",
              "ASBI4AEgSOABIEjgASBI4AEgSOABIEjgASBI4AEgSOABIEjgASBI4AEgSOABIEjgASBI4AEgSOAB\\\n",
              "IEjgASBI4AEgSOABIEjgASBI4AEgSOABIEjgASBI4AEgSOABIEjgASBI4AEgSOABIEjgASBI4AEg\\\n",
              "SOABIEjgASBI4AEgSOABIEjgASBI4AEgSOABIEjgASBI4AEgSOABIEjgASBI4AEgSOABIEjgASBI\\\n",
              "4AEgSOABIEjgASBI4AEgSOABIEjgASBI4AEgSOABIEjgASBI4AEgSOABIEjgASBI4AEgSOABIEjg\\\n",
              "ASBI4AEgSOABIEjgASBI4AEgSOABIEjgASBI4AEgSOABIEjgASBI4AEgSOABIEjgASBI4AEgSOAB\\\n",
              "IEjgASBI4AEgSOABIEjgASBI4AEgSOABIEjgASBI4AEgSOABIEjgASBI4AEgSOABIEjgASBI4AEg\\\n",
              "SOABIEjgASBI4AEgSOABIEjgASBodndPjwAA7uWCB4AggQeAIIEHgCCBB4AggQeAIIEHgCCBB4Ag\\\n",
              "gQeAIIEHgCCBB4CgN0uFD/FecmedAAAAAElFTkSuQmCC\\\n",
              "\"\n",
              "  frames[16] = \"data:image/png;base64,iVBORw0KGgoAAAANSUhEUgAAAfgAAAD8CAYAAACbzrbdAAAABHNCSVQICAgIfAhkiAAAAAlwSFlz\\\n",
              "AAALEgAACxIB0t1+/AAAADh0RVh0U29mdHdhcmUAbWF0cGxvdGxpYiB2ZXJzaW9uMy4yLjIsIGh0\\\n",
              "dHA6Ly9tYXRwbG90bGliLm9yZy+WH4yJAAAELElEQVR4nO3cMQrDQBAEQa/x/7+8yhU4Epxoql4w\\\n",
              "wUGzyc3u7gcASPmeHgAAPE/gASBI4AEgSOABIEjgASBI4AEgSOABIEjgASBI4AEgSOABIOh3egDv\\\n",
              "NzOnJ3Bz4odp7+B9/DTOPy54AAgSeAAIEngACBJ4AAgSeAAIEngACBJ4AAgSeAAIEngACBJ4AAgS\\\n",
              "eAAIEngACBJ4AAgSeAAIEngACBJ4AAgSeAAIEngACBJ4AAgSeAAIEngACBJ4AAgSeAAIEngACBJ4\\\n",
              "AAgSeAAIEngACBJ4AAgSeAAIEngACBJ4AAgSeAAIEngACBJ4AAgSeAAIEngACBJ4AAgSeAAIEngA\\\n",
              "CBJ4AAgSeAAIEngACBJ4AAgSeAAIEngACBJ4AAgSeAAIEngACBJ4AAgSeAAIEngACBJ4AAgSeAAI\\\n",
              "EngACBJ4AAgSeAAIEngACBJ4AAgSeAAIEngACBJ4AAgSeAAIEngACBJ4AAgSeAAIEngACBJ4AAgS\\\n",
              "eAAIEngACBJ4AAgSeAAIEngACBJ4AAgSeAAIEngACBJ4AAgSeAAIEngACBJ4AAgSeAAIEngACBJ4\\\n",
              "AAgSeAAIEngACBJ4AAgSeAAIEngACBJ4AAgSeAAIEngACBJ4AAgSeAAIEngACBJ4AAgSeAAIEngA\\\n",
              "CBJ4AAgSeAAIEngACBJ4AAgSeAAIEngACBJ4AAgSeAAIEngACBJ4AAgSeAAIEngACBJ4AAgSeAAI\\\n",
              "EngACBJ4AAgSeAAIEngACBJ4AAgSeAAIEngACBJ4AAgSeAAIEngACBJ4AAgSeAAIEngACBJ4AAgS\\\n",
              "eAAIEngACBJ4AAgSeAAIEngACBJ4AAgSeAAIEngACBJ4AAgSeAAIEngACBJ4AAgSeAAIEngACBJ4\\\n",
              "AAgSeAAIEngACBJ4AAgSeAAIEngACBJ4AAgSeAAIEngACBJ4AAgSeAAIEngACBJ4AAgSeAAIEngA\\\n",
              "CBJ4AAgSeAAIEngACBJ4AAgSeAAIEngACBJ4AAgSeAAIEngACBJ4AAgSeAAIEngACBJ4AAgSeAAI\\\n",
              "EngACBJ4AAgSeAAIEngACBJ4AAgSeAAIEngACBJ4AAgSeAAIEngACBJ4AAgSeAAIEngACBJ4AAgS\\\n",
              "eAAIEngACBJ4AAgSeAAIEngACBJ4AAgSeAAIEngACBJ4AAgSeAAIEngACBJ4AAgSeAAIEngACBJ4\\\n",
              "AAgSeAAIEngACBJ4AAgSeAAIEngACBJ4AAgSeAAIEngACBJ4AAgSeAAIEngACBJ4AAgSeAAIEngA\\\n",
              "CBJ4AAgSeAAIEngACBJ4AAgSeAAIEngACBJ4AAgSeAAIEngACBJ4AAgSeAAIEngACBJ4AAgSeAAI\\\n",
              "EngACBJ4AAgSeAAIEngACBJ4AAia3d3TIwCAZ7ngASBI4AEgSOABIEjgASBI4AEgSOABIEjgASBI\\\n",
              "4AEgSOABIEjgASDoAksxD/EWEZNhAAAAAElFTkSuQmCC\\\n",
              "\"\n",
              "  frames[17] = \"data:image/png;base64,iVBORw0KGgoAAAANSUhEUgAAAfgAAAD8CAYAAACbzrbdAAAABHNCSVQICAgIfAhkiAAAAAlwSFlz\\\n",
              "AAALEgAACxIB0t1+/AAAADh0RVh0U29mdHdhcmUAbWF0cGxvdGxpYiB2ZXJzaW9uMy4yLjIsIGh0\\\n",
              "dHA6Ly9tYXRwbG90bGliLm9yZy+WH4yJAAAELElEQVR4nO3cwQkDQQwEQcs4/5TlDAwHZ/ZoqiKY\\\n",
              "x0Kjz87u7gsASHmfHgAA3E/gASBI4AEgSOABIEjgASBI4AEgSOABIEjgASBI4AEgSOABIOhzegDP\\\n",
              "NzOnJ3DBv36f9g6ex0/j/OKCB4AggQeAIIEHgCCBB4AggQeAIIEHgCCBB4AggQeAIIEHgCCBB4Ag\\\n",
              "gQeAIIEHgCCBB4AggQeAIIEHgCCBB4AggQeAIIEHgCCBB4AggQeAIIEHgCCBB4AggQeAIIEHgCCB\\\n",
              "B4AggQeAIIEHgCCBB4AggQeAIIEHgCCBB4AggQeAIIEHgCCBB4AggQeAIIEHgCCBB4AggQeAIIEH\\\n",
              "gCCBB4AggQeAIIEHgCCBB4AggQeAIIEHgCCBB4AggQeAIIEHgCCBB4AggQeAIIEHgCCBB4AggQeA\\\n",
              "IIEHgCCBB4AggQeAIIEHgCCBB4AggQeAIIEHgCCBB4AggQeAIIEHgCCBB4AggQeAIIEHgCCBB4Ag\\\n",
              "gQeAIIEHgCCBB4AggQeAIIEHgCCBB4AggQeAIIEHgCCBB4AggQeAIIEHgCCBB4AggQeAIIEHgCCB\\\n",
              "B4AggQeAIIEHgCCBB4AggQeAIIEHgCCBB4AggQeAIIEHgCCBB4AggQeAIIEHgCCBB4AggQeAIIEH\\\n",
              "gCCBB4AggQeAIIEHgCCBB4AggQeAIIEHgCCBB4AggQeAIIEHgCCBB4AggQeAIIEHgCCBB4AggQeA\\\n",
              "IIEHgCCBB4AggQeAIIEHgCCBB4AggQeAIIEHgCCBB4AggQeAIIEHgCCBB4AggQeAIIEHgCCBB4Ag\\\n",
              "gQeAIIEHgCCBB4AggQeAIIEHgCCBB4AggQeAIIEHgCCBB4AggQeAIIEHgCCBB4AggQeAIIEHgCCB\\\n",
              "B4AggQeAIIEHgCCBB4AggQeAIIEHgCCBB4AggQeAIIEHgCCBB4AggQeAIIEHgCCBB4AggQeAIIEH\\\n",
              "gCCBB4AggQeAIIEHgCCBB4AggQeAIIEHgCCBB4AggQeAIIEHgCCBB4AggQeAIIEHgCCBB4AggQeA\\\n",
              "IIEHgCCBB4AggQeAIIEHgCCBB4AggQeAIIEHgCCBB4AggQeAIIEHgCCBB4AggQeAIIEHgCCBB4Ag\\\n",
              "gQeAIIEHgCCBB4AggQeAIIEHgCCBB4AggQeAIIEHgCCBB4AggQeAIIEHgCCBB4AggQeAIIEHgCCB\\\n",
              "B4AggQeAIIEHgCCBB4AggQeAIIEHgCCBB4AggQeAIIEHgCCBB4AggQeAIIEHgCCBB4AggQeAIIEH\\\n",
              "gCCBB4AggQeAIIEHgCCBB4AggQeAIIEHgCCBB4AggQeAIIEHgCCBB4AggQeAIIEHgCCBB4AggQeA\\\n",
              "IIEHgCCBB4AggQeAIIEHgCCBB4Cg2d09PQIAuJcLHgCCBB4AggQeAIIEHgCCBB4AggQeAIIEHgCC\\\n",
              "BB4AggQeAIIEHgCCvvd2D/E/CBP8AAAAAElFTkSuQmCC\\\n",
              "\"\n",
              "  frames[18] = \"data:image/png;base64,iVBORw0KGgoAAAANSUhEUgAAAfgAAAD8CAYAAACbzrbdAAAABHNCSVQICAgIfAhkiAAAAAlwSFlz\\\n",
              "AAALEgAACxIB0t1+/AAAADh0RVh0U29mdHdhcmUAbWF0cGxvdGxpYiB2ZXJzaW9uMy4yLjIsIGh0\\\n",
              "dHA6Ly9tYXRwbG90bGliLm9yZy+WH4yJAAAEK0lEQVR4nO3csQlDMRAFQZ9x/y2fO3Ckj8wyU8EL\\\n",
              "BMslmt3dFwCQ8r49AAA4T+ABIEjgASBI4AEgSOABIEjgASBI4AEgSOABIEjgASBI4AEg6HN7AP9v\\\n",
              "Zm5P4JCnfqb2Ru7w0zi/uOABIEjgASBI4AEgSOABIEjgASBI4AEgSOABIEjgASBI4AEgSOABIEjg\\\n",
              "ASBI4AEgSOABIEjgASBI4AEgSOABIEjgASBI4AEgSOABIEjgASBI4AEgSOABIEjgASBI4AEgSOAB\\\n",
              "IEjgASBI4AEgSOABIEjgASBI4AEgSOABIEjgASBI4AEgSOABIEjgASBI4AEgSOABIEjgASBI4AEg\\\n",
              "SOABIEjgASBI4AEgSOABIEjgASBI4AEgSOABIEjgASBI4AEgSOABIEjgASBI4AEgSOABIEjgASBI\\\n",
              "4AEgSOABIEjgASBI4AEgSOABIEjgASBI4AEgSOABIEjgASBI4AEgSOABIEjgASBI4AEgSOABIEjg\\\n",
              "ASBI4AEgSOABIEjgASBI4AEgSOABIEjgASBI4AEgSOABIEjgASBI4AEgSOABIEjgASBI4AEgSOAB\\\n",
              "IEjgASBI4AEgSOABIEjgASBI4AEgSOABIEjgASBI4AEgSOABIEjgASBI4AEgSOABIEjgASBI4AEg\\\n",
              "SOABIEjgASBI4AEgSOABIEjgASBI4AEgSOABIEjgASBI4AEgSOABIEjgASBI4AEgSOABIEjgASBI\\\n",
              "4AEgSOABIEjgASBI4AEgSOABIEjgASBI4AEgSOABIEjgASBI4AEgSOABIEjgASBI4AEgSOABIEjg\\\n",
              "ASBI4AEgSOABIEjgASBI4AEgSOABIEjgASBI4AEgSOABIEjgASBI4AEgSOABIEjgASBI4AEgSOAB\\\n",
              "IEjgASBI4AEgSOABIEjgASBI4AEgSOABIEjgASBI4AEgSOABIEjgASBI4AEgSOABIEjgASBI4AEg\\\n",
              "SOABIEjgASBI4AEgSOABIEjgASBI4AEgSOABIEjgASBI4AEgSOABIEjgASBI4AEgSOABIEjgASBI\\\n",
              "4AEgSOABIEjgASBI4AEgSOABIEjgASBI4AEgSOABIEjgASBI4AEgSOABIEjgASBI4AEgSOABIEjg\\\n",
              "ASBI4AEgSOABIEjgASBI4AEgSOABIEjgASBI4AEgSOABIEjgASBI4AEgSOABIEjgASBI4AEgSOAB\\\n",
              "IEjgASBI4AEgSOABIEjgASBI4AEgSOABIEjgASBI4AEgSOABIEjgASBI4AEgSOABIEjgASBI4AEg\\\n",
              "SOABIEjgASBI4AEgSOABIEjgASBI4AEgSOABIEjgASBI4AEgSOABIEjgASBI4AEgSOABIEjgASBI\\\n",
              "4AEgSOABIEjgASBI4AEgSOABIGh2d2+PAADOcsEDQJDAA0CQwANAkMADQJDAA0CQwANAkMADQJDA\\\n",
              "A0CQwANAkMADQNAXo3YP8SUjf9wAAAAASUVORK5CYII=\\\n",
              "\"\n",
              "  frames[19] = \"data:image/png;base64,iVBORw0KGgoAAAANSUhEUgAAAfgAAAD8CAYAAACbzrbdAAAABHNCSVQICAgIfAhkiAAAAAlwSFlz\\\n",
              "AAALEgAACxIB0t1+/AAAADh0RVh0U29mdHdhcmUAbWF0cGxvdGxpYiB2ZXJzaW9uMy4yLjIsIGh0\\\n",
              "dHA6Ly9tYXRwbG90bGliLm9yZy+WH4yJAAAELElEQVR4nO3csQ0DMQwEQdP4/lumO3D0bxmLmQou\\\n",
              "ELBgotndfQEAKe/TAwCA+wk8AAQJPAAECTwABAk8AAQJPAAECTwABAk8AAQJPAAECTwABF2nB/D/\\\n",
              "Zub0BH7kiZ+rvZ/n+Gmcb1zwABAk8AAQJPAAECTwABAk8AAQJPAAECTwABAk8AAQJPAAECTwABAk\\\n",
              "8AAQJPAAECTwABAk8AAQJPAAECTwABAk8AAQJPAAECTwABAk8AAQJPAAECTwABAk8AAQJPAAECTw\\\n",
              "ABAk8AAQJPAAECTwABAk8AAQJPAAECTwABAk8AAQJPAAECTwABAk8AAQJPAAECTwABAk8AAQJPAA\\\n",
              "ECTwABAk8AAQJPAAECTwABAk8AAQJPAAECTwABAk8AAQJPAAECTwABAk8AAQJPAAECTwABAk8AAQ\\\n",
              "JPAAECTwABAk8AAQJPAAECTwABAk8AAQJPAAECTwABAk8AAQJPAAECTwABAk8AAQJPAAECTwABAk\\\n",
              "8AAQJPAAECTwABAk8AAQJPAAECTwABAk8AAQJPAAECTwABAk8AAQJPAAECTwABAk8AAQJPAAECTw\\\n",
              "ABAk8AAQJPAAECTwABAk8AAQJPAAECTwABAk8AAQJPAAECTwABAk8AAQJPAAECTwABAk8AAQJPAA\\\n",
              "ECTwABAk8AAQJPAAECTwABAk8AAQJPAAECTwABAk8AAQJPAAECTwABAk8AAQJPAAECTwABAk8AAQ\\\n",
              "JPAAECTwABAk8AAQJPAAECTwABAk8AAQJPAAECTwABAk8AAQJPAAECTwABAk8AAQJPAAECTwABAk\\\n",
              "8AAQJPAAECTwABAk8AAQJPAAECTwABAk8AAQJPAAECTwABAk8AAQJPAAECTwABAk8AAQJPAAECTw\\\n",
              "ABAk8AAQJPAAECTwABAk8AAQJPAAECTwABAk8AAQJPAAECTwABAk8AAQJPAAECTwABAk8AAQJPAA\\\n",
              "ECTwABAk8AAQJPAAECTwABAk8AAQJPAAECTwABAk8AAQJPAAECTwABAk8AAQJPAAECTwABAk8AAQ\\\n",
              "JPAAECTwABAk8AAQJPAAECTwABAk8AAQJPAAECTwABAk8AAQJPAAECTwABAk8AAQJPAAECTwABAk\\\n",
              "8AAQJPAAECTwABAk8AAQJPAAECTwABAk8AAQJPAAECTwABAk8AAQJPAAECTwABAk8AAQJPAAECTw\\\n",
              "ABAk8AAQJPAAECTwABAk8AAQJPAAECTwABAk8AAQJPAAECTwABAk8AAQJPAAECTwABAk8AAQJPAA\\\n",
              "ECTwABAk8AAQJPAAECTwABAk8AAQJPAAECTwABAk8AAQJPAAECTwABAk8AAQJPAAECTwABAk8AAQ\\\n",
              "JPAAECTwABAk8AAQJPAAECTwABA0u7unRwAA93LBA0CQwANAkMADQJDAA0CQwANAkMADQJDAA0CQ\\\n",
              "wANAkMADQJDAA0DQB0OCD/FPvrZWAAAAAElFTkSuQmCC\\\n",
              "\"\n",
              "  frames[20] = \"data:image/png;base64,iVBORw0KGgoAAAANSUhEUgAAAfgAAAD8CAYAAACbzrbdAAAABHNCSVQICAgIfAhkiAAAAAlwSFlz\\\n",
              "AAALEgAACxIB0t1+/AAAADh0RVh0U29mdHdhcmUAbWF0cGxvdGxpYiB2ZXJzaW9uMy4yLjIsIGh0\\\n",
              "dHA6Ly9tYXRwbG90bGliLm9yZy+WH4yJAAAELUlEQVR4nO3csQkDQRAEQa1Q/imvMpDxvLinqYpg\\\n",
              "jINmnZvd3RcAkPI+PQAAuJ/AA0CQwANAkMADQJDAA0CQwANAkMADQJDAA0CQwANAkMADQNDn9ACe\\\n",
              "b2ZOT+AB/vWrtfd1nZ/G+cUFDwBBAg8AQQIPAEECDwBBAg8AQQIPAEECDwBBAg8AQQIPAEECDwBB\\\n",
              "Ag8AQQIPAEECDwBBAg8AQQIPAEECDwBBAg8AQQIPAEECDwBBAg8AQQIPAEECDwBBAg8AQQIPAEEC\\\n",
              "DwBBAg8AQQIPAEECDwBBAg8AQQIPAEECDwBBAg8AQQIPAEECDwBBAg8AQQIPAEECDwBBAg8AQQIP\\\n",
              "AEECDwBBAg8AQQIPAEECDwBBAg8AQQIPAEECDwBBAg8AQQIPAEECDwBBAg8AQQIPAEECDwBBAg8A\\\n",
              "QQIPAEECDwBBAg8AQQIPAEECDwBBAg8AQQIPAEECDwBBAg8AQQIPAEECDwBBAg8AQQIPAEECDwBB\\\n",
              "Ag8AQQIPAEECDwBBAg8AQQIPAEECDwBBAg8AQQIPAEECDwBBAg8AQQIPAEECDwBBAg8AQQIPAEEC\\\n",
              "DwBBAg8AQQIPAEECDwBBAg8AQQIPAEECDwBBAg8AQQIPAEECDwBBAg8AQQIPAEECDwBBAg8AQQIP\\\n",
              "AEECDwBBAg8AQQIPAEECDwBBAg8AQQIPAEECDwBBAg8AQQIPAEECDwBBAg8AQQIPAEECDwBBAg8A\\\n",
              "QQIPAEECDwBBAg8AQQIPAEECDwBBAg8AQQIPAEECDwBBAg8AQQIPAEECDwBBAg8AQQIPAEECDwBB\\\n",
              "Ag8AQQIPAEECDwBBAg8AQQIPAEECDwBBAg8AQQIPAEECDwBBAg8AQQIPAEECDwBBAg8AQQIPAEEC\\\n",
              "DwBBAg8AQQIPAEECDwBBAg8AQQIPAEECDwBBAg8AQQIPAEECDwBBAg8AQQIPAEECDwBBAg8AQQIP\\\n",
              "AEECDwBBAg8AQQIPAEECDwBBAg8AQQIPAEECDwBBAg8AQQIPAEECDwBBAg8AQQIPAEECDwBBAg8A\\\n",
              "QQIPAEECDwBBAg8AQQIPAEECDwBBAg8AQQIPAEECDwBBAg8AQQIPAEECDwBBAg8AQQIPAEECDwBB\\\n",
              "Ag8AQQIPAEECDwBBAg8AQQIPAEECDwBBAg8AQQIPAEECDwBBAg8AQQIPAEECDwBBAg8AQQIPAEEC\\\n",
              "DwBBAg8AQQIPAEECDwBBAg8AQQIPAEECDwBBAg8AQQIPAEECDwBBAg8AQQIPAEECDwBBAg8AQQIP\\\n",
              "AEECDwBBAg8AQQIPAEECDwBBAg8AQQIPAEECDwBBAg8AQQIPAEECDwBBAg8AQQIPAEECDwBBAg8A\\\n",
              "QQIPAEECDwBBAg8AQQIPAEECDwBBs7t7egQAcC8XPAAECTwABAk8AAQJPAAECTwABAk8AAQJPAAE\\\n",
              "CTwABAk8AAQJPAAEfQHvZw/xm+diegAAAABJRU5ErkJggg==\\\n",
              "\"\n",
              "  frames[21] = \"data:image/png;base64,iVBORw0KGgoAAAANSUhEUgAAAfgAAAD8CAYAAACbzrbdAAAABHNCSVQICAgIfAhkiAAAAAlwSFlz\\\n",
              "AAALEgAACxIB0t1+/AAAADh0RVh0U29mdHdhcmUAbWF0cGxvdGxpYiB2ZXJzaW9uMy4yLjIsIGh0\\\n",
              "dHA6Ly9tYXRwbG90bGliLm9yZy+WH4yJAAAELUlEQVR4nO3csQkDQRAEQa1Q/imvMpDxvLinqYpg\\\n",
              "jINmnZvd3RcAkPI+PQAAuJ/AA0CQwANAkMADQJDAA0CQwANAkMADQJDAA0CQwANAkMADQNDn9ACe\\\n",
              "b2ZOT+AB/vWrtfd1nZ/G+cUFDwBBAg8AQQIPAEECDwBBAg8AQQIPAEECDwBBAg8AQQIPAEECDwBB\\\n",
              "Ag8AQQIPAEECDwBBAg8AQQIPAEECDwBBAg8AQQIPAEECDwBBAg8AQQIPAEECDwBBAg8AQQIPAEEC\\\n",
              "DwBBAg8AQQIPAEECDwBBAg8AQQIPAEECDwBBAg8AQQIPAEECDwBBAg8AQQIPAEECDwBBAg8AQQIP\\\n",
              "AEECDwBBAg8AQQIPAEECDwBBAg8AQQIPAEECDwBBAg8AQQIPAEECDwBBAg8AQQIPAEECDwBBAg8A\\\n",
              "QQIPAEECDwBBAg8AQQIPAEECDwBBAg8AQQIPAEECDwBBAg8AQQIPAEECDwBBAg8AQQIPAEECDwBB\\\n",
              "Ag8AQQIPAEECDwBBAg8AQQIPAEECDwBBAg8AQQIPAEECDwBBAg8AQQIPAEECDwBBAg8AQQIPAEEC\\\n",
              "DwBBAg8AQQIPAEECDwBBAg8AQQIPAEECDwBBAg8AQQIPAEECDwBBAg8AQQIPAEECDwBBAg8AQQIP\\\n",
              "AEECDwBBAg8AQQIPAEECDwBBAg8AQQIPAEECDwBBAg8AQQIPAEECDwBBAg8AQQIPAEECDwBBAg8A\\\n",
              "QQIPAEECDwBBAg8AQQIPAEECDwBBAg8AQQIPAEECDwBBAg8AQQIPAEECDwBBAg8AQQIPAEECDwBB\\\n",
              "Ag8AQQIPAEECDwBBAg8AQQIPAEECDwBBAg8AQQIPAEECDwBBAg8AQQIPAEECDwBBAg8AQQIPAEEC\\\n",
              "DwBBAg8AQQIPAEECDwBBAg8AQQIPAEECDwBBAg8AQQIPAEECDwBBAg8AQQIPAEECDwBBAg8AQQIP\\\n",
              "AEECDwBBAg8AQQIPAEECDwBBAg8AQQIPAEECDwBBAg8AQQIPAEECDwBBAg8AQQIPAEECDwBBAg8A\\\n",
              "QQIPAEECDwBBAg8AQQIPAEECDwBBAg8AQQIPAEECDwBBAg8AQQIPAEECDwBBAg8AQQIPAEECDwBB\\\n",
              "Ag8AQQIPAEECDwBBAg8AQQIPAEECDwBBAg8AQQIPAEECDwBBAg8AQQIPAEECDwBBAg8AQQIPAEEC\\\n",
              "DwBBAg8AQQIPAEECDwBBAg8AQQIPAEECDwBBAg8AQQIPAEECDwBBAg8AQQIPAEECDwBBAg8AQQIP\\\n",
              "AEECDwBBAg8AQQIPAEECDwBBAg8AQQIPAEECDwBBAg8AQQIPAEECDwBBAg8AQQIPAEECDwBBAg8A\\\n",
              "QQIPAEECDwBBAg8AQQIPAEECDwBBs7t7egQAcC8XPAAECTwABAk8AAQJPAAECTwABAk8AAQJPAAE\\\n",
              "CTwABAk8AAQJPAAEfQHvZw/xm+diegAAAABJRU5ErkJggg==\\\n",
              "\"\n",
              "  frames[22] = \"data:image/png;base64,iVBORw0KGgoAAAANSUhEUgAAAfgAAAD8CAYAAACbzrbdAAAABHNCSVQICAgIfAhkiAAAAAlwSFlz\\\n",
              "AAALEgAACxIB0t1+/AAAADh0RVh0U29mdHdhcmUAbWF0cGxvdGxpYiB2ZXJzaW9uMy4yLjIsIGh0\\\n",
              "dHA6Ly9tYXRwbG90bGliLm9yZy+WH4yJAAAELElEQVR4nO3cwQnDQBAEQa9x/imvM9BL4kRTFcE8\\\n",
              "Dpr93OzufgCAlO/pAQDA/QQeAIIEHgCCBB4AggQeAIIEHgCCBB4AggQeAIIEHgCCBB4Agn6nB/B+\\\n",
              "M3N6Ai/31I/X3t41P41zxQUPAEECDwBBAg8AQQIPAEECDwBBAg8AQQIPAEECDwBBAg8AQQIPAEEC\\\n",
              "DwBBAg8AQQIPAEECDwBBAg8AQQIPAEECDwBBAg8AQQIPAEECDwBBAg8AQQIPAEECDwBBAg8AQQIP\\\n",
              "AEECDwBBAg8AQQIPAEECDwBBAg8AQQIPAEECDwBBAg8AQQIPAEECDwBBAg8AQQIPAEECDwBBAg8A\\\n",
              "QQIPAEECDwBBAg8AQQIPAEECDwBBAg8AQQIPAEECDwBBAg8AQQIPAEECDwBBAg8AQQIPAEECDwBB\\\n",
              "Ag8AQQIPAEECDwBBAg8AQQIPAEECDwBBAg8AQQIPAEECDwBBAg8AQQIPAEECDwBBAg8AQQIPAEEC\\\n",
              "DwBBAg8AQQIPAEECDwBBAg8AQQIPAEECDwBBAg8AQQIPAEECDwBBAg8AQQIPAEECDwBBAg8AQQIP\\\n",
              "AEECDwBBAg8AQQIPAEECDwBBAg8AQQIPAEECDwBBAg8AQQIPAEECDwBBAg8AQQIPAEECDwBBAg8A\\\n",
              "QQIPAEECDwBBAg8AQQIPAEECDwBBAg8AQQIPAEECDwBBAg8AQQIPAEECDwBBAg8AQQIPAEECDwBB\\\n",
              "Ag8AQQIPAEECDwBBAg8AQQIPAEECDwBBAg8AQQIPAEECDwBBAg8AQQIPAEECDwBBAg8AQQIPAEEC\\\n",
              "DwBBAg8AQQIPAEECDwBBAg8AQQIPAEECDwBBAg8AQQIPAEECDwBBAg8AQQIPAEECDwBBAg8AQQIP\\\n",
              "AEECDwBBAg8AQQIPAEECDwBBAg8AQQIPAEECDwBBAg8AQQIPAEECDwBBAg8AQQIPAEECDwBBAg8A\\\n",
              "QQIPAEECDwBBAg8AQQIPAEECDwBBAg8AQQIPAEECDwBBAg8AQQIPAEECDwBBAg8AQQIPAEECDwBB\\\n",
              "Ag8AQQIPAEECDwBBAg8AQQIPAEECDwBBAg8AQQIPAEECDwBBAg8AQQIPAEECDwBBAg8AQQIPAEEC\\\n",
              "DwBBAg8AQQIPAEECDwBBAg8AQQIPAEECDwBBAg8AQQIPAEECDwBBAg8AQQIPAEECDwBBAg8AQQIP\\\n",
              "AEECDwBBAg8AQQIPAEECDwBBAg8AQQIPAEECDwBBAg8AQQIPAEECDwBBAg8AQQIPAEECDwBBAg8A\\\n",
              "QQIPAEECDwBBAg8AQQIPAEECDwBBAg8AQQIPAEECDwBBAg8AQQIPAEECDwBBAg8AQQIPAEECDwBB\\\n",
              "Ag8AQQIPAEECDwBBAg8AQQIPAEGzu3t6BABwLxc8AAQJPAAECTwABAk8AAQJPAAECTwABAk8AAQJ\\\n",
              "PAAECTwABAk8AAT9AZtnD/GuxBirAAAAAElFTkSuQmCC\\\n",
              "\"\n",
              "  frames[23] = \"data:image/png;base64,iVBORw0KGgoAAAANSUhEUgAAAfgAAAD8CAYAAACbzrbdAAAABHNCSVQICAgIfAhkiAAAAAlwSFlz\\\n",
              "AAALEgAACxIB0t1+/AAAADh0RVh0U29mdHdhcmUAbWF0cGxvdGxpYiB2ZXJzaW9uMy4yLjIsIGh0\\\n",
              "dHA6Ly9tYXRwbG90bGliLm9yZy+WH4yJAAAEKklEQVR4nO3c0QnDMBAFwVxI/y2fm7BRvMxU8BCC\\\n",
              "RT+a3d0PAJDyPT0AALifwANAkMADQJDAA0CQwANAkMADQJDAA0CQwANAkMADQJDAA0DQ7/QA/t/M\\\n",
              "nJ7Aiz31G7Z7+dzZ0uAFDwBBAg8AQQIPAEECDwBBAg8AQQIPAEECDwBBAg8AQQIPAEECDwBBAg8A\\\n",
              "QQIPAEECDwBBAg8AQQIPAEECDwBBAg8AQQIPAEECDwBBAg8AQQIPAEECDwBBAg8AQQIPAEECDwBB\\\n",
              "Ag8AQQIPAEECDwBBAg8AQQIPAEECDwBBAg8AQQIPAEECDwBBAg8AQQIPAEECDwBBAg8AQQIPAEEC\\\n",
              "DwBBAg8AQQIPAEECDwBBAg8AQQIPAEECDwBBAg8AQQIPAEECDwBBAg8AQQIPAEECDwBBAg8AQQIP\\\n",
              "AEECDwBBAg8AQQIPAEECDwBBAg8AQQIPAEECDwBBAg8AQQIPAEECDwBBAg8AQQIPAEECDwBBAg8A\\\n",
              "QQIPAEECDwBBAg8AQQIPAEECDwBBAg8AQQIPAEECDwBBAg8AQQIPAEECDwBBAg8AQQIPAEECDwBB\\\n",
              "Ag8AQQIPAEECDwBBAg8AQQIPAEECDwBBAg8AQQIPAEECDwBBAg8AQQIPAEECDwBBAg8AQQIPAEEC\\\n",
              "DwBBAg8AQQIPAEECDwBBAg8AQQIPAEECDwBBAg8AQQIPAEECDwBBAg8AQQIPAEECDwBBAg8AQQIP\\\n",
              "AEECDwBBAg8AQQIPAEECDwBBAg8AQQIPAEECDwBBAg8AQQIPAEECDwBBAg8AQQIPAEECDwBBAg8A\\\n",
              "QQIPAEECDwBBAg8AQQIPAEECDwBBAg8AQQIPAEECDwBBAg8AQQIPAEECDwBBAg8AQQIPAEECDwBB\\\n",
              "Ag8AQQIPAEECDwBBAg8AQQIPAEECDwBBAg8AQQIPAEECDwBBAg8AQQIPAEECDwBBAg8AQQIPAEEC\\\n",
              "DwBBAg8AQQIPAEECDwBBAg8AQQIPAEECDwBBAg8AQQIPAEECDwBBAg8AQQIPAEECDwBBAg8AQQIP\\\n",
              "AEECDwBBAg8AQQIPAEECDwBBAg8AQQIPAEECDwBBAg8AQQIPAEECDwBBAg8AQQIPAEECDwBBAg8A\\\n",
              "QQIPAEECDwBBAg8AQQIPAEECDwBBAg8AQQIPAEECDwBBAg8AQQIPAEECDwBBAg8AQQIPAEECDwBB\\\n",
              "Ag8AQQIPAEECDwBBAg8AQQIPAEECDwBBAg8AQQIPAEECDwBBAg8AQQIPAEECDwBBAg8AQQIPAEEC\\\n",
              "DwBBAg8AQQIPAEECDwBBAg8AQQIPAEECDwBBAg8AQQIPAEECDwBBAg8AQQIPAEECDwBBAg8AQQIP\\\n",
              "AEECDwBBAg8AQQIPAEECDwBBs7t7egQAcC8veAAIEngACBJ4AAgSeAAIEngACBJ4AAgSeAAIEngA\\\n",
              "CBJ4AAgSeAAIugBHZw/xkNkE4QAAAABJRU5ErkJggg==\\\n",
              "\"\n",
              "  frames[24] = \"data:image/png;base64,iVBORw0KGgoAAAANSUhEUgAAAfgAAAD8CAYAAACbzrbdAAAABHNCSVQICAgIfAhkiAAAAAlwSFlz\\\n",
              "AAALEgAACxIB0t1+/AAAADh0RVh0U29mdHdhcmUAbWF0cGxvdGxpYiB2ZXJzaW9uMy4yLjIsIGh0\\\n",
              "dHA6Ly9tYXRwbG90bGliLm9yZy+WH4yJAAAELElEQVR4nO3csQ0DMQwEQdNw/y3THTh6Q4/9mQou\\\n",
              "ELBgotndfQEAKe/TAwCA6wk8AAQJPAAECTwABAk8AAQJPAAECTwABAk8AAQJPAAECTwABH1OD+D+\\\n",
              "Zub0BML+8Vv2U96sn8b5xQUPAEECDwBBAg8AQQIPAEECDwBBAg8AQQIPAEECDwBBAg8AQQIPAEEC\\\n",
              "DwBBAg8AQQIPAEECDwBBAg8AQQIPAEECDwBBAg8AQQIPAEECDwBBAg8AQQIPAEECDwBBAg8AQQIP\\\n",
              "AEECDwBBAg8AQQIPAEECDwBBAg8AQQIPAEECDwBBAg8AQQIPAEECDwBBAg8AQQIPAEECDwBBAg8A\\\n",
              "QQIPAEECDwBBAg8AQQIPAEECDwBBAg8AQQIPAEECDwBBAg8AQQIPAEECDwBBAg8AQQIPAEECDwBB\\\n",
              "Ag8AQQIPAEECDwBBAg8AQQIPAEECDwBBAg8AQQIPAEECDwBBAg8AQQIPAEECDwBBAg8AQQIPAEEC\\\n",
              "DwBBAg8AQQIPAEECDwBBAg8AQQIPAEECDwBBAg8AQQIPAEECDwBBAg8AQQIPAEECDwBBAg8AQQIP\\\n",
              "AEECDwBBAg8AQQIPAEECDwBBAg8AQQIPAEECDwBBAg8AQQIPAEECDwBBAg8AQQIPAEECDwBBAg8A\\\n",
              "QQIPAEECDwBBAg8AQQIPAEECDwBBAg8AQQIPAEECDwBBAg8AQQIPAEECDwBBAg8AQQIPAEECDwBB\\\n",
              "Ag8AQQIPAEECDwBBAg8AQQIPAEECDwBBAg8AQQIPAEECDwBBAg8AQQIPAEECDwBBAg8AQQIPAEEC\\\n",
              "DwBBAg8AQQIPAEECDwBBAg8AQQIPAEECDwBBAg8AQQIPAEECDwBBAg8AQQIPAEECDwBBAg8AQQIP\\\n",
              "AEECDwBBAg8AQQIPAEECDwBBAg8AQQIPAEECDwBBAg8AQQIPAEECDwBBAg8AQQIPAEECDwBBAg8A\\\n",
              "QQIPAEECDwBBAg8AQQIPAEECDwBBAg8AQQIPAEECDwBBAg8AQQIPAEECDwBBAg8AQQIPAEECDwBB\\\n",
              "Ag8AQQIPAEECDwBBAg8AQQIPAEECDwBBAg8AQQIPAEECDwBBAg8AQQIPAEECDwBBAg8AQQIPAEEC\\\n",
              "DwBBAg8AQQIPAEECDwBBAg8AQQIPAEECDwBBAg8AQQIPAEECDwBBAg8AQQIPAEECDwBBAg8AQQIP\\\n",
              "AEECDwBBAg8AQQIPAEECDwBBAg8AQQIPAEECDwBBAg8AQQIPAEECDwBBAg8AQQIPAEECDwBBAg8A\\\n",
              "QQIPAEECDwBBAg8AQQIPAEECDwBBAg8AQQIPAEECDwBBAg8AQQIPAEECDwBBAg8AQQIPAEECDwBB\\\n",
              "Ag8AQQIPAEECDwBBAg8AQQIPAEGzu3t6BABwLRc8AAQJPAAECTwABAk8AAQJPAAECTwABAk8AAQJ\\\n",
              "PAAECTwABAk8AAR9AedkD/EGh0YxAAAAAElFTkSuQmCC\\\n",
              "\"\n",
              "  frames[25] = \"data:image/png;base64,iVBORw0KGgoAAAANSUhEUgAAAfgAAAD8CAYAAACbzrbdAAAABHNCSVQICAgIfAhkiAAAAAlwSFlz\\\n",
              "AAALEgAACxIB0t1+/AAAADh0RVh0U29mdHdhcmUAbWF0cGxvdGxpYiB2ZXJzaW9uMy4yLjIsIGh0\\\n",
              "dHA6Ly9tYXRwbG90bGliLm9yZy+WH4yJAAAEK0lEQVR4nO3cwQnDQBAEQa9x/imvMtBL6ExTFcE8\\\n",
              "Dpr93OzufgCAlO/pAQDA8wQeAIIEHgCCBB4AggQeAIIEHgCCBB4AggQeAIIEHgCCBB4Agn6nB/D/\\\n",
              "Zub0BMLe/i279J79NM4dFzwABAk8AAQJPAAECTwABAk8AAQJPAAECTwABAk8AAQJPAAECTwABAk8\\\n",
              "AAQJPAAECTwABAk8AAQJPAAECTwABAk8AAQJPAAECTwABAk8AAQJPAAECTwABAk8AAQJPAAECTwA\\\n",
              "BAk8AAQJPAAECTwABAk8AAQJPAAECTwABAk8AAQJPAAECTwABAk8AAQJPAAECTwABAk8AAQJPAAE\\\n",
              "CTwABAk8AAQJPAAECTwABAk8AAQJPAAECTwABAk8AAQJPAAECTwABAk8AAQJPAAECTwABAk8AAQJ\\\n",
              "PAAECTwABAk8AAQJPAAECTwABAk8AAQJPAAECTwABAk8AAQJPAAECTwABAk8AAQJPAAECTwABAk8\\\n",
              "AAQJPAAECTwABAk8AAQJPAAECTwABAk8AAQJPAAECTwABAk8AAQJPAAECTwABAk8AAQJPAAECTwA\\\n",
              "BAk8AAQJPAAECTwABAk8AAQJPAAECTwABAk8AAQJPAAECTwABAk8AAQJPAAECTwABAk8AAQJPAAE\\\n",
              "CTwABAk8AAQJPAAECTwABAk8AAQJPAAECTwABAk8AAQJPAAECTwABAk8AAQJPAAECTwABAk8AAQJ\\\n",
              "PAAECTwABAk8AAQJPAAECTwABAk8AAQJPAAECTwABAk8AAQJPAAECTwABAk8AAQJPAAECTwABAk8\\\n",
              "AAQJPAAECTwABAk8AAQJPAAECTwABAk8AAQJPAAECTwABAk8AAQJPAAECTwABAk8AAQJPAAECTwA\\\n",
              "BAk8AAQJPAAECTwABAk8AAQJPAAECTwABAk8AAQJPAAECTwABAk8AAQJPAAECTwABAk8AAQJPAAE\\\n",
              "CTwABAk8AAQJPAAECTwABAk8AAQJPAAECTwABAk8AAQJPAAECTwABAk8AAQJPAAECTwABAk8AAQJ\\\n",
              "PAAECTwABAk8AAQJPAAECTwABAk8AAQJPAAECTwABAk8AAQJPAAECTwABAk8AAQJPAAECTwABAk8\\\n",
              "AAQJPAAECTwABAk8AAQJPAAECTwABAk8AAQJPAAECTwABAk8AAQJPAAECTwABAk8AAQJPAAECTwA\\\n",
              "BAk8AAQJPAAECTwABAk8AAQJPAAECTwABAk8AAQJPAAECTwABAk8AAQJPAAECTwABAk8AAQJPAAE\\\n",
              "CTwABAk8AAQJPAAECTwABAk8AAQJPAAECTwABAk8AAQJPAAECTwABAk8AAQJPAAECTwABAk8AAQJ\\\n",
              "PAAECTwABAk8AAQJPAAECTwABM3u7ukRAMCzXPAAECTwABAk8AAQJPAAECTwABAk8AAQJPAAECTw\\\n",
              "ABAk8AAQJPAAEHQB5xAP8TKz8CwAAAAASUVORK5CYII=\\\n",
              "\"\n",
              "  frames[26] = \"data:image/png;base64,iVBORw0KGgoAAAANSUhEUgAAAfgAAAD8CAYAAACbzrbdAAAABHNCSVQICAgIfAhkiAAAAAlwSFlz\\\n",
              "AAALEgAACxIB0t1+/AAAADh0RVh0U29mdHdhcmUAbWF0cGxvdGxpYiB2ZXJzaW9uMy4yLjIsIGh0\\\n",
              "dHA6Ly9tYXRwbG90bGliLm9yZy+WH4yJAAAELElEQVR4nO3csQ0DMQwEQdNw/y3THTh6Q4/9mQou\\\n",
              "ELBgotndfQEAKe/TAwCA6wk8AAQJPAAECTwABAk8AAQJPAAECTwABAk8AAQJPAAECTwABH1OD+D+\\\n",
              "Zub0BB7qHz9pl96zn8b5xQUPAEECDwBBAg8AQQIPAEECDwBBAg8AQQIPAEECDwBBAg8AQQIPAEEC\\\n",
              "DwBBAg8AQQIPAEECDwBBAg8AQQIPAEECDwBBAg8AQQIPAEECDwBBAg8AQQIPAEECDwBBAg8AQQIP\\\n",
              "AEECDwBBAg8AQQIPAEECDwBBAg8AQQIPAEECDwBBAg8AQQIPAEECDwBBAg8AQQIPAEECDwBBAg8A\\\n",
              "QQIPAEECDwBBAg8AQQIPAEECDwBBAg8AQQIPAEECDwBBAg8AQQIPAEECDwBBAg8AQQIPAEECDwBB\\\n",
              "Ag8AQQIPAEECDwBBAg8AQQIPAEECDwBBAg8AQQIPAEECDwBBAg8AQQIPAEECDwBBAg8AQQIPAEEC\\\n",
              "DwBBAg8AQQIPAEECDwBBAg8AQQIPAEECDwBBAg8AQQIPAEECDwBBAg8AQQIPAEECDwBBAg8AQQIP\\\n",
              "AEECDwBBAg8AQQIPAEECDwBBAg8AQQIPAEECDwBBAg8AQQIPAEECDwBBAg8AQQIPAEECDwBBAg8A\\\n",
              "QQIPAEECDwBBAg8AQQIPAEECDwBBAg8AQQIPAEECDwBBAg8AQQIPAEECDwBBAg8AQQIPAEECDwBB\\\n",
              "Ag8AQQIPAEECDwBBAg8AQQIPAEECDwBBAg8AQQIPAEECDwBBAg8AQQIPAEECDwBBAg8AQQIPAEEC\\\n",
              "DwBBAg8AQQIPAEECDwBBAg8AQQIPAEECDwBBAg8AQQIPAEECDwBBAg8AQQIPAEECDwBBAg8AQQIP\\\n",
              "AEECDwBBAg8AQQIPAEECDwBBAg8AQQIPAEECDwBBAg8AQQIPAEECDwBBAg8AQQIPAEECDwBBAg8A\\\n",
              "QQIPAEECDwBBAg8AQQIPAEECDwBBAg8AQQIPAEECDwBBAg8AQQIPAEECDwBBAg8AQQIPAEECDwBB\\\n",
              "Ag8AQQIPAEECDwBBAg8AQQIPAEECDwBBAg8AQQIPAEECDwBBAg8AQQIPAEECDwBBAg8AQQIPAEEC\\\n",
              "DwBBAg8AQQIPAEECDwBBAg8AQQIPAEECDwBBAg8AQQIPAEECDwBBAg8AQQIPAEECDwBBAg8AQQIP\\\n",
              "AEECDwBBAg8AQQIPAEECDwBBAg8AQQIPAEECDwBBAg8AQQIPAEECDwBBAg8AQQIPAEECDwBBAg8A\\\n",
              "QQIPAEECDwBBAg8AQQIPAEECDwBBAg8AQQIPAEECDwBBAg8AQQIPAEECDwBBAg8AQQIPAEECDwBB\\\n",
              "Ag8AQQIPAEECDwBBAg8AQQIPAEGzu3t6BABwLRc8AAQJPAAECTwABAk8AAQJPAAECTwABAk8AAQJ\\\n",
              "PAAECTwABAk8AAR9AZNkD/GREdG0AAAAAElFTkSuQmCC\\\n",
              "\"\n",
              "  frames[27] = \"data:image/png;base64,iVBORw0KGgoAAAANSUhEUgAAAfgAAAD8CAYAAACbzrbdAAAABHNCSVQICAgIfAhkiAAAAAlwSFlz\\\n",
              "AAALEgAACxIB0t1+/AAAADh0RVh0U29mdHdhcmUAbWF0cGxvdGxpYiB2ZXJzaW9uMy4yLjIsIGh0\\\n",
              "dHA6Ly9tYXRwbG90bGliLm9yZy+WH4yJAAAELUlEQVR4nO3cwQkCQRBFQVvMP+U2AGFPK6OPqgj+\\\n",
              "YeDRl5nd3QcAkPI8PQAAuJ/AA0CQwANAkMADQJDAA0CQwANAkMADQJDAA0CQwANAkMADQNDr9AB+\\\n",
              "38ycngAfvvXL9j+9dz+Nc8UFDwBBAg8AQQIPAEECDwBBAg8AQQIPAEECDwBBAg8AQQIPAEECDwBB\\\n",
              "Ag8AQQIPAEECDwBBAg8AQQIPAEECDwBBAg8AQQIPAEECDwBBAg8AQQIPAEECDwBBAg8AQQIPAEEC\\\n",
              "DwBBAg8AQQIPAEECDwBBAg8AQQIPAEECDwBBAg8AQQIPAEECDwBBAg8AQQIPAEECDwBBAg8AQQIP\\\n",
              "AEECDwBBAg8AQQIPAEECDwBBAg8AQQIPAEECDwBBAg8AQQIPAEECDwBBAg8AQQIPAEECDwBBAg8A\\\n",
              "QQIPAEECDwBBAg8AQQIPAEECDwBBAg8AQQIPAEECDwBBAg8AQQIPAEECDwBBAg8AQQIPAEECDwBB\\\n",
              "Ag8AQQIPAEECDwBBAg8AQQIPAEECDwBBAg8AQQIPAEECDwBBAg8AQQIPAEECDwBBAg8AQQIPAEEC\\\n",
              "DwBBAg8AQQIPAEECDwBBAg8AQQIPAEECDwBBAg8AQQIPAEECDwBBAg8AQQIPAEECDwBBAg8AQQIP\\\n",
              "AEECDwBBAg8AQQIPAEECDwBBAg8AQQIPAEECDwBBAg8AQQIPAEECDwBBAg8AQQIPAEECDwBBAg8A\\\n",
              "QQIPAEECDwBBAg8AQQIPAEECDwBBAg8AQQIPAEECDwBBAg8AQQIPAEECDwBBAg8AQQIPAEECDwBB\\\n",
              "Ag8AQQIPAEECDwBBAg8AQQIPAEECDwBBAg8AQQIPAEECDwBBAg8AQQIPAEECDwBBAg8AQQIPAEEC\\\n",
              "DwBBAg8AQQIPAEECDwBBAg8AQQIPAEECDwBBAg8AQQIPAEECDwBBAg8AQQIPAEECDwBBAg8AQQIP\\\n",
              "AEECDwBBAg8AQQIPAEECDwBBAg8AQQIPAEECDwBBAg8AQQIPAEECDwBBAg8AQQIPAEECDwBBAg8A\\\n",
              "QQIPAEECDwBBAg8AQQIPAEECDwBBAg8AQQIPAEECDwBBAg8AQQIPAEECDwBBAg8AQQIPAEECDwBB\\\n",
              "Ag8AQQIPAEECDwBBAg8AQQIPAEECDwBBAg8AQQIPAEECDwBBAg8AQQIPAEECDwBBAg8AQQIPAEEC\\\n",
              "DwBBAg8AQQIPAEECDwBBAg8AQQIPAEECDwBBAg8AQQIPAEECDwBBAg8AQQIPAEECDwBBAg8AQQIP\\\n",
              "AEECDwBBAg8AQQIPAEECDwBBAg8AQQIPAEECDwBBAg8AQQIPAEECDwBBAg8AQQIPAEECDwBBAg8A\\\n",
              "QQIPAEECDwBBAg8AQQIPAEECDwBBs7t7egQAcC8XPAAECTwABAk8AAQJPAAECTwABAk8AAQJPAAE\\\n",
              "CTwABAk8AAQJPAAEvQE/WA/x6dlD5QAAAABJRU5ErkJggg==\\\n",
              "\"\n",
              "  frames[28] = \"data:image/png;base64,iVBORw0KGgoAAAANSUhEUgAAAfgAAAD8CAYAAACbzrbdAAAABHNCSVQICAgIfAhkiAAAAAlwSFlz\\\n",
              "AAALEgAACxIB0t1+/AAAADh0RVh0U29mdHdhcmUAbWF0cGxvdGxpYiB2ZXJzaW9uMy4yLjIsIGh0\\\n",
              "dHA6Ly9tYXRwbG90bGliLm9yZy+WH4yJAAAELElEQVR4nO3cwQkDQQwEQcs4/5TlDAwHZ/ZoqiKY\\\n",
              "z9Los7O7+wIAUt6nBwAA9xN4AAgSeAAIEngACBJ4AAgSeAAIEngACBJ4AAgSeAAIEngACPqcHsDz\\\n",
              "zczpCXDJv37gftpb8NM4v7jgASBI4AEgSOABIEjgASBI4AEgSOABIEjgASBI4AEgSOABIEjgASBI\\\n",
              "4AEgSOABIEjgASBI4AEgSOABIEjgASBI4AEgSOABIEjgASBI4AEgSOABIEjgASBI4AEgSOABIEjg\\\n",
              "ASBI4AEgSOABIEjgASBI4AEgSOABIEjgASBI4AEgSOABIEjgASBI4AEgSOABIEjgASBI4AEgSOAB\\\n",
              "IEjgASBI4AEgSOABIEjgASBI4AEgSOABIEjgASBI4AEgSOABIEjgASBI4AEgSOABIEjgASBI4AEg\\\n",
              "SOABIEjgASBI4AEgSOABIEjgASBI4AEgSOABIEjgASBI4AEgSOABIEjgASBI4AEgSOABIEjgASBI\\\n",
              "4AEgSOABIEjgASBI4AEgSOABIEjgASBI4AEgSOABIEjgASBI4AEgSOABIEjgASBI4AEgSOABIEjg\\\n",
              "ASBI4AEgSOABIEjgASBI4AEgSOABIEjgASBI4AEgSOABIEjgASBI4AEgSOABIEjgASBI4AEgSOAB\\\n",
              "IEjgASBI4AEgSOABIEjgASBI4AEgSOABIEjgASBI4AEgSOABIEjgASBI4AEgSOABIEjgASBI4AEg\\\n",
              "SOABIEjgASBI4AEgSOABIEjgASBI4AEgSOABIEjgASBI4AEgSOABIEjgASBI4AEgSOABIEjgASBI\\\n",
              "4AEgSOABIEjgASBI4AEgSOABIEjgASBI4AEgSOABIEjgASBI4AEgSOABIEjgASBI4AEgSOABIEjg\\\n",
              "ASBI4AEgSOABIEjgASBI4AEgSOABIEjgASBI4AEgSOABIEjgASBI4AEgSOABIEjgASBI4AEgSOAB\\\n",
              "IEjgASBI4AEgSOABIEjgASBI4AEgSOABIEjgASBI4AEgSOABIEjgASBI4AEgSOABIEjgASBI4AEg\\\n",
              "SOABIEjgASBI4AEgSOABIEjgASBI4AEgSOABIEjgASBI4AEgSOABIEjgASBI4AEgSOABIEjgASBI\\\n",
              "4AEgSOABIEjgASBI4AEgSOABIEjgASBI4AEgSOABIEjgASBI4AEgSOABIEjgASBI4AEgSOABIEjg\\\n",
              "ASBI4AEgSOABIEjgASBI4AEgSOABIEjgASBI4AEgSOABIEjgASBI4AEgSOABIEjgASBI4AEgSOAB\\\n",
              "IEjgASBI4AEgSOABIEjgASBI4AEgSOABIEjgASBI4AEgSOABIEjgASBI4AEgSOABIEjgASBI4AEg\\\n",
              "SOABIEjgASBI4AEgSOABIEjgASBodndPjwAA7uWCB4AggQeAIIEHgCCBB4AggQeAIIEHgCCBB4Ag\\\n",
              "gQeAIIEHgCCBB4CgL+tJD/GeH4V8AAAAAElFTkSuQmCC\\\n",
              "\"\n",
              "  frames[29] = \"data:image/png;base64,iVBORw0KGgoAAAANSUhEUgAAAfgAAAD8CAYAAACbzrbdAAAABHNCSVQICAgIfAhkiAAAAAlwSFlz\\\n",
              "AAALEgAACxIB0t1+/AAAADh0RVh0U29mdHdhcmUAbWF0cGxvdGxpYiB2ZXJzaW9uMy4yLjIsIGh0\\\n",
              "dHA6Ly9tYXRwbG90bGliLm9yZy+WH4yJAAAEK0lEQVR4nO3csQ1CMRAFQQ7Rf8tHB0T+MlrNVPAS\\\n",
              "a3WJZ3f3BQCkvG8PAADOE3gACBJ4AAgSeAAIEngACBJ4AAgSeAAIEngACBJ4AAgSeAAI+twewP+b\\\n",
              "mdsT4Jinfue+8U78NM4vLngACBJ4AAgSeAAIEngACBJ4AAgSeAAIEngACBJ4AAgSeAAIEngACBJ4\\\n",
              "AAgSeAAIEngACBJ4AAgSeAAIEngACBJ4AAgSeAAIEngACBJ4AAgSeAAIEngACBJ4AAgSeAAIEngA\\\n",
              "CBJ4AAgSeAAIEngACBJ4AAgSeAAIEngACBJ4AAgSeAAIEngACBJ4AAgSeAAIEngACBJ4AAgSeAAI\\\n",
              "EngACBJ4AAgSeAAIEngACBJ4AAgSeAAIEngACBJ4AAgSeAAIEngACBJ4AAgSeAAIEngACBJ4AAgS\\\n",
              "eAAIEngACBJ4AAgSeAAIEngACBJ4AAgSeAAIEngACBJ4AAgSeAAIEngACBJ4AAgSeAAIEngACBJ4\\\n",
              "AAgSeAAIEngACBJ4AAgSeAAIEngACBJ4AAgSeAAIEngACBJ4AAgSeAAIEngACBJ4AAgSeAAIEngA\\\n",
              "CBJ4AAgSeAAIEngACBJ4AAgSeAAIEngACBJ4AAgSeAAIEngACBJ4AAgSeAAIEngACBJ4AAgSeAAI\\\n",
              "EngACBJ4AAgSeAAIEngACBJ4AAgSeAAIEngACBJ4AAgSeAAIEngACBJ4AAgSeAAIEngACBJ4AAgS\\\n",
              "eAAIEngACBJ4AAgSeAAIEngACBJ4AAgSeAAIEngACBJ4AAgSeAAIEngACBJ4AAgSeAAIEngACBJ4\\\n",
              "AAgSeAAIEngACBJ4AAgSeAAIEngACBJ4AAgSeAAIEngACBJ4AAgSeAAIEngACBJ4AAgSeAAIEngA\\\n",
              "CBJ4AAgSeAAIEngACBJ4AAgSeAAIEngACBJ4AAgSeAAIEngACBJ4AAgSeAAIEngACBJ4AAgSeAAI\\\n",
              "EngACBJ4AAgSeAAIEngACBJ4AAgSeAAIEngACBJ4AAgSeAAIEngACBJ4AAgSeAAIEngACBJ4AAgS\\\n",
              "eAAIEngACBJ4AAgSeAAIEngACBJ4AAgSeAAIEngACBJ4AAgSeAAIEngACBJ4AAgSeAAIEngACBJ4\\\n",
              "AAgSeAAIEngACBJ4AAgSeAAIEngACBJ4AAgSeAAIEngACBJ4AAgSeAAIEngACBJ4AAgSeAAIEngA\\\n",
              "CBJ4AAgSeAAIEngACBJ4AAgSeAAIEngACBJ4AAgSeAAIEngACBJ4AAgSeAAIEngACBJ4AAgSeAAI\\\n",
              "EngACBJ4AAgSeAAIEngACBJ4AAgSeAAIEngACBJ4AAgSeAAIEngACBJ4AAgSeAAIEngACBJ4AAgS\\\n",
              "eAAIEngACBJ4AAgSeAAIEngACJrd3dsjAICzXPAAECTwABAk8AAQJPAAECTwABAk8AAQJPAAECTw\\\n",
              "ABAk8AAQJPAAEPQFl0kP8RukRr4AAAAASUVORK5CYII=\\\n",
              "\"\n",
              "  frames[30] = \"data:image/png;base64,iVBORw0KGgoAAAANSUhEUgAAAfgAAAD8CAYAAACbzrbdAAAABHNCSVQICAgIfAhkiAAAAAlwSFlz\\\n",
              "AAALEgAACxIB0t1+/AAAADh0RVh0U29mdHdhcmUAbWF0cGxvdGxpYiB2ZXJzaW9uMy4yLjIsIGh0\\\n",
              "dHA6Ly9tYXRwbG90bGliLm9yZy+WH4yJAAAEK0lEQVR4nO3csQ1CMRAFQQ7Rf8tHB0T+MlrNVPAS\\\n",
              "a3WJZ3f3BQCkvG8PAADOE3gACBJ4AAgSeAAIEngACBJ4AAgSeAAIEngACBJ4AAgSeAAI+twewP+b\\\n",
              "mdsT4Jinfue+8U78NM4vLngACBJ4AAgSeAAIEngACBJ4AAgSeAAIEngACBJ4AAgSeAAIEngACBJ4\\\n",
              "AAgSeAAIEngACBJ4AAgSeAAIEngACBJ4AAgSeAAIEngACBJ4AAgSeAAIEngACBJ4AAgSeAAIEngA\\\n",
              "CBJ4AAgSeAAIEngACBJ4AAgSeAAIEngACBJ4AAgSeAAIEngACBJ4AAgSeAAIEngACBJ4AAgSeAAI\\\n",
              "EngACBJ4AAgSeAAIEngACBJ4AAgSeAAIEngACBJ4AAgSeAAIEngACBJ4AAgSeAAIEngACBJ4AAgS\\\n",
              "eAAIEngACBJ4AAgSeAAIEngACBJ4AAgSeAAIEngACBJ4AAgSeAAIEngACBJ4AAgSeAAIEngACBJ4\\\n",
              "AAgSeAAIEngACBJ4AAgSeAAIEngACBJ4AAgSeAAIEngACBJ4AAgSeAAIEngACBJ4AAgSeAAIEngA\\\n",
              "CBJ4AAgSeAAIEngACBJ4AAgSeAAIEngACBJ4AAgSeAAIEngACBJ4AAgSeAAIEngACBJ4AAgSeAAI\\\n",
              "EngACBJ4AAgSeAAIEngACBJ4AAgSeAAIEngACBJ4AAgSeAAIEngACBJ4AAgSeAAIEngACBJ4AAgS\\\n",
              "eAAIEngACBJ4AAgSeAAIEngACBJ4AAgSeAAIEngACBJ4AAgSeAAIEngACBJ4AAgSeAAIEngACBJ4\\\n",
              "AAgSeAAIEngACBJ4AAgSeAAIEngACBJ4AAgSeAAIEngACBJ4AAgSeAAIEngACBJ4AAgSeAAIEngA\\\n",
              "CBJ4AAgSeAAIEngACBJ4AAgSeAAIEngACBJ4AAgSeAAIEngACBJ4AAgSeAAIEngACBJ4AAgSeAAI\\\n",
              "EngACBJ4AAgSeAAIEngACBJ4AAgSeAAIEngACBJ4AAgSeAAIEngACBJ4AAgSeAAIEngACBJ4AAgS\\\n",
              "eAAIEngACBJ4AAgSeAAIEngACBJ4AAgSeAAIEngACBJ4AAgSeAAIEngACBJ4AAgSeAAIEngACBJ4\\\n",
              "AAgSeAAIEngACBJ4AAgSeAAIEngACBJ4AAgSeAAIEngACBJ4AAgSeAAIEngACBJ4AAgSeAAIEngA\\\n",
              "CBJ4AAgSeAAIEngACBJ4AAgSeAAIEngACBJ4AAgSeAAIEngACBJ4AAgSeAAIEngACBJ4AAgSeAAI\\\n",
              "EngACBJ4AAgSeAAIEngACBJ4AAgSeAAIEngACBJ4AAgSeAAIEngACBJ4AAgSeAAIEngACBJ4AAgS\\\n",
              "eAAIEngACBJ4AAgSeAAIEngACJrd3dsjAICzXPAAECTwABAk8AAQJPAAECTwABAk8AAQJPAAECTw\\\n",
              "ABAk8AAQJPAAEPQFl0kP8RukRr4AAAAASUVORK5CYII=\\\n",
              "\"\n",
              "  frames[31] = \"data:image/png;base64,iVBORw0KGgoAAAANSUhEUgAAAfgAAAD8CAYAAACbzrbdAAAABHNCSVQICAgIfAhkiAAAAAlwSFlz\\\n",
              "AAALEgAACxIB0t1+/AAAADh0RVh0U29mdHdhcmUAbWF0cGxvdGxpYiB2ZXJzaW9uMy4yLjIsIGh0\\\n",
              "dHA6Ly9tYXRwbG90bGliLm9yZy+WH4yJAAAELElEQVR4nO3csQ0DMQwEQdP4/lumO3D0bxmLmQou\\\n",
              "ERZMNLu7LwAg5X16AABwP4EHgCCBB4AggQeAIIEHgCCBB4AggQeAIIEHgCCBB4AggQeAoOv0AP7f\\\n",
              "zJyeAD/zxO/dT70hP43zjQseAIIEHgCCBB4AggQeAIIEHgCCBB4AggQeAIIEHgCCBB4AggQeAIIE\\\n",
              "HgCCBB4AggQeAIIEHgCCBB4AggQeAIIEHgCCBB4AggQeAIIEHgCCBB4AggQeAIIEHgCCBB4AggQe\\\n",
              "AIIEHgCCBB4AggQeAIIEHgCCBB4AggQeAIIEHgCCBB4AggQeAIIEHgCCBB4AggQeAIIEHgCCBB4A\\\n",
              "ggQeAIIEHgCCBB4AggQeAIIEHgCCBB4AggQeAIIEHgCCBB4AggQeAIIEHgCCBB4AggQeAIIEHgCC\\\n",
              "BB4AggQeAIIEHgCCBB4AggQeAIIEHgCCBB4AggQeAIIEHgCCBB4AggQeAIIEHgCCBB4AggQeAIIE\\\n",
              "HgCCBB4AggQeAIIEHgCCBB4AggQeAIIEHgCCBB4AggQeAIIEHgCCBB4AggQeAIIEHgCCBB4AggQe\\\n",
              "AIIEHgCCBB4AggQeAIIEHgCCBB4AggQeAIIEHgCCBB4AggQeAIIEHgCCBB4AggQeAIIEHgCCBB4A\\\n",
              "ggQeAIIEHgCCBB4AggQeAIIEHgCCBB4AggQeAIIEHgCCBB4AggQeAIIEHgCCBB4AggQeAIIEHgCC\\\n",
              "BB4AggQeAIIEHgCCBB4AggQeAIIEHgCCBB4AggQeAIIEHgCCBB4AggQeAIIEHgCCBB4AggQeAIIE\\\n",
              "HgCCBB4AggQeAIIEHgCCBB4AggQeAIIEHgCCBB4AggQeAIIEHgCCBB4AggQeAIIEHgCCBB4AggQe\\\n",
              "AIIEHgCCBB4AggQeAIIEHgCCBB4AggQeAIIEHgCCBB4AggQeAIIEHgCCBB4AggQeAIIEHgCCBB4A\\\n",
              "ggQeAIIEHgCCBB4AggQeAIIEHgCCBB4AggQeAIIEHgCCBB4AggQeAIIEHgCCBB4AggQeAIIEHgCC\\\n",
              "BB4AggQeAIIEHgCCBB4AggQeAIIEHgCCBB4AggQeAIIEHgCCBB4AggQeAIIEHgCCBB4AggQeAIIE\\\n",
              "HgCCBB4AggQeAIIEHgCCBB4AggQeAIIEHgCCBB4AggQeAIIEHgCCBB4AggQeAIIEHgCCBB4AggQe\\\n",
              "AIIEHgCCBB4AggQeAIIEHgCCBB4AggQeAIIEHgCCBB4AggQeAIIEHgCCBB4AggQeAIIEHgCCBB4A\\\n",
              "ggQeAIIEHgCCBB4AggQeAIIEHgCCBB4AggQeAIIEHgCCBB4AggQeAIIEHgCCBB4AggQeAIIEHgCC\\\n",
              "BB4AggQeAIIEHgCCBB4AggQeAIJmd/f0CADgXi54AAgSeAAIEngACBJ4AAgSeAAIEngACBJ4AAgS\\\n",
              "eAAIEngACBJ4AAj6ADdVD/HKR4ohAAAAAElFTkSuQmCC\\\n",
              "\"\n",
              "\n",
              "\n",
              "    /* set a timeout to make sure all the above elements are created before\n",
              "       the object is initialized. */\n",
              "    setTimeout(function() {\n",
              "        animeda28eb5e2ef41339dc8bf644e456333 = new Animation(frames, img_id, slider_id, 50.0,\n",
              "                                 loop_select_id);\n",
              "    }, 0);\n",
              "  })()\n",
              "</script>\n"
            ]
          },
          "metadata": {},
          "execution_count": 216
        },
        {
          "output_type": "display_data",
          "data": {
            "text/plain": [
              "<Figure size 504x252 with 1 Axes>"
            ],
            "image/png": "[encoded data removed]"
          },
          "metadata": {
            "needs_background": "light"
          }
        }
      ]
    },
    {
      "cell_type": "markdown",
      "source": [
        "Challenge question. Try to make a moving plaid stimulus. A plaid is composed of two moving gratings of different orientations, say 0 degrees and 90 degrees. Display using the animation code above. Which direction does the plaid appear to be moving in? \n",
        "\n",
        "Now, see what the motion energy model does. Pass in plaids of different overall orientations (i.e. 0 and 90, 10 and 110, 20 and 120, etc etc) compute the response of the motion energy model and extract the output averaged across space and time, so that you get a single number. Plot this response amplitude as a function of the orientation of the plaid. How many peaks in response do you see? Where are the peaks? \n",
        "\n",
        "IS this the same as what you preceive of the motion? If not, is there a model that you can make that builds on the motion energy model that would produce a motion analysis that matches what you see?"
      ],
      "metadata": {
        "id": "bpShtIQhthiM"
      }
    }
  ]
}