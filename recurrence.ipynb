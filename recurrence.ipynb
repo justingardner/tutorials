{
  "nbformat": 4,
  "nbformat_minor": 0,
  "metadata": {
    "colab": {
      "provenance": [],
      "authorship_tag": "ABX9TyN4ZmatuTXR0F0wiF5QEDB2",
      "include_colab_link": true
    },
    "kernelspec": {
      "name": "python3",
      "display_name": "Python 3"
    },
    "language_info": {
      "name": "python"
    }
  },
  "cells": [
    {
      "cell_type": "markdown",
      "metadata": {
        "id": "view-in-github",
        "colab_type": "text"
      },
      "source": [
        "<a href=\"https://colab.research.google.com/github/justingardner/tutorials/blob/master/recurrence.ipynb\" target=\"_parent\"><img src=\"https://colab.research.google.com/assets/colab-badge.svg\" alt=\"Open In Colab\"/></a>"
      ]
    },
    {
      "cell_type": "markdown",
      "source": [
        "\n",
        "\n",
        "  "
      ],
      "metadata": {
        "id": "3UJCzkK6CEwv"
      }
    },
    {
      "cell_type": "code",
      "execution_count": 1,
      "metadata": {
        "id": "rwGdhE1iB_lK"
      },
      "outputs": [],
      "source": [
        "# import necessary libraries\n",
        "import numpy as np\n",
        "import matplotlib.pyplot as plt\n",
        "from scipy.stats import norm\n",
        "from tqdm import tqdm as progressBar\n",
        "from matplotlib.animation import FuncAnimation\n",
        "from IPython.display import HTML\n",
        "from IPython import display\n",
        "from functools import partial\n",
        "from numpy.linalg import eig"
      ]
    },
    {
      "cell_type": "code",
      "source": [
        "!pip install -Uqq ipdb\n",
        "import ipdb"
      ],
      "metadata": {
        "id": "gI_ma_Cxcutz"
      },
      "execution_count": 164,
      "outputs": []
    },
    {
      "cell_type": "code",
      "source": [
        "%pdb off"
      ],
      "metadata": {
        "colab": {
          "base_uri": "https://localhost:8080/"
        },
        "id": "f9arxNGLc-_2",
        "outputId": "ed72bbc2-43aa-46b5-c0fc-ca21fd8417a3"
      },
      "execution_count": 161,
      "outputs": [
        {
          "output_type": "stream",
          "name": "stdout",
          "text": [
            "Automatic pdb calling has been turned OFF\n"
          ]
        }
      ]
    },
    {
      "cell_type": "code",
      "source": [
        "# number of seconds to simulate for\n",
        "simulationLength = 10;\n",
        "\n",
        "# Number of time points per second\n",
        "sampleRate = 1000;\n",
        "\n",
        "# some constants calculated from the above parameters\n",
        "dt = 1/sampleRate;\n",
        "nTimePoints = int(simulationLength * sampleRate);\n",
        "\n",
        "#theta = 3;\n",
        "#W = np.matrix([[1-np.cos(theta), -np.sin(theta)],[1-np.sin(theta),np.cos(theta)]])\n",
        "x0 = np.matrix([0, 0]).transpose()\n",
        "#ws = 0.01\n",
        "#w = 0.99975-ws\n",
        "tau = .005;\n",
        "tau = np.inf;\n",
        "tau = 0.8;\n",
        "#tau = np.inf;\n",
        "#W = (-1/tau) * np.matrix([[(1+ws), w],[w,(1+ws)]])\n",
        "W = np.matrix([[-(1/tau), 0],[0,-(1/tau)]]);\n",
        "#W = np.matrix([[-(1/tau), 0],[0,-(1/tau)]]) * np.matrix([[1, -1],[-1,1]])\n",
        "#W = np.matrix([[-200, -30],[-30,-200]])\n",
        "#W = np.matrix([[0, -1],[1,0]])\n",
        "W = np.matrix([[-1/np.inf, 0],[0,-1/tau]])\n",
        "#W = np.matrix([[-1/tau, 0],[0,-1/(100*tau)]])\n",
        "#W = np.matrix([[0.7, 0.3],[0.3,0.7]])\n",
        "#W = np.matrix([[-0.001, -0.001],[-0.001,-0.001]])\n",
        "#W = np.matrix([[1, 0],[0, 0]]);\n",
        "#W = np.matrix([[-1/tau, 1.3],[1.3,-1/tau]])\n",
        "#W = np.matrix([[-1/tau, -10.2],[-10.2,-1/tau]])\n",
        "#W = np.matrix([[-1/tau, -1.25],[-1.25,-1/tau]])\n",
        "\n",
        "# define inputs\n",
        "u = np.matrix(np.zeros((2,nTimePoints)));\n",
        "pulseLen = 0.2;\n",
        "u[:,int(1*sampleRate):int((1+pulseLen)*sampleRate)] = 1/int(sampleRate*pulseLen)\n",
        "u[0,int(0.98*sampleRate):int((1)*sampleRate)] = 1/int(sampleRate*pulseLen)\n",
        "t = np.array(range(0,nTimePoints))/sampleRate;\n",
        "\n",
        "# initialize array that will hold each state of the model\n",
        "nTimePoints = int(simulationLength*sampleRate)\n",
        "x = np.matrix(np.zeros((2,nTimePoints)))\n",
        "x[:,0] = x0;\n",
        "\n",
        "for iTimePoint in progressBar(range(1,nTimePoints)):\n",
        "  dx = W @ x[:,iTimePoint-1] * dt\n",
        "  x[:,iTimePoint] = x[:,iTimePoint-1] + dx + u[:,iTimePoint];\n",
        "  #print('x[%i]: %f %f dx/dt: %f %f'%(iFrame,x[iFrame,0],x[iFrame,1],dx[0,0],dx[0,1]))\n",
        "\n",
        "# dress up figure\n",
        "#plt.plot(x[0,:],x[1,:],'k.');\n",
        "#plotRange= 2;\n",
        "#plt.xlim(-plotRange,plotRange);plt.ylim(-plotRange,plotRange);\n",
        "#plt.axvline(linestyle=':',color='k');plt.axhline(linestyle=':',color='k');\n",
        "#plt.xlabel('Neuron 1 activity');plt.ylabel('Neuron 2 activity');\n",
        "plt.figure();\n",
        "startTime = 0.9; endTime = 5;\n",
        "plt.subplot(2,1,1)\n",
        "plt.plot(t[int(startTime*sampleRate):int(endTime*sampleRate)],x[:,int(startTime*sampleRate):int(endTime*sampleRate)].transpose());\n",
        "#plt.plot(t[int(startTime*sampleRate):int(endTime*sampleRate)],u[:,int(startTime*sampleRate):int(endTime*sampleRate)].transpose());\n",
        "plt.xlabel('Time (s)');\n",
        "plt.ylabel('Response');\n",
        "plt.legend(('Neuron 1','Neuron 2'))\n",
        "plt.subplot(2,1,2)\n",
        "plt.plot(t[int(startTime*sampleRate):int(endTime*sampleRate)],u[:,int(startTime*sampleRate):int(endTime*sampleRate)].transpose());\n",
        "plt.xlabel('Time (s)');\n",
        "plt.ylabel('Response');\n",
        "plt.legend(('Input 1','Input 2'))\n"
      ],
      "metadata": {
        "colab": {
          "base_uri": "https://localhost:8080/",
          "height": 314
        },
        "id": "VOalPrc3v6jf",
        "outputId": "b9b1ebbe-f093-488a-ca83-405c4e948c23"
      },
      "execution_count": 151,
      "outputs": [
        {
          "output_type": "stream",
          "name": "stderr",
          "text": [
            "100%|██████████| 9999/9999 [00:00<00:00, 18848.85it/s]\n"
          ]
        },
        {
          "output_type": "execute_result",
          "data": {
            "text/plain": [
              "<matplotlib.legend.Legend at 0x7f857c79e970>"
            ]
          },
          "metadata": {},
          "execution_count": 151
        },
        {
          "output_type": "display_data",
          "data": {
            "text/plain": [
              "<Figure size 432x288 with 2 Axes>"
            ],
            "image/png": "[encoded data removed]"
          },
          "metadata": {
            "needs_background": "light"
          }
        }
      ]
    },
    {
      "cell_type": "code",
      "source": [
        "# number of seconds to simulate for\n",
        "simulationLength = 10;\n",
        "\n",
        "# Number of time points per second\n",
        "sampleRate = 1000;\n",
        "\n",
        "# some constants calculated from the above parameters\n",
        "dt = 1/sampleRate;\n",
        "nTimePoints = int(simulationLength * sampleRate);\n",
        "\n",
        "#theta = 3;\n",
        "#W = np.matrix([[1-np.cos(theta), -np.sin(theta)],[1-np.sin(theta),np.cos(theta)]])\n",
        "x0 = np.matrix([0, 0]).transpose()\n",
        "#ws = 0.01\n",
        "#w = 0.99975-ws\n",
        "tau = .005;\n",
        "tau = np.inf;\n",
        "tau = 0.8;\n",
        "#tau = np.inf;\n",
        "#W = (-1/tau) * np.matrix([[(1+ws), w],[w,(1+ws)]])\n",
        "W = np.matrix([[-(1/tau), 0],[0,-(1/tau)]]);\n",
        "#W = np.matrix([[-(1/tau), 0],[0,-(1/tau)]]) * np.matrix([[1, -1],[-1,1]])\n",
        "#W = np.matrix([[-200, -30],[-30,-200]])\n",
        "#W = np.matrix([[0, -1],[1,0]])\n",
        "#W = np.matrix([[-1/tau, 1.25],[1.25,-1/tau]])\n",
        "W = np.matrix([[-1/tau, 0],[0,-1/np.inf]])\n",
        "#W = np.matrix([[-1/tau, 0],[0,-1/(100*tau)]])\n",
        "#W = np.matrix([[0.7, 0.3],[0.3,0.7]])\n",
        "#W = np.matrix([[-0.001, -0.001],[-0.001,-0.001]])\n",
        "#W = np.matrix([[1, 0],[0, 0]]);\n",
        "#W = np.matrix([[-1/tau, 1.3],[1.3,-1/tau]])\n",
        "#W = np.matrix([[-1/tau, -10.2],[-10.2,-1/tau]])\n",
        "#W = np.matrix([[-1/tau, -1.25],[-1.25,-1/tau]])\n",
        "\n",
        "# define inputs\n",
        "u = np.matrix(np.zeros((2,nTimePoints)));\n",
        "pulseLen = 0.2;\n",
        "u[:,int(1*sampleRate):int((1+pulseLen)*sampleRate)] = 1/int(sampleRate*pulseLen)\n",
        "#u[0,int(0.98*sampleRate):int((1)*sampleRate)] = 1/int(sampleRate*pulseLen)\n",
        "t = np.array(range(0,nTimePoints))/sampleRate;\n",
        "\n",
        "# initialize array that will hold each state of the model\n",
        "nTimePoints = int(simulationLength*sampleRate)\n",
        "x = np.matrix(np.zeros((2,nTimePoints)))\n",
        "x[:,0] = x0;\n",
        "\n",
        "for iTimePoint in progressBar(range(1,nTimePoints)):\n",
        "  dx = W @ x[:,iTimePoint-1] * dt\n",
        "  x[:,iTimePoint] = x[:,iTimePoint-1] + dx + u[:,iTimePoint];\n",
        "  #print('x[%i]: %f %f dx/dt: %f %f'%(iFrame,x[iFrame,0],x[iFrame,1],dx[0,0],dx[0,1]))\n",
        "\n",
        "# dress up figure\n",
        "#plt.plot(x[0,:],x[1,:],'k.');\n",
        "#plotRange= 2;\n",
        "#plt.xlim(-plotRange,plotRange);plt.ylim(-plotRange,plotRange);\n",
        "#plt.axvline(linestyle=':',color='k');plt.axhline(linestyle=':',color='k');\n",
        "#plt.xlabel('Neuron 1 activity');plt.ylabel('Neuron 2 activity');\n",
        "plt.figure();\n",
        "startTime = 0.9; endTime = 5;\n",
        "plt.subplot(2,1,1)\n",
        "plt.plot(t[int(startTime*sampleRate):int(endTime*sampleRate)],x[:,int(startTime*sampleRate):int(endTime*sampleRate)].transpose());\n",
        "#plt.plot(t[int(startTime*sampleRate):int(endTime*sampleRate)],u[:,int(startTime*sampleRate):int(endTime*sampleRate)].transpose());\n",
        "plt.xlabel('Time (s)');\n",
        "plt.ylabel('Response');\n",
        "plt.legend(('Neuron 1','Neuron 2'))\n",
        "plt.subplot(2,1,2)\n",
        "plt.plot(t[int(startTime*sampleRate):int(endTime*sampleRate)],u[:,int(startTime*sampleRate):int(endTime*sampleRate)].transpose());\n",
        "plt.xlabel('Time (s)');\n",
        "plt.ylabel('Response');\n",
        "plt.legend(('Input 1','Input 2'))\n"
      ],
      "metadata": {
        "colab": {
          "base_uri": "https://localhost:8080/",
          "height": 314
        },
        "id": "JxtThjW646D2",
        "outputId": "e9e44c5e-2648-4429-a7f4-f82da507fe51"
      },
      "execution_count": 160,
      "outputs": [
        {
          "output_type": "stream",
          "name": "stderr",
          "text": [
            "100%|██████████| 9999/9999 [00:00<00:00, 16959.47it/s]\n"
          ]
        },
        {
          "output_type": "execute_result",
          "data": {
            "text/plain": [
              "<matplotlib.legend.Legend at 0x7f857c3e0340>"
            ]
          },
          "metadata": {},
          "execution_count": 160
        },
        {
          "output_type": "display_data",
          "data": {
            "text/plain": [
              "<Figure size 432x288 with 2 Axes>"
            ],
            "image/png": "[encoded data removed]"
          },
          "metadata": {
            "needs_background": "light"
          }
        }
      ]
    },
    {
      "cell_type": "code",
      "source": [
        "frameRate = 30;\n",
        "fig, ax = plt.subplots()\n",
        "\n",
        "def drawModel(iStep):\n",
        "  # display\n",
        "  plt.clf();\n",
        "\n",
        "#anim = FuncAnimation(fig, stepModel, frames=nFrames, interval=frameRate)\n",
        "plt.show;\n",
        "#HTML(anim.to_html5_video())"
      ],
      "metadata": {
        "id": "vyQYy88bg11Z"
      },
      "execution_count": null,
      "outputs": []
    },
    {
      "cell_type": "code",
      "source": [
        "w,v=eig(W)\n",
        "print('eigenvalue:', w)\n",
        "print('|eignvalue|:', np.abs(w))\n",
        "print('|1/eignvalue|:', np.abs(1/w))\n",
        "print('1/eignvalue:', -1/w)\n",
        "print('eigenvector:', v)"
      ],
      "metadata": {
        "colab": {
          "base_uri": "https://localhost:8080/"
        },
        "id": "NGg24J3b8jKr",
        "outputId": "65797263-481a-43a1-d1ec-4683b716a9da"
      },
      "execution_count": 30,
      "outputs": [
        {
          "output_type": "stream",
          "name": "stdout",
          "text": [
            "eigenvalue: [ 2.22044605e-16 -2.50000000e+00]\n",
            "|eignvalue|: [2.22044605e-16 2.50000000e+00]\n",
            "|1/eignvalue|: [4.50359963e+15 4.00000000e-01]\n",
            "1/eignvalue: [-4.50359963e+15  4.00000000e-01]\n",
            "eigenvector: [[ 0.70710678  0.70710678]\n",
            " [-0.70710678  0.70710678]]\n"
          ]
        }
      ]
    },
    {
      "cell_type": "code",
      "source": [
        "# number of seconds to simulate for\n",
        "simulationLength = 20;\n",
        "\n",
        "# Number of time points per second\n",
        "sampleRate = 1000;\n",
        "\n",
        "# some constants calculated from the above parameters\n",
        "dt = 1/sampleRate;\n",
        "nTimePoints = int(simulationLength * sampleRate);\n",
        "\n",
        "#theta = 3;\n",
        "#W = np.matrix([[1-np.cos(theta), -np.sin(theta)],[1-np.sin(theta),np.cos(theta)]])\n",
        "x0 = np.matrix([0, 0, 0, 0]).transpose()\n",
        "#ws = 0.01\n",
        "#w = 0.99975-ws\n",
        "tau = 0.020;\n",
        "tauH = 5;\n",
        "h = 0.47;\n",
        "g = 45;\n",
        "hAdapt = g*230;\n",
        "W = np.matrix([[-1/tau, -g, -hAdapt, 0],[-g,-1/tau, 0, -hAdapt],[h,0,-1/tauH, 0],[0,h,0,-1/tauH]])\n",
        "\n",
        "# define inputs\n",
        "u = np.matrix(np.zeros((4,nTimePoints)));\n",
        "pulseLen = 15;\n",
        "u[0,int(1*sampleRate):int((1+pulseLen)*sampleRate)] = 1/int(sampleRate*pulseLen)\n",
        "u[1,int(1*sampleRate):int((1+pulseLen)*sampleRate)] = 1/int(sampleRate*pulseLen)\n",
        "u[0,int(0.98*sampleRate):int((1)*sampleRate)] = 1.01/int(sampleRate*pulseLen)\n",
        "#u[1,int(0.98*sampleRate):int((1)*sampleRate)] = 0.75/int(sampleRate*pulseLen)\n",
        "t = np.array(range(0,nTimePoints))/sampleRate;\n",
        "\n",
        "# initialize array that will hold each state of the model\n",
        "nTimePoints = int(simulationLength*sampleRate)\n",
        "x = np.matrix(np.zeros((4,nTimePoints)))\n",
        "x[:,0] = x0;\n",
        "\n",
        "for iTimePoint in progressBar(range(1,nTimePoints)):\n",
        "  dx = W @ x[:,iTimePoint-1] * dt\n",
        "  x[:,iTimePoint] = x[:,iTimePoint-1] + dx + u[:,iTimePoint];\n",
        "  #print('x[%i]: %f %f dx/dt: %f %f'%(iFrame,x[iFrame,0],x[iFrame,1],dx[0,0],dx[0,1]))\n",
        "\n",
        "# dress up figure\n",
        "#plt.plot(x[0,:],x[1,:],'k.');\n",
        "#plotRange= 2;\n",
        "#plt.xlim(-plotRange,plotRange);plt.ylim(-plotRange,plotRange);\n",
        "#plt.axvline(linestyle=':',color='k');plt.axhline(linestyle=':',color='k');\n",
        "#plt.xlabel('Neuron 1 activity');plt.ylabel('Neuron 2 activity');\n",
        "plt.figure();\n",
        "startTime = 0.9; endTime = 2.5;\n",
        "plt.subplot(2,1,1)\n",
        "plt.plot(t[int(startTime*sampleRate):int(endTime*sampleRate)],x[:,int(startTime*sampleRate):int(endTime*sampleRate)].transpose());\n",
        "#plt.plot(t[int(startTime*sampleRate):int(endTime*sampleRate)],u[:,int(startTime*sampleRate):int(endTime*sampleRate)].transpose());\n",
        "plt.xlabel('Time (s)');\n",
        "plt.ylabel('Response');\n",
        "plt.legend(('Neuron 1','Neuron 2'))\n",
        "plt.subplot(2,1,2)\n",
        "plt.plot(t[int(startTime*sampleRate):int(endTime*sampleRate)],u[:,int(startTime*sampleRate):int(endTime*sampleRate)].transpose());\n",
        "plt.xlabel('Time (s)');\n",
        "plt.ylabel('Response');\n",
        "plt.legend(('Input 1','Input 2'))\n",
        "\n",
        "w,v=eig(W);\n",
        "print('eigenvalue:', w);\n",
        "\n"
      ],
      "metadata": {
        "colab": {
          "base_uri": "https://localhost:8080/",
          "height": 331
        },
        "id": "fjCw3-kPdUGy",
        "outputId": "291e6ad2-8ad1-4f59-a468-5679b099ae9b"
      },
      "execution_count": 95,
      "outputs": [
        {
          "output_type": "stream",
          "name": "stderr",
          "text": [
            "100%|██████████| 19999/19999 [00:01<00:00, 14201.66it/s]\n"
          ]
        },
        {
          "output_type": "stream",
          "name": "stdout",
          "text": [
            "eigenvalue: [ -2.6+69.70466268j  -2.6-69.70466268j -47.6+51.16385443j\n",
            " -47.6-51.16385443j]\n"
          ]
        },
        {
          "output_type": "display_data",
          "data": {
            "text/plain": [
              "<Figure size 432x288 with 2 Axes>"
            ],
            "image/png": "[encoded data removed]"
          },
          "metadata": {
            "needs_background": "light"
          }
        }
      ]
    },
    {
      "cell_type": "code",
      "source": [
        "# number of seconds to simulate for\n",
        "simulationLength = 20;\n",
        "\n",
        "# Number of time points per second\n",
        "sampleRate = 1000;\n",
        "\n",
        "# some constants calculated from the above parameters\n",
        "dt = 1/sampleRate;\n",
        "nTimePoints = int(simulationLength * sampleRate);\n",
        "\n",
        "#theta = 3;\n",
        "#W = np.matrix([[1-np.cos(theta), -np.sin(theta)],[1-np.sin(theta),np.cos(theta)]])\n",
        "x0 = np.matrix([0, 0, 0, 0]).transpose()\n",
        "#ws = 0.01\n",
        "#w = 0.99975-ws\n",
        "tau = 0.020;\n",
        "tauH = 5;\n",
        "h = 0.47;\n",
        "g = 45;\n",
        "hAdapt = g*230;\n",
        "W = np.matrix([[-1/tau, -g, -hAdapt, 0],[-g,-1/tau, 0, -hAdapt],[h,0,-1/tauH, 0],[0,h,0,-1/tauH]])\n",
        "\n",
        "# define inputs\n",
        "u = np.matrix(np.zeros((4,nTimePoints)));\n",
        "pulseLen = 15;\n",
        "u[0,int(1*sampleRate):int((1+pulseLen)*sampleRate)] = 1/int(sampleRate*pulseLen)\n",
        "u[1,int(1*sampleRate):int((1+pulseLen)*sampleRate)] = 1/int(sampleRate*pulseLen)\n",
        "u[0,int(0.98*sampleRate):int((1)*sampleRate)] = 1.01/int(sampleRate*pulseLen)\n",
        "#u[1,int(0.98*sampleRate):int((1)*sampleRate)] = 0.75/int(sampleRate*pulseLen)\n",
        "t = np.array(range(0,nTimePoints))/sampleRate;\n",
        "\n",
        "# initialize array that will hold each state of the model\n",
        "nTimePoints = int(simulationLength*sampleRate)\n",
        "x = np.matrix(np.zeros((4,nTimePoints)))\n",
        "x[:,0] = x0;\n",
        "\n",
        "for iTimePoint in progressBar(range(1,nTimePoints)):\n",
        "  dx = W @ x[:,iTimePoint-1] * dt\n",
        "  x[:,iTimePoint] = x[:,iTimePoint-1] + dx + u[:,iTimePoint];\n",
        "  #print('x[%i]: %f %f dx/dt: %f %f'%(iFrame,x[iFrame,0],x[iFrame,1],dx[0,0],dx[0,1]))\n",
        "\n",
        "# dress up figure\n",
        "#plt.plot(x[0,:],x[1,:],'k.');\n",
        "#plotRange= 2;\n",
        "#plt.xlim(-plotRange,plotRange);plt.ylim(-plotRange,plotRange);\n",
        "#plt.axvline(linestyle=':',color='k');plt.axhline(linestyle=':',color='k');\n",
        "#plt.xlabel('Neuron 1 activity');plt.ylabel('Neuron 2 activity');\n",
        "plt.figure();\n",
        "startTime = 0.9; endTime = 2.5;\n",
        "plt.subplot(2,1,1)\n",
        "plt.plot(t[int(startTime*sampleRate):int(endTime*sampleRate)],x[:,int(startTime*sampleRate):int(endTime*sampleRate)].transpose());\n",
        "#plt.plot(t[int(startTime*sampleRate):int(endTime*sampleRate)],u[:,int(startTime*sampleRate):int(endTime*sampleRate)].transpose());\n",
        "plt.xlabel('Time (s)');\n",
        "plt.ylabel('Response');\n",
        "plt.legend(('Neuron 1','Neuron 2'))\n",
        "plt.subplot(2,1,2)\n",
        "plt.plot(t[int(startTime*sampleRate):int(endTime*sampleRate)],u[:,int(startTime*sampleRate):int(endTime*sampleRate)].transpose());\n",
        "plt.xlabel('Time (s)');\n",
        "plt.ylabel('Response');\n",
        "plt.legend(('Input 1','Input 2'))\n",
        "\n",
        "w,v=eig(W);\n",
        "print('eigenvalue:', w);\n",
        "\n"
      ],
      "metadata": {
        "id": "Mmj7RFT51ZBg"
      },
      "execution_count": null,
      "outputs": []
    },
    {
      "cell_type": "code",
      "source": [
        "# number of seconds to simulate for\n",
        "simulationLength = 20;\n",
        "\n",
        "# Number of time points per second\n",
        "sampleRate = 1000;\n",
        "\n",
        "# some constants calculated from the above parameters\n",
        "dt = 1/sampleRate;\n",
        "nTimePoints = int(simulationLength * sampleRate);\n",
        "\n",
        "x0 = np.matrix([0, 0, 0, 0, 0, 0]).transpose()\n",
        "tau = 0.020;\n",
        "tauI = 0.011;\n",
        "tauH = 0.009;\n",
        "h = 0.47;\n",
        "g = 45;\n",
        "W = np.matrix([[-1/tau,0,0,0,0,0],[0,-1/tau,0,0,0,0],[1/tauI,0,-1/tauI,0,0,0],[0,1/tauI,0,-1/tauI,0,0],[h/tauH,0,0,0,-1/tauH,0],[0,h/tauH,0,0,0,-1/tauH]])\n",
        "\n",
        "# define inputs\n",
        "u = np.matrix(np.zeros((6,nTimePoints)));\n",
        "pulseLen = 15;\n",
        "u[0,int(1*sampleRate):int((1+pulseLen)*sampleRate)] = 10;\n",
        "u[1,int(1*sampleRate):int((1+pulseLen)*sampleRate)] = 10;\n",
        "u[0,int(0.99*sampleRate):int((1)*sampleRate)] = 10;\n",
        "t = np.array(range(0,nTimePoints))/sampleRate;\n",
        "\n",
        "# initialize array that will hold each state of the model\n",
        "nTimePoints = int(simulationLength*sampleRate)\n",
        "x = np.matrix(np.zeros((6,nTimePoints)))\n",
        "x[:,0] = x0;\n",
        "\n",
        "for iTimePoint in progressBar(range(1,nTimePoints)):\n",
        "  # update linear part\n",
        "  dx = W @ x[:,iTimePoint-1] * dt\n",
        "  x[:,iTimePoint] = x[:,iTimePoint-1] + dx;\n",
        "  # update non-linear part, first get input\n",
        "  # as difference between input and inhibition\n",
        "  leftInput = u[0,iTimePoint] - g*x[3,iTimePoint-1]\n",
        "  rightInput = u[1,iTimePoint] - g*x[2,iTimePoint-1]\n",
        "  # threshold and square\n",
        "  leftInput = np.multiply((leftInput>0),leftInput)**2\n",
        "  rightInput = np.multiply((rightInput>0),rightInput)**2\n",
        "  # now calculate naka-rushton\n",
        "  leftNakaRushton = 100*leftInput / ((10 + x[4,iTimePoint-1])**2 + leftInput);\n",
        "  rightNakaRushton = 100*rightInput / ((10 + x[5,iTimePoint-1])**2 + rightInput);\n",
        "  # and add to Ev / Eh\n",
        "  x[0,iTimePoint] += leftNakaRushton/tau;\n",
        "  x[1,iTimePoint] += rightNakaRushton/tau;\n",
        "\n",
        "# dress up figure\n",
        "plt.figure();\n",
        "startTime = 0.8; endTime = 1.5;\n",
        "plt.subplot(4,1,1)\n",
        "plt.plot(t[int(startTime*sampleRate):int(endTime*sampleRate)],x[0:2,int(startTime*sampleRate):int(endTime*sampleRate)].transpose());\n",
        "#plt.plot(t[int(startTime*sampleRate):int(endTime*sampleRate)],u[:,int(startTime*sampleRate):int(endTime*sampleRate)].transpose());\n",
        "plt.xlabel('Time (s)');\n",
        "plt.ylabel('Response');\n",
        "plt.legend(('Neuron 1','Neuron 2'))\n",
        "plt.subplot(4,1,2)\n",
        "plt.plot(t[int(startTime*sampleRate):int(endTime*sampleRate)],x[2:4,int(startTime*sampleRate):int(endTime*sampleRate)].transpose());\n",
        "#plt.plot(t[int(startTime*sampleRate):int(endTime*sampleRate)],u[:,int(startTime*sampleRate):int(endTime*sampleRate)].transpose());\n",
        "plt.xlabel('Time (s)');\n",
        "plt.ylabel('Response');\n",
        "plt.legend(('Inhibitory Neuron 1','Inhibitory Neuron 2'))\n",
        "plt.subplot(4,1,3)\n",
        "plt.plot(t[int(startTime*sampleRate):int(endTime*sampleRate)],x[4:6,int(startTime*sampleRate):int(endTime*sampleRate)].transpose());\n",
        "#plt.plot(t[int(startTime*sampleRate):int(endTime*sampleRate)],u[:,int(startTime*sampleRate):int(endTime*sampleRate)].transpose());\n",
        "plt.xlabel('Time (s)');\n",
        "plt.ylabel('Response');\n",
        "plt.legend(('Adapation 1','Adaptation 2'))\n",
        "plt.subplot(4,1,4)\n",
        "plt.plot(t[int(startTime*sampleRate):int(endTime*sampleRate)],u[:,int(startTime*sampleRate):int(endTime*sampleRate)].transpose());\n",
        "plt.xlabel('Time (s)');\n",
        "plt.ylabel('Response');\n",
        "plt.legend(('Input 1','Input 2'))\n",
        "\n",
        "w,v=eig(W);\n",
        "print('eigenvalue:', w);\n",
        "\n"
      ],
      "metadata": {
        "colab": {
          "base_uri": "https://localhost:8080/",
          "height": 334
        },
        "id": "IJFTw6UWiPdU",
        "outputId": "da0400a9-3b9e-4fbc-d2f4-a8d72f4aacfe"
      },
      "execution_count": 150,
      "outputs": [
        {
          "output_type": "stream",
          "name": "stderr",
          "text": [
            "100%|██████████| 19999/19999 [00:01<00:00, 14875.39it/s]\n"
          ]
        },
        {
          "output_type": "stream",
          "name": "stdout",
          "text": [
            "eigenvalue: [ -90.90909091 -111.11111111  -50.         -111.11111111  -90.90909091\n",
            "  -50.        ]\n"
          ]
        },
        {
          "output_type": "display_data",
          "data": {
            "text/plain": [
              "<Figure size 432x288 with 4 Axes>"
            ],
            "image/png": "[encoded data removed]"
          },
          "metadata": {
            "needs_background": "light"
          }
        }
      ]
    },
    {
      "cell_type": "code",
      "source": [
        "x = np.matrix([[1,3],[2,4]])\n",
        "np.multiply((x>2),x)**2\n",
        "print(x[:,:])"
      ],
      "metadata": {
        "colab": {
          "base_uri": "https://localhost:8080/"
        },
        "id": "FRNfdli8j7f6",
        "outputId": "4e5fdcb2-0bf3-4733-8e09-62667e66590f"
      },
      "execution_count": 141,
      "outputs": [
        {
          "output_type": "stream",
          "name": "stdout",
          "text": [
            "[[1 3]\n",
            " [2 4]]\n"
          ]
        }
      ]
    },
    {
      "cell_type": "code",
      "source": [],
      "metadata": {
        "id": "XW1eg7f2x9LM"
      },
      "execution_count": null,
      "outputs": []
    },
    {
      "cell_type": "code",
      "source": [
        "# number of seconds to simulate for\n",
        "simulationLength = 20;\n",
        "\n",
        "# Number of time points per second\n",
        "sampleRate = 1000;\n",
        "\n",
        "# some constants calculated from the above parameters\n",
        "dt = 1/sampleRate;\n",
        "nTimePoints = int(simulationLength * sampleRate);\n",
        "\n",
        "x0 = np.matrix([0, 0, 0, 0, 0, 0]).transpose()\n",
        "tau = 0.020;\n",
        "tauI = 0.011;\n",
        "tauH = 0.9;\n",
        "h = 0.47;\n",
        "g = 45;\n",
        "gHigh = 0.75;\n",
        "WMono = np.matrix([[-1/tau,0,0,0,0,0],[0,-1/tau,0,0,0,0],[1,0,-1/tauI,0,0,0],[0,1,0,-1/tauI,0,0],[h,0,0,0,-1/tauH,0],[0,h,0,0,0,-1/tauH]])\n",
        "WBino = np.matrix([[-1/tau,0,0,0,0,0],[0,-1/tau,0,0,0,0],[1,0,-1/tauI,0,0,0],[0,1,0,-1/tauI,0,0],[h,0,0,0,-1/tauH,0],[0,h,0,0,0,-1/tauH]])\n",
        "\n",
        "# define inputs\n",
        "u = np.matrix(np.zeros((6,nTimePoints)));\n",
        "pulseLen = 15;\n",
        "u[0,int(1*sampleRate):int((1+pulseLen)*sampleRate)] = 10;\n",
        "u[1,int(1*sampleRate):int((1+pulseLen)*sampleRate)] = 10;\n",
        "u[0,int(0.98*sampleRate):int((1)*sampleRate)] = 10;\n",
        "t = np.array(range(0,nTimePoints))/sampleRate;\n",
        "\n",
        "# initialize array that will hold each state of the model\n",
        "nTimePoints = int(simulationLength*sampleRate)\n",
        "xMono = np.matrix(np.zeros((6,nTimePoints)))\n",
        "xBino = np.matrix(np.zeros((6,nTimePoints)))\n",
        "xMono[:,0] = x0;\n",
        "xBino[:,0] = x0;\n",
        "\n",
        "for iTimePoint in progressBar(range(1,nTimePoints)):\n",
        "  # update linear part of monocular layer\n",
        "  dx = WMono @ xMono[:,iTimePoint-1] * dt\n",
        "  xMono[:,iTimePoint] = xMono[:,iTimePoint-1] + dx;\n",
        "  # update non-linear part, first get input\n",
        "  # as difference between and inhibition\n",
        "  leftInput = u[0,iTimePoint] - g*xMono[2,iTimePoint-1]\n",
        "  rightInput = u[1,iTimePoint] - g*xMono[3,iTimePoint-1]\n",
        "  # threshold and square\n",
        "  leftInput = np.multiply((leftInput>0),leftInput)**2\n",
        "  rightInput = np.multiply((rightInput>0),rightInput)**2\n",
        "  # now calculate naka-rushton\n",
        "  leftNakaRushton = 100*leftInput / ((10 + xMono[4,iTimePoint-1])**2 + leftInput);\n",
        "  rightNakaRushton = 100*rightInput / ((10 + xMono[5,iTimePoint-1])**2 + rightInput);\n",
        "  # and add to Ev / Eh\n",
        "  xMono[0,iTimePoint] += leftNakaRushton;\n",
        "  xMono[1,iTimePoint] += rightNakaRushton;\n",
        "  \n",
        "  # update linear part of binocular layer\n",
        "  dx = WBino @ xBino[:,iTimePoint-1] * dt\n",
        "  xBino[:,iTimePoint] = xBino[:,iTimePoint-1] + dx;\n",
        "  # update non-linear part, first get input\n",
        "  # as difference between and inhibition\n",
        "  leftInput = xMono[0,iTimePoint-1] - gHigh*xBino[2,iTimePoint-1]\n",
        "  rightInput = xMono[1,iTimePoint-1] - gHigh*xBino[3,iTimePoint-1]\n",
        "  # threshold and square\n",
        "  leftInput = np.multiply((leftInput>0),leftInput)**2\n",
        "  rightInput = np.multiply((rightInput>0),rightInput)**2\n",
        "  # now calculate naka-rushton\n",
        "  leftNakaRushton = 100*leftInput / ((10 + xBino[4,iTimePoint-1])**2 + leftInput);\n",
        "  rightNakaRushton = 100*rightInput / ((10 + xBino[5,iTimePoint-1])**2 + rightInput);\n",
        "  # and add to Ev / Eh\n",
        "  xBino[0,iTimePoint] += leftNakaRushton;\n",
        "  xBino[1,iTimePoint] += rightNakaRushton;\n",
        "\n",
        "# dress up figure\n",
        "plt.figure();\n",
        "startTime = 0.8; endTime = 6\n",
        "plt.subplot(2,1,1)\n",
        "plt.plot(t[int(startTime*sampleRate):int(endTime*sampleRate)],xBino[:,int(startTime*sampleRate):int(endTime*sampleRate)].transpose());\n",
        "#plt.plot(t[int(startTime*sampleRate):int(endTime*sampleRate)],u[:,int(startTime*sampleRate):int(endTime*sampleRate)].transpose());\n",
        "plt.xlabel('Time (s)');\n",
        "plt.ylabel('Response');\n",
        "plt.legend(('Neuron 1','Neuron 2'))\n",
        "plt.subplot(2,1,2)\n",
        "plt.plot(t[int(startTime*sampleRate):int(endTime*sampleRate)],xMono[:,int(startTime*sampleRate):int(endTime*sampleRate)].transpose());\n",
        "plt.xlabel('Time (s)');\n",
        "plt.ylabel('Response');\n",
        "plt.legend(('Input 1','Input 2'))\n",
        "\n",
        "w,v=eig(W);\n",
        "print('eigenvalue:', w);\n",
        "\n"
      ],
      "metadata": {
        "colab": {
          "base_uri": "https://localhost:8080/",
          "height": 331
        },
        "id": "k3cCneslsNR2",
        "outputId": "8015ef61-6bf1-4597-dd65-1201e9e904fa"
      },
      "execution_count": 113,
      "outputs": [
        {
          "output_type": "stream",
          "name": "stderr",
          "text": [
            "100%|██████████| 19999/19999 [00:02<00:00, 7276.73it/s]\n"
          ]
        },
        {
          "output_type": "stream",
          "name": "stdout",
          "text": [
            "eigenvalue: [-90.90909091 -11.11111111 -50.         -11.11111111 -90.90909091\n",
            " -50.        ]\n"
          ]
        },
        {
          "output_type": "display_data",
          "data": {
            "text/plain": [
              "<Figure size 432x288 with 2 Axes>"
            ],
            "image/png": "[encoded data removed]"
          },
          "metadata": {
            "needs_background": "light"
          }
        }
      ]
    }
  ]
}